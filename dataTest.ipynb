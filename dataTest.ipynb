{
 "cells": [
  {
   "cell_type": "code",
   "execution_count": 1,
   "metadata": {},
   "outputs": [],
   "source": [
    "import pandas as pd\n",
    "import numpy as np\n",
    "import sqlite3\n",
    "import re\n",
    "from sklearn.preprocessing import LabelEncoder\n",
    "from huggingface_hub import login, logout\n",
    "from datasets import load_dataset\n",
    "\n"
   ]
  },
  {
   "cell_type": "code",
   "execution_count": 2,
   "metadata": {},
   "outputs": [],
   "source": [
    "engine = sqlite3.connect('./src/data.db')\n",
    "catalyst = pd.read_sql('SELECT * FROM catalysts', engine)\n"
   ]
  },
  {
   "cell_type": "code",
   "execution_count": 3,
   "metadata": {},
   "outputs": [
    {
     "data": {
      "text/html": [
       "<div>\n",
       "<style scoped>\n",
       "    .dataframe tbody tr th:only-of-type {\n",
       "        vertical-align: middle;\n",
       "    }\n",
       "\n",
       "    .dataframe tbody tr th {\n",
       "        vertical-align: top;\n",
       "    }\n",
       "\n",
       "    .dataframe thead th {\n",
       "        text-align: right;\n",
       "    }\n",
       "</style>\n",
       "<table border=\"1\" class=\"dataframe\">\n",
       "  <thead>\n",
       "    <tr style=\"text-align: right;\">\n",
       "      <th></th>\n",
       "      <th>ticker</th>\n",
       "      <th>disease</th>\n",
       "      <th>stage</th>\n",
       "      <th>date</th>\n",
       "      <th>catalyst</th>\n",
       "    </tr>\n",
       "  </thead>\n",
       "  <tbody>\n",
       "    <tr>\n",
       "      <th>0</th>\n",
       "      <td>SPPI</td>\n",
       "      <td>Non-Hodgkin’s lymphoma</td>\n",
       "      <td>Approved</td>\n",
       "      <td>2009-09-04 00:00:00</td>\n",
       "      <td>Approved September 4, 2009.</td>\n",
       "    </tr>\n",
       "    <tr>\n",
       "      <th>1</th>\n",
       "      <td>JAZZ</td>\n",
       "      <td>Fibromyalgia</td>\n",
       "      <td>CRL</td>\n",
       "      <td>2010-10-11 00:00:00</td>\n",
       "      <td>CRL received October 11, 2010.</td>\n",
       "    </tr>\n",
       "    <tr>\n",
       "      <th>2</th>\n",
       "      <td>ASRT</td>\n",
       "      <td>Postherpetic neuralgia - shingles</td>\n",
       "      <td>Approved</td>\n",
       "      <td>2011-01-28 00:00:00</td>\n",
       "      <td>Approved January 28, 2011.</td>\n",
       "    </tr>\n",
       "    <tr>\n",
       "      <th>3</th>\n",
       "      <td>ASRT</td>\n",
       "      <td>Colorectal cancer</td>\n",
       "      <td>Approved</td>\n",
       "      <td>2011-04-29 00:00:00</td>\n",
       "      <td>Approved April 29, 2011.</td>\n",
       "    </tr>\n",
       "    <tr>\n",
       "      <th>4</th>\n",
       "      <td>SPPI</td>\n",
       "      <td>Colorectal cancer</td>\n",
       "      <td>Approved</td>\n",
       "      <td>2011-04-29 00:00:00</td>\n",
       "      <td>Approved April 29, 2011.</td>\n",
       "    </tr>\n",
       "    <tr>\n",
       "      <th>...</th>\n",
       "      <td>...</td>\n",
       "      <td>...</td>\n",
       "      <td>...</td>\n",
       "      <td>...</td>\n",
       "      <td>...</td>\n",
       "    </tr>\n",
       "    <tr>\n",
       "      <th>3906</th>\n",
       "      <td>FLGT</td>\n",
       "      <td>Various cancers</td>\n",
       "      <td>Phase 1/2</td>\n",
       "      <td>2023-11-03 00:00:00</td>\n",
       "      <td>Phase 1/2 data reported that FID-007 may have ...</td>\n",
       "    </tr>\n",
       "    <tr>\n",
       "      <th>3907</th>\n",
       "      <td>ELTX</td>\n",
       "      <td>Solid Tumors</td>\n",
       "      <td>Phase 1/2</td>\n",
       "      <td>2023-11-03 00:00:00</td>\n",
       "      <td>Phase 1/2 data presented at SITC reported that...</td>\n",
       "    </tr>\n",
       "    <tr>\n",
       "      <th>3908</th>\n",
       "      <td>CUE</td>\n",
       "      <td>Wilms' Tumor (WT1)-expressing cancers</td>\n",
       "      <td>Phase 1</td>\n",
       "      <td>2023-11-03 00:00:00</td>\n",
       "      <td>Phase 1 data presented at SITC demonstrated a ...</td>\n",
       "    </tr>\n",
       "    <tr>\n",
       "      <th>3909</th>\n",
       "      <td>REGN</td>\n",
       "      <td>Various cancers</td>\n",
       "      <td>Phase 1</td>\n",
       "      <td>2023-11-04 00:00:00</td>\n",
       "      <td>Phase 1 safety data reported that a total of 1...</td>\n",
       "    </tr>\n",
       "    <tr>\n",
       "      <th>3910</th>\n",
       "      <td>SNSE</td>\n",
       "      <td>Various cancers</td>\n",
       "      <td>Phase 1</td>\n",
       "      <td>2023-11-04 00:00:00</td>\n",
       "      <td>Phase 1 safety data reported that a total of 1...</td>\n",
       "    </tr>\n",
       "  </tbody>\n",
       "</table>\n",
       "<p>3911 rows × 5 columns</p>\n",
       "</div>"
      ],
      "text/plain": [
       "     ticker                                disease      stage  \\\n",
       "0      SPPI                 Non-Hodgkin’s lymphoma   Approved   \n",
       "1      JAZZ                           Fibromyalgia        CRL   \n",
       "2      ASRT      Postherpetic neuralgia - shingles   Approved   \n",
       "3      ASRT                      Colorectal cancer   Approved   \n",
       "4      SPPI                      Colorectal cancer   Approved   \n",
       "...     ...                                    ...        ...   \n",
       "3906   FLGT                        Various cancers  Phase 1/2   \n",
       "3907   ELTX                           Solid Tumors  Phase 1/2   \n",
       "3908    CUE  Wilms' Tumor (WT1)-expressing cancers    Phase 1   \n",
       "3909   REGN                        Various cancers    Phase 1   \n",
       "3910   SNSE                        Various cancers    Phase 1   \n",
       "\n",
       "                     date                                           catalyst  \n",
       "0     2009-09-04 00:00:00                        Approved September 4, 2009.  \n",
       "1     2010-10-11 00:00:00                     CRL received October 11, 2010.  \n",
       "2     2011-01-28 00:00:00                         Approved January 28, 2011.  \n",
       "3     2011-04-29 00:00:00                           Approved April 29, 2011.  \n",
       "4     2011-04-29 00:00:00                           Approved April 29, 2011.  \n",
       "...                   ...                                                ...  \n",
       "3906  2023-11-03 00:00:00  Phase 1/2 data reported that FID-007 may have ...  \n",
       "3907  2023-11-03 00:00:00  Phase 1/2 data presented at SITC reported that...  \n",
       "3908  2023-11-03 00:00:00  Phase 1 data presented at SITC demonstrated a ...  \n",
       "3909  2023-11-04 00:00:00  Phase 1 safety data reported that a total of 1...  \n",
       "3910  2023-11-04 00:00:00  Phase 1 safety data reported that a total of 1...  \n",
       "\n",
       "[3911 rows x 5 columns]"
      ]
     },
     "execution_count": 3,
     "metadata": {},
     "output_type": "execute_result"
    }
   ],
   "source": [
    "catalyst = catalyst.dropna(axis=0).sort_values(by=['date']).reset_index(drop=True)\n",
    "catalyst\n"
   ]
  },
  {
   "cell_type": "code",
   "execution_count": 4,
   "metadata": {},
   "outputs": [
    {
     "name": "stdout",
     "output_type": "stream",
     "text": [
      "<class 'pandas.core.frame.DataFrame'>\n",
      "RangeIndex: 3911 entries, 0 to 3910\n",
      "Data columns (total 5 columns):\n",
      " #   Column    Non-Null Count  Dtype \n",
      "---  ------    --------------  ----- \n",
      " 0   ticker    3911 non-null   object\n",
      " 1   disease   3911 non-null   object\n",
      " 2   stage     3911 non-null   object\n",
      " 3   date      3911 non-null   object\n",
      " 4   catalyst  3911 non-null   object\n",
      "dtypes: object(5)\n",
      "memory usage: 152.9+ KB\n"
     ]
    }
   ],
   "source": [
    "catalyst.info()\n"
   ]
  },
  {
   "cell_type": "code",
   "execution_count": 5,
   "metadata": {},
   "outputs": [
    {
     "data": {
      "text/plain": [
       "15"
      ]
     },
     "execution_count": 5,
     "metadata": {},
     "output_type": "execute_result"
    }
   ],
   "source": [
    "catalyst['stage'].unique().size\n"
   ]
  },
  {
   "cell_type": "code",
   "execution_count": 6,
   "metadata": {},
   "outputs": [
    {
     "data": {
      "text/plain": [
       "array(['Approved', 'CRL', 'Phase 3', 'PDUFA', 'Phase 2', 'Phase 2b',\n",
       "       'Phase 1b', 'Phase 2a', 'Phase 1', 'Phase 1/2', 'Phase 2/3',\n",
       "       'NDA Filing', 'BLA Filing', 'Phase 1a', 'PDUFA priority review'],\n",
       "      dtype=object)"
      ]
     },
     "execution_count": 6,
     "metadata": {},
     "output_type": "execute_result"
    }
   ],
   "source": [
    "catalyst['stage'].unique()\n"
   ]
  },
  {
   "cell_type": "code",
   "execution_count": 20,
   "metadata": {},
   "outputs": [],
   "source": []
  },
  {
   "cell_type": "code",
   "execution_count": 56,
   "metadata": {},
   "outputs": [
    {
     "data": {
      "text/plain": [
       "0       Approved September 4, 2009.\n",
       "1    CRL received October 11, 2010.\n",
       "2        Approved January 28, 2011.\n",
       "3          Approved April 29, 2011.\n",
       "4          Approved April 29, 2011.\n",
       "Name: catalyst, dtype: object"
      ]
     },
     "execution_count": 56,
     "metadata": {},
     "output_type": "execute_result"
    }
   ],
   "source": [
    "catalyst['catalyst'][:5]\n"
   ]
  },
  {
   "cell_type": "code",
   "execution_count": 46,
   "metadata": {},
   "outputs": [
    {
     "data": {
      "text/plain": [
       "['approve this', 'show', 'meeting', 'meets', 'showing']"
      ]
     },
     "execution_count": 46,
     "metadata": {},
     "output_type": "execute_result"
    }
   ],
   "source": [
    "re.findall(pattern=\"\\b*approve this\\w*|\\b*show\\w*|\\b*meet\\w*\", string=\"I will approve this message because it is approving my show or meeting with meets! showing\")\n"
   ]
  },
  {
   "cell_type": "code",
   "execution_count": 54,
   "metadata": {},
   "outputs": [],
   "source": [
    "def special_encode(x):\n",
    "    tmp_x = x.lower()\n",
    "    # BULLISH\n",
    "    if re.findall(pattern=\"\\b*approv\\w*|\\b*show\\w*|\\b*meet\\w*\", string=x):\n",
    "        return 1\n",
    "    # BEARISH\n",
    "    elif re.findall(pattern=\"\\b*halt\\w*|\\b*fail\\w*|\\b*did not reach \\w*|\\b*no differentiation from placebo \\w*|\\b*no diff\\w*\", string=x):\n",
    "        return -1\n",
    "    # NEUTRAL\n",
    "    else:\n",
    "        return 0\n"
   ]
  },
  {
   "cell_type": "code",
   "execution_count": 55,
   "metadata": {},
   "outputs": [
    {
     "data": {
      "text/plain": [
       "catalyst\n",
       " 0    2908\n",
       " 1     986\n",
       "-1      17\n",
       "Name: count, dtype: int64"
      ]
     },
     "execution_count": 55,
     "metadata": {},
     "output_type": "execute_result"
    }
   ],
   "source": [
    "catalyst['catalyst'].apply(special_encode).value_counts()\n"
   ]
  },
  {
   "cell_type": "code",
   "execution_count": 58,
   "metadata": {},
   "outputs": [],
   "source": [
    "# tmp = [f\"LABEL_{i}\" for i in range(catalyst['stage'].unique().size)]\n",
    "# np.c_[catalyst['stage'].unique(), tmp]\n"
   ]
  },
  {
   "cell_type": "code",
   "execution_count": 57,
   "metadata": {},
   "outputs": [],
   "source": [
    "\n",
    "# # Assuming 'catalyst' is your DataFrame and 'stage' is the column to be encoded\n",
    "\n",
    "# label_encoder = LabelEncoder()\n",
    "\n",
    "# # Fit and transform the 'stage' column to encode the stages\n",
    "# catalyst['encoded_stage'] = label_encoder.fit_transform(catalyst['stage'])\n",
    "\n",
    "# # To map the encoded labels back to 'LABEL_i'\n",
    "# stage_mapping = dict(zip(label_encoder.classes_, [f\"LABEL_{i}\" for i in range(label_encoder.classes_.size)]))\n",
    "# catalyst['label'] = catalyst['stage'].map(stage_mapping)\n",
    "\n",
    "# # Display the DataFrame with encoded stages and their corresponding labels\n",
    "# print(catalyst[['stage', 'encoded_stage', 'label']])\n"
   ]
  },
  {
   "cell_type": "code",
   "execution_count": 9,
   "metadata": {},
   "outputs": [
    {
     "data": {
      "text/html": [
       "<div>\n",
       "<style scoped>\n",
       "    .dataframe tbody tr th:only-of-type {\n",
       "        vertical-align: middle;\n",
       "    }\n",
       "\n",
       "    .dataframe tbody tr th {\n",
       "        vertical-align: top;\n",
       "    }\n",
       "\n",
       "    .dataframe thead th {\n",
       "        text-align: right;\n",
       "    }\n",
       "</style>\n",
       "<table border=\"1\" class=\"dataframe\">\n",
       "  <thead>\n",
       "    <tr style=\"text-align: right;\">\n",
       "      <th></th>\n",
       "      <th>ticker</th>\n",
       "      <th>disease</th>\n",
       "      <th>stage</th>\n",
       "      <th>date</th>\n",
       "      <th>catalyst</th>\n",
       "      <th>encoded_stage</th>\n",
       "      <th>label</th>\n",
       "    </tr>\n",
       "  </thead>\n",
       "  <tbody>\n",
       "    <tr>\n",
       "      <th>0</th>\n",
       "      <td>SPPI</td>\n",
       "      <td>Non-Hodgkin’s lymphoma</td>\n",
       "      <td>Approved</td>\n",
       "      <td>2009-09-04 00:00:00</td>\n",
       "      <td>Approved September 4, 2009.</td>\n",
       "      <td>0</td>\n",
       "      <td>LABEL_0</td>\n",
       "    </tr>\n",
       "    <tr>\n",
       "      <th>1</th>\n",
       "      <td>JAZZ</td>\n",
       "      <td>Fibromyalgia</td>\n",
       "      <td>CRL</td>\n",
       "      <td>2010-10-11 00:00:00</td>\n",
       "      <td>CRL received October 11, 2010.</td>\n",
       "      <td>2</td>\n",
       "      <td>LABEL_2</td>\n",
       "    </tr>\n",
       "    <tr>\n",
       "      <th>2</th>\n",
       "      <td>ASRT</td>\n",
       "      <td>Postherpetic neuralgia - shingles</td>\n",
       "      <td>Approved</td>\n",
       "      <td>2011-01-28 00:00:00</td>\n",
       "      <td>Approved January 28, 2011.</td>\n",
       "      <td>0</td>\n",
       "      <td>LABEL_0</td>\n",
       "    </tr>\n",
       "    <tr>\n",
       "      <th>3</th>\n",
       "      <td>ASRT</td>\n",
       "      <td>Colorectal cancer</td>\n",
       "      <td>Approved</td>\n",
       "      <td>2011-04-29 00:00:00</td>\n",
       "      <td>Approved April 29, 2011.</td>\n",
       "      <td>0</td>\n",
       "      <td>LABEL_0</td>\n",
       "    </tr>\n",
       "    <tr>\n",
       "      <th>4</th>\n",
       "      <td>SPPI</td>\n",
       "      <td>Colorectal cancer</td>\n",
       "      <td>Approved</td>\n",
       "      <td>2011-04-29 00:00:00</td>\n",
       "      <td>Approved April 29, 2011.</td>\n",
       "      <td>0</td>\n",
       "      <td>LABEL_0</td>\n",
       "    </tr>\n",
       "  </tbody>\n",
       "</table>\n",
       "</div>"
      ],
      "text/plain": [
       "  ticker                            disease     stage                 date  \\\n",
       "0   SPPI             Non-Hodgkin’s lymphoma  Approved  2009-09-04 00:00:00   \n",
       "1   JAZZ                       Fibromyalgia       CRL  2010-10-11 00:00:00   \n",
       "2   ASRT  Postherpetic neuralgia - shingles  Approved  2011-01-28 00:00:00   \n",
       "3   ASRT                  Colorectal cancer  Approved  2011-04-29 00:00:00   \n",
       "4   SPPI                  Colorectal cancer  Approved  2011-04-29 00:00:00   \n",
       "\n",
       "                         catalyst  encoded_stage    label  \n",
       "0     Approved September 4, 2009.              0  LABEL_0  \n",
       "1  CRL received October 11, 2010.              2  LABEL_2  \n",
       "2      Approved January 28, 2011.              0  LABEL_0  \n",
       "3        Approved April 29, 2011.              0  LABEL_0  \n",
       "4        Approved April 29, 2011.              0  LABEL_0  "
      ]
     },
     "execution_count": 9,
     "metadata": {},
     "output_type": "execute_result"
    }
   ],
   "source": [
    "df = catalyst.copy(deep=True)\n",
    "df.head()\n"
   ]
  },
  {
   "cell_type": "code",
   "execution_count": 11,
   "metadata": {},
   "outputs": [
    {
     "name": "stdout",
     "output_type": "stream",
     "text": [
      "(3128, 7)\n",
      "(783, 7)\n",
      "(3911, 7)\n"
     ]
    }
   ],
   "source": [
    "train_size = 0.8\n",
    "row_len = int(train_size * catalyst.shape[0])\n",
    "train = catalyst.iloc[:row_len, :]\n",
    "test = catalyst.iloc[row_len:, :]\n",
    "print(train.shape)\n",
    "print(test.shape)\n",
    "print(catalyst.shape)\n"
   ]
  },
  {
   "cell_type": "code",
   "execution_count": 12,
   "metadata": {},
   "outputs": [],
   "source": [
    "train.to_csv(\"train.csv\", index=0)\n",
    "test.to_csv(\"test.csv\", index=0)\n",
    "catalyst.to_csv(\"catalyst.csv\", index=0)\n"
   ]
  },
  {
   "cell_type": "code",
   "execution_count": 15,
   "metadata": {},
   "outputs": [
    {
     "data": {
      "application/vnd.jupyter.widget-view+json": {
       "model_id": "641b8575068c4c089065996f3f9b5c39",
       "version_major": 2,
       "version_minor": 0
      },
      "text/plain": [
       "VBox(children=(HTML(value='<center> <img\\nsrc=https://huggingface.co/front/assets/huggingface_logo-noborder.sv…"
      ]
     },
     "metadata": {},
     "output_type": "display_data"
    }
   ],
   "source": [
    "login()\n"
   ]
  },
  {
   "cell_type": "code",
   "execution_count": 17,
   "metadata": {},
   "outputs": [
    {
     "data": {
      "application/vnd.jupyter.widget-view+json": {
       "model_id": "59484b783def4ca48411e6aa186bcfc0",
       "version_major": 2,
       "version_minor": 0
      },
      "text/plain": [
       "Downloading readme:   0%|          | 0.00/21.0 [00:00<?, ?B/s]"
      ]
     },
     "metadata": {},
     "output_type": "display_data"
    },
    {
     "data": {
      "application/vnd.jupyter.widget-view+json": {
       "model_id": "55e9dfed075a405096a63a823b28b28c",
       "version_major": 2,
       "version_minor": 0
      },
      "text/plain": [
       "Downloading data files:   0%|          | 0/2 [00:00<?, ?it/s]"
      ]
     },
     "metadata": {},
     "output_type": "display_data"
    },
    {
     "data": {
      "application/vnd.jupyter.widget-view+json": {
       "model_id": "d66465d97c4a44ac8c3624bc703f197c",
       "version_major": 2,
       "version_minor": 0
      },
      "text/plain": [
       "Downloading data:   0%|          | 0.00/606k [00:00<?, ?B/s]"
      ]
     },
     "metadata": {},
     "output_type": "display_data"
    },
    {
     "data": {
      "application/vnd.jupyter.widget-view+json": {
       "model_id": "2bd5108fa4294b388352f33d0e5b2ffe",
       "version_major": 2,
       "version_minor": 0
      },
      "text/plain": [
       "Downloading data:   0%|          | 0.00/188k [00:00<?, ?B/s]"
      ]
     },
     "metadata": {},
     "output_type": "display_data"
    },
    {
     "data": {
      "application/vnd.jupyter.widget-view+json": {
       "model_id": "2d70deae10d84c49888edb9563366fe5",
       "version_major": 2,
       "version_minor": 0
      },
      "text/plain": [
       "Extracting data files:   0%|          | 0/2 [00:00<?, ?it/s]"
      ]
     },
     "metadata": {},
     "output_type": "display_data"
    },
    {
     "data": {
      "application/vnd.jupyter.widget-view+json": {
       "model_id": "f5126593cd6f42c49fd94f5505c3443f",
       "version_major": 2,
       "version_minor": 0
      },
      "text/plain": [
       "Generating train split: 0 examples [00:00, ? examples/s]"
      ]
     },
     "metadata": {},
     "output_type": "display_data"
    },
    {
     "data": {
      "application/vnd.jupyter.widget-view+json": {
       "model_id": "38920b1fa6ba4316b15e03a04a19a8cc",
       "version_major": 2,
       "version_minor": 0
      },
      "text/plain": [
       "Generating test split: 0 examples [00:00, ? examples/s]"
      ]
     },
     "metadata": {},
     "output_type": "display_data"
    },
    {
     "data": {
      "text/plain": [
       "DatasetDict({\n",
       "    train: Dataset({\n",
       "        features: ['ticker', 'disease', 'stage', 'date', 'catalyst', 'encoded_stage', 'label'],\n",
       "        num_rows: 3128\n",
       "    })\n",
       "    test: Dataset({\n",
       "        features: ['ticker', 'disease', 'stage', 'date', 'catalyst', 'encoded_stage', 'label'],\n",
       "        num_rows: 783\n",
       "    })\n",
       "})"
      ]
     },
     "execution_count": 17,
     "metadata": {},
     "output_type": "execute_result"
    }
   ],
   "source": [
    "dataset = load_dataset(\"roymgabriel/BioPharma\")\n",
    "dataset\n"
   ]
  },
  {
   "cell_type": "code",
   "execution_count": 18,
   "metadata": {},
   "outputs": [],
   "source": [
    "logout()\n"
   ]
  },
  {
   "cell_type": "code",
   "execution_count": null,
   "metadata": {},
   "outputs": [],
   "source": []
  }
 ],
 "metadata": {
  "kernelspec": {
   "display_name": "fantasy",
   "language": "python",
   "name": "python3"
  },
  "language_info": {
   "codemirror_mode": {
    "name": "ipython",
    "version": 3
   },
   "file_extension": ".py",
   "mimetype": "text/x-python",
   "name": "python",
   "nbconvert_exporter": "python",
   "pygments_lexer": "ipython3",
   "version": "3.10.11"
  }
 },
 "nbformat": 4,
 "nbformat_minor": 2
}
