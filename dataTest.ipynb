{
 "cells": [
  {
   "cell_type": "code",
   "execution_count": 1,
   "metadata": {},
   "outputs": [],
   "source": [
    "import pandas as pd\n",
    "import numpy as np\n",
    "import sqlite3\n",
    "import re\n",
    "from sklearn.preprocessing import LabelEncoder\n",
    "from huggingface_hub import login, logout\n",
    "from datasets import load_dataset\n",
    "\n",
    "from sklearn.feature_extraction.text import CountVectorizer\n",
    "from nltk.corpus import stopwords\n",
    "\n",
    "from sklearn.metrics.pairwise import cosine_similarity\n",
    "from sentence_transformers import SentenceTransformer\n"
   ]
  },
  {
   "cell_type": "code",
   "execution_count": 2,
   "metadata": {},
   "outputs": [
    {
     "name": "stderr",
     "output_type": "stream",
     "text": [
      "[nltk_data] Downloading package punkt to /Users/Roy/nltk_data...\n",
      "[nltk_data]   Package punkt is already up-to-date!\n"
     ]
    }
   ],
   "source": [
    "import matplotlib.pyplot as plt\n",
    "\n",
    "from wordcloud import WordCloud, STOPWORDS\n",
    "\n",
    "import nltk\n",
    "nltk.download('punkt')\n",
    "from nltk.tokenize import sent_tokenize\n",
    "\n",
    "import warnings\n",
    "warnings.filterwarnings('ignore')\n",
    "\n",
    "from transformers import AutoTokenizer, AutoModelForSequenceClassification, pipeline\n",
    "\n",
    "from bs4 import BeautifulSoup\n",
    "import torch\n",
    "\n",
    "import re, glob, gc\n",
    "\n",
    "import logging\n",
    "logging.getLogger(\"pytorch_pretrained_bert.tokenization\").setLevel(logging.ERROR)\n"
   ]
  },
  {
   "cell_type": "code",
   "execution_count": 3,
   "metadata": {},
   "outputs": [],
   "source": [
    "engine = sqlite3.connect('./src/data.db')\n",
    "catalyst = pd.read_sql('SELECT * FROM catalysts', engine)\n"
   ]
  },
  {
   "cell_type": "code",
   "execution_count": 4,
   "metadata": {},
   "outputs": [
    {
     "data": {
      "text/html": [
       "<div>\n",
       "<style scoped>\n",
       "    .dataframe tbody tr th:only-of-type {\n",
       "        vertical-align: middle;\n",
       "    }\n",
       "\n",
       "    .dataframe tbody tr th {\n",
       "        vertical-align: top;\n",
       "    }\n",
       "\n",
       "    .dataframe thead th {\n",
       "        text-align: right;\n",
       "    }\n",
       "</style>\n",
       "<table border=\"1\" class=\"dataframe\">\n",
       "  <thead>\n",
       "    <tr style=\"text-align: right;\">\n",
       "      <th></th>\n",
       "      <th>ticker</th>\n",
       "      <th>disease</th>\n",
       "      <th>stage</th>\n",
       "      <th>date</th>\n",
       "      <th>catalyst</th>\n",
       "    </tr>\n",
       "  </thead>\n",
       "  <tbody>\n",
       "    <tr>\n",
       "      <th>0</th>\n",
       "      <td>SNSE</td>\n",
       "      <td>Various cancers</td>\n",
       "      <td>Phase 1</td>\n",
       "      <td>2023-11-04 00:00:00</td>\n",
       "      <td>Phase 1 safety data reported that a total of 1...</td>\n",
       "    </tr>\n",
       "    <tr>\n",
       "      <th>1</th>\n",
       "      <td>REGN</td>\n",
       "      <td>Various cancers</td>\n",
       "      <td>Phase 1</td>\n",
       "      <td>2023-11-04 00:00:00</td>\n",
       "      <td>Phase 1 safety data reported that a total of 1...</td>\n",
       "    </tr>\n",
       "    <tr>\n",
       "      <th>2</th>\n",
       "      <td>AUPH</td>\n",
       "      <td>Lupus Nephritis</td>\n",
       "      <td>Phase 3</td>\n",
       "      <td>2023-11-03 00:00:00</td>\n",
       "      <td>Phase 3 data from ASN reported that treated pa...</td>\n",
       "    </tr>\n",
       "    <tr>\n",
       "      <th>3</th>\n",
       "      <td>IPHA</td>\n",
       "      <td>Mycosis Fungoides</td>\n",
       "      <td>Phase 2</td>\n",
       "      <td>2023-11-03 00:00:00</td>\n",
       "      <td>Phase 2 data from ASH abstract reported that t...</td>\n",
       "    </tr>\n",
       "    <tr>\n",
       "      <th>4</th>\n",
       "      <td>HOWL</td>\n",
       "      <td>Solid Tumors</td>\n",
       "      <td>Phase 1b</td>\n",
       "      <td>2023-11-03 00:00:00</td>\n",
       "      <td>Phase 1/1b preliminary data provided compellin...</td>\n",
       "    </tr>\n",
       "    <tr>\n",
       "      <th>...</th>\n",
       "      <td>...</td>\n",
       "      <td>...</td>\n",
       "      <td>...</td>\n",
       "      <td>...</td>\n",
       "      <td>...</td>\n",
       "    </tr>\n",
       "    <tr>\n",
       "      <th>3906</th>\n",
       "      <td>SPPI</td>\n",
       "      <td>Colorectal cancer</td>\n",
       "      <td>Approved</td>\n",
       "      <td>2011-04-29 00:00:00</td>\n",
       "      <td>Approved April 29, 2011.</td>\n",
       "    </tr>\n",
       "    <tr>\n",
       "      <th>3907</th>\n",
       "      <td>ASRT</td>\n",
       "      <td>Colorectal cancer</td>\n",
       "      <td>Approved</td>\n",
       "      <td>2011-04-29 00:00:00</td>\n",
       "      <td>Approved April 29, 2011.</td>\n",
       "    </tr>\n",
       "    <tr>\n",
       "      <th>3908</th>\n",
       "      <td>ASRT</td>\n",
       "      <td>Postherpetic neuralgia - shingles</td>\n",
       "      <td>Approved</td>\n",
       "      <td>2011-01-28 00:00:00</td>\n",
       "      <td>Approved January 28, 2011.</td>\n",
       "    </tr>\n",
       "    <tr>\n",
       "      <th>3909</th>\n",
       "      <td>JAZZ</td>\n",
       "      <td>Fibromyalgia</td>\n",
       "      <td>CRL</td>\n",
       "      <td>2010-10-11 00:00:00</td>\n",
       "      <td>CRL received October 11, 2010.</td>\n",
       "    </tr>\n",
       "    <tr>\n",
       "      <th>3910</th>\n",
       "      <td>SPPI</td>\n",
       "      <td>Non-Hodgkin’s lymphoma</td>\n",
       "      <td>Approved</td>\n",
       "      <td>2009-09-04 00:00:00</td>\n",
       "      <td>Approved September 4, 2009.</td>\n",
       "    </tr>\n",
       "  </tbody>\n",
       "</table>\n",
       "<p>3911 rows × 5 columns</p>\n",
       "</div>"
      ],
      "text/plain": [
       "     ticker                            disease     stage                 date  \\\n",
       "0      SNSE                    Various cancers   Phase 1  2023-11-04 00:00:00   \n",
       "1      REGN                    Various cancers   Phase 1  2023-11-04 00:00:00   \n",
       "2      AUPH                    Lupus Nephritis   Phase 3  2023-11-03 00:00:00   \n",
       "3      IPHA                  Mycosis Fungoides   Phase 2  2023-11-03 00:00:00   \n",
       "4      HOWL                       Solid Tumors  Phase 1b  2023-11-03 00:00:00   \n",
       "...     ...                                ...       ...                  ...   \n",
       "3906   SPPI                  Colorectal cancer  Approved  2011-04-29 00:00:00   \n",
       "3907   ASRT                  Colorectal cancer  Approved  2011-04-29 00:00:00   \n",
       "3908   ASRT  Postherpetic neuralgia - shingles  Approved  2011-01-28 00:00:00   \n",
       "3909   JAZZ                       Fibromyalgia       CRL  2010-10-11 00:00:00   \n",
       "3910   SPPI             Non-Hodgkin’s lymphoma  Approved  2009-09-04 00:00:00   \n",
       "\n",
       "                                               catalyst  \n",
       "0     Phase 1 safety data reported that a total of 1...  \n",
       "1     Phase 1 safety data reported that a total of 1...  \n",
       "2     Phase 3 data from ASN reported that treated pa...  \n",
       "3     Phase 2 data from ASH abstract reported that t...  \n",
       "4     Phase 1/1b preliminary data provided compellin...  \n",
       "...                                                 ...  \n",
       "3906                           Approved April 29, 2011.  \n",
       "3907                           Approved April 29, 2011.  \n",
       "3908                         Approved January 28, 2011.  \n",
       "3909                     CRL received October 11, 2010.  \n",
       "3910                        Approved September 4, 2009.  \n",
       "\n",
       "[3911 rows x 5 columns]"
      ]
     },
     "execution_count": 4,
     "metadata": {},
     "output_type": "execute_result"
    }
   ],
   "source": [
    "catalyst\n"
   ]
  },
  {
   "cell_type": "code",
   "execution_count": 5,
   "metadata": {},
   "outputs": [
    {
     "name": "stdout",
     "output_type": "stream",
     "text": [
      "<class 'pandas.core.frame.DataFrame'>\n",
      "RangeIndex: 3911 entries, 0 to 3910\n",
      "Data columns (total 5 columns):\n",
      " #   Column    Non-Null Count  Dtype \n",
      "---  ------    --------------  ----- \n",
      " 0   ticker    3911 non-null   object\n",
      " 1   disease   3911 non-null   object\n",
      " 2   stage     3911 non-null   object\n",
      " 3   date      3911 non-null   object\n",
      " 4   catalyst  3911 non-null   object\n",
      "dtypes: object(5)\n",
      "memory usage: 152.9+ KB\n"
     ]
    }
   ],
   "source": [
    "catalyst.info()\n"
   ]
  },
  {
   "cell_type": "code",
   "execution_count": 6,
   "metadata": {},
   "outputs": [
    {
     "data": {
      "text/plain": [
       "15"
      ]
     },
     "execution_count": 6,
     "metadata": {},
     "output_type": "execute_result"
    }
   ],
   "source": [
    "catalyst['stage'].unique().size\n"
   ]
  },
  {
   "cell_type": "code",
   "execution_count": 7,
   "metadata": {},
   "outputs": [
    {
     "data": {
      "text/plain": [
       "array(['Phase 1', 'Phase 3', 'Phase 2', 'Phase 1b', 'Phase 1/2',\n",
       "       'Phase 2b', 'Approved', 'BLA Filing', 'Phase 1a', 'Phase 2/3',\n",
       "       'CRL', 'Phase 2a', 'PDUFA', 'PDUFA priority review', 'NDA Filing'],\n",
       "      dtype=object)"
      ]
     },
     "execution_count": 7,
     "metadata": {},
     "output_type": "execute_result"
    }
   ],
   "source": [
    "catalyst['stage'].unique()\n"
   ]
  },
  {
   "cell_type": "code",
   "execution_count": 8,
   "metadata": {},
   "outputs": [
    {
     "data": {
      "text/plain": [
       "0    Phase 1 safety data reported that a total of 1...\n",
       "1    Phase 1 safety data reported that a total of 1...\n",
       "2    Phase 3 data from ASN reported that treated pa...\n",
       "3    Phase 2 data from ASH abstract reported that t...\n",
       "4    Phase 1/1b preliminary data provided compellin...\n",
       "Name: catalyst, dtype: object"
      ]
     },
     "execution_count": 8,
     "metadata": {},
     "output_type": "execute_result"
    }
   ],
   "source": [
    "catalyst['catalyst'][:5]\n"
   ]
  },
  {
   "cell_type": "code",
   "execution_count": 65,
   "metadata": {},
   "outputs": [],
   "source": [
    "# ## Download pretrained finBERT model\n",
    "# tokenizer = AutoTokenizer.from_pretrained(\"dmis-lab/TinySapBERT-from-TinyPubMedBERT-v1.0\")\n",
    "# model = AutoModelForSequenceClassification.from_pretrained(\"dmis-lab/TinySapBERT-from-TinyPubMedBERT-v1.0\")\n",
    "# classifier = pipeline('feature-extraction', model=model, tokenizer=tokenizer, device=torch.device('cpu'), framework='pt', truncation=True)\n"
   ]
  },
  {
   "cell_type": "code",
   "execution_count": 69,
   "metadata": {},
   "outputs": [
    {
     "name": "stderr",
     "output_type": "stream",
     "text": [
      "No sentence-transformers model found with name /Users/Roy/.cache/torch/sentence_transformers/dmis-lab_TinySapBERT-from-TinyPubMedBERT-v1.0. Creating a new one with MEAN pooling.\n"
     ]
    }
   ],
   "source": [
    "# NOTE: change if needed\n",
    "filtered_words = [i for i in stopwords.words('english') if i not in  [\"no\", \"not\"]]\n",
    "model = SentenceTransformer('dmis-lab/TinySapBERT-from-TinyPubMedBERT-v1.0')\n"
   ]
  },
  {
   "cell_type": "code",
   "execution_count": 70,
   "metadata": {},
   "outputs": [],
   "source": [
    "def extract_keywords(doc, n_gram_range=(1,3), stop_words=filtered_words, model=model, top_n=5):\n",
    "\n",
    "    # Extract candidate words/phrases\n",
    "    count = CountVectorizer(ngram_range=n_gram_range, stop_words=stop_words).fit([doc])\n",
    "    candidates = count.get_feature_names_out()\n",
    "\n",
    "\n",
    "    doc_embedding = model.encode([doc])\n",
    "    candidate_embeddings = model.encode(candidates)\n",
    "\n",
    "    distances = cosine_similarity(doc_embedding, candidate_embeddings)\n",
    "    keywords = [candidates[index] for index in distances.argsort()[0][-top_n:]]\n",
    "\n",
    "    return keywords\n"
   ]
  },
  {
   "cell_type": "code",
   "execution_count": 100,
   "metadata": {},
   "outputs": [],
   "source": [
    "key_words = catalyst['catalyst'].apply(extract_keywords, n_gram_range=(1, 2))\n"
   ]
  },
  {
   "cell_type": "code",
   "execution_count": 101,
   "metadata": {},
   "outputs": [
    {
     "data": {
      "text/plain": [
       "array(['toxicities', '11 adverse', 'limiting toxicities', ...,\n",
       "       'approved september', '2009', 'september 2009'], dtype='<U33')"
      ]
     },
     "execution_count": 101,
     "metadata": {},
     "output_type": "execute_result"
    }
   ],
   "source": [
    "np.ravel(key_words.to_list())\n"
   ]
  },
  {
   "cell_type": "code",
   "execution_count": 122,
   "metadata": {},
   "outputs": [
    {
     "data": {
      "application/vnd.jupyter.widget-view+json": {
       "model_id": "2f55d64b0ac24176a83ddbfcda9786f2",
       "version_major": 2,
       "version_minor": 0
      },
      "text/plain": [
       "Downloading (…)lve/main/config.json:   0%|          | 0.00/688 [00:00<?, ?B/s]"
      ]
     },
     "metadata": {},
     "output_type": "display_data"
    },
    {
     "data": {
      "application/vnd.jupyter.widget-view+json": {
       "model_id": "d1804076f5704ee6965f0dfd4b3809aa",
       "version_major": 2,
       "version_minor": 0
      },
      "text/plain": [
       "Downloading (…)olve/main/vocab.json:   0%|          | 0.00/899k [00:00<?, ?B/s]"
      ]
     },
     "metadata": {},
     "output_type": "display_data"
    },
    {
     "data": {
      "application/vnd.jupyter.widget-view+json": {
       "model_id": "8bfb3eae08e64c31af6ddf3e8850c68b",
       "version_major": 2,
       "version_minor": 0
      },
      "text/plain": [
       "Downloading (…)olve/main/merges.txt:   0%|          | 0.00/456k [00:00<?, ?B/s]"
      ]
     },
     "metadata": {},
     "output_type": "display_data"
    },
    {
     "data": {
      "application/vnd.jupyter.widget-view+json": {
       "model_id": "f1381f11eba243788b766fde39c23a5a",
       "version_major": 2,
       "version_minor": 0
      },
      "text/plain": [
       "Downloading (…)/main/tokenizer.json:   0%|          | 0.00/1.36M [00:00<?, ?B/s]"
      ]
     },
     "metadata": {},
     "output_type": "display_data"
    },
    {
     "data": {
      "application/vnd.jupyter.widget-view+json": {
       "model_id": "179324b5f6e94e6b9d70c772eba33e0b",
       "version_major": 2,
       "version_minor": 0
      },
      "text/plain": [
       "Downloading model.safetensors:   0%|          | 0.00/1.43G [00:00<?, ?B/s]"
      ]
     },
     "metadata": {},
     "output_type": "display_data"
    },
    {
     "name": "stderr",
     "output_type": "stream",
     "text": [
      "Some weights of the model checkpoint at roberta-large-mnli were not used when initializing RobertaForSequenceClassification: ['roberta.pooler.dense.bias', 'roberta.pooler.dense.weight']\n",
      "- This IS expected if you are initializing RobertaForSequenceClassification from the checkpoint of a model trained on another task or with another architecture (e.g. initializing a BertForSequenceClassification model from a BertForPreTraining model).\n",
      "- This IS NOT expected if you are initializing RobertaForSequenceClassification from the checkpoint of a model that you expect to be exactly identical (initializing a BertForSequenceClassification model from a BertForSequenceClassification model).\n"
     ]
    }
   ],
   "source": [
    "## Download pretrained finBERT model\n",
    "#  \"dmis-lab/TinySapBERT-from-TinyPubMedBERT-v1.0\"\n",
    "tokenizer = AutoTokenizer.from_pretrained(\"roberta-large-mnli\")\n",
    "model = AutoModelForSequenceClassification.from_pretrained(\"roberta-large-mnli\")\n",
    "classifier = pipeline('sentiment-analysis', model=model, tokenizer=tokenizer, device=torch.device('mps'), framework='pt', truncation=True)\n"
   ]
  },
  {
   "cell_type": "code",
   "execution_count": 123,
   "metadata": {},
   "outputs": [],
   "source": [
    "flat_kw = np.ravel(key_words.to_list()).tolist()\n",
    "kw_class = classifier(flat_kw)\n"
   ]
  },
  {
   "cell_type": "code",
   "execution_count": 124,
   "metadata": {},
   "outputs": [
    {
     "data": {
      "text/html": [
       "<div>\n",
       "<style scoped>\n",
       "    .dataframe tbody tr th:only-of-type {\n",
       "        vertical-align: middle;\n",
       "    }\n",
       "\n",
       "    .dataframe tbody tr th {\n",
       "        vertical-align: top;\n",
       "    }\n",
       "\n",
       "    .dataframe thead th {\n",
       "        text-align: right;\n",
       "    }\n",
       "</style>\n",
       "<table border=\"1\" class=\"dataframe\">\n",
       "  <thead>\n",
       "    <tr style=\"text-align: right;\">\n",
       "      <th></th>\n",
       "      <th>label</th>\n",
       "      <th>score</th>\n",
       "      <th>keywords</th>\n",
       "    </tr>\n",
       "  </thead>\n",
       "  <tbody>\n",
       "    <tr>\n",
       "      <th>4156</th>\n",
       "      <td>NEUTRAL</td>\n",
       "      <td>0.979986</td>\n",
       "      <td>levels also</td>\n",
       "    </tr>\n",
       "    <tr>\n",
       "      <th>7903</th>\n",
       "      <td>NEUTRAL</td>\n",
       "      <td>0.976525</td>\n",
       "      <td>treatment also</td>\n",
       "    </tr>\n",
       "    <tr>\n",
       "      <th>14409</th>\n",
       "      <td>NEUTRAL</td>\n",
       "      <td>0.973259</td>\n",
       "      <td>2020 also</td>\n",
       "    </tr>\n",
       "    <tr>\n",
       "      <th>11308</th>\n",
       "      <td>NEUTRAL</td>\n",
       "      <td>0.959464</td>\n",
       "      <td>tolerated however</td>\n",
       "    </tr>\n",
       "    <tr>\n",
       "      <th>17704</th>\n",
       "      <td>NEUTRAL</td>\n",
       "      <td>0.957244</td>\n",
       "      <td>2018 also</td>\n",
       "    </tr>\n",
       "  </tbody>\n",
       "</table>\n",
       "</div>"
      ],
      "text/plain": [
       "         label     score           keywords\n",
       "4156   NEUTRAL  0.979986        levels also\n",
       "7903   NEUTRAL  0.976525     treatment also\n",
       "14409  NEUTRAL  0.973259          2020 also\n",
       "11308  NEUTRAL  0.959464  tolerated however\n",
       "17704  NEUTRAL  0.957244          2018 also"
      ]
     },
     "execution_count": 124,
     "metadata": {},
     "output_type": "execute_result"
    }
   ],
   "source": [
    "kw_df = pd.DataFrame(kw_class)\n",
    "kw_df['keywords'] = flat_kw\n",
    "kw_df = kw_df.sort_values(['score'], ascending=False)\n",
    "kw_df.head()\n"
   ]
  },
  {
   "cell_type": "code",
   "execution_count": 125,
   "metadata": {},
   "outputs": [
    {
     "data": {
      "text/html": [
       "<div>\n",
       "<style scoped>\n",
       "    .dataframe tbody tr th:only-of-type {\n",
       "        vertical-align: middle;\n",
       "    }\n",
       "\n",
       "    .dataframe tbody tr th {\n",
       "        vertical-align: top;\n",
       "    }\n",
       "\n",
       "    .dataframe thead th {\n",
       "        text-align: right;\n",
       "    }\n",
       "</style>\n",
       "<table border=\"1\" class=\"dataframe\">\n",
       "  <thead>\n",
       "    <tr style=\"text-align: right;\">\n",
       "      <th></th>\n",
       "      <th>label</th>\n",
       "      <th>score</th>\n",
       "      <th>keywords</th>\n",
       "    </tr>\n",
       "  </thead>\n",
       "  <tbody>\n",
       "    <tr>\n",
       "      <th>6487</th>\n",
       "      <td>ENTAILMENT</td>\n",
       "      <td>0.814724</td>\n",
       "      <td>populations noted</td>\n",
       "    </tr>\n",
       "    <tr>\n",
       "      <th>11322</th>\n",
       "      <td>ENTAILMENT</td>\n",
       "      <td>0.813795</td>\n",
       "      <td>deeper level</td>\n",
       "    </tr>\n",
       "    <tr>\n",
       "      <th>16214</th>\n",
       "      <td>ENTAILMENT</td>\n",
       "      <td>0.812892</td>\n",
       "      <td>meet endpoints</td>\n",
       "    </tr>\n",
       "    <tr>\n",
       "      <th>16209</th>\n",
       "      <td>ENTAILMENT</td>\n",
       "      <td>0.812892</td>\n",
       "      <td>meet endpoints</td>\n",
       "    </tr>\n",
       "    <tr>\n",
       "      <th>16388</th>\n",
       "      <td>ENTAILMENT</td>\n",
       "      <td>0.812892</td>\n",
       "      <td>meet endpoints</td>\n",
       "    </tr>\n",
       "    <tr>\n",
       "      <th>16134</th>\n",
       "      <td>ENTAILMENT</td>\n",
       "      <td>0.812892</td>\n",
       "      <td>meet endpoints</td>\n",
       "    </tr>\n",
       "    <tr>\n",
       "      <th>14320</th>\n",
       "      <td>ENTAILMENT</td>\n",
       "      <td>0.812892</td>\n",
       "      <td>meet endpoints</td>\n",
       "    </tr>\n",
       "    <tr>\n",
       "      <th>16797</th>\n",
       "      <td>ENTAILMENT</td>\n",
       "      <td>0.812892</td>\n",
       "      <td>meet endpoints</td>\n",
       "    </tr>\n",
       "    <tr>\n",
       "      <th>16802</th>\n",
       "      <td>ENTAILMENT</td>\n",
       "      <td>0.812892</td>\n",
       "      <td>meet endpoints</td>\n",
       "    </tr>\n",
       "    <tr>\n",
       "      <th>14376</th>\n",
       "      <td>ENTAILMENT</td>\n",
       "      <td>0.812892</td>\n",
       "      <td>meet endpoints</td>\n",
       "    </tr>\n",
       "    <tr>\n",
       "      <th>9175</th>\n",
       "      <td>CONTRADICTION</td>\n",
       "      <td>0.811802</td>\n",
       "      <td>reported 100</td>\n",
       "    </tr>\n",
       "    <tr>\n",
       "      <th>12034</th>\n",
       "      <td>ENTAILMENT</td>\n",
       "      <td>0.811532</td>\n",
       "      <td>concern observed</td>\n",
       "    </tr>\n",
       "    <tr>\n",
       "      <th>4189</th>\n",
       "      <td>ENTAILMENT</td>\n",
       "      <td>0.810725</td>\n",
       "      <td>ointment noted</td>\n",
       "    </tr>\n",
       "    <tr>\n",
       "      <th>5871</th>\n",
       "      <td>ENTAILMENT</td>\n",
       "      <td>0.809701</td>\n",
       "      <td>cycles noted</td>\n",
       "    </tr>\n",
       "    <tr>\n",
       "      <th>8158</th>\n",
       "      <td>ENTAILMENT</td>\n",
       "      <td>0.809659</td>\n",
       "      <td>baseline noted</td>\n",
       "    </tr>\n",
       "    <tr>\n",
       "      <th>2579</th>\n",
       "      <td>ENTAILMENT</td>\n",
       "      <td>0.809097</td>\n",
       "      <td>medications noted</td>\n",
       "    </tr>\n",
       "    <tr>\n",
       "      <th>2584</th>\n",
       "      <td>ENTAILMENT</td>\n",
       "      <td>0.809097</td>\n",
       "      <td>medications noted</td>\n",
       "    </tr>\n",
       "    <tr>\n",
       "      <th>1206</th>\n",
       "      <td>ENTAILMENT</td>\n",
       "      <td>0.808617</td>\n",
       "      <td>effect noted</td>\n",
       "    </tr>\n",
       "    <tr>\n",
       "      <th>1213</th>\n",
       "      <td>ENTAILMENT</td>\n",
       "      <td>0.808617</td>\n",
       "      <td>effect noted</td>\n",
       "    </tr>\n",
       "    <tr>\n",
       "      <th>3039</th>\n",
       "      <td>ENTAILMENT</td>\n",
       "      <td>0.808617</td>\n",
       "      <td>effect noted</td>\n",
       "    </tr>\n",
       "    <tr>\n",
       "      <th>18324</th>\n",
       "      <td>ENTAILMENT</td>\n",
       "      <td>0.808617</td>\n",
       "      <td>effect noted</td>\n",
       "    </tr>\n",
       "    <tr>\n",
       "      <th>797</th>\n",
       "      <td>NEUTRAL</td>\n",
       "      <td>0.808561</td>\n",
       "      <td>confirmed overall</td>\n",
       "    </tr>\n",
       "    <tr>\n",
       "      <th>1620</th>\n",
       "      <td>NEUTRAL</td>\n",
       "      <td>0.808561</td>\n",
       "      <td>confirmed overall</td>\n",
       "    </tr>\n",
       "    <tr>\n",
       "      <th>7383</th>\n",
       "      <td>NEUTRAL</td>\n",
       "      <td>0.808561</td>\n",
       "      <td>confirmed overall</td>\n",
       "    </tr>\n",
       "    <tr>\n",
       "      <th>12182</th>\n",
       "      <td>NEUTRAL</td>\n",
       "      <td>0.808561</td>\n",
       "      <td>confirmed overall</td>\n",
       "    </tr>\n",
       "    <tr>\n",
       "      <th>9939</th>\n",
       "      <td>ENTAILMENT</td>\n",
       "      <td>0.808349</td>\n",
       "      <td>results reported</td>\n",
       "    </tr>\n",
       "    <tr>\n",
       "      <th>5593</th>\n",
       "      <td>ENTAILMENT</td>\n",
       "      <td>0.808349</td>\n",
       "      <td>results reported</td>\n",
       "    </tr>\n",
       "    <tr>\n",
       "      <th>10059</th>\n",
       "      <td>ENTAILMENT</td>\n",
       "      <td>0.808349</td>\n",
       "      <td>results reported</td>\n",
       "    </tr>\n",
       "    <tr>\n",
       "      <th>10077</th>\n",
       "      <td>ENTAILMENT</td>\n",
       "      <td>0.808349</td>\n",
       "      <td>results reported</td>\n",
       "    </tr>\n",
       "    <tr>\n",
       "      <th>7161</th>\n",
       "      <td>ENTAILMENT</td>\n",
       "      <td>0.808349</td>\n",
       "      <td>results reported</td>\n",
       "    </tr>\n",
       "    <tr>\n",
       "      <th>7243</th>\n",
       "      <td>ENTAILMENT</td>\n",
       "      <td>0.808349</td>\n",
       "      <td>results reported</td>\n",
       "    </tr>\n",
       "    <tr>\n",
       "      <th>9706</th>\n",
       "      <td>ENTAILMENT</td>\n",
       "      <td>0.808349</td>\n",
       "      <td>results reported</td>\n",
       "    </tr>\n",
       "    <tr>\n",
       "      <th>8913</th>\n",
       "      <td>ENTAILMENT</td>\n",
       "      <td>0.808349</td>\n",
       "      <td>results reported</td>\n",
       "    </tr>\n",
       "    <tr>\n",
       "      <th>6988</th>\n",
       "      <td>ENTAILMENT</td>\n",
       "      <td>0.808349</td>\n",
       "      <td>results reported</td>\n",
       "    </tr>\n",
       "    <tr>\n",
       "      <th>9188</th>\n",
       "      <td>ENTAILMENT</td>\n",
       "      <td>0.808349</td>\n",
       "      <td>results reported</td>\n",
       "    </tr>\n",
       "    <tr>\n",
       "      <th>8590</th>\n",
       "      <td>ENTAILMENT</td>\n",
       "      <td>0.808349</td>\n",
       "      <td>results reported</td>\n",
       "    </tr>\n",
       "    <tr>\n",
       "      <th>8211</th>\n",
       "      <td>ENTAILMENT</td>\n",
       "      <td>0.808349</td>\n",
       "      <td>results reported</td>\n",
       "    </tr>\n",
       "    <tr>\n",
       "      <th>1768</th>\n",
       "      <td>ENTAILMENT</td>\n",
       "      <td>0.808349</td>\n",
       "      <td>results reported</td>\n",
       "    </tr>\n",
       "    <tr>\n",
       "      <th>6010</th>\n",
       "      <td>ENTAILMENT</td>\n",
       "      <td>0.808349</td>\n",
       "      <td>results reported</td>\n",
       "    </tr>\n",
       "    <tr>\n",
       "      <th>5726</th>\n",
       "      <td>ENTAILMENT</td>\n",
       "      <td>0.808349</td>\n",
       "      <td>results reported</td>\n",
       "    </tr>\n",
       "    <tr>\n",
       "      <th>8167</th>\n",
       "      <td>ENTAILMENT</td>\n",
       "      <td>0.808349</td>\n",
       "      <td>results reported</td>\n",
       "    </tr>\n",
       "    <tr>\n",
       "      <th>10942</th>\n",
       "      <td>ENTAILMENT</td>\n",
       "      <td>0.808349</td>\n",
       "      <td>results reported</td>\n",
       "    </tr>\n",
       "    <tr>\n",
       "      <th>6360</th>\n",
       "      <td>ENTAILMENT</td>\n",
       "      <td>0.808349</td>\n",
       "      <td>results reported</td>\n",
       "    </tr>\n",
       "    <tr>\n",
       "      <th>6354</th>\n",
       "      <td>ENTAILMENT</td>\n",
       "      <td>0.808349</td>\n",
       "      <td>results reported</td>\n",
       "    </tr>\n",
       "    <tr>\n",
       "      <th>10901</th>\n",
       "      <td>ENTAILMENT</td>\n",
       "      <td>0.808349</td>\n",
       "      <td>results reported</td>\n",
       "    </tr>\n",
       "    <tr>\n",
       "      <th>9783</th>\n",
       "      <td>ENTAILMENT</td>\n",
       "      <td>0.808349</td>\n",
       "      <td>results reported</td>\n",
       "    </tr>\n",
       "    <tr>\n",
       "      <th>9537</th>\n",
       "      <td>ENTAILMENT</td>\n",
       "      <td>0.808349</td>\n",
       "      <td>results reported</td>\n",
       "    </tr>\n",
       "    <tr>\n",
       "      <th>9633</th>\n",
       "      <td>ENTAILMENT</td>\n",
       "      <td>0.808349</td>\n",
       "      <td>results reported</td>\n",
       "    </tr>\n",
       "    <tr>\n",
       "      <th>9628</th>\n",
       "      <td>ENTAILMENT</td>\n",
       "      <td>0.808349</td>\n",
       "      <td>results reported</td>\n",
       "    </tr>\n",
       "    <tr>\n",
       "      <th>9623</th>\n",
       "      <td>ENTAILMENT</td>\n",
       "      <td>0.808349</td>\n",
       "      <td>results reported</td>\n",
       "    </tr>\n",
       "  </tbody>\n",
       "</table>\n",
       "</div>"
      ],
      "text/plain": [
       "               label     score           keywords\n",
       "6487      ENTAILMENT  0.814724  populations noted\n",
       "11322     ENTAILMENT  0.813795       deeper level\n",
       "16214     ENTAILMENT  0.812892     meet endpoints\n",
       "16209     ENTAILMENT  0.812892     meet endpoints\n",
       "16388     ENTAILMENT  0.812892     meet endpoints\n",
       "16134     ENTAILMENT  0.812892     meet endpoints\n",
       "14320     ENTAILMENT  0.812892     meet endpoints\n",
       "16797     ENTAILMENT  0.812892     meet endpoints\n",
       "16802     ENTAILMENT  0.812892     meet endpoints\n",
       "14376     ENTAILMENT  0.812892     meet endpoints\n",
       "9175   CONTRADICTION  0.811802       reported 100\n",
       "12034     ENTAILMENT  0.811532   concern observed\n",
       "4189      ENTAILMENT  0.810725     ointment noted\n",
       "5871      ENTAILMENT  0.809701       cycles noted\n",
       "8158      ENTAILMENT  0.809659     baseline noted\n",
       "2579      ENTAILMENT  0.809097  medications noted\n",
       "2584      ENTAILMENT  0.809097  medications noted\n",
       "1206      ENTAILMENT  0.808617       effect noted\n",
       "1213      ENTAILMENT  0.808617       effect noted\n",
       "3039      ENTAILMENT  0.808617       effect noted\n",
       "18324     ENTAILMENT  0.808617       effect noted\n",
       "797          NEUTRAL  0.808561  confirmed overall\n",
       "1620         NEUTRAL  0.808561  confirmed overall\n",
       "7383         NEUTRAL  0.808561  confirmed overall\n",
       "12182        NEUTRAL  0.808561  confirmed overall\n",
       "9939      ENTAILMENT  0.808349   results reported\n",
       "5593      ENTAILMENT  0.808349   results reported\n",
       "10059     ENTAILMENT  0.808349   results reported\n",
       "10077     ENTAILMENT  0.808349   results reported\n",
       "7161      ENTAILMENT  0.808349   results reported\n",
       "7243      ENTAILMENT  0.808349   results reported\n",
       "9706      ENTAILMENT  0.808349   results reported\n",
       "8913      ENTAILMENT  0.808349   results reported\n",
       "6988      ENTAILMENT  0.808349   results reported\n",
       "9188      ENTAILMENT  0.808349   results reported\n",
       "8590      ENTAILMENT  0.808349   results reported\n",
       "8211      ENTAILMENT  0.808349   results reported\n",
       "1768      ENTAILMENT  0.808349   results reported\n",
       "6010      ENTAILMENT  0.808349   results reported\n",
       "5726      ENTAILMENT  0.808349   results reported\n",
       "8167      ENTAILMENT  0.808349   results reported\n",
       "10942     ENTAILMENT  0.808349   results reported\n",
       "6360      ENTAILMENT  0.808349   results reported\n",
       "6354      ENTAILMENT  0.808349   results reported\n",
       "10901     ENTAILMENT  0.808349   results reported\n",
       "9783      ENTAILMENT  0.808349   results reported\n",
       "9537      ENTAILMENT  0.808349   results reported\n",
       "9633      ENTAILMENT  0.808349   results reported\n",
       "9628      ENTAILMENT  0.808349   results reported\n",
       "9623      ENTAILMENT  0.808349   results reported"
      ]
     },
     "execution_count": 125,
     "metadata": {},
     "output_type": "execute_result"
    }
   ],
   "source": [
    "kw_df.iloc[150:200, :]\n"
   ]
  },
  {
   "cell_type": "code",
   "execution_count": 126,
   "metadata": {},
   "outputs": [
    {
     "data": {
      "text/plain": [
       "'Phase 2a top-line data demonstrated clinically meaningful reductions in fear, anxiety and avoidance of anxiety-provoking social and performance situations in daily life, as measured by the Liebowitz Social Anxiety Scale (LSAS)'"
      ]
     },
     "execution_count": 126,
     "metadata": {},
     "output_type": "execute_result"
    }
   ],
   "source": [
    "catalyst['catalyst'][6210//5]\n"
   ]
  },
  {
   "cell_type": "code",
   "execution_count": 169,
   "metadata": {},
   "outputs": [],
   "source": [
    "# compared outputs from BioBERT and RoBERTa to improve our keyword selection to build ground truth labels\n",
    "bull_words = [\n",
    "    \"preserv\", \"eval\", \"improv\", \"show\", \"meet\", \"met\", \"approv\", \"present\", \"observ\", \"achiev\", \"attain\", \"favor\", \"toler\", \"treat\", \"reduc\", \"reach\"]\n",
    "bear_words = [\"toxic\", \"halt\", \"fail\", \"reach\"]\n",
    "bear_words = [f\"\\b*no \\w*{bear_i}\\w*\" for bear_i in bull_words] + [f\"\\b*not \\w*{bear_i}\\w*\" for bear_i in bull_words] + bear_words\n",
    "bull_words = [f\"\\b*\\w*{bull_i}\\w*\" for bull_i in bull_words]\n"
   ]
  },
  {
   "cell_type": "code",
   "execution_count": 170,
   "metadata": {},
   "outputs": [
    {
     "data": {
      "text/plain": [
       "'\\x08*no \\\\w*preserv\\\\w*|\\x08*no \\\\w*eval\\\\w*|\\x08*no \\\\w*improv\\\\w*|\\x08*no \\\\w*show\\\\w*|\\x08*no \\\\w*meet\\\\w*|\\x08*no \\\\w*met\\\\w*|\\x08*no \\\\w*approv\\\\w*|\\x08*no \\\\w*present\\\\w*|\\x08*no \\\\w*observ\\\\w*|\\x08*no \\\\w*achiev\\\\w*|\\x08*no \\\\w*attain\\\\w*|\\x08*no \\\\w*favor\\\\w*|\\x08*no \\\\w*toler\\\\w*|\\x08*no \\\\w*treat\\\\w*|\\x08*no \\\\w*reduc\\\\w*|\\x08*no \\\\w*reach\\\\w*|\\x08*not \\\\w*preserv\\\\w*|\\x08*not \\\\w*eval\\\\w*|\\x08*not \\\\w*improv\\\\w*|\\x08*not \\\\w*show\\\\w*|\\x08*not \\\\w*meet\\\\w*|\\x08*not \\\\w*met\\\\w*|\\x08*not \\\\w*approv\\\\w*|\\x08*not \\\\w*present\\\\w*|\\x08*not \\\\w*observ\\\\w*|\\x08*not \\\\w*achiev\\\\w*|\\x08*not \\\\w*attain\\\\w*|\\x08*not \\\\w*favor\\\\w*|\\x08*not \\\\w*toler\\\\w*|\\x08*not \\\\w*treat\\\\w*|\\x08*not \\\\w*reduc\\\\w*|\\x08*not \\\\w*reach\\\\w*|toxic|halt|fail|reach'"
      ]
     },
     "execution_count": 170,
     "metadata": {},
     "output_type": "execute_result"
    }
   ],
   "source": [
    "\"|\".join(bear_words)\n"
   ]
  },
  {
   "cell_type": "code",
   "execution_count": null,
   "metadata": {},
   "outputs": [],
   "source": [
    "# def special_encode(x, bull_words, bear_words):\n",
    "#     tmp_x = x.lower()\n",
    "#     # BULLISH\n",
    "#     if re.findall(pattern=\"\\b*approv\\w*|\\b*show\\w*|\\b*meet\\w*\", string=x):\n",
    "#         return 1\n",
    "#     # BEARISH\n",
    "#     elif re.findall(pattern=\"\\b*halt\\w*|\\b*fail\\w*|\\b*did not reach \\w*|\\b*no differentiation from placebo \\w*|\\b*no diff\\w*\", string=x):\n",
    "#         return -1\n",
    "#     # NEUTRAL\n",
    "#     else:\n",
    "#         return 0\n"
   ]
  },
  {
   "cell_type": "code",
   "execution_count": 201,
   "metadata": {},
   "outputs": [],
   "source": [
    "def special_encode(x, bull_words=bull_words, bear_words=bear_words):\n",
    "    tmp_x = x.lower()\n",
    "    # BULLISH\n",
    "    if re.findall(pattern=\"|\".join(bull_words), string=tmp_x):\n",
    "        return 1\n",
    "    # BEARISH\n",
    "    elif re.findall(pattern=\"|\".join(bear_words), string=tmp_x):\n",
    "        return -1\n",
    "    # NEUTRAL\n",
    "    else:\n",
    "        return 0\n"
   ]
  },
  {
   "cell_type": "code",
   "execution_count": 202,
   "metadata": {},
   "outputs": [],
   "source": [
    "catalyst['label'] = catalyst['catalyst'].apply(special_encode)\n"
   ]
  },
  {
   "cell_type": "code",
   "execution_count": 207,
   "metadata": {},
   "outputs": [
    {
     "data": {
      "text/plain": [
       "<Axes: ylabel='label'>"
      ]
     },
     "execution_count": 207,
     "metadata": {},
     "output_type": "execute_result"
    },
    {
     "data": {
      "image/png": "[encoded data removed]",
      "text/plain": [
       "<Figure size 640x480 with 1 Axes>"
      ]
     },
     "metadata": {},
     "output_type": "display_data"
    }
   ],
   "source": [
    "catalyst['label'].value_counts().plot(kind='barh')\n"
   ]
  },
  {
   "cell_type": "code",
   "execution_count": 208,
   "metadata": {},
   "outputs": [
    {
     "data": {
      "text/plain": [
       "<Axes: ylabel='stage'>"
      ]
     },
     "execution_count": 208,
     "metadata": {},
     "output_type": "execute_result"
    },
    {
     "data": {
      "image/png": "[encoded data removed]",
      "text/plain": [
       "<Figure size 640x480 with 1 Axes>"
      ]
     },
     "metadata": {},
     "output_type": "display_data"
    }
   ],
   "source": [
    "catalyst['stage'].value_counts().plot(kind='barh')\n"
   ]
  },
  {
   "cell_type": "markdown",
   "metadata": {},
   "source": [
    "# Archives"
   ]
  },
  {
   "cell_type": "code",
   "execution_count": 209,
   "metadata": {},
   "outputs": [
    {
     "data": {
      "text/html": [
       "<div>\n",
       "<style scoped>\n",
       "    .dataframe tbody tr th:only-of-type {\n",
       "        vertical-align: middle;\n",
       "    }\n",
       "\n",
       "    .dataframe tbody tr th {\n",
       "        vertical-align: top;\n",
       "    }\n",
       "\n",
       "    .dataframe thead th {\n",
       "        text-align: right;\n",
       "    }\n",
       "</style>\n",
       "<table border=\"1\" class=\"dataframe\">\n",
       "  <thead>\n",
       "    <tr style=\"text-align: right;\">\n",
       "      <th></th>\n",
       "      <th>ticker</th>\n",
       "      <th>disease</th>\n",
       "      <th>stage</th>\n",
       "      <th>date</th>\n",
       "      <th>catalyst</th>\n",
       "      <th>label</th>\n",
       "    </tr>\n",
       "  </thead>\n",
       "  <tbody>\n",
       "    <tr>\n",
       "      <th>0</th>\n",
       "      <td>SPPI</td>\n",
       "      <td>Non-Hodgkin’s lymphoma</td>\n",
       "      <td>Approved</td>\n",
       "      <td>2009-09-04 00:00:00</td>\n",
       "      <td>Approved September 4, 2009.</td>\n",
       "      <td>1</td>\n",
       "    </tr>\n",
       "    <tr>\n",
       "      <th>1</th>\n",
       "      <td>JAZZ</td>\n",
       "      <td>Fibromyalgia</td>\n",
       "      <td>CRL</td>\n",
       "      <td>2010-10-11 00:00:00</td>\n",
       "      <td>CRL received October 11, 2010.</td>\n",
       "      <td>0</td>\n",
       "    </tr>\n",
       "    <tr>\n",
       "      <th>2</th>\n",
       "      <td>ASRT</td>\n",
       "      <td>Postherpetic neuralgia - shingles</td>\n",
       "      <td>Approved</td>\n",
       "      <td>2011-01-28 00:00:00</td>\n",
       "      <td>Approved January 28, 2011.</td>\n",
       "      <td>1</td>\n",
       "    </tr>\n",
       "    <tr>\n",
       "      <th>3</th>\n",
       "      <td>ASRT</td>\n",
       "      <td>Colorectal cancer</td>\n",
       "      <td>Approved</td>\n",
       "      <td>2011-04-29 00:00:00</td>\n",
       "      <td>Approved April 29, 2011.</td>\n",
       "      <td>1</td>\n",
       "    </tr>\n",
       "    <tr>\n",
       "      <th>4</th>\n",
       "      <td>SPPI</td>\n",
       "      <td>Colorectal cancer</td>\n",
       "      <td>Approved</td>\n",
       "      <td>2011-04-29 00:00:00</td>\n",
       "      <td>Approved April 29, 2011.</td>\n",
       "      <td>1</td>\n",
       "    </tr>\n",
       "  </tbody>\n",
       "</table>\n",
       "</div>"
      ],
      "text/plain": [
       "  ticker                            disease     stage                 date  \\\n",
       "0   SPPI             Non-Hodgkin’s lymphoma  Approved  2009-09-04 00:00:00   \n",
       "1   JAZZ                       Fibromyalgia       CRL  2010-10-11 00:00:00   \n",
       "2   ASRT  Postherpetic neuralgia - shingles  Approved  2011-01-28 00:00:00   \n",
       "3   ASRT                  Colorectal cancer  Approved  2011-04-29 00:00:00   \n",
       "4   SPPI                  Colorectal cancer  Approved  2011-04-29 00:00:00   \n",
       "\n",
       "                         catalyst  label  \n",
       "0     Approved September 4, 2009.      1  \n",
       "1  CRL received October 11, 2010.      0  \n",
       "2      Approved January 28, 2011.      1  \n",
       "3        Approved April 29, 2011.      1  \n",
       "4        Approved April 29, 2011.      1  "
      ]
     },
     "execution_count": 209,
     "metadata": {},
     "output_type": "execute_result"
    }
   ],
   "source": [
    "df = catalyst.copy(deep=True).sort_values(by=['date']).reset_index(drop=True)\n",
    "df.head()\n"
   ]
  },
  {
   "cell_type": "code",
   "execution_count": 210,
   "metadata": {},
   "outputs": [
    {
     "name": "stdout",
     "output_type": "stream",
     "text": [
      "(3128, 6)\n",
      "(783, 6)\n",
      "(3911, 6)\n"
     ]
    }
   ],
   "source": [
    "train_size = 0.8\n",
    "row_len = int(train_size * df.shape[0])\n",
    "train = df.iloc[:row_len, :]\n",
    "test = df.iloc[row_len:, :]\n",
    "print(train.shape)\n",
    "print(test.shape)\n",
    "print(catalyst.shape)\n"
   ]
  },
  {
   "cell_type": "code",
   "execution_count": 211,
   "metadata": {},
   "outputs": [
    {
     "data": {
      "text/html": [
       "<div>\n",
       "<style scoped>\n",
       "    .dataframe tbody tr th:only-of-type {\n",
       "        vertical-align: middle;\n",
       "    }\n",
       "\n",
       "    .dataframe tbody tr th {\n",
       "        vertical-align: top;\n",
       "    }\n",
       "\n",
       "    .dataframe thead th {\n",
       "        text-align: right;\n",
       "    }\n",
       "</style>\n",
       "<table border=\"1\" class=\"dataframe\">\n",
       "  <thead>\n",
       "    <tr style=\"text-align: right;\">\n",
       "      <th></th>\n",
       "      <th>ticker</th>\n",
       "      <th>disease</th>\n",
       "      <th>stage</th>\n",
       "      <th>date</th>\n",
       "      <th>catalyst</th>\n",
       "      <th>label</th>\n",
       "    </tr>\n",
       "  </thead>\n",
       "  <tbody>\n",
       "    <tr>\n",
       "      <th>0</th>\n",
       "      <td>SPPI</td>\n",
       "      <td>Non-Hodgkin’s lymphoma</td>\n",
       "      <td>Approved</td>\n",
       "      <td>2009-09-04 00:00:00</td>\n",
       "      <td>Approved September 4, 2009.</td>\n",
       "      <td>1</td>\n",
       "    </tr>\n",
       "    <tr>\n",
       "      <th>1</th>\n",
       "      <td>JAZZ</td>\n",
       "      <td>Fibromyalgia</td>\n",
       "      <td>CRL</td>\n",
       "      <td>2010-10-11 00:00:00</td>\n",
       "      <td>CRL received October 11, 2010.</td>\n",
       "      <td>0</td>\n",
       "    </tr>\n",
       "    <tr>\n",
       "      <th>2</th>\n",
       "      <td>ASRT</td>\n",
       "      <td>Postherpetic neuralgia - shingles</td>\n",
       "      <td>Approved</td>\n",
       "      <td>2011-01-28 00:00:00</td>\n",
       "      <td>Approved January 28, 2011.</td>\n",
       "      <td>1</td>\n",
       "    </tr>\n",
       "    <tr>\n",
       "      <th>3</th>\n",
       "      <td>ASRT</td>\n",
       "      <td>Colorectal cancer</td>\n",
       "      <td>Approved</td>\n",
       "      <td>2011-04-29 00:00:00</td>\n",
       "      <td>Approved April 29, 2011.</td>\n",
       "      <td>1</td>\n",
       "    </tr>\n",
       "    <tr>\n",
       "      <th>4</th>\n",
       "      <td>SPPI</td>\n",
       "      <td>Colorectal cancer</td>\n",
       "      <td>Approved</td>\n",
       "      <td>2011-04-29 00:00:00</td>\n",
       "      <td>Approved April 29, 2011.</td>\n",
       "      <td>1</td>\n",
       "    </tr>\n",
       "    <tr>\n",
       "      <th>...</th>\n",
       "      <td>...</td>\n",
       "      <td>...</td>\n",
       "      <td>...</td>\n",
       "      <td>...</td>\n",
       "      <td>...</td>\n",
       "      <td>...</td>\n",
       "    </tr>\n",
       "    <tr>\n",
       "      <th>3123</th>\n",
       "      <td>ALNY</td>\n",
       "      <td>Hepatitis B (HBV)</td>\n",
       "      <td>Phase 2</td>\n",
       "      <td>2023-06-24 00:00:00</td>\n",
       "      <td>Phase 2 24 or 48 weeks plus up to 48 weeks of ...</td>\n",
       "      <td>1</td>\n",
       "    </tr>\n",
       "    <tr>\n",
       "      <th>3124</th>\n",
       "      <td>RLYB</td>\n",
       "      <td>Fetal and neonatal alloimmune thrombocytopenia...</td>\n",
       "      <td>Phase 1b</td>\n",
       "      <td>2023-06-24 00:00:00</td>\n",
       "      <td>Phase 1b data presented at ISTH showed that su...</td>\n",
       "      <td>1</td>\n",
       "    </tr>\n",
       "    <tr>\n",
       "      <th>3125</th>\n",
       "      <td>VIR</td>\n",
       "      <td>Hepatitis B</td>\n",
       "      <td>Phase 1</td>\n",
       "      <td>2023-06-24 00:00:00</td>\n",
       "      <td>Phase 1 data showed that treatment has a short...</td>\n",
       "      <td>1</td>\n",
       "    </tr>\n",
       "    <tr>\n",
       "      <th>3126</th>\n",
       "      <td>TAK</td>\n",
       "      <td>Alpha-1 Liver Disease</td>\n",
       "      <td>Phase 2</td>\n",
       "      <td>2023-06-24 00:00:00</td>\n",
       "      <td>Phase 2 data presented at EASL showed that at ...</td>\n",
       "      <td>1</td>\n",
       "    </tr>\n",
       "    <tr>\n",
       "      <th>3127</th>\n",
       "      <td>ZLDPF</td>\n",
       "      <td>Obesity</td>\n",
       "      <td>Phase 1b</td>\n",
       "      <td>2023-06-24 00:00:00</td>\n",
       "      <td>Phase 1b trial data showed that after one week...</td>\n",
       "      <td>1</td>\n",
       "    </tr>\n",
       "  </tbody>\n",
       "</table>\n",
       "<p>3128 rows × 6 columns</p>\n",
       "</div>"
      ],
      "text/plain": [
       "     ticker                                            disease     stage  \\\n",
       "0      SPPI                             Non-Hodgkin’s lymphoma  Approved   \n",
       "1      JAZZ                                       Fibromyalgia       CRL   \n",
       "2      ASRT                  Postherpetic neuralgia - shingles  Approved   \n",
       "3      ASRT                                  Colorectal cancer  Approved   \n",
       "4      SPPI                                  Colorectal cancer  Approved   \n",
       "...     ...                                                ...       ...   \n",
       "3123   ALNY                                  Hepatitis B (HBV)   Phase 2   \n",
       "3124   RLYB  Fetal and neonatal alloimmune thrombocytopenia...  Phase 1b   \n",
       "3125    VIR                                        Hepatitis B   Phase 1   \n",
       "3126    TAK                              Alpha-1 Liver Disease   Phase 2   \n",
       "3127  ZLDPF                                            Obesity  Phase 1b   \n",
       "\n",
       "                     date                                           catalyst  \\\n",
       "0     2009-09-04 00:00:00                        Approved September 4, 2009.   \n",
       "1     2010-10-11 00:00:00                     CRL received October 11, 2010.   \n",
       "2     2011-01-28 00:00:00                         Approved January 28, 2011.   \n",
       "3     2011-04-29 00:00:00                           Approved April 29, 2011.   \n",
       "4     2011-04-29 00:00:00                           Approved April 29, 2011.   \n",
       "...                   ...                                                ...   \n",
       "3123  2023-06-24 00:00:00  Phase 2 24 or 48 weeks plus up to 48 weeks of ...   \n",
       "3124  2023-06-24 00:00:00  Phase 1b data presented at ISTH showed that su...   \n",
       "3125  2023-06-24 00:00:00  Phase 1 data showed that treatment has a short...   \n",
       "3126  2023-06-24 00:00:00  Phase 2 data presented at EASL showed that at ...   \n",
       "3127  2023-06-24 00:00:00  Phase 1b trial data showed that after one week...   \n",
       "\n",
       "      label  \n",
       "0         1  \n",
       "1         0  \n",
       "2         1  \n",
       "3         1  \n",
       "4         1  \n",
       "...     ...  \n",
       "3123      1  \n",
       "3124      1  \n",
       "3125      1  \n",
       "3126      1  \n",
       "3127      1  \n",
       "\n",
       "[3128 rows x 6 columns]"
      ]
     },
     "execution_count": 211,
     "metadata": {},
     "output_type": "execute_result"
    }
   ],
   "source": [
    "train\n"
   ]
  },
  {
   "cell_type": "code",
   "execution_count": 212,
   "metadata": {},
   "outputs": [],
   "source": [
    "train.to_csv(\"train.csv\", index=0)\n",
    "test.to_csv(\"test.csv\", index=0)\n",
    "catalyst.to_csv(\"catalyst.csv\", index=0)\n"
   ]
  },
  {
   "cell_type": "code",
   "execution_count": 214,
   "metadata": {},
   "outputs": [
    {
     "data": {
      "application/vnd.jupyter.widget-view+json": {
       "model_id": "d1e573ae73e54aa4af40f605e22d3970",
       "version_major": 2,
       "version_minor": 0
      },
      "text/plain": [
       "VBox(children=(HTML(value='<center> <img\\nsrc=https://huggingface.co/front/assets/huggingface_logo-noborder.sv…"
      ]
     },
     "metadata": {},
     "output_type": "display_data"
    }
   ],
   "source": [
    "login()\n"
   ]
  },
  {
   "cell_type": "code",
   "execution_count": 215,
   "metadata": {},
   "outputs": [
    {
     "data": {
      "application/vnd.jupyter.widget-view+json": {
       "model_id": "77ce040e32504d3dbaf97486c3cc2958",
       "version_major": 2,
       "version_minor": 0
      },
      "text/plain": [
       "Downloading readme:   0%|          | 0.00/21.0 [00:00<?, ?B/s]"
      ]
     },
     "metadata": {},
     "output_type": "display_data"
    },
    {
     "data": {
      "application/vnd.jupyter.widget-view+json": {
       "model_id": "337d4f1b82de4c9399a29c9bdaa69884",
       "version_major": 2,
       "version_minor": 0
      },
      "text/plain": [
       "Downloading data files:   0%|          | 0/2 [00:00<?, ?it/s]"
      ]
     },
     "metadata": {},
     "output_type": "display_data"
    },
    {
     "data": {
      "application/vnd.jupyter.widget-view+json": {
       "model_id": "282a3c7ab1754ede89e248da712cd3d6",
       "version_major": 2,
       "version_minor": 0
      },
      "text/plain": [
       "Downloading data:   0%|          | 0.00/578k [00:00<?, ?B/s]"
      ]
     },
     "metadata": {},
     "output_type": "display_data"
    },
    {
     "data": {
      "application/vnd.jupyter.widget-view+json": {
       "model_id": "9e538f2f73dd414a8c9fd07f2bed3515",
       "version_major": 2,
       "version_minor": 0
      },
      "text/plain": [
       "Downloading data:   0%|          | 0.00/181k [00:00<?, ?B/s]"
      ]
     },
     "metadata": {},
     "output_type": "display_data"
    },
    {
     "data": {
      "application/vnd.jupyter.widget-view+json": {
       "model_id": "b1a849ebaeb24785b7130b6882a3c396",
       "version_major": 2,
       "version_minor": 0
      },
      "text/plain": [
       "Extracting data files:   0%|          | 0/2 [00:00<?, ?it/s]"
      ]
     },
     "metadata": {},
     "output_type": "display_data"
    },
    {
     "data": {
      "application/vnd.jupyter.widget-view+json": {
       "model_id": "b1e415bf05f24602a563f611b5d8f63a",
       "version_major": 2,
       "version_minor": 0
      },
      "text/plain": [
       "Generating train split: 0 examples [00:00, ? examples/s]"
      ]
     },
     "metadata": {},
     "output_type": "display_data"
    },
    {
     "data": {
      "application/vnd.jupyter.widget-view+json": {
       "model_id": "6ca4dc88922e49c4bc9c1cc78794367a",
       "version_major": 2,
       "version_minor": 0
      },
      "text/plain": [
       "Generating test split: 0 examples [00:00, ? examples/s]"
      ]
     },
     "metadata": {},
     "output_type": "display_data"
    },
    {
     "data": {
      "text/plain": [
       "DatasetDict({\n",
       "    train: Dataset({\n",
       "        features: ['ticker', 'disease', 'stage', 'date', 'catalyst', 'label'],\n",
       "        num_rows: 3128\n",
       "    })\n",
       "    test: Dataset({\n",
       "        features: ['ticker', 'disease', 'stage', 'date', 'catalyst', 'label'],\n",
       "        num_rows: 783\n",
       "    })\n",
       "})"
      ]
     },
     "execution_count": 215,
     "metadata": {},
     "output_type": "execute_result"
    }
   ],
   "source": [
    "dataset = load_dataset(\"roymgabriel/BioPharma\")\n",
    "dataset\n"
   ]
  },
  {
   "cell_type": "code",
   "execution_count": 216,
   "metadata": {},
   "outputs": [
    {
     "name": "stdout",
     "output_type": "stream",
     "text": [
      "Successfully logged out.\n"
     ]
    }
   ],
   "source": [
    "logout()\n"
   ]
  },
  {
   "cell_type": "code",
   "execution_count": null,
   "metadata": {},
   "outputs": [],
   "source": []
  }
 ],
 "metadata": {
  "kernelspec": {
   "display_name": "fantasy",
   "language": "python",
   "name": "python3"
  },
  "language_info": {
   "codemirror_mode": {
    "name": "ipython",
    "version": 3
   },
   "file_extension": ".py",
   "mimetype": "text/x-python",
   "name": "python",
   "nbconvert_exporter": "python",
   "pygments_lexer": "ipython3",
   "version": "3.12.0"
  }
 },
 "nbformat": 4,
 "nbformat_minor": 2
}
