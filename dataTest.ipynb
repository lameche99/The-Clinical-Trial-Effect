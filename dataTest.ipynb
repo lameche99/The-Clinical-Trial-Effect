{
 "cells": [
  {
   "cell_type": "code",
   "execution_count": 7,
   "metadata": {},
   "outputs": [],
   "source": [
    "import pandas as pd\n",
    "import numpy as np\n",
    "import sqlite3\n",
    "from huggingface_hub import login, logout\n",
    "from datasets import load_dataset\n",
    "from nltk.corpus import stopwords\n",
    "import warnings\n",
    "warnings.filterwarnings('ignore')\n",
    "from transformers import AutoTokenizer, AutoModelForSequenceClassification, pipeline\n",
    "from sentence_transformers import SentenceTransformer\n",
    "from util.util_data import special_encode, makeRegex\n",
    "from util.util_kwrds import class_keywords, extract_keywords\n",
    "import torch\n",
    "import logging\n",
    "logging.getLogger(\"pytorch_pretrained_bert.tokenization\").setLevel(logging.ERROR)"
   ]
  },
  {
   "cell_type": "markdown",
   "metadata": {},
   "source": [
    "# **1. Clinical Trial Announcements**"
   ]
  },
  {
   "cell_type": "code",
   "execution_count": 5,
   "metadata": {},
   "outputs": [
    {
     "data": {
      "text/html": [
       "<div>\n",
       "<style scoped>\n",
       "    .dataframe tbody tr th:only-of-type {\n",
       "        vertical-align: middle;\n",
       "    }\n",
       "\n",
       "    .dataframe tbody tr th {\n",
       "        vertical-align: top;\n",
       "    }\n",
       "\n",
       "    .dataframe thead th {\n",
       "        text-align: right;\n",
       "    }\n",
       "</style>\n",
       "<table border=\"1\" class=\"dataframe\">\n",
       "  <thead>\n",
       "    <tr style=\"text-align: right;\">\n",
       "      <th></th>\n",
       "      <th>ticker</th>\n",
       "      <th>disease</th>\n",
       "      <th>stage</th>\n",
       "      <th>date</th>\n",
       "      <th>catalyst</th>\n",
       "    </tr>\n",
       "  </thead>\n",
       "  <tbody>\n",
       "    <tr>\n",
       "      <th>0</th>\n",
       "      <td>SNSE</td>\n",
       "      <td>Various cancers</td>\n",
       "      <td>Phase 1</td>\n",
       "      <td>2023-11-04 00:00:00</td>\n",
       "      <td>Phase 1 safety data reported that a total of 1...</td>\n",
       "    </tr>\n",
       "    <tr>\n",
       "      <th>1</th>\n",
       "      <td>REGN</td>\n",
       "      <td>Various cancers</td>\n",
       "      <td>Phase 1</td>\n",
       "      <td>2023-11-04 00:00:00</td>\n",
       "      <td>Phase 1 safety data reported that a total of 1...</td>\n",
       "    </tr>\n",
       "    <tr>\n",
       "      <th>2</th>\n",
       "      <td>AUPH</td>\n",
       "      <td>Lupus Nephritis</td>\n",
       "      <td>Phase 3</td>\n",
       "      <td>2023-11-03 00:00:00</td>\n",
       "      <td>Phase 3 data from ASN reported that treated pa...</td>\n",
       "    </tr>\n",
       "    <tr>\n",
       "      <th>3</th>\n",
       "      <td>IPHA</td>\n",
       "      <td>Mycosis Fungoides</td>\n",
       "      <td>Phase 2</td>\n",
       "      <td>2023-11-03 00:00:00</td>\n",
       "      <td>Phase 2 data from ASH abstract reported that t...</td>\n",
       "    </tr>\n",
       "    <tr>\n",
       "      <th>4</th>\n",
       "      <td>HOWL</td>\n",
       "      <td>Solid Tumors</td>\n",
       "      <td>Phase 1b</td>\n",
       "      <td>2023-11-03 00:00:00</td>\n",
       "      <td>Phase 1/1b preliminary data provided compellin...</td>\n",
       "    </tr>\n",
       "  </tbody>\n",
       "</table>\n",
       "</div>"
      ],
      "text/plain": [
       "  ticker            disease     stage                 date  \\\n",
       "0   SNSE    Various cancers   Phase 1  2023-11-04 00:00:00   \n",
       "1   REGN    Various cancers   Phase 1  2023-11-04 00:00:00   \n",
       "2   AUPH    Lupus Nephritis   Phase 3  2023-11-03 00:00:00   \n",
       "3   IPHA  Mycosis Fungoides   Phase 2  2023-11-03 00:00:00   \n",
       "4   HOWL       Solid Tumors  Phase 1b  2023-11-03 00:00:00   \n",
       "\n",
       "                                            catalyst  \n",
       "0  Phase 1 safety data reported that a total of 1...  \n",
       "1  Phase 1 safety data reported that a total of 1...  \n",
       "2  Phase 3 data from ASN reported that treated pa...  \n",
       "3  Phase 2 data from ASH abstract reported that t...  \n",
       "4  Phase 1/1b preliminary data provided compellin...  "
      ]
     },
     "execution_count": 5,
     "metadata": {},
     "output_type": "execute_result"
    }
   ],
   "source": [
    "engine = sqlite3.connect('./src/data.db')\n",
    "catalyst = pd.read_sql('SELECT * FROM catalysts', engine)\n",
    "catalyst.head()"
   ]
  },
  {
   "cell_type": "code",
   "execution_count": null,
   "metadata": {},
   "outputs": [],
   "source": [
    "catalyst['stage'].value_counts().plot(kind='barh')"
   ]
  },
  {
   "cell_type": "markdown",
   "metadata": {},
   "source": [
    "## **1.1 Initial Rule-Based Labeling**"
   ]
  },
  {
   "cell_type": "code",
   "execution_count": null,
   "metadata": {},
   "outputs": [],
   "source": [
    "dove = makeRegex([\"approv\", \"meet\", \"show\", \"reach\"])\n",
    "hawk = makeRegex([\"halt\", \"fail\", \"no diff\"]) +\\\n",
    "    makeRegex(dove, neg=True)\n",
    "labs_init = catalyst['catalyst'].apply(special_encode,\n",
    "                                       bull_words=dove,\n",
    "                                       bear_words=hawk)"
   ]
  },
  {
   "cell_type": "code",
   "execution_count": null,
   "metadata": {},
   "outputs": [],
   "source": [
    "labs_init.value_counts().plot(kind='barh')"
   ]
  },
  {
   "cell_type": "markdown",
   "metadata": {},
   "source": [
    "## **1.2 Keyword Generation with BioBERT**"
   ]
  },
  {
   "cell_type": "code",
   "execution_count": null,
   "metadata": {},
   "outputs": [],
   "source": [
    "#  NOTE: change if needed\n",
    "#  \"dmis-lab/TinySapBERT-from-TinyPubMedBERT-v1.0\" BioBERT\n",
    "#  \"roberta-large-mnli\" RoBERTa Large\n",
    "filtered_words = [i for i in stopwords.words('english') if i not in  [\"no\", \"not\"]]\n",
    "model = SentenceTransformer('dmis-lab/TinySapBERT-from-TinyPubMedBERT-v1.0') # fine-tuned bioBERT\n",
    "key_words = catalyst['catalyst'].apply(extract_keywords, stop_words=filtered_words, model=model) # generate keywords"
   ]
  },
  {
   "cell_type": "code",
   "execution_count": null,
   "metadata": {},
   "outputs": [],
   "source": [
    "tokenizer = AutoTokenizer.from_pretrained(\"dmis-lab/TinySapBERT-from-TinyPubMedBERT-v1.0\")\n",
    "model = AutoModelForSequenceClassification.from_pretrained(\"dmis-lab/TinySapBERT-from-TinyPubMedBERT-v1.0\")\n",
    "classifier = pipeline('sentiment-analysis', model=model, tokenizer=tokenizer, device=torch.device('mps'), framework='pt', truncation=True)"
   ]
  },
  {
   "cell_type": "code",
   "execution_count": null,
   "metadata": {},
   "outputs": [],
   "source": [
    "type(classifier)"
   ]
  },
  {
   "cell_type": "code",
   "execution_count": null,
   "metadata": {},
   "outputs": [],
   "source": [
    "class_kwrds = class_keywords(classifier=classifier, kwrds=key_words) # sentiment analysis on generated keywords"
   ]
  },
  {
   "cell_type": "code",
   "execution_count": 169,
   "metadata": {},
   "outputs": [],
   "source": [
    "# compared outputs from BioBERT or RoBERTa to improve our keyword selection to build ground truth labels\n",
    "bull_words = [\n",
    "    \"preserv\", \"eval\", \"improv\", \"show\", \"meet\", \"met\",\\\n",
    "        \"approv\", \"present\", \"observ\", \"achiev\", \"attain\",\\\n",
    "            \"favor\", \"toler\", \"treat\", \"reduc\", \"reach\"\n",
    "            ]\n",
    "bear_words = [\"toxic\", \"halt\", \"fail\"]\n",
    "bear_words = makeRegex(bull_words, neg=True) + makeRegex(bear_words)\n",
    "bull_words = makeRegex(bull_words)\n",
    "labs_new = catalyst['catalyst'].apply(special_encode,\n",
    "                                               bull_words=bull_words,\n",
    "                                               bear_words=bear_words)"
   ]
  },
  {
   "cell_type": "code",
   "execution_count": 207,
   "metadata": {},
   "outputs": [
    {
     "data": {
      "text/plain": [
       "<Axes: ylabel='label'>"
      ]
     },
     "execution_count": 207,
     "metadata": {},
     "output_type": "execute_result"
    },
    {
     "data": {
      "image/png": "[encoded data removed]",
      "text/plain": [
       "<Figure size 640x480 with 1 Axes>"
      ]
     },
     "metadata": {},
     "output_type": "display_data"
    }
   ],
   "source": [
    "labs_new.value_counts().plot(kind='barh')"
   ]
  },
  {
   "cell_type": "markdown",
   "metadata": {},
   "source": [
    "# Archives"
   ]
  },
  {
   "cell_type": "code",
   "execution_count": 209,
   "metadata": {},
   "outputs": [
    {
     "data": {
      "text/html": [
       "<div>\n",
       "<style scoped>\n",
       "    .dataframe tbody tr th:only-of-type {\n",
       "        vertical-align: middle;\n",
       "    }\n",
       "\n",
       "    .dataframe tbody tr th {\n",
       "        vertical-align: top;\n",
       "    }\n",
       "\n",
       "    .dataframe thead th {\n",
       "        text-align: right;\n",
       "    }\n",
       "</style>\n",
       "<table border=\"1\" class=\"dataframe\">\n",
       "  <thead>\n",
       "    <tr style=\"text-align: right;\">\n",
       "      <th></th>\n",
       "      <th>ticker</th>\n",
       "      <th>disease</th>\n",
       "      <th>stage</th>\n",
       "      <th>date</th>\n",
       "      <th>catalyst</th>\n",
       "      <th>label</th>\n",
       "    </tr>\n",
       "  </thead>\n",
       "  <tbody>\n",
       "    <tr>\n",
       "      <th>0</th>\n",
       "      <td>SPPI</td>\n",
       "      <td>Non-Hodgkin’s lymphoma</td>\n",
       "      <td>Approved</td>\n",
       "      <td>2009-09-04 00:00:00</td>\n",
       "      <td>Approved September 4, 2009.</td>\n",
       "      <td>1</td>\n",
       "    </tr>\n",
       "    <tr>\n",
       "      <th>1</th>\n",
       "      <td>JAZZ</td>\n",
       "      <td>Fibromyalgia</td>\n",
       "      <td>CRL</td>\n",
       "      <td>2010-10-11 00:00:00</td>\n",
       "      <td>CRL received October 11, 2010.</td>\n",
       "      <td>0</td>\n",
       "    </tr>\n",
       "    <tr>\n",
       "      <th>2</th>\n",
       "      <td>ASRT</td>\n",
       "      <td>Postherpetic neuralgia - shingles</td>\n",
       "      <td>Approved</td>\n",
       "      <td>2011-01-28 00:00:00</td>\n",
       "      <td>Approved January 28, 2011.</td>\n",
       "      <td>1</td>\n",
       "    </tr>\n",
       "    <tr>\n",
       "      <th>3</th>\n",
       "      <td>ASRT</td>\n",
       "      <td>Colorectal cancer</td>\n",
       "      <td>Approved</td>\n",
       "      <td>2011-04-29 00:00:00</td>\n",
       "      <td>Approved April 29, 2011.</td>\n",
       "      <td>1</td>\n",
       "    </tr>\n",
       "    <tr>\n",
       "      <th>4</th>\n",
       "      <td>SPPI</td>\n",
       "      <td>Colorectal cancer</td>\n",
       "      <td>Approved</td>\n",
       "      <td>2011-04-29 00:00:00</td>\n",
       "      <td>Approved April 29, 2011.</td>\n",
       "      <td>1</td>\n",
       "    </tr>\n",
       "  </tbody>\n",
       "</table>\n",
       "</div>"
      ],
      "text/plain": [
       "  ticker                            disease     stage                 date  \\\n",
       "0   SPPI             Non-Hodgkin’s lymphoma  Approved  2009-09-04 00:00:00   \n",
       "1   JAZZ                       Fibromyalgia       CRL  2010-10-11 00:00:00   \n",
       "2   ASRT  Postherpetic neuralgia - shingles  Approved  2011-01-28 00:00:00   \n",
       "3   ASRT                  Colorectal cancer  Approved  2011-04-29 00:00:00   \n",
       "4   SPPI                  Colorectal cancer  Approved  2011-04-29 00:00:00   \n",
       "\n",
       "                         catalyst  label  \n",
       "0     Approved September 4, 2009.      1  \n",
       "1  CRL received October 11, 2010.      0  \n",
       "2      Approved January 28, 2011.      1  \n",
       "3        Approved April 29, 2011.      1  \n",
       "4        Approved April 29, 2011.      1  "
      ]
     },
     "execution_count": 209,
     "metadata": {},
     "output_type": "execute_result"
    }
   ],
   "source": [
    "df = catalyst.copy(deep=True).sort_values(by=['date']).reset_index(drop=True)\n",
    "df.head()\n"
   ]
  },
  {
   "cell_type": "code",
   "execution_count": 210,
   "metadata": {},
   "outputs": [
    {
     "name": "stdout",
     "output_type": "stream",
     "text": [
      "(3128, 6)\n",
      "(783, 6)\n",
      "(3911, 6)\n"
     ]
    }
   ],
   "source": [
    "train_size = 0.8\n",
    "row_len = int(train_size * df.shape[0])\n",
    "train = df.iloc[:row_len, :]\n",
    "test = df.iloc[row_len:, :]\n",
    "print(train.shape)\n",
    "print(test.shape)\n",
    "print(catalyst.shape)\n"
   ]
  },
  {
   "cell_type": "code",
   "execution_count": 211,
   "metadata": {},
   "outputs": [
    {
     "data": {
      "text/html": [
       "<div>\n",
       "<style scoped>\n",
       "    .dataframe tbody tr th:only-of-type {\n",
       "        vertical-align: middle;\n",
       "    }\n",
       "\n",
       "    .dataframe tbody tr th {\n",
       "        vertical-align: top;\n",
       "    }\n",
       "\n",
       "    .dataframe thead th {\n",
       "        text-align: right;\n",
       "    }\n",
       "</style>\n",
       "<table border=\"1\" class=\"dataframe\">\n",
       "  <thead>\n",
       "    <tr style=\"text-align: right;\">\n",
       "      <th></th>\n",
       "      <th>ticker</th>\n",
       "      <th>disease</th>\n",
       "      <th>stage</th>\n",
       "      <th>date</th>\n",
       "      <th>catalyst</th>\n",
       "      <th>label</th>\n",
       "    </tr>\n",
       "  </thead>\n",
       "  <tbody>\n",
       "    <tr>\n",
       "      <th>0</th>\n",
       "      <td>SPPI</td>\n",
       "      <td>Non-Hodgkin’s lymphoma</td>\n",
       "      <td>Approved</td>\n",
       "      <td>2009-09-04 00:00:00</td>\n",
       "      <td>Approved September 4, 2009.</td>\n",
       "      <td>1</td>\n",
       "    </tr>\n",
       "    <tr>\n",
       "      <th>1</th>\n",
       "      <td>JAZZ</td>\n",
       "      <td>Fibromyalgia</td>\n",
       "      <td>CRL</td>\n",
       "      <td>2010-10-11 00:00:00</td>\n",
       "      <td>CRL received October 11, 2010.</td>\n",
       "      <td>0</td>\n",
       "    </tr>\n",
       "    <tr>\n",
       "      <th>2</th>\n",
       "      <td>ASRT</td>\n",
       "      <td>Postherpetic neuralgia - shingles</td>\n",
       "      <td>Approved</td>\n",
       "      <td>2011-01-28 00:00:00</td>\n",
       "      <td>Approved January 28, 2011.</td>\n",
       "      <td>1</td>\n",
       "    </tr>\n",
       "    <tr>\n",
       "      <th>3</th>\n",
       "      <td>ASRT</td>\n",
       "      <td>Colorectal cancer</td>\n",
       "      <td>Approved</td>\n",
       "      <td>2011-04-29 00:00:00</td>\n",
       "      <td>Approved April 29, 2011.</td>\n",
       "      <td>1</td>\n",
       "    </tr>\n",
       "    <tr>\n",
       "      <th>4</th>\n",
       "      <td>SPPI</td>\n",
       "      <td>Colorectal cancer</td>\n",
       "      <td>Approved</td>\n",
       "      <td>2011-04-29 00:00:00</td>\n",
       "      <td>Approved April 29, 2011.</td>\n",
       "      <td>1</td>\n",
       "    </tr>\n",
       "    <tr>\n",
       "      <th>...</th>\n",
       "      <td>...</td>\n",
       "      <td>...</td>\n",
       "      <td>...</td>\n",
       "      <td>...</td>\n",
       "      <td>...</td>\n",
       "      <td>...</td>\n",
       "    </tr>\n",
       "    <tr>\n",
       "      <th>3123</th>\n",
       "      <td>ALNY</td>\n",
       "      <td>Hepatitis B (HBV)</td>\n",
       "      <td>Phase 2</td>\n",
       "      <td>2023-06-24 00:00:00</td>\n",
       "      <td>Phase 2 24 or 48 weeks plus up to 48 weeks of ...</td>\n",
       "      <td>1</td>\n",
       "    </tr>\n",
       "    <tr>\n",
       "      <th>3124</th>\n",
       "      <td>RLYB</td>\n",
       "      <td>Fetal and neonatal alloimmune thrombocytopenia...</td>\n",
       "      <td>Phase 1b</td>\n",
       "      <td>2023-06-24 00:00:00</td>\n",
       "      <td>Phase 1b data presented at ISTH showed that su...</td>\n",
       "      <td>1</td>\n",
       "    </tr>\n",
       "    <tr>\n",
       "      <th>3125</th>\n",
       "      <td>VIR</td>\n",
       "      <td>Hepatitis B</td>\n",
       "      <td>Phase 1</td>\n",
       "      <td>2023-06-24 00:00:00</td>\n",
       "      <td>Phase 1 data showed that treatment has a short...</td>\n",
       "      <td>1</td>\n",
       "    </tr>\n",
       "    <tr>\n",
       "      <th>3126</th>\n",
       "      <td>TAK</td>\n",
       "      <td>Alpha-1 Liver Disease</td>\n",
       "      <td>Phase 2</td>\n",
       "      <td>2023-06-24 00:00:00</td>\n",
       "      <td>Phase 2 data presented at EASL showed that at ...</td>\n",
       "      <td>1</td>\n",
       "    </tr>\n",
       "    <tr>\n",
       "      <th>3127</th>\n",
       "      <td>ZLDPF</td>\n",
       "      <td>Obesity</td>\n",
       "      <td>Phase 1b</td>\n",
       "      <td>2023-06-24 00:00:00</td>\n",
       "      <td>Phase 1b trial data showed that after one week...</td>\n",
       "      <td>1</td>\n",
       "    </tr>\n",
       "  </tbody>\n",
       "</table>\n",
       "<p>3128 rows × 6 columns</p>\n",
       "</div>"
      ],
      "text/plain": [
       "     ticker                                            disease     stage  \\\n",
       "0      SPPI                             Non-Hodgkin’s lymphoma  Approved   \n",
       "1      JAZZ                                       Fibromyalgia       CRL   \n",
       "2      ASRT                  Postherpetic neuralgia - shingles  Approved   \n",
       "3      ASRT                                  Colorectal cancer  Approved   \n",
       "4      SPPI                                  Colorectal cancer  Approved   \n",
       "...     ...                                                ...       ...   \n",
       "3123   ALNY                                  Hepatitis B (HBV)   Phase 2   \n",
       "3124   RLYB  Fetal and neonatal alloimmune thrombocytopenia...  Phase 1b   \n",
       "3125    VIR                                        Hepatitis B   Phase 1   \n",
       "3126    TAK                              Alpha-1 Liver Disease   Phase 2   \n",
       "3127  ZLDPF                                            Obesity  Phase 1b   \n",
       "\n",
       "                     date                                           catalyst  \\\n",
       "0     2009-09-04 00:00:00                        Approved September 4, 2009.   \n",
       "1     2010-10-11 00:00:00                     CRL received October 11, 2010.   \n",
       "2     2011-01-28 00:00:00                         Approved January 28, 2011.   \n",
       "3     2011-04-29 00:00:00                           Approved April 29, 2011.   \n",
       "4     2011-04-29 00:00:00                           Approved April 29, 2011.   \n",
       "...                   ...                                                ...   \n",
       "3123  2023-06-24 00:00:00  Phase 2 24 or 48 weeks plus up to 48 weeks of ...   \n",
       "3124  2023-06-24 00:00:00  Phase 1b data presented at ISTH showed that su...   \n",
       "3125  2023-06-24 00:00:00  Phase 1 data showed that treatment has a short...   \n",
       "3126  2023-06-24 00:00:00  Phase 2 data presented at EASL showed that at ...   \n",
       "3127  2023-06-24 00:00:00  Phase 1b trial data showed that after one week...   \n",
       "\n",
       "      label  \n",
       "0         1  \n",
       "1         0  \n",
       "2         1  \n",
       "3         1  \n",
       "4         1  \n",
       "...     ...  \n",
       "3123      1  \n",
       "3124      1  \n",
       "3125      1  \n",
       "3126      1  \n",
       "3127      1  \n",
       "\n",
       "[3128 rows x 6 columns]"
      ]
     },
     "execution_count": 211,
     "metadata": {},
     "output_type": "execute_result"
    }
   ],
   "source": [
    "train\n"
   ]
  },
  {
   "cell_type": "code",
   "execution_count": 212,
   "metadata": {},
   "outputs": [],
   "source": [
    "train.to_csv(\"train.csv\", index=0)\n",
    "test.to_csv(\"test.csv\", index=0)\n",
    "catalyst.to_csv(\"catalyst.csv\", index=0)\n"
   ]
  },
  {
   "cell_type": "code",
   "execution_count": 214,
   "metadata": {},
   "outputs": [
    {
     "data": {
      "application/vnd.jupyter.widget-view+json": {
       "model_id": "d1e573ae73e54aa4af40f605e22d3970",
       "version_major": 2,
       "version_minor": 0
      },
      "text/plain": [
       "VBox(children=(HTML(value='<center> <img\\nsrc=https://huggingface.co/front/assets/huggingface_logo-noborder.sv…"
      ]
     },
     "metadata": {},
     "output_type": "display_data"
    }
   ],
   "source": [
    "login()\n"
   ]
  },
  {
   "cell_type": "code",
   "execution_count": 215,
   "metadata": {},
   "outputs": [
    {
     "data": {
      "application/vnd.jupyter.widget-view+json": {
       "model_id": "77ce040e32504d3dbaf97486c3cc2958",
       "version_major": 2,
       "version_minor": 0
      },
      "text/plain": [
       "Downloading readme:   0%|          | 0.00/21.0 [00:00<?, ?B/s]"
      ]
     },
     "metadata": {},
     "output_type": "display_data"
    },
    {
     "data": {
      "application/vnd.jupyter.widget-view+json": {
       "model_id": "337d4f1b82de4c9399a29c9bdaa69884",
       "version_major": 2,
       "version_minor": 0
      },
      "text/plain": [
       "Downloading data files:   0%|          | 0/2 [00:00<?, ?it/s]"
      ]
     },
     "metadata": {},
     "output_type": "display_data"
    },
    {
     "data": {
      "application/vnd.jupyter.widget-view+json": {
       "model_id": "282a3c7ab1754ede89e248da712cd3d6",
       "version_major": 2,
       "version_minor": 0
      },
      "text/plain": [
       "Downloading data:   0%|          | 0.00/578k [00:00<?, ?B/s]"
      ]
     },
     "metadata": {},
     "output_type": "display_data"
    },
    {
     "data": {
      "application/vnd.jupyter.widget-view+json": {
       "model_id": "9e538f2f73dd414a8c9fd07f2bed3515",
       "version_major": 2,
       "version_minor": 0
      },
      "text/plain": [
       "Downloading data:   0%|          | 0.00/181k [00:00<?, ?B/s]"
      ]
     },
     "metadata": {},
     "output_type": "display_data"
    },
    {
     "data": {
      "application/vnd.jupyter.widget-view+json": {
       "model_id": "b1a849ebaeb24785b7130b6882a3c396",
       "version_major": 2,
       "version_minor": 0
      },
      "text/plain": [
       "Extracting data files:   0%|          | 0/2 [00:00<?, ?it/s]"
      ]
     },
     "metadata": {},
     "output_type": "display_data"
    },
    {
     "data": {
      "application/vnd.jupyter.widget-view+json": {
       "model_id": "b1e415bf05f24602a563f611b5d8f63a",
       "version_major": 2,
       "version_minor": 0
      },
      "text/plain": [
       "Generating train split: 0 examples [00:00, ? examples/s]"
      ]
     },
     "metadata": {},
     "output_type": "display_data"
    },
    {
     "data": {
      "application/vnd.jupyter.widget-view+json": {
       "model_id": "6ca4dc88922e49c4bc9c1cc78794367a",
       "version_major": 2,
       "version_minor": 0
      },
      "text/plain": [
       "Generating test split: 0 examples [00:00, ? examples/s]"
      ]
     },
     "metadata": {},
     "output_type": "display_data"
    },
    {
     "data": {
      "text/plain": [
       "DatasetDict({\n",
       "    train: Dataset({\n",
       "        features: ['ticker', 'disease', 'stage', 'date', 'catalyst', 'label'],\n",
       "        num_rows: 3128\n",
       "    })\n",
       "    test: Dataset({\n",
       "        features: ['ticker', 'disease', 'stage', 'date', 'catalyst', 'label'],\n",
       "        num_rows: 783\n",
       "    })\n",
       "})"
      ]
     },
     "execution_count": 215,
     "metadata": {},
     "output_type": "execute_result"
    }
   ],
   "source": [
    "dataset = load_dataset(\"roymgabriel/BioPharma\")\n",
    "dataset\n"
   ]
  },
  {
   "cell_type": "code",
   "execution_count": 216,
   "metadata": {},
   "outputs": [
    {
     "name": "stdout",
     "output_type": "stream",
     "text": [
      "Successfully logged out.\n"
     ]
    }
   ],
   "source": [
    "logout()\n"
   ]
  },
  {
   "cell_type": "code",
   "execution_count": null,
   "metadata": {},
   "outputs": [],
   "source": []
  }
 ],
 "metadata": {
  "kernelspec": {
   "display_name": "fantasy",
   "language": "python",
   "name": "python3"
  },
  "language_info": {
   "codemirror_mode": {
    "name": "ipython",
    "version": 3
   },
   "file_extension": ".py",
   "mimetype": "text/x-python",
   "name": "python",
   "nbconvert_exporter": "python",
   "pygments_lexer": "ipython3",
   "version": "3.10.13"
  }
 },
 "nbformat": 4,
 "nbformat_minor": 2
}
