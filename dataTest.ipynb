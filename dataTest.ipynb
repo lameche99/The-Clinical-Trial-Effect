{
 "cells": [
  {
   "cell_type": "code",
   "execution_count": 1,
   "metadata": {},
   "outputs": [],
   "source": [
    "import pandas as pd\n",
    "import numpy as np\n",
    "import sqlite3"
   ]
  },
  {
   "cell_type": "code",
   "execution_count": 2,
   "metadata": {},
   "outputs": [],
   "source": [
    "engine = sqlite3.connect('./src/data.db')\n",
    "catalyst = pd.read_sql('SELECT * FROM catalysts', engine)"
   ]
  },
  {
   "cell_type": "code",
   "execution_count": 6,
   "metadata": {},
   "outputs": [
    {
     "data": {
      "text/html": [
       "<div>\n",
       "<style scoped>\n",
       "    .dataframe tbody tr th:only-of-type {\n",
       "        vertical-align: middle;\n",
       "    }\n",
       "\n",
       "    .dataframe tbody tr th {\n",
       "        vertical-align: top;\n",
       "    }\n",
       "\n",
       "    .dataframe thead th {\n",
       "        text-align: right;\n",
       "    }\n",
       "</style>\n",
       "<table border=\"1\" class=\"dataframe\">\n",
       "  <thead>\n",
       "    <tr style=\"text-align: right;\">\n",
       "      <th></th>\n",
       "      <th>ticker</th>\n",
       "      <th>disease</th>\n",
       "      <th>stage</th>\n",
       "      <th>date</th>\n",
       "      <th>catalyst</th>\n",
       "    </tr>\n",
       "  </thead>\n",
       "  <tbody>\n",
       "    <tr>\n",
       "      <th>0</th>\n",
       "      <td>SPPI</td>\n",
       "      <td>Non-Hodgkin’s lymphoma</td>\n",
       "      <td>Approved</td>\n",
       "      <td>2009-09-04 00:00:00</td>\n",
       "      <td>Approved September 4, 2009.</td>\n",
       "    </tr>\n",
       "    <tr>\n",
       "      <th>1</th>\n",
       "      <td>JAZZ</td>\n",
       "      <td>Fibromyalgia</td>\n",
       "      <td>CRL</td>\n",
       "      <td>2010-10-11 00:00:00</td>\n",
       "      <td>CRL received October 11, 2010.</td>\n",
       "    </tr>\n",
       "    <tr>\n",
       "      <th>2</th>\n",
       "      <td>ASRT</td>\n",
       "      <td>Postherpetic neuralgia - shingles</td>\n",
       "      <td>Approved</td>\n",
       "      <td>2011-01-28 00:00:00</td>\n",
       "      <td>Approved January 28, 2011.</td>\n",
       "    </tr>\n",
       "    <tr>\n",
       "      <th>3</th>\n",
       "      <td>ASRT</td>\n",
       "      <td>Colorectal cancer</td>\n",
       "      <td>Approved</td>\n",
       "      <td>2011-04-29 00:00:00</td>\n",
       "      <td>Approved April 29, 2011.</td>\n",
       "    </tr>\n",
       "    <tr>\n",
       "      <th>4</th>\n",
       "      <td>SPPI</td>\n",
       "      <td>Colorectal cancer</td>\n",
       "      <td>Approved</td>\n",
       "      <td>2011-04-29 00:00:00</td>\n",
       "      <td>Approved April 29, 2011.</td>\n",
       "    </tr>\n",
       "    <tr>\n",
       "      <th>...</th>\n",
       "      <td>...</td>\n",
       "      <td>...</td>\n",
       "      <td>...</td>\n",
       "      <td>...</td>\n",
       "      <td>...</td>\n",
       "    </tr>\n",
       "    <tr>\n",
       "      <th>3910</th>\n",
       "      <td>AZN</td>\n",
       "      <td>Chronic Kidney Disease (CKD)</td>\n",
       "      <td>Phase 2b</td>\n",
       "      <td>2023-11-03 00:00:00</td>\n",
       "      <td>Phase 2b showed statistically significant and ...</td>\n",
       "    </tr>\n",
       "    <tr>\n",
       "      <th>3911</th>\n",
       "      <td>MOLN</td>\n",
       "      <td>Solid Tumors</td>\n",
       "      <td>Phase 1</td>\n",
       "      <td>2023-11-03 00:00:00</td>\n",
       "      <td>Phase 1 data presented at SITC continues to de...</td>\n",
       "    </tr>\n",
       "    <tr>\n",
       "      <th>3912</th>\n",
       "      <td>INKT</td>\n",
       "      <td>Solid Tumors</td>\n",
       "      <td>Phase 1</td>\n",
       "      <td>2023-11-03 00:00:00</td>\n",
       "      <td>Phase 1 trial of agenT-797 alone or in combina...</td>\n",
       "    </tr>\n",
       "    <tr>\n",
       "      <th>3913</th>\n",
       "      <td>REGN</td>\n",
       "      <td>Various cancers</td>\n",
       "      <td>Phase 1</td>\n",
       "      <td>2023-11-04 00:00:00</td>\n",
       "      <td>Phase 1 safety data reported that a total of 1...</td>\n",
       "    </tr>\n",
       "    <tr>\n",
       "      <th>3914</th>\n",
       "      <td>SNSE</td>\n",
       "      <td>Various cancers</td>\n",
       "      <td>Phase 1</td>\n",
       "      <td>2023-11-04 00:00:00</td>\n",
       "      <td>Phase 1 safety data reported that a total of 1...</td>\n",
       "    </tr>\n",
       "  </tbody>\n",
       "</table>\n",
       "<p>3915 rows × 5 columns</p>\n",
       "</div>"
      ],
      "text/plain": [
       "     ticker                            disease     stage                 date  \\\n",
       "0      SPPI             Non-Hodgkin’s lymphoma  Approved  2009-09-04 00:00:00   \n",
       "1      JAZZ                       Fibromyalgia       CRL  2010-10-11 00:00:00   \n",
       "2      ASRT  Postherpetic neuralgia - shingles  Approved  2011-01-28 00:00:00   \n",
       "3      ASRT                  Colorectal cancer  Approved  2011-04-29 00:00:00   \n",
       "4      SPPI                  Colorectal cancer  Approved  2011-04-29 00:00:00   \n",
       "...     ...                                ...       ...                  ...   \n",
       "3910    AZN       Chronic Kidney Disease (CKD)  Phase 2b  2023-11-03 00:00:00   \n",
       "3911   MOLN                       Solid Tumors   Phase 1  2023-11-03 00:00:00   \n",
       "3912   INKT                       Solid Tumors   Phase 1  2023-11-03 00:00:00   \n",
       "3913   REGN                    Various cancers   Phase 1  2023-11-04 00:00:00   \n",
       "3914   SNSE                    Various cancers   Phase 1  2023-11-04 00:00:00   \n",
       "\n",
       "                                               catalyst  \n",
       "0                           Approved September 4, 2009.  \n",
       "1                        CRL received October 11, 2010.  \n",
       "2                            Approved January 28, 2011.  \n",
       "3                              Approved April 29, 2011.  \n",
       "4                              Approved April 29, 2011.  \n",
       "...                                                 ...  \n",
       "3910  Phase 2b showed statistically significant and ...  \n",
       "3911  Phase 1 data presented at SITC continues to de...  \n",
       "3912  Phase 1 trial of agenT-797 alone or in combina...  \n",
       "3913  Phase 1 safety data reported that a total of 1...  \n",
       "3914  Phase 1 safety data reported that a total of 1...  \n",
       "\n",
       "[3915 rows x 5 columns]"
      ]
     },
     "execution_count": 6,
     "metadata": {},
     "output_type": "execute_result"
    }
   ],
   "source": [
    "catalyst = catalyst.sort_values(by=['date']).reset_index(drop=True)\n",
    "catalyst"
   ]
  },
  {
   "cell_type": "code",
   "execution_count": 7,
   "metadata": {},
   "outputs": [
    {
     "name": "stdout",
     "output_type": "stream",
     "text": [
      "(3132, 5)\n",
      "(783, 5)\n",
      "(3915, 5)\n"
     ]
    }
   ],
   "source": [
    "train_size = 0.8\n",
    "row_len = int(train_size * catalyst.shape[0])\n",
    "train = catalyst.iloc[:row_len, :]\n",
    "test = catalyst.iloc[row_len:, :]\n",
    "print(train.shape)\n",
    "print(test.shape)\n",
    "print(catalyst.shape)"
   ]
  },
  {
   "cell_type": "code",
   "execution_count": 8,
   "metadata": {},
   "outputs": [
    {
     "data": {
      "text/html": [
       "<div>\n",
       "<style scoped>\n",
       "    .dataframe tbody tr th:only-of-type {\n",
       "        vertical-align: middle;\n",
       "    }\n",
       "\n",
       "    .dataframe tbody tr th {\n",
       "        vertical-align: top;\n",
       "    }\n",
       "\n",
       "    .dataframe thead th {\n",
       "        text-align: right;\n",
       "    }\n",
       "</style>\n",
       "<table border=\"1\" class=\"dataframe\">\n",
       "  <thead>\n",
       "    <tr style=\"text-align: right;\">\n",
       "      <th></th>\n",
       "      <th>ticker</th>\n",
       "      <th>disease</th>\n",
       "      <th>stage</th>\n",
       "      <th>date</th>\n",
       "      <th>catalyst</th>\n",
       "    </tr>\n",
       "  </thead>\n",
       "  <tbody>\n",
       "    <tr>\n",
       "      <th>0</th>\n",
       "      <td>SPPI</td>\n",
       "      <td>Non-Hodgkin’s lymphoma</td>\n",
       "      <td>Approved</td>\n",
       "      <td>2009-09-04 00:00:00</td>\n",
       "      <td>Approved September 4, 2009.</td>\n",
       "    </tr>\n",
       "    <tr>\n",
       "      <th>1</th>\n",
       "      <td>JAZZ</td>\n",
       "      <td>Fibromyalgia</td>\n",
       "      <td>CRL</td>\n",
       "      <td>2010-10-11 00:00:00</td>\n",
       "      <td>CRL received October 11, 2010.</td>\n",
       "    </tr>\n",
       "    <tr>\n",
       "      <th>2</th>\n",
       "      <td>ASRT</td>\n",
       "      <td>Postherpetic neuralgia - shingles</td>\n",
       "      <td>Approved</td>\n",
       "      <td>2011-01-28 00:00:00</td>\n",
       "      <td>Approved January 28, 2011.</td>\n",
       "    </tr>\n",
       "    <tr>\n",
       "      <th>3</th>\n",
       "      <td>ASRT</td>\n",
       "      <td>Colorectal cancer</td>\n",
       "      <td>Approved</td>\n",
       "      <td>2011-04-29 00:00:00</td>\n",
       "      <td>Approved April 29, 2011.</td>\n",
       "    </tr>\n",
       "    <tr>\n",
       "      <th>4</th>\n",
       "      <td>SPPI</td>\n",
       "      <td>Colorectal cancer</td>\n",
       "      <td>Approved</td>\n",
       "      <td>2011-04-29 00:00:00</td>\n",
       "      <td>Approved April 29, 2011.</td>\n",
       "    </tr>\n",
       "  </tbody>\n",
       "</table>\n",
       "</div>"
      ],
      "text/plain": [
       "  ticker                            disease     stage                 date  \\\n",
       "0   SPPI             Non-Hodgkin’s lymphoma  Approved  2009-09-04 00:00:00   \n",
       "1   JAZZ                       Fibromyalgia       CRL  2010-10-11 00:00:00   \n",
       "2   ASRT  Postherpetic neuralgia - shingles  Approved  2011-01-28 00:00:00   \n",
       "3   ASRT                  Colorectal cancer  Approved  2011-04-29 00:00:00   \n",
       "4   SPPI                  Colorectal cancer  Approved  2011-04-29 00:00:00   \n",
       "\n",
       "                         catalyst  \n",
       "0     Approved September 4, 2009.  \n",
       "1  CRL received October 11, 2010.  \n",
       "2      Approved January 28, 2011.  \n",
       "3        Approved April 29, 2011.  \n",
       "4        Approved April 29, 2011.  "
      ]
     },
     "execution_count": 8,
     "metadata": {},
     "output_type": "execute_result"
    }
   ],
   "source": [
    "train.head()"
   ]
  },
  {
   "cell_type": "code",
   "execution_count": 9,
   "metadata": {},
   "outputs": [
    {
     "data": {
      "text/html": [
       "<div>\n",
       "<style scoped>\n",
       "    .dataframe tbody tr th:only-of-type {\n",
       "        vertical-align: middle;\n",
       "    }\n",
       "\n",
       "    .dataframe tbody tr th {\n",
       "        vertical-align: top;\n",
       "    }\n",
       "\n",
       "    .dataframe thead th {\n",
       "        text-align: right;\n",
       "    }\n",
       "</style>\n",
       "<table border=\"1\" class=\"dataframe\">\n",
       "  <thead>\n",
       "    <tr style=\"text-align: right;\">\n",
       "      <th></th>\n",
       "      <th>ticker</th>\n",
       "      <th>disease</th>\n",
       "      <th>stage</th>\n",
       "      <th>date</th>\n",
       "      <th>catalyst</th>\n",
       "    </tr>\n",
       "  </thead>\n",
       "  <tbody>\n",
       "    <tr>\n",
       "      <th>3132</th>\n",
       "      <td>LLY</td>\n",
       "      <td>Obesity</td>\n",
       "      <td>Phase 3</td>\n",
       "      <td>2023-06-24 00:00:00</td>\n",
       "      <td>Phase 3 efficacy and safety data shared at ADA...</td>\n",
       "    </tr>\n",
       "    <tr>\n",
       "      <th>3133</th>\n",
       "      <td>EWTX</td>\n",
       "      <td>Becker muscular dystrophy (BMD)</td>\n",
       "      <td>Phase 1b</td>\n",
       "      <td>2023-06-26 00:00:00</td>\n",
       "      <td>Phase 1b 12-month study supported the hypothes...</td>\n",
       "    </tr>\n",
       "    <tr>\n",
       "      <th>3134</th>\n",
       "      <td>TERN</td>\n",
       "      <td>Obesity</td>\n",
       "      <td>Phase 1a</td>\n",
       "      <td>2023-06-26 00:00:00</td>\n",
       "      <td>Preclinical data demonstrated the ability of T...</td>\n",
       "    </tr>\n",
       "    <tr>\n",
       "      <th>3135</th>\n",
       "      <td>LLY</td>\n",
       "      <td>Obesity</td>\n",
       "      <td>Phase 2</td>\n",
       "      <td>2023-06-26 00:00:00</td>\n",
       "      <td>Phase 2 24-week data met the primary endpoint ...</td>\n",
       "    </tr>\n",
       "    <tr>\n",
       "      <th>3136</th>\n",
       "      <td>ACET</td>\n",
       "      <td>Non-Hodgkin’s lymphoma</td>\n",
       "      <td>Phase 1</td>\n",
       "      <td>2023-06-26 00:00:00</td>\n",
       "      <td>Phase 1 safety and efficacy data demonstrated ...</td>\n",
       "    </tr>\n",
       "  </tbody>\n",
       "</table>\n",
       "</div>"
      ],
      "text/plain": [
       "     ticker                          disease     stage                 date  \\\n",
       "3132    LLY                          Obesity   Phase 3  2023-06-24 00:00:00   \n",
       "3133   EWTX  Becker muscular dystrophy (BMD)  Phase 1b  2023-06-26 00:00:00   \n",
       "3134   TERN                          Obesity  Phase 1a  2023-06-26 00:00:00   \n",
       "3135    LLY                          Obesity   Phase 2  2023-06-26 00:00:00   \n",
       "3136   ACET           Non-Hodgkin’s lymphoma   Phase 1  2023-06-26 00:00:00   \n",
       "\n",
       "                                               catalyst  \n",
       "3132  Phase 3 efficacy and safety data shared at ADA...  \n",
       "3133  Phase 1b 12-month study supported the hypothes...  \n",
       "3134  Preclinical data demonstrated the ability of T...  \n",
       "3135  Phase 2 24-week data met the primary endpoint ...  \n",
       "3136  Phase 1 safety and efficacy data demonstrated ...  "
      ]
     },
     "execution_count": 9,
     "metadata": {},
     "output_type": "execute_result"
    }
   ],
   "source": [
    "test.head()"
   ]
  },
  {
   "cell_type": "code",
   "execution_count": 26,
   "metadata": {},
   "outputs": [],
   "source": [
    "train.to_csv(\"train.csv\", index=0)\n",
    "test.to_csv(\"test.csv\", index=0)\n",
    "catalyst.to_csv(\"catalyst.csv\", index=0)"
   ]
  },
  {
   "cell_type": "code",
   "execution_count": 13,
   "metadata": {},
   "outputs": [],
   "source": [
    "from huggingface_hub import login, logout"
   ]
  },
  {
   "cell_type": "code",
   "execution_count": 14,
   "metadata": {},
   "outputs": [
    {
     "data": {
      "application/vnd.jupyter.widget-view+json": {
       "model_id": "6756ae87ffab49168ffbd14c07d93dcc",
       "version_major": 2,
       "version_minor": 0
      },
      "text/plain": [
       "VBox(children=(HTML(value='<center> <img\\nsrc=https://huggingface.co/front/assets/huggingface_logo-noborder.sv…"
      ]
     },
     "metadata": {},
     "output_type": "display_data"
    }
   ],
   "source": [
    "login()"
   ]
  },
  {
   "cell_type": "code",
   "execution_count": 17,
   "metadata": {},
   "outputs": [],
   "source": [
    "from datasets import load_dataset"
   ]
  },
  {
   "cell_type": "code",
   "execution_count": 27,
   "metadata": {},
   "outputs": [
    {
     "data": {
      "application/vnd.jupyter.widget-view+json": {
       "model_id": "b245b56a918547899733cbe1f6a01b1e",
       "version_major": 2,
       "version_minor": 0
      },
      "text/plain": [
       "Downloading readme:   0%|          | 0.00/21.0 [00:00<?, ?B/s]"
      ]
     },
     "metadata": {},
     "output_type": "display_data"
    },
    {
     "data": {
      "application/vnd.jupyter.widget-view+json": {
       "model_id": "d51319409bcc4a9ab1f5e64b54892c5d",
       "version_major": 2,
       "version_minor": 0
      },
      "text/plain": [
       "Downloading data files:   0%|          | 0/2 [00:00<?, ?it/s]"
      ]
     },
     "metadata": {},
     "output_type": "display_data"
    },
    {
     "data": {
      "application/vnd.jupyter.widget-view+json": {
       "model_id": "3a485d09d894455ead1521b73341c507",
       "version_major": 2,
       "version_minor": 0
      },
      "text/plain": [
       "Downloading data:   0%|          | 0.00/572k [00:00<?, ?B/s]"
      ]
     },
     "metadata": {},
     "output_type": "display_data"
    },
    {
     "data": {
      "application/vnd.jupyter.widget-view+json": {
       "model_id": "db5fc7b1fe734a32b7fda779b610fb51",
       "version_major": 2,
       "version_minor": 0
      },
      "text/plain": [
       "Downloading data:   0%|          | 0.00/180k [00:00<?, ?B/s]"
      ]
     },
     "metadata": {},
     "output_type": "display_data"
    },
    {
     "data": {
      "application/vnd.jupyter.widget-view+json": {
       "model_id": "3b4ae0fad7954e66ba7623683b3aeda3",
       "version_major": 2,
       "version_minor": 0
      },
      "text/plain": [
       "Extracting data files:   0%|          | 0/2 [00:00<?, ?it/s]"
      ]
     },
     "metadata": {},
     "output_type": "display_data"
    },
    {
     "data": {
      "application/vnd.jupyter.widget-view+json": {
       "model_id": "07f8eeca8dbf45569cadba2e31a7b890",
       "version_major": 2,
       "version_minor": 0
      },
      "text/plain": [
       "Generating train split: 0 examples [00:00, ? examples/s]"
      ]
     },
     "metadata": {},
     "output_type": "display_data"
    },
    {
     "data": {
      "application/vnd.jupyter.widget-view+json": {
       "model_id": "d964365cd39c4d0c8e97614ac16169eb",
       "version_major": 2,
       "version_minor": 0
      },
      "text/plain": [
       "Generating test split: 0 examples [00:00, ? examples/s]"
      ]
     },
     "metadata": {},
     "output_type": "display_data"
    },
    {
     "data": {
      "text/plain": [
       "DatasetDict({\n",
       "    train: Dataset({\n",
       "        features: ['ticker', 'disease', 'stage', 'date', 'catalyst'],\n",
       "        num_rows: 3132\n",
       "    })\n",
       "    test: Dataset({\n",
       "        features: ['ticker', 'disease', 'stage', 'date', 'catalyst'],\n",
       "        num_rows: 783\n",
       "    })\n",
       "})"
      ]
     },
     "execution_count": 27,
     "metadata": {},
     "output_type": "execute_result"
    }
   ],
   "source": [
    "dataset = load_dataset(\"roymgabriel/BioPharma\")\n",
    "dataset"
   ]
  },
  {
   "cell_type": "code",
   "execution_count": null,
   "metadata": {},
   "outputs": [],
   "source": []
  }
 ],
 "metadata": {
  "kernelspec": {
   "display_name": "fantasy",
   "language": "python",
   "name": "python3"
  },
  "language_info": {
   "codemirror_mode": {
    "name": "ipython",
    "version": 3
   },
   "file_extension": ".py",
   "mimetype": "text/x-python",
   "name": "python",
   "nbconvert_exporter": "python",
   "pygments_lexer": "ipython3",
   "version": "3.10.11"
  }
 },
 "nbformat": 4,
 "nbformat_minor": 2
}
