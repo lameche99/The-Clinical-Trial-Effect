{
 "cells": [
  {
   "cell_type": "code",
   "execution_count": 2,
   "metadata": {},
   "outputs": [],
   "source": [
    "import pandas as pd\n",
    "import numpy as np\n",
    "import sqlite3, os\n",
    "from huggingface_hub import login, logout\n",
    "from datasets import load_dataset\n",
    "from nltk.corpus import stopwords\n",
    "import warnings\n",
    "warnings.filterwarnings('ignore')\n",
    "from transformers import AutoTokenizer, AutoModelForSequenceClassification, pipeline\n",
    "from sklearn.model_selection import train_test_split\n",
    "from sentence_transformers import SentenceTransformer\n",
    "from util.util_data import special_encode, makeRegex, splitData\n",
    "from util.util_kwrds import class_keywords, extract_keywords\n",
    "import torch\n",
    "import logging\n",
    "logging.getLogger(\"pytorch_pretrained_bert.tokenization\").setLevel(logging.ERROR)"
   ]
  },
  {
   "cell_type": "markdown",
   "metadata": {},
   "source": [
    "# **1. Clinical Trial Announcements**"
   ]
  },
  {
   "cell_type": "code",
   "execution_count": 3,
   "metadata": {},
   "outputs": [
    {
     "data": {
      "text/html": [
       "<div>\n",
       "<style scoped>\n",
       "    .dataframe tbody tr th:only-of-type {\n",
       "        vertical-align: middle;\n",
       "    }\n",
       "\n",
       "    .dataframe tbody tr th {\n",
       "        vertical-align: top;\n",
       "    }\n",
       "\n",
       "    .dataframe thead th {\n",
       "        text-align: right;\n",
       "    }\n",
       "</style>\n",
       "<table border=\"1\" class=\"dataframe\">\n",
       "  <thead>\n",
       "    <tr style=\"text-align: right;\">\n",
       "      <th></th>\n",
       "      <th>ticker</th>\n",
       "      <th>disease</th>\n",
       "      <th>stage</th>\n",
       "      <th>date</th>\n",
       "      <th>catalyst</th>\n",
       "    </tr>\n",
       "  </thead>\n",
       "  <tbody>\n",
       "    <tr>\n",
       "      <th>0</th>\n",
       "      <td>SPPI</td>\n",
       "      <td>Non-Hodgkin’s lymphoma</td>\n",
       "      <td>Approved</td>\n",
       "      <td>2009-09-04 00:00:00</td>\n",
       "      <td>Approved September 4, 2009.</td>\n",
       "    </tr>\n",
       "    <tr>\n",
       "      <th>1</th>\n",
       "      <td>JAZZ</td>\n",
       "      <td>Fibromyalgia</td>\n",
       "      <td>CRL</td>\n",
       "      <td>2010-10-11 00:00:00</td>\n",
       "      <td>CRL received October 11, 2010.</td>\n",
       "    </tr>\n",
       "    <tr>\n",
       "      <th>2</th>\n",
       "      <td>ASRT</td>\n",
       "      <td>Postherpetic neuralgia - shingles</td>\n",
       "      <td>Approved</td>\n",
       "      <td>2011-01-28 00:00:00</td>\n",
       "      <td>Approved January 28, 2011.</td>\n",
       "    </tr>\n",
       "    <tr>\n",
       "      <th>3</th>\n",
       "      <td>ASRT</td>\n",
       "      <td>Colorectal cancer</td>\n",
       "      <td>Approved</td>\n",
       "      <td>2011-04-29 00:00:00</td>\n",
       "      <td>Approved April 29, 2011.</td>\n",
       "    </tr>\n",
       "    <tr>\n",
       "      <th>4</th>\n",
       "      <td>SPPI</td>\n",
       "      <td>Colorectal cancer</td>\n",
       "      <td>Approved</td>\n",
       "      <td>2011-04-29 00:00:00</td>\n",
       "      <td>Approved April 29, 2011.</td>\n",
       "    </tr>\n",
       "  </tbody>\n",
       "</table>\n",
       "</div>"
      ],
      "text/plain": [
       "  ticker                            disease     stage                 date  \\\n",
       "0   SPPI             Non-Hodgkin’s lymphoma  Approved  2009-09-04 00:00:00   \n",
       "1   JAZZ                       Fibromyalgia       CRL  2010-10-11 00:00:00   \n",
       "2   ASRT  Postherpetic neuralgia - shingles  Approved  2011-01-28 00:00:00   \n",
       "3   ASRT                  Colorectal cancer  Approved  2011-04-29 00:00:00   \n",
       "4   SPPI                  Colorectal cancer  Approved  2011-04-29 00:00:00   \n",
       "\n",
       "                         catalyst  \n",
       "0     Approved September 4, 2009.  \n",
       "1  CRL received October 11, 2010.  \n",
       "2      Approved January 28, 2011.  \n",
       "3        Approved April 29, 2011.  \n",
       "4        Approved April 29, 2011.  "
      ]
     },
     "execution_count": 3,
     "metadata": {},
     "output_type": "execute_result"
    }
   ],
   "source": [
    "engine = sqlite3.connect('./src/data.db')\n",
    "OUT = 'out'\n",
    "catalyst = pd.read_sql('SELECT * FROM catalysts', engine)\n",
    "catalyst.head()"
   ]
  },
  {
   "cell_type": "code",
   "execution_count": 3,
   "metadata": {},
   "outputs": [
    {
     "data": {
      "text/plain": [
       "<Axes: ylabel='stage'>"
      ]
     },
     "execution_count": 3,
     "metadata": {},
     "output_type": "execute_result"
    },
    {
     "data": {
      "image/png": "[encoded data removed]",
      "text/plain": [
       "<Figure size 640x480 with 1 Axes>"
      ]
     },
     "metadata": {},
     "output_type": "display_data"
    }
   ],
   "source": [
    "catalyst['stage'].value_counts().plot(kind='barh')"
   ]
  },
  {
   "cell_type": "markdown",
   "metadata": {},
   "source": [
    "## **1.1 Initial Rule-Based Labeling**"
   ]
  },
  {
   "cell_type": "code",
   "execution_count": 57,
   "metadata": {},
   "outputs": [],
   "source": [
    "dove = makeRegex([\"approv\", \"meet\", \"show\", \"reach\"])\n",
    "hawk = makeRegex([\"halt\", \"fail\", \"no diff\", \"stop\"]) +\\\n",
    "    makeRegex(dove, neg=True)\n",
    "labs_init = catalyst['catalyst'].apply(special_encode,\n",
    "                                       bull_words=dove,\n",
    "                                       bear_words=hawk)"
   ]
  },
  {
   "cell_type": "code",
   "execution_count": 58,
   "metadata": {},
   "outputs": [
    {
     "data": {
      "text/plain": [
       "catalyst\n",
       " 0    2087\n",
       " 1    1786\n",
       "-1      38\n",
       "Name: count, dtype: int64"
      ]
     },
     "execution_count": 58,
     "metadata": {},
     "output_type": "execute_result"
    }
   ],
   "source": [
    "labs_init.value_counts()"
   ]
  },
  {
   "cell_type": "code",
   "execution_count": 48,
   "metadata": {},
   "outputs": [
    {
     "data": {
      "text/plain": [
       "<Axes: ylabel='catalyst'>"
      ]
     },
     "execution_count": 48,
     "metadata": {},
     "output_type": "execute_result"
    },
    {
     "data": {
      "image/png": "[encoded data removed]",
      "text/plain": [
       "<Figure size 640x480 with 1 Axes>"
      ]
     },
     "metadata": {},
     "output_type": "display_data"
    }
   ],
   "source": [
    "# 1: Dovish; 0: Neutral; -1: Hawkish\n",
    "labs_init.value_counts().plot(kind='barh')"
   ]
  },
  {
   "cell_type": "markdown",
   "metadata": {},
   "source": [
    "## **1.2 Keyword Generation with BioBERT**"
   ]
  },
  {
   "cell_type": "code",
   "execution_count": 7,
   "metadata": {},
   "outputs": [
    {
     "name": "stderr",
     "output_type": "stream",
     "text": [
      "No sentence-transformers model found with name /Users/MicheleOrlandi/.cache/torch/sentence_transformers/dmis-lab_TinySapBERT-from-TinyPubMedBERT-v1.0. Creating a new one with MEAN pooling.\n"
     ]
    }
   ],
   "source": [
    "#  NOTE: change if needed\n",
    "#  \"dmis-lab/TinySapBERT-from-TinyPubMedBERT-v1.0\" BioBERT\n",
    "#  \"roberta-large-mnli\" RoBERTa Large\n",
    "filtered_words = [i for i in stopwords.words('english') if i not in  [\"no\", \"not\"]]\n",
    "model = SentenceTransformer('dmis-lab/TinySapBERT-from-TinyPubMedBERT-v1.0') # fine-tuned bioBERT\n",
    "key_words = catalyst['catalyst'].apply(extract_keywords, stop_words=filtered_words, model=model) # generate keywords\n",
    "tokenizer = AutoTokenizer.from_pretrained(\"dmis-lab/TinySapBERT-from-TinyPubMedBERT-v1.0\") # tokenizer\n",
    "model = AutoModelForSequenceClassification.from_pretrained(\"dmis-lab/TinySapBERT-from-TinyPubMedBERT-v1.0\") # classifier\n",
    "classifier = pipeline('sentiment-analysis', model=model, tokenizer=tokenizer, device=torch.device('cpu'), framework='pt', truncation=True)"
   ]
  },
  {
   "cell_type": "code",
   "execution_count": 10,
   "metadata": {},
   "outputs": [
    {
     "name": "stderr",
     "output_type": "stream",
     "text": [
      "Asking to truncate to max_length but no maximum length is provided and the model has no predefined maximum length. Default to no truncation.\n"
     ]
    }
   ],
   "source": [
    "class_kwrds = class_keywords(classifier=classifier, kwrds=key_words) # sentiment analysis on generated keywords"
   ]
  },
  {
   "cell_type": "code",
   "execution_count": 29,
   "metadata": {},
   "outputs": [
    {
     "data": {
      "text/html": [
       "<div>\n",
       "<style scoped>\n",
       "    .dataframe tbody tr th:only-of-type {\n",
       "        vertical-align: middle;\n",
       "    }\n",
       "\n",
       "    .dataframe tbody tr th {\n",
       "        vertical-align: top;\n",
       "    }\n",
       "\n",
       "    .dataframe thead th {\n",
       "        text-align: right;\n",
       "    }\n",
       "</style>\n",
       "<table border=\"1\" class=\"dataframe\">\n",
       "  <thead>\n",
       "    <tr style=\"text-align: right;\">\n",
       "      <th></th>\n",
       "      <th>label</th>\n",
       "      <th>score</th>\n",
       "      <th>keywords</th>\n",
       "    </tr>\n",
       "  </thead>\n",
       "  <tbody>\n",
       "    <tr>\n",
       "      <th>7688</th>\n",
       "      <td>LABEL_0</td>\n",
       "      <td>0.680992</td>\n",
       "      <td>efficacy improvements bcva</td>\n",
       "    </tr>\n",
       "    <tr>\n",
       "      <th>7549</th>\n",
       "      <td>LABEL_0</td>\n",
       "      <td>0.671888</td>\n",
       "      <td>showed improvements bcva</td>\n",
       "    </tr>\n",
       "    <tr>\n",
       "      <th>8289</th>\n",
       "      <td>LABEL_0</td>\n",
       "      <td>0.667436</td>\n",
       "      <td>bcva maintained extension</td>\n",
       "    </tr>\n",
       "    <tr>\n",
       "      <th>9885</th>\n",
       "      <td>LABEL_0</td>\n",
       "      <td>0.654310</td>\n",
       "      <td>pain extended effect</td>\n",
       "    </tr>\n",
       "    <tr>\n",
       "      <th>19363</th>\n",
       "      <td>LABEL_0</td>\n",
       "      <td>0.652233</td>\n",
       "      <td>potential benefits tachyphylaxis</td>\n",
       "    </tr>\n",
       "    <tr>\n",
       "      <th>6518</th>\n",
       "      <td>LABEL_0</td>\n",
       "      <td>0.651554</td>\n",
       "      <td>ctc reductions treatment</td>\n",
       "    </tr>\n",
       "    <tr>\n",
       "      <th>17738</th>\n",
       "      <td>LABEL_0</td>\n",
       "      <td>0.651109</td>\n",
       "      <td>pancreatic cancer conference</td>\n",
       "    </tr>\n",
       "    <tr>\n",
       "      <th>9731</th>\n",
       "      <td>LABEL_0</td>\n",
       "      <td>0.650005</td>\n",
       "      <td>bcva noted</td>\n",
       "    </tr>\n",
       "    <tr>\n",
       "      <th>18012</th>\n",
       "      <td>LABEL_0</td>\n",
       "      <td>0.647244</td>\n",
       "      <td>bcva gain months</td>\n",
       "    </tr>\n",
       "    <tr>\n",
       "      <th>18010</th>\n",
       "      <td>LABEL_0</td>\n",
       "      <td>0.646928</td>\n",
       "      <td>bcva gain</td>\n",
       "    </tr>\n",
       "  </tbody>\n",
       "</table>\n",
       "</div>"
      ],
      "text/plain": [
       "         label     score                          keywords\n",
       "7688   LABEL_0  0.680992        efficacy improvements bcva\n",
       "7549   LABEL_0  0.671888          showed improvements bcva\n",
       "8289   LABEL_0  0.667436         bcva maintained extension\n",
       "9885   LABEL_0  0.654310              pain extended effect\n",
       "19363  LABEL_0  0.652233  potential benefits tachyphylaxis\n",
       "6518   LABEL_0  0.651554          ctc reductions treatment\n",
       "17738  LABEL_0  0.651109      pancreatic cancer conference\n",
       "9731   LABEL_0  0.650005                        bcva noted\n",
       "18012  LABEL_0  0.647244                  bcva gain months\n",
       "18010  LABEL_0  0.646928                         bcva gain"
      ]
     },
     "execution_count": 29,
     "metadata": {},
     "output_type": "execute_result"
    }
   ],
   "source": [
    "class_kwrds.head()"
   ]
  },
  {
   "cell_type": "code",
   "execution_count": 59,
   "metadata": {},
   "outputs": [],
   "source": [
    "# compared outputs from BioBERT or RoBERTa to improve our keyword selection to build ground truth labels\n",
    "dove_bert = [\n",
    "    \"preserv\", \"eval\", \"improv\", \"met\",\\\n",
    "        \"present\", \"observ\", \"achiev\", \"attain\",\\\n",
    "            \"favor\", \"toler\", \"treat\", \"reduc\"] # manually inspected better labels\n",
    "hawk_bert = [\n",
    "    \"discontinu\", \"terminat\", \"pause\", \"insuffic\"\n",
    "]\n",
    "hawk_bert = makeRegex(dove_bert, neg=True) + makeRegex(hawk_bert) + hawk\n",
    "dove_bert = makeRegex(dove_bert) + dove\n",
    "labs_new = catalyst['catalyst'].apply(special_encode,\n",
    "                                        bull_words=dove_bert,\n",
    "                                        bear_words=hawk_bert)"
   ]
  },
  {
   "cell_type": "code",
   "execution_count": 60,
   "metadata": {},
   "outputs": [
    {
     "data": {
      "text/plain": [
       "catalyst\n",
       " 1    3117\n",
       " 0     672\n",
       "-1     122\n",
       "Name: count, dtype: int64"
      ]
     },
     "execution_count": 60,
     "metadata": {},
     "output_type": "execute_result"
    }
   ],
   "source": [
    "labs_new.value_counts()"
   ]
  },
  {
   "cell_type": "code",
   "execution_count": 61,
   "metadata": {},
   "outputs": [
    {
     "data": {
      "text/plain": [
       "<Axes: ylabel='catalyst'>"
      ]
     },
     "execution_count": 61,
     "metadata": {},
     "output_type": "execute_result"
    },
    {
     "data": {
      "image/png": "[encoded data removed]",
      "text/plain": [
       "<Figure size 640x480 with 1 Axes>"
      ]
     },
     "metadata": {},
     "output_type": "display_data"
    }
   ],
   "source": [
    "labs_new.value_counts().plot(kind='barh')"
   ]
  },
  {
   "cell_type": "markdown",
   "metadata": {},
   "source": [
    "# **2. Dataset Creation**"
   ]
  },
  {
   "cell_type": "code",
   "execution_count": 63,
   "metadata": {},
   "outputs": [
    {
     "data": {
      "text/html": [
       "<div>\n",
       "<style scoped>\n",
       "    .dataframe tbody tr th:only-of-type {\n",
       "        vertical-align: middle;\n",
       "    }\n",
       "\n",
       "    .dataframe tbody tr th {\n",
       "        vertical-align: top;\n",
       "    }\n",
       "\n",
       "    .dataframe thead th {\n",
       "        text-align: right;\n",
       "    }\n",
       "</style>\n",
       "<table border=\"1\" class=\"dataframe\">\n",
       "  <thead>\n",
       "    <tr style=\"text-align: right;\">\n",
       "      <th></th>\n",
       "      <th>ticker</th>\n",
       "      <th>disease</th>\n",
       "      <th>stage</th>\n",
       "      <th>date</th>\n",
       "      <th>catalyst</th>\n",
       "      <th>label</th>\n",
       "    </tr>\n",
       "  </thead>\n",
       "  <tbody>\n",
       "    <tr>\n",
       "      <th>0</th>\n",
       "      <td>SPPI</td>\n",
       "      <td>Non-Hodgkin’s lymphoma</td>\n",
       "      <td>Approved</td>\n",
       "      <td>2009-09-04 00:00:00</td>\n",
       "      <td>Approved September 4, 2009.</td>\n",
       "      <td>1</td>\n",
       "    </tr>\n",
       "    <tr>\n",
       "      <th>1</th>\n",
       "      <td>JAZZ</td>\n",
       "      <td>Fibromyalgia</td>\n",
       "      <td>CRL</td>\n",
       "      <td>2010-10-11 00:00:00</td>\n",
       "      <td>CRL received October 11, 2010.</td>\n",
       "      <td>0</td>\n",
       "    </tr>\n",
       "    <tr>\n",
       "      <th>2</th>\n",
       "      <td>ASRT</td>\n",
       "      <td>Postherpetic neuralgia - shingles</td>\n",
       "      <td>Approved</td>\n",
       "      <td>2011-01-28 00:00:00</td>\n",
       "      <td>Approved January 28, 2011.</td>\n",
       "      <td>1</td>\n",
       "    </tr>\n",
       "    <tr>\n",
       "      <th>3</th>\n",
       "      <td>ASRT</td>\n",
       "      <td>Colorectal cancer</td>\n",
       "      <td>Approved</td>\n",
       "      <td>2011-04-29 00:00:00</td>\n",
       "      <td>Approved April 29, 2011.</td>\n",
       "      <td>1</td>\n",
       "    </tr>\n",
       "    <tr>\n",
       "      <th>4</th>\n",
       "      <td>SPPI</td>\n",
       "      <td>Colorectal cancer</td>\n",
       "      <td>Approved</td>\n",
       "      <td>2011-04-29 00:00:00</td>\n",
       "      <td>Approved April 29, 2011.</td>\n",
       "      <td>1</td>\n",
       "    </tr>\n",
       "  </tbody>\n",
       "</table>\n",
       "</div>"
      ],
      "text/plain": [
       "  ticker  ... label\n",
       "0   SPPI  ...     1\n",
       "1   JAZZ  ...     0\n",
       "2   ASRT  ...     1\n",
       "3   ASRT  ...     1\n",
       "4   SPPI  ...     1\n",
       "\n",
       "[5 rows x 6 columns]"
      ]
     },
     "execution_count": 63,
     "metadata": {},
     "output_type": "execute_result"
    }
   ],
   "source": [
    "# add better labels to dataframe\n",
    "catalyst['label'] = labs_new\n",
    "catalyst.head()"
   ]
  },
  {
   "cell_type": "code",
   "execution_count": 4,
   "metadata": {},
   "outputs": [],
   "source": [
    "train, test = splitData(df=catalyst)"
   ]
  },
  {
   "cell_type": "code",
   "execution_count": 14,
   "metadata": {},
   "outputs": [
    {
     "data": {
      "text/html": [
       "<div>\n",
       "<style scoped>\n",
       "    .dataframe tbody tr th:only-of-type {\n",
       "        vertical-align: middle;\n",
       "    }\n",
       "\n",
       "    .dataframe tbody tr th {\n",
       "        vertical-align: top;\n",
       "    }\n",
       "\n",
       "    .dataframe thead th {\n",
       "        text-align: right;\n",
       "    }\n",
       "</style>\n",
       "<table border=\"1\" class=\"dataframe\">\n",
       "  <thead>\n",
       "    <tr style=\"text-align: right;\">\n",
       "      <th></th>\n",
       "      <th>ticker</th>\n",
       "      <th>disease</th>\n",
       "      <th>stage</th>\n",
       "      <th>date</th>\n",
       "      <th>catalyst</th>\n",
       "    </tr>\n",
       "  </thead>\n",
       "  <tbody>\n",
       "    <tr>\n",
       "      <th>714</th>\n",
       "      <td>JNJ</td>\n",
       "      <td>Diabetic Kidney Disease</td>\n",
       "      <td>Approved</td>\n",
       "      <td>2019-09-30 00:00:00</td>\n",
       "      <td>FDA Approval announced September 30, 2019.</td>\n",
       "    </tr>\n",
       "    <tr>\n",
       "      <th>2143</th>\n",
       "      <td>HLVX</td>\n",
       "      <td>GI.1/GII.4 virus-like particle (VLP) vaccine</td>\n",
       "      <td>Phase 2</td>\n",
       "      <td>2022-07-20 00:00:00</td>\n",
       "      <td>Phase 2 data reported that Pan-Ig and HBGA blo...</td>\n",
       "    </tr>\n",
       "    <tr>\n",
       "      <th>118</th>\n",
       "      <td>IRWD</td>\n",
       "      <td>Chronic idiopathic constipation (CIC)</td>\n",
       "      <td>Approved</td>\n",
       "      <td>2017-01-26 00:00:00</td>\n",
       "      <td>sNDA approval announced January 26, 2017.</td>\n",
       "    </tr>\n",
       "    <tr>\n",
       "      <th>2519</th>\n",
       "      <td>LGND</td>\n",
       "      <td>Chronic obstructive pulmonary disease (COPD)</td>\n",
       "      <td>Phase 3</td>\n",
       "      <td>2022-12-20 00:00:00</td>\n",
       "      <td>ENHANCE-1 Phase 3 topline data met its primary...</td>\n",
       "    </tr>\n",
       "    <tr>\n",
       "      <th>1295</th>\n",
       "      <td>CMRX</td>\n",
       "      <td>Acute lung injury (ALI) in COVID-19</td>\n",
       "      <td>Phase 2</td>\n",
       "      <td>2021-05-06 00:00:00</td>\n",
       "      <td>Phase 2 initial data released May 6, 2021. One...</td>\n",
       "    </tr>\n",
       "    <tr>\n",
       "      <th>...</th>\n",
       "      <td>...</td>\n",
       "      <td>...</td>\n",
       "      <td>...</td>\n",
       "      <td>...</td>\n",
       "      <td>...</td>\n",
       "    </tr>\n",
       "    <tr>\n",
       "      <th>1120</th>\n",
       "      <td>SYRS</td>\n",
       "      <td>Myelodysplastic Syndrome</td>\n",
       "      <td>Phase 2</td>\n",
       "      <td>2020-12-05 00:00:00</td>\n",
       "      <td>Phase 2 presentation December 5, 2020 at ASH. ...</td>\n",
       "    </tr>\n",
       "    <tr>\n",
       "      <th>1769</th>\n",
       "      <td>AMGN</td>\n",
       "      <td>Asthma</td>\n",
       "      <td>Approved</td>\n",
       "      <td>2021-12-17 00:00:00</td>\n",
       "      <td>Approved December 17, 2021.</td>\n",
       "    </tr>\n",
       "    <tr>\n",
       "      <th>2757</th>\n",
       "      <td>AVIR</td>\n",
       "      <td>COVID-19</td>\n",
       "      <td>Phase 2</td>\n",
       "      <td>2023-04-25 00:00:00</td>\n",
       "      <td>Fast Track Designation granted on April 25, 2023.</td>\n",
       "    </tr>\n",
       "    <tr>\n",
       "      <th>539</th>\n",
       "      <td>OPNT</td>\n",
       "      <td>Bulimia Nervosa</td>\n",
       "      <td>Phase 2</td>\n",
       "      <td>2019-02-21 00:00:00</td>\n",
       "      <td>Phase 2 data released February 21, 2019. Endpo...</td>\n",
       "    </tr>\n",
       "    <tr>\n",
       "      <th>1491</th>\n",
       "      <td>JNJ</td>\n",
       "      <td>COVID-19 vaccine (single dose)</td>\n",
       "      <td>Phase 3</td>\n",
       "      <td>2021-09-21 00:00:00</td>\n",
       "      <td>Phase 3 data showed 75 percent overall efficac...</td>\n",
       "    </tr>\n",
       "  </tbody>\n",
       "</table>\n",
       "<p>3128 rows × 5 columns</p>\n",
       "</div>"
      ],
      "text/plain": [
       "     ticker                                       disease     stage  \\\n",
       "714     JNJ                       Diabetic Kidney Disease  Approved   \n",
       "2143   HLVX  GI.1/GII.4 virus-like particle (VLP) vaccine   Phase 2   \n",
       "118    IRWD         Chronic idiopathic constipation (CIC)  Approved   \n",
       "2519   LGND  Chronic obstructive pulmonary disease (COPD)   Phase 3   \n",
       "1295   CMRX           Acute lung injury (ALI) in COVID-19   Phase 2   \n",
       "...     ...                                           ...       ...   \n",
       "1120   SYRS                      Myelodysplastic Syndrome   Phase 2   \n",
       "1769   AMGN                                        Asthma  Approved   \n",
       "2757   AVIR                                      COVID-19   Phase 2   \n",
       "539    OPNT                               Bulimia Nervosa   Phase 2   \n",
       "1491    JNJ                COVID-19 vaccine (single dose)   Phase 3   \n",
       "\n",
       "                     date                                           catalyst  \n",
       "714   2019-09-30 00:00:00         FDA Approval announced September 30, 2019.  \n",
       "2143  2022-07-20 00:00:00  Phase 2 data reported that Pan-Ig and HBGA blo...  \n",
       "118   2017-01-26 00:00:00          sNDA approval announced January 26, 2017.  \n",
       "2519  2022-12-20 00:00:00  ENHANCE-1 Phase 3 topline data met its primary...  \n",
       "1295  2021-05-06 00:00:00  Phase 2 initial data released May 6, 2021. One...  \n",
       "...                   ...                                                ...  \n",
       "1120  2020-12-05 00:00:00  Phase 2 presentation December 5, 2020 at ASH. ...  \n",
       "1769  2021-12-17 00:00:00                        Approved December 17, 2021.  \n",
       "2757  2023-04-25 00:00:00  Fast Track Designation granted on April 25, 2023.  \n",
       "539   2019-02-21 00:00:00  Phase 2 data released February 21, 2019. Endpo...  \n",
       "1491  2021-09-21 00:00:00  Phase 3 data showed 75 percent overall efficac...  \n",
       "\n",
       "[3128 rows x 5 columns]"
      ]
     },
     "execution_count": 14,
     "metadata": {},
     "output_type": "execute_result"
    }
   ],
   "source": [
    "train.head()"
   ]
  },
  {
   "cell_type": "code",
   "execution_count": 212,
   "metadata": {},
   "outputs": [],
   "source": [
    "if OUT not in os.listdir(os.getcwd()):\n",
    "    os.mkdir(OUT)\n",
    "train.to_csv(f\"{OUT}/train.csv\", index=0)\n",
    "test.to_csv(f\"{OUT}/test.csv\", index=0)\n",
    "catalyst.to_csv(f\"{OUT}/catalyst.csv\", index=0)\n"
   ]
  },
  {
   "cell_type": "code",
   "execution_count": 214,
   "metadata": {},
   "outputs": [
    {
     "data": {
      "application/vnd.jupyter.widget-view+json": {
       "model_id": "d1e573ae73e54aa4af40f605e22d3970",
       "version_major": 2,
       "version_minor": 0
      },
      "text/plain": [
       "VBox(children=(HTML(value='<center> <img\\nsrc=https://huggingface.co/front/assets/huggingface_logo-noborder.sv…"
      ]
     },
     "metadata": {},
     "output_type": "display_data"
    }
   ],
   "source": [
    "login()\n"
   ]
  },
  {
   "cell_type": "code",
   "execution_count": 215,
   "metadata": {},
   "outputs": [
    {
     "data": {
      "application/vnd.jupyter.widget-view+json": {
       "model_id": "77ce040e32504d3dbaf97486c3cc2958",
       "version_major": 2,
       "version_minor": 0
      },
      "text/plain": [
       "Downloading readme:   0%|          | 0.00/21.0 [00:00<?, ?B/s]"
      ]
     },
     "metadata": {},
     "output_type": "display_data"
    },
    {
     "data": {
      "application/vnd.jupyter.widget-view+json": {
       "model_id": "337d4f1b82de4c9399a29c9bdaa69884",
       "version_major": 2,
       "version_minor": 0
      },
      "text/plain": [
       "Downloading data files:   0%|          | 0/2 [00:00<?, ?it/s]"
      ]
     },
     "metadata": {},
     "output_type": "display_data"
    },
    {
     "data": {
      "application/vnd.jupyter.widget-view+json": {
       "model_id": "282a3c7ab1754ede89e248da712cd3d6",
       "version_major": 2,
       "version_minor": 0
      },
      "text/plain": [
       "Downloading data:   0%|          | 0.00/578k [00:00<?, ?B/s]"
      ]
     },
     "metadata": {},
     "output_type": "display_data"
    },
    {
     "data": {
      "application/vnd.jupyter.widget-view+json": {
       "model_id": "9e538f2f73dd414a8c9fd07f2bed3515",
       "version_major": 2,
       "version_minor": 0
      },
      "text/plain": [
       "Downloading data:   0%|          | 0.00/181k [00:00<?, ?B/s]"
      ]
     },
     "metadata": {},
     "output_type": "display_data"
    },
    {
     "data": {
      "application/vnd.jupyter.widget-view+json": {
       "model_id": "b1a849ebaeb24785b7130b6882a3c396",
       "version_major": 2,
       "version_minor": 0
      },
      "text/plain": [
       "Extracting data files:   0%|          | 0/2 [00:00<?, ?it/s]"
      ]
     },
     "metadata": {},
     "output_type": "display_data"
    },
    {
     "data": {
      "application/vnd.jupyter.widget-view+json": {
       "model_id": "b1e415bf05f24602a563f611b5d8f63a",
       "version_major": 2,
       "version_minor": 0
      },
      "text/plain": [
       "Generating train split: 0 examples [00:00, ? examples/s]"
      ]
     },
     "metadata": {},
     "output_type": "display_data"
    },
    {
     "data": {
      "application/vnd.jupyter.widget-view+json": {
       "model_id": "6ca4dc88922e49c4bc9c1cc78794367a",
       "version_major": 2,
       "version_minor": 0
      },
      "text/plain": [
       "Generating test split: 0 examples [00:00, ? examples/s]"
      ]
     },
     "metadata": {},
     "output_type": "display_data"
    },
    {
     "data": {
      "text/plain": [
       "DatasetDict({\n",
       "    train: Dataset({\n",
       "        features: ['ticker', 'disease', 'stage', 'date', 'catalyst', 'label'],\n",
       "        num_rows: 3128\n",
       "    })\n",
       "    test: Dataset({\n",
       "        features: ['ticker', 'disease', 'stage', 'date', 'catalyst', 'label'],\n",
       "        num_rows: 783\n",
       "    })\n",
       "})"
      ]
     },
     "execution_count": 215,
     "metadata": {},
     "output_type": "execute_result"
    }
   ],
   "source": [
    "dataset = load_dataset(\"quant-chef/BioPharmaCatalysts\")"
   ]
  },
  {
   "cell_type": "code",
   "execution_count": 216,
   "metadata": {},
   "outputs": [
    {
     "name": "stdout",
     "output_type": "stream",
     "text": [
      "Successfully logged out.\n"
     ]
    }
   ],
   "source": [
    "logout()\n"
   ]
  },
  {
   "cell_type": "code",
   "execution_count": null,
   "metadata": {},
   "outputs": [],
   "source": []
  }
 ],
 "metadata": {
  "kernelspec": {
   "display_name": "fantasy",
   "language": "python",
   "name": "python3"
  },
  "language_info": {
   "codemirror_mode": {
    "name": "ipython",
    "version": 3
   },
   "file_extension": ".py",
   "mimetype": "text/x-python",
   "name": "python",
   "nbconvert_exporter": "python",
   "pygments_lexer": "ipython3",
   "version": "3.10.13"
  }
 },
 "nbformat": 4,
 "nbformat_minor": 2
}
