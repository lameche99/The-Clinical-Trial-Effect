{
 "cells": [
  {
   "cell_type": "code",
   "execution_count": 31,
   "metadata": {},
   "outputs": [],
   "source": [
    "import pandas as pd\n",
    "import numpy as np\n",
    "from huggingface_hub import login, logout\n",
    "from datasets import load_dataset\n",
    "from util.util_data import tokenize\n",
    "import requests, os, sys, sqlite3, re\n",
    "import yfinance as yf"
   ]
  },
  {
   "cell_type": "code",
   "execution_count": 32,
   "metadata": {},
   "outputs": [],
   "source": [
    "eng = sqlite3.connect('./src/data.db')\n",
    "tix = pd.read_sql('SELECT DISTINCT ticker FROM catalysts', eng)\n",
    "df = pd.read_sql('SELECT * FROM catalysts', eng)\n",
    "tickers = yf.Tickers(' '.join(tix.ticker.tolist()))"
   ]
  },
  {
   "cell_type": "code",
   "execution_count": 33,
   "metadata": {},
   "outputs": [],
   "source": [
    "names = list()\n",
    "for t in tix.ticker.tolist():\n",
    "    try:\n",
    "        name = tickers.tickers[t].info['longName'].upper()\n",
    "        name = re.sub(r'[^\\w\\s]', '', name)\n",
    "        names.append([t, name])\n",
    "    except Exception:\n",
    "        names.append([t, None])"
   ]
  },
  {
   "cell_type": "code",
   "execution_count": 36,
   "metadata": {},
   "outputs": [],
   "source": [
    "names = pd.DataFrame(names, columns=['ticker', 'full'])"
   ]
  },
  {
   "cell_type": "code",
   "execution_count": 35,
   "metadata": {},
   "outputs": [],
   "source": [
    "names.to_csv('./out/full_names.csv', index=False)"
   ]
  },
  {
   "cell_type": "code",
   "execution_count": 7,
   "metadata": {},
   "outputs": [
    {
     "data": {
      "text/plain": [
       "[(2009, 'QTR1'), (2010, 'QTR2'), (2011, 'QTR3'), (2012, 'QTR4')]"
      ]
     },
     "execution_count": 7,
     "metadata": {},
     "output_type": "execute_result"
    }
   ],
   "source": [
    "yrs = [(2009 + i) for i in range(15)]\n",
    "qtr = ['QTR1', 'QTR2', 'QTR3', 'QTR4']\n",
    "\n",
    "list(zip(yrs, qtr))"
   ]
  },
  {
   "cell_type": "code",
   "execution_count": 13,
   "metadata": {},
   "outputs": [
    {
     "data": {
      "text/plain": [
       "False"
      ]
     },
     "execution_count": 13,
     "metadata": {},
     "output_type": "execute_result"
    }
   ],
   "source": [
    "'ou' in os.listdir(os.getcwd())"
   ]
  },
  {
   "cell_type": "code",
   "execution_count": 14,
   "metadata": {},
   "outputs": [],
   "source": [
    "url = f'https://www.sec.gov/Archives/edgar/full-index/1995/QTR1/master.idx'\n",
    "lines = requests.get(url, headers={'User-Agent': 'Mozilla/5.0'}, stream=True).content.decode(\"utf-8\", \"ignore\").splitlines()"
   ]
  },
  {
   "cell_type": "code",
   "execution_count": 29,
   "metadata": {},
   "outputs": [],
   "source": [
    "SECDIR = 'https://www.sec.gov/Archives'\n",
    "s = lines[150].split('|')\n",
    "file_url = os.path.join(SECDIR, s[-1])\n",
    "response = requests.get(file_url, stream=True, headers= {'User-Agent': 'Mozilla/5.0'})"
   ]
  },
  {
   "cell_type": "code",
   "execution_count": 25,
   "metadata": {},
   "outputs": [
    {
     "data": {
      "text/html": [
       "<div>\n",
       "<style scoped>\n",
       "    .dataframe tbody tr th:only-of-type {\n",
       "        vertical-align: middle;\n",
       "    }\n",
       "\n",
       "    .dataframe tbody tr th {\n",
       "        vertical-align: top;\n",
       "    }\n",
       "\n",
       "    .dataframe thead th {\n",
       "        text-align: right;\n",
       "    }\n",
       "</style>\n",
       "<table border=\"1\" class=\"dataframe\">\n",
       "  <thead>\n",
       "    <tr style=\"text-align: right;\">\n",
       "      <th></th>\n",
       "      <th>ticker</th>\n",
       "      <th>full</th>\n",
       "    </tr>\n",
       "  </thead>\n",
       "  <tbody>\n",
       "    <tr>\n",
       "      <th>1</th>\n",
       "      <td>JAZZ</td>\n",
       "      <td>JAZZ PHARMACEUTICALS PLC</td>\n",
       "    </tr>\n",
       "    <tr>\n",
       "      <th>2</th>\n",
       "      <td>ASRT</td>\n",
       "      <td>ASSERTIO HOLDINGS, INC.</td>\n",
       "    </tr>\n",
       "    <tr>\n",
       "      <th>3</th>\n",
       "      <td>TAK</td>\n",
       "      <td>TAKEDA PHARMACEUTICAL COMPANY LIMITED</td>\n",
       "    </tr>\n",
       "    <tr>\n",
       "      <th>4</th>\n",
       "      <td>SGEN</td>\n",
       "      <td>SEAGEN INC.</td>\n",
       "    </tr>\n",
       "    <tr>\n",
       "      <th>5</th>\n",
       "      <td>PCRX</td>\n",
       "      <td>PACIRA BIOSCIENCES, INC.</td>\n",
       "    </tr>\n",
       "    <tr>\n",
       "      <th>...</th>\n",
       "      <td>...</td>\n",
       "      <td>...</td>\n",
       "    </tr>\n",
       "    <tr>\n",
       "      <th>764</th>\n",
       "      <td>HOWL</td>\n",
       "      <td>WEREWOLF THERAPEUTICS, INC.</td>\n",
       "    </tr>\n",
       "    <tr>\n",
       "      <th>765</th>\n",
       "      <td>RAPT</td>\n",
       "      <td>RAPT THERAPEUTICS, INC.</td>\n",
       "    </tr>\n",
       "    <tr>\n",
       "      <th>766</th>\n",
       "      <td>XAIR</td>\n",
       "      <td>BEYOND AIR, INC.</td>\n",
       "    </tr>\n",
       "    <tr>\n",
       "      <th>767</th>\n",
       "      <td>KA</td>\n",
       "      <td>KINETA, INC.</td>\n",
       "    </tr>\n",
       "    <tr>\n",
       "      <th>768</th>\n",
       "      <td>FLGT</td>\n",
       "      <td>FULGENT GENETICS, INC.</td>\n",
       "    </tr>\n",
       "  </tbody>\n",
       "</table>\n",
       "<p>711 rows × 2 columns</p>\n",
       "</div>"
      ],
      "text/plain": [
       "    ticker                                   full\n",
       "1     JAZZ               JAZZ PHARMACEUTICALS PLC\n",
       "2     ASRT                ASSERTIO HOLDINGS, INC.\n",
       "3      TAK  TAKEDA PHARMACEUTICAL COMPANY LIMITED\n",
       "4     SGEN                            SEAGEN INC.\n",
       "5     PCRX               PACIRA BIOSCIENCES, INC.\n",
       "..     ...                                    ...\n",
       "764   HOWL            WEREWOLF THERAPEUTICS, INC.\n",
       "765   RAPT                RAPT THERAPEUTICS, INC.\n",
       "766   XAIR                       BEYOND AIR, INC.\n",
       "767     KA                           KINETA, INC.\n",
       "768   FLGT                 FULGENT GENETICS, INC.\n",
       "\n",
       "[711 rows x 2 columns]"
      ]
     },
     "execution_count": 25,
     "metadata": {},
     "output_type": "execute_result"
    }
   ],
   "source": [
    "x = pd.read_csv('./out/full_names.csv')\n",
    "x.dropna(axis=0)"
   ]
  },
  {
   "cell_type": "code",
   "execution_count": 30,
   "metadata": {},
   "outputs": [
    {
     "data": {
      "text/plain": [
       "['100885',\n",
       " 'UNION PACIFIC CORP',\n",
       " 'DFAN14A',\n",
       " '1995-01-18',\n",
       " 'edgar/data/100885/0000950123-95-000069.txt']"
      ]
     },
     "execution_count": 30,
     "metadata": {},
     "output_type": "execute_result"
    }
   ],
   "source": [
    "s"
   ]
  },
  {
   "cell_type": "code",
   "execution_count": null,
   "metadata": {},
   "outputs": [],
   "source": []
  }
 ],
 "metadata": {
  "kernelspec": {
   "display_name": "biopharma",
   "language": "python",
   "name": "python3"
  },
  "language_info": {
   "codemirror_mode": {
    "name": "ipython",
    "version": 3
   },
   "file_extension": ".py",
   "mimetype": "text/x-python",
   "name": "python",
   "nbconvert_exporter": "python",
   "pygments_lexer": "ipython3",
   "version": "3.10.13"
  }
 },
 "nbformat": 4,
 "nbformat_minor": 2
}
