{
 "cells": [
  {
   "cell_type": "code",
   "execution_count": 2,
   "metadata": {},
   "outputs": [],
   "source": [
    "import pandas as pd\n",
    "import numpy as np\n",
    "from huggingface_hub import login, logout\n",
    "from datasets import load_dataset\n",
    "from util.util_data import tokenize\n",
    "import requests, os, sys, sqlite3, re\n",
    "import yfinance as yf"
   ]
  },
  {
   "cell_type": "code",
   "execution_count": 8,
   "metadata": {},
   "outputs": [],
   "source": [
    "eng = sqlite3.connect('./src/data.db')\n",
    "tix = pd.read_sql('SELECT DISTINCT ticker FROM catalysts', eng)\n",
    "df = pd.read_sql('SELECT * FROM catalysts', eng)\n",
    "tickers = yf.Tickers(' '.join(tix.ticker.tolist()))"
   ]
  },
  {
   "cell_type": "code",
   "execution_count": 33,
   "metadata": {},
   "outputs": [],
   "source": [
    "names = list()\n",
    "for t in tix.ticker.tolist():\n",
    "    try:\n",
    "        name = tickers.tickers[t].info['longName'].upper()\n",
    "        name = re.sub(r'[^\\w\\s]', '', name)\n",
    "        names.append([t, name])\n",
    "    except Exception:\n",
    "        names.append([t, None])"
   ]
  },
  {
   "cell_type": "code",
   "execution_count": 4,
   "metadata": {},
   "outputs": [],
   "source": [
    "import json\n",
    "\n",
    "with open('./ref/ticker_to_cik.json') as f:\n",
    "    d = json.load(f)\n",
    "f.close()"
   ]
  },
  {
   "cell_type": "code",
   "execution_count": 29,
   "metadata": {},
   "outputs": [],
   "source": [
    "ticks = pd.DataFrame.from_dict(d, orient='index')\n",
    "ciks = ticks.loc[ticks.index.isin(tix.ticker)].copy().reset_index().rename(columns={'index': 'ticker', 0: 'cik'})\n",
    "ciks['cik'] = ciks.cik.str.removeprefix('000')"
   ]
  },
  {
   "cell_type": "code",
   "execution_count": 31,
   "metadata": {},
   "outputs": [],
   "source": [
    "ciks.to_csv('./out/ciks.csv', index=False)"
   ]
  },
  {
   "cell_type": "code",
   "execution_count": 72,
   "metadata": {},
   "outputs": [],
   "source": [
    "url = f'https://www.sec.gov/Archives/edgar/full-index/2009/QTR1/master.idx'\n",
    "lines = requests.get(url, headers={'User-Agent': 'Mozilla/5.0'}, stream=True).content.decode(\"utf-8\", \"ignore\").splitlines()"
   ]
  },
  {
   "cell_type": "code",
   "execution_count": 39,
   "metadata": {},
   "outputs": [],
   "source": [
    "SECDIR = 'https://www.sec.gov/Archives'\n",
    "s = lines[55].split('|')\n",
    "file_url = os.path.join(SECDIR, s[-1])\n",
    "response = requests.get(file_url, stream=True, headers= {'User-Agent': 'Mozilla/5.0'})"
   ]
  },
  {
   "cell_type": "code",
   "execution_count": 73,
   "metadata": {},
   "outputs": [],
   "source": [
    "recs = pd.DataFrame([line.split('|') for line in lines], columns=['cik', 'name', 'filing', 'date', 'url']).iloc[11:]"
   ]
  },
  {
   "cell_type": "code",
   "execution_count": 74,
   "metadata": {},
   "outputs": [],
   "source": [
    "y = recs.loc[(recs.cik.isin(ciks.cik)) & (recs.filing == '8-K')].copy()\n",
    "y.cik = y.cik.astype(str)\n",
    "ciks.cik = ciks.cik.astype(str)"
   ]
  },
  {
   "cell_type": "code",
   "execution_count": 75,
   "metadata": {},
   "outputs": [
    {
     "data": {
      "text/html": [
       "<div>\n",
       "<style scoped>\n",
       "    .dataframe tbody tr th:only-of-type {\n",
       "        vertical-align: middle;\n",
       "    }\n",
       "\n",
       "    .dataframe tbody tr th {\n",
       "        vertical-align: top;\n",
       "    }\n",
       "\n",
       "    .dataframe thead th {\n",
       "        text-align: right;\n",
       "    }\n",
       "</style>\n",
       "<table border=\"1\" class=\"dataframe\">\n",
       "  <thead>\n",
       "    <tr style=\"text-align: right;\">\n",
       "      <th></th>\n",
       "      <th>cik</th>\n",
       "      <th>name</th>\n",
       "      <th>filing</th>\n",
       "      <th>date</th>\n",
       "      <th>url</th>\n",
       "    </tr>\n",
       "  </thead>\n",
       "  <tbody>\n",
       "    <tr>\n",
       "      <th>431</th>\n",
       "      <td>1000694</td>\n",
       "      <td>NOVAVAX INC</td>\n",
       "      <td>8-K</td>\n",
       "      <td>2009-01-05</td>\n",
       "      <td>edgar/data/1000694/0000950133-09-000002.txt</td>\n",
       "    </tr>\n",
       "    <tr>\n",
       "      <th>432</th>\n",
       "      <td>1000694</td>\n",
       "      <td>NOVAVAX INC</td>\n",
       "      <td>8-K</td>\n",
       "      <td>2009-01-13</td>\n",
       "      <td>edgar/data/1000694/0000950133-09-000041.txt</td>\n",
       "    </tr>\n",
       "    <tr>\n",
       "      <th>433</th>\n",
       "      <td>1000694</td>\n",
       "      <td>NOVAVAX INC</td>\n",
       "      <td>8-K</td>\n",
       "      <td>2009-01-15</td>\n",
       "      <td>edgar/data/1000694/0000950133-09-000053.txt</td>\n",
       "    </tr>\n",
       "    <tr>\n",
       "      <th>434</th>\n",
       "      <td>1000694</td>\n",
       "      <td>NOVAVAX INC</td>\n",
       "      <td>8-K</td>\n",
       "      <td>2009-02-09</td>\n",
       "      <td>edgar/data/1000694/0000950133-09-000252.txt</td>\n",
       "    </tr>\n",
       "    <tr>\n",
       "      <th>435</th>\n",
       "      <td>1000694</td>\n",
       "      <td>NOVAVAX INC</td>\n",
       "      <td>8-K</td>\n",
       "      <td>2009-02-17</td>\n",
       "      <td>edgar/data/1000694/0000950133-09-000346.txt</td>\n",
       "    </tr>\n",
       "    <tr>\n",
       "      <th>...</th>\n",
       "      <td>...</td>\n",
       "      <td>...</td>\n",
       "      <td>...</td>\n",
       "      <td>...</td>\n",
       "      <td>...</td>\n",
       "    </tr>\n",
       "    <tr>\n",
       "      <th>157128</th>\n",
       "      <td>1390478</td>\n",
       "      <td>RXI PHARMACEUTICALS CORP</td>\n",
       "      <td>8-K</td>\n",
       "      <td>2009-01-07</td>\n",
       "      <td>edgar/data/1390478/0000950135-09-000101.txt</td>\n",
       "    </tr>\n",
       "    <tr>\n",
       "      <th>157129</th>\n",
       "      <td>1390478</td>\n",
       "      <td>RXI PHARMACEUTICALS CORP</td>\n",
       "      <td>8-K</td>\n",
       "      <td>2009-01-22</td>\n",
       "      <td>edgar/data/1390478/0000950135-09-000375.txt</td>\n",
       "    </tr>\n",
       "    <tr>\n",
       "      <th>157130</th>\n",
       "      <td>1390478</td>\n",
       "      <td>RXI PHARMACEUTICALS CORP</td>\n",
       "      <td>8-K</td>\n",
       "      <td>2009-01-29</td>\n",
       "      <td>edgar/data/1390478/0000950135-09-000543.txt</td>\n",
       "    </tr>\n",
       "    <tr>\n",
       "      <th>157131</th>\n",
       "      <td>1390478</td>\n",
       "      <td>RXI PHARMACEUTICALS CORP</td>\n",
       "      <td>8-K</td>\n",
       "      <td>2009-02-05</td>\n",
       "      <td>edgar/data/1390478/0000950135-09-000646.txt</td>\n",
       "    </tr>\n",
       "    <tr>\n",
       "      <th>157132</th>\n",
       "      <td>1390478</td>\n",
       "      <td>RXI PHARMACEUTICALS CORP</td>\n",
       "      <td>8-K</td>\n",
       "      <td>2009-03-20</td>\n",
       "      <td>edgar/data/1390478/0000950135-09-001912.txt</td>\n",
       "    </tr>\n",
       "  </tbody>\n",
       "</table>\n",
       "<p>229 rows × 5 columns</p>\n",
       "</div>"
      ],
      "text/plain": [
       "            cik                      name filing        date  \\\n",
       "431     1000694               NOVAVAX INC    8-K  2009-01-05   \n",
       "432     1000694               NOVAVAX INC    8-K  2009-01-13   \n",
       "433     1000694               NOVAVAX INC    8-K  2009-01-15   \n",
       "434     1000694               NOVAVAX INC    8-K  2009-02-09   \n",
       "435     1000694               NOVAVAX INC    8-K  2009-02-17   \n",
       "...         ...                       ...    ...         ...   \n",
       "157128  1390478  RXI PHARMACEUTICALS CORP    8-K  2009-01-07   \n",
       "157129  1390478  RXI PHARMACEUTICALS CORP    8-K  2009-01-22   \n",
       "157130  1390478  RXI PHARMACEUTICALS CORP    8-K  2009-01-29   \n",
       "157131  1390478  RXI PHARMACEUTICALS CORP    8-K  2009-02-05   \n",
       "157132  1390478  RXI PHARMACEUTICALS CORP    8-K  2009-03-20   \n",
       "\n",
       "                                                url  \n",
       "431     edgar/data/1000694/0000950133-09-000002.txt  \n",
       "432     edgar/data/1000694/0000950133-09-000041.txt  \n",
       "433     edgar/data/1000694/0000950133-09-000053.txt  \n",
       "434     edgar/data/1000694/0000950133-09-000252.txt  \n",
       "435     edgar/data/1000694/0000950133-09-000346.txt  \n",
       "...                                             ...  \n",
       "157128  edgar/data/1390478/0000950135-09-000101.txt  \n",
       "157129  edgar/data/1390478/0000950135-09-000375.txt  \n",
       "157130  edgar/data/1390478/0000950135-09-000543.txt  \n",
       "157131  edgar/data/1390478/0000950135-09-000646.txt  \n",
       "157132  edgar/data/1390478/0000950135-09-001912.txt  \n",
       "\n",
       "[229 rows x 5 columns]"
      ]
     },
     "execution_count": 75,
     "metadata": {},
     "output_type": "execute_result"
    }
   ],
   "source": [
    "y"
   ]
  },
  {
   "cell_type": "code",
   "execution_count": 70,
   "metadata": {},
   "outputs": [],
   "source": [
    "furl = os.path.join(SECDIR, y.iloc[0].url)\n",
    "response = requests.get(furl, stream=True, headers= {'User-Agent': 'Mozilla/5.0'})"
   ]
  },
  {
   "cell_type": "code",
   "execution_count": 81,
   "metadata": {},
   "outputs": [],
   "source": [
    "from read8k import clean8k\n",
    "\n",
    "with open('./out/8Ks/ACOR_2009_QTR1_8K.txt', 'r', encoding='UTF-8', errors='ignore') as fin:\n",
    "    doc = fin.read()\n",
    "fin.close()\n",
    "clean = clean8k(doc=doc)"
   ]
  },
  {
   "cell_type": "code",
   "execution_count": 83,
   "metadata": {},
   "outputs": [
    {
     "data": {
      "text/plain": [
       "['NVAX_2009_QTR1_8K.txt',\n",
       " 'CERS_2009_QTR1_8K.txt',\n",
       " 'AIMD_2009_QTR1_8K.txt',\n",
       " 'PLX_2009_QTR1_8K.txt',\n",
       " 'SGMO_2009_QTR1_8K.txt',\n",
       " 'ACOR_2009_QTR1_8K.txt',\n",
       " 'RIGL_2009_QTR1_8K.txt',\n",
       " 'DVAX_2009_QTR1_8K.txt',\n",
       " 'RMTI_2009_QTR1_8K.txt',\n",
       " 'TGTX_2009_QTR1_8K.txt',\n",
       " 'INO_2009_QTR1_8K.txt',\n",
       " 'ANIP_2009_QTR1_8K.txt',\n",
       " 'BMRN_2009_QTR1_8K.txt',\n",
       " 'ELOX_2009_QTR1_8K.txt',\n",
       " 'SEEL_2009_QTR1_8K.txt',\n",
       " 'SIGA_2009_QTR1_8K.txt']"
      ]
     },
     "execution_count": 83,
     "metadata": {},
     "output_type": "execute_result"
    }
   ],
   "source": [
    "outdir = 'out/8Ks'\n",
    "os.listdir(os.path.join(os.getcwd(), outdir))"
   ]
  },
  {
   "cell_type": "code",
   "execution_count": null,
   "metadata": {},
   "outputs": [],
   "source": []
  }
 ],
 "metadata": {
  "kernelspec": {
   "display_name": "biopharma",
   "language": "python",
   "name": "python3"
  },
  "language_info": {
   "codemirror_mode": {
    "name": "ipython",
    "version": 3
   },
   "file_extension": ".py",
   "mimetype": "text/x-python",
   "name": "python",
   "nbconvert_exporter": "python",
   "pygments_lexer": "ipython3",
   "version": "3.10.13"
  }
 },
 "nbformat": 4,
 "nbformat_minor": 2
}
