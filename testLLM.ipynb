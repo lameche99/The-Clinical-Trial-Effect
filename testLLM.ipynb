{
 "cells": [
  {
   "cell_type": "code",
   "execution_count": 1,
   "metadata": {},
   "outputs": [],
   "source": [
    "import pandas as pd\n",
    "import numpy as np\n",
    "from huggingface_hub import login, logout\n",
    "from datasets import load_dataset\n",
    "from util.util_data import tokenize\n",
    "import requests, os, sys, sqlite3, time\n",
    "import yfinance as yf"
   ]
  },
  {
   "cell_type": "code",
   "execution_count": 2,
   "metadata": {},
   "outputs": [],
   "source": [
    "eng = sqlite3.connect('./src/data.db')\n",
    "tix = pd.read_sql('SELECT DISTINCT ticker FROM catalysts', eng)\n",
    "df = pd.read_sql('SELECT * FROM catalysts', eng)\n",
    "tickers = yf.Tickers(' '.join(tix.ticker.tolist()))"
   ]
  },
  {
   "cell_type": "code",
   "execution_count": 3,
   "metadata": {},
   "outputs": [],
   "source": [
    "names = list()\n",
    "for t in tix.ticker.tolist():\n",
    "    try:\n",
    "        names.append([t, tickers.tickers[t].info['longName'].upper()])\n",
    "    except Exception:\n",
    "        names.append([t, None])"
   ]
  },
  {
   "cell_type": "code",
   "execution_count": 5,
   "metadata": {},
   "outputs": [],
   "source": [
    "names = pd.DataFrame(names, columns=['ticker', 'full'])\n",
    "names.to_csv('./out/full_names.csv', index=False)"
   ]
  }
 ],
 "metadata": {
  "kernelspec": {
   "display_name": "biopharma",
   "language": "python",
   "name": "python3"
  },
  "language_info": {
   "codemirror_mode": {
    "name": "ipython",
    "version": 3
   },
   "file_extension": ".py",
   "mimetype": "text/x-python",
   "name": "python",
   "nbconvert_exporter": "python",
   "pygments_lexer": "ipython3",
   "version": "3.10.13"
  }
 },
 "nbformat": 4,
 "nbformat_minor": 2
}
