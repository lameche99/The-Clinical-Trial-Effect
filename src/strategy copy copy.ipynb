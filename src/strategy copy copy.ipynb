{
 "cells": [
  {
   "cell_type": "code",
   "execution_count": 13,
   "metadata": {},
   "outputs": [],
   "source": [
    "from classification import *\n",
    "from trading import *\n",
    "import numpy as np\n",
    "import pandas as pd\n",
    "import sqlite3\n",
    "from sklearn.metrics import confusion_matrix\n",
    "import plotly.express as px\n",
    "\n",
    "import dgl\n",
    "import torch\n",
    "import torch.nn as nn\n",
    "import torch.nn.functional as F\n",
    "from sklearn.model_selection import train_test_split\n",
    "from sklearn.preprocessing import StandardScaler, MinMaxScaler\n",
    "\n",
    "import networkx as nx\n",
    "import matplotlib.pyplot as plt\n",
    "\n",
    "from tqdm import tqdm\n"
   ]
  },
  {
   "cell_type": "markdown",
   "metadata": {},
   "source": [
    "## Reading the Event Data and the Stock Data"
   ]
  },
  {
   "cell_type": "code",
   "execution_count": 2,
   "metadata": {},
   "outputs": [],
   "source": [
    "# Connect to the SQLite database\n",
    "conn = sqlite3.connect('final_data.db')\n",
    "\n",
    "# Replace 'your_table' with the actual table name and 'conn' with your database connection\n",
    "query = 'SELECT * FROM ALL_FEATURES'\n",
    "\n",
    "# Use the pandas read_sql function to read the data into a DataFrame\n",
    "events_df = pd.read_sql(query, conn)\n",
    "\n",
    "# Close the database connection\n",
    "conn.close()\n",
    "\n",
    "# Now, you can work with the DataFrame 'df'\n",
    "events_df['date'] = pd.to_datetime(events_df['date'])\n",
    "events_df = events_df.sort_values(by='date')\n",
    "stock_df = pd.read_csv('stock_data.zip', compression='zip', header=[0, 1], index_col=0, parse_dates=True)\n"
   ]
  },
  {
   "cell_type": "code",
   "execution_count": 3,
   "metadata": {},
   "outputs": [
    {
     "data": {
      "text/html": [
       "<div>\n",
       "<style scoped>\n",
       "    .dataframe tbody tr th:only-of-type {\n",
       "        vertical-align: middle;\n",
       "    }\n",
       "\n",
       "    .dataframe tbody tr th {\n",
       "        vertical-align: top;\n",
       "    }\n",
       "\n",
       "    .dataframe thead th {\n",
       "        text-align: right;\n",
       "    }\n",
       "</style>\n",
       "<table border=\"1\" class=\"dataframe\">\n",
       "  <thead>\n",
       "    <tr style=\"text-align: right;\">\n",
       "      <th></th>\n",
       "      <th>ticker</th>\n",
       "      <th>disease</th>\n",
       "      <th>stage</th>\n",
       "      <th>date</th>\n",
       "      <th>catalyst</th>\n",
       "      <th>avg_5_10</th>\n",
       "      <th>avg_5_30</th>\n",
       "      <th>std_5_10</th>\n",
       "      <th>std_5_30</th>\n",
       "      <th>mkt_cap</th>\n",
       "      <th>...</th>\n",
       "      <th>VOL_20</th>\n",
       "      <th>VOL_BVOL_20</th>\n",
       "      <th>avg_5_day_ret</th>\n",
       "      <th>std_5_day_ret</th>\n",
       "      <th>atr_10</th>\n",
       "      <th>volume_std_10</th>\n",
       "      <th>trans_std_10</th>\n",
       "      <th>prev_vol</th>\n",
       "      <th>prev_trans</th>\n",
       "      <th>NCAR_20</th>\n",
       "    </tr>\n",
       "  </thead>\n",
       "  <tbody>\n",
       "    <tr>\n",
       "      <th>0</th>\n",
       "      <td>PCRX</td>\n",
       "      <td>Postsurgical pain</td>\n",
       "      <td>Approved</td>\n",
       "      <td>2011-10-31</td>\n",
       "      <td>Approved October 31, 2011.</td>\n",
       "      <td>0.455</td>\n",
       "      <td>0.461667</td>\n",
       "      <td>-0.256693</td>\n",
       "      <td>-0.271868</td>\n",
       "      <td>4.356451e+08</td>\n",
       "      <td>...</td>\n",
       "      <td>0.057309</td>\n",
       "      <td>0.038122</td>\n",
       "      <td>-0.000519</td>\n",
       "      <td>0.037962</td>\n",
       "      <td>0.75990</td>\n",
       "      <td>167259.498603</td>\n",
       "      <td>382.814054</td>\n",
       "      <td>610058.00</td>\n",
       "      <td>1105.0</td>\n",
       "      <td>-1.041054</td>\n",
       "    </tr>\n",
       "    <tr>\n",
       "      <th>1</th>\n",
       "      <td>INCY</td>\n",
       "      <td>Myelofibrosis</td>\n",
       "      <td>Approved</td>\n",
       "      <td>2011-11-16</td>\n",
       "      <td>Approved November 16, 2011.</td>\n",
       "      <td>-0.349</td>\n",
       "      <td>-1.483000</td>\n",
       "      <td>-0.260818</td>\n",
       "      <td>-1.000006</td>\n",
       "      <td>2.858325e+09</td>\n",
       "      <td>...</td>\n",
       "      <td>0.039642</td>\n",
       "      <td>0.020804</td>\n",
       "      <td>-0.003871</td>\n",
       "      <td>0.010732</td>\n",
       "      <td>0.52645</td>\n",
       "      <td>556849.398882</td>\n",
       "      <td>1825.197219</td>\n",
       "      <td>702536.00</td>\n",
       "      <td>4864.0</td>\n",
       "      <td>0.754430</td>\n",
       "    </tr>\n",
       "    <tr>\n",
       "      <th>2</th>\n",
       "      <td>HALO</td>\n",
       "      <td>Overactive bladder</td>\n",
       "      <td>Approved</td>\n",
       "      <td>2011-12-08</td>\n",
       "      <td>Approved December 8, 2011.</td>\n",
       "      <td>0.341</td>\n",
       "      <td>0.791667</td>\n",
       "      <td>-0.465475</td>\n",
       "      <td>-0.425801</td>\n",
       "      <td>1.283978e+09</td>\n",
       "      <td>...</td>\n",
       "      <td>0.025458</td>\n",
       "      <td>0.015331</td>\n",
       "      <td>-0.001556</td>\n",
       "      <td>0.010211</td>\n",
       "      <td>0.40365</td>\n",
       "      <td>388706.415339</td>\n",
       "      <td>1365.249193</td>\n",
       "      <td>441988.00</td>\n",
       "      <td>2404.0</td>\n",
       "      <td>3.427405</td>\n",
       "    </tr>\n",
       "    <tr>\n",
       "      <th>3</th>\n",
       "      <td>CRIS</td>\n",
       "      <td>Basal Cell Carcinoma</td>\n",
       "      <td>Approved</td>\n",
       "      <td>2012-01-30</td>\n",
       "      <td>Approved January 30, 2012.</td>\n",
       "      <td>16.200</td>\n",
       "      <td>43.900000</td>\n",
       "      <td>-4.322212</td>\n",
       "      <td>-12.690005</td>\n",
       "      <td>4.351435e+08</td>\n",
       "      <td>...</td>\n",
       "      <td>0.031528</td>\n",
       "      <td>0.019181</td>\n",
       "      <td>0.024642</td>\n",
       "      <td>0.008263</td>\n",
       "      <td>17.53000</td>\n",
       "      <td>2242.228571</td>\n",
       "      <td>842.861436</td>\n",
       "      <td>5517.65</td>\n",
       "      <td>2349.0</td>\n",
       "      <td>-2.355933</td>\n",
       "    </tr>\n",
       "    <tr>\n",
       "      <th>4</th>\n",
       "      <td>CORT</td>\n",
       "      <td>Cushing's Syndrome</td>\n",
       "      <td>Approved</td>\n",
       "      <td>2012-02-17</td>\n",
       "      <td>Approved February 17, 2012.</td>\n",
       "      <td>-0.252</td>\n",
       "      <td>-0.435667</td>\n",
       "      <td>-0.199273</td>\n",
       "      <td>-0.173276</td>\n",
       "      <td>3.498192e+08</td>\n",
       "      <td>...</td>\n",
       "      <td>0.112342</td>\n",
       "      <td>0.101775</td>\n",
       "      <td>0.011668</td>\n",
       "      <td>0.044609</td>\n",
       "      <td>0.25200</td>\n",
       "      <td>419064.493780</td>\n",
       "      <td>1502.998882</td>\n",
       "      <td>1456485.00</td>\n",
       "      <td>4305.0</td>\n",
       "      <td>-0.955556</td>\n",
       "    </tr>\n",
       "  </tbody>\n",
       "</table>\n",
       "<p>5 rows × 27 columns</p>\n",
       "</div>"
      ],
      "text/plain": [
       "  ticker               disease     stage       date  \\\n",
       "0   PCRX     Postsurgical pain  Approved 2011-10-31   \n",
       "1   INCY         Myelofibrosis  Approved 2011-11-16   \n",
       "2   HALO    Overactive bladder  Approved 2011-12-08   \n",
       "3   CRIS  Basal Cell Carcinoma  Approved 2012-01-30   \n",
       "4   CORT    Cushing's Syndrome  Approved 2012-02-17   \n",
       "\n",
       "                      catalyst  avg_5_10   avg_5_30  std_5_10   std_5_30  \\\n",
       "0   Approved October 31, 2011.     0.455   0.461667 -0.256693  -0.271868   \n",
       "1  Approved November 16, 2011.    -0.349  -1.483000 -0.260818  -1.000006   \n",
       "2   Approved December 8, 2011.     0.341   0.791667 -0.465475  -0.425801   \n",
       "3   Approved January 30, 2012.    16.200  43.900000 -4.322212 -12.690005   \n",
       "4  Approved February 17, 2012.    -0.252  -0.435667 -0.199273  -0.173276   \n",
       "\n",
       "        mkt_cap  ...    VOL_20  VOL_BVOL_20  avg_5_day_ret  std_5_day_ret  \\\n",
       "0  4.356451e+08  ...  0.057309     0.038122      -0.000519       0.037962   \n",
       "1  2.858325e+09  ...  0.039642     0.020804      -0.003871       0.010732   \n",
       "2  1.283978e+09  ...  0.025458     0.015331      -0.001556       0.010211   \n",
       "3  4.351435e+08  ...  0.031528     0.019181       0.024642       0.008263   \n",
       "4  3.498192e+08  ...  0.112342     0.101775       0.011668       0.044609   \n",
       "\n",
       "     atr_10  volume_std_10  trans_std_10    prev_vol  prev_trans   NCAR_20  \n",
       "0   0.75990  167259.498603    382.814054   610058.00      1105.0 -1.041054  \n",
       "1   0.52645  556849.398882   1825.197219   702536.00      4864.0  0.754430  \n",
       "2   0.40365  388706.415339   1365.249193   441988.00      2404.0  3.427405  \n",
       "3  17.53000    2242.228571    842.861436     5517.65      2349.0 -2.355933  \n",
       "4   0.25200  419064.493780   1502.998882  1456485.00      4305.0 -0.955556  \n",
       "\n",
       "[5 rows x 27 columns]"
      ]
     },
     "execution_count": 3,
     "metadata": {},
     "output_type": "execute_result"
    }
   ],
   "source": [
    "events_df.head()\n"
   ]
  },
  {
   "cell_type": "markdown",
   "metadata": {},
   "source": [
    "## Preparing the Return Classes and Train and Test Sets"
   ]
  },
  {
   "cell_type": "code",
   "execution_count": 4,
   "metadata": {},
   "outputs": [],
   "source": [
    "def scale_X(train_X, test_X, special_exclude_cols=['catalyst', 'date', 'ticker', 'stage', 'disease']):\n",
    "    sc = MinMaxScaler()\n",
    "    tmp_train = train_X.loc[:, ~train_X.columns.isin(special_exclude_cols)]\n",
    "    tmp_cols = train_X.columns[~train_X.columns.isin(special_exclude_cols)]\n",
    "\n",
    "    tmp_test = test_X.loc[:, ~test_X.columns.isin(special_exclude_cols)]\n",
    "\n",
    "    train_features_scaled = sc.fit_transform(tmp_train)\n",
    "    test_features_scaled = sc.transform(tmp_test)\n",
    "\n",
    "    train_features_scaled_df = pd.DataFrame(train_features_scaled, columns = tmp_cols)\n",
    "    X_train_scaled = pd.concat([train_features_scaled_df, train_X[special_exclude_cols].reset_index(drop=True)], axis=1)\n",
    "\n",
    "    test_features_scaled_df = pd.DataFrame(test_features_scaled, columns = tmp_cols)\n",
    "    X_test_scaled = pd.concat([test_features_scaled_df, test_X[special_exclude_cols].reset_index(drop=True)], axis=1)\n",
    "\n",
    "    return X_train_scaled, X_test_scaled\n"
   ]
  },
  {
   "cell_type": "code",
   "execution_count": 51,
   "metadata": {},
   "outputs": [],
   "source": [
    "# Data handling\n",
    "target_col = 'VOL_BVOL_20'\n",
    "exclude_cols = ['quintiles', 'NCAR_20', 'RET_20', 'VOL_BVOL_20', 'VOL_20']\n",
    "test_size = 0.2\n",
    "num_cuts = 3\n",
    "dh = Data_Handler(events_df)\n",
    "quintiles = dh.qcut_data(target_col, num_cuts)\n",
    "dh.df['quintiles'] = quintiles\n",
    "labels = [str(label) for label in quintiles.unique()].sort()\n",
    "X_train, X_test, y_train, y_test = dh.train_test_split('quintiles', cols2exclude=exclude_cols, test_size=test_size)\n"
   ]
  },
  {
   "cell_type": "code",
   "execution_count": 52,
   "metadata": {},
   "outputs": [],
   "source": [
    "X_train_scaled, X_test_scaled = scale_X(train_X=X_train, test_X=X_test)\n"
   ]
  },
  {
   "cell_type": "markdown",
   "metadata": {},
   "source": [
    "# Transferring tabular data into graph"
   ]
  },
  {
   "cell_type": "code",
   "execution_count": 53,
   "metadata": {},
   "outputs": [],
   "source": [
    "def create_graph(X, y):\n",
    "    # Extract features and labels from the DataFrame\n",
    "    feature_col = [i for i in X.columns if i not in exclude_cols + ['catalyst', 'date', 'ticker', 'stage', 'disease']]\n",
    "    features = torch.tensor(X[feature_col].values, dtype=torch.float32)\n",
    "    labels = torch.tensor(y.values, dtype=torch.float32).view(-1, 1)\n",
    "\n",
    "    # Map 'categorical' cols to indices\n",
    "    # Create a DGL graph from edges and node features using vectorized operations\n",
    "    catalyst_matrix = X['catalyst'].astype('category').cat.codes.values[:, None]\n",
    "    ticker_matrix = X['ticker'].astype('category').cat.codes.values[:, None]\n",
    "    disease_matrix = X['disease'].astype('category').cat.codes.values[:, None]\n",
    "    stage_matrix = X['stage'].astype('category').cat.codes.values[:, None]\n",
    "    date_matrix = pd.to_datetime(X['date']).values[:, None]\n",
    "\n",
    "    # Create condition matrices\n",
    "    ticker_condition = ticker_matrix == ticker_matrix.T\n",
    "    date_condition = np.abs(date_matrix - date_matrix.T) < np.timedelta64(365, 'D')\n",
    "    disease_condition = disease_matrix == disease_matrix.T\n",
    "    stage_condition = stage_matrix == stage_matrix.T\n",
    "\n",
    "    # Combine conditions to form the final condition matrix\n",
    "    condition_matrix = np.logical_or(np.logical_and(ticker_condition, date_condition),\n",
    "                                      np.logical_or(disease_condition, stage_condition))\n",
    "\n",
    "    # Create edges between nodes based on shared 'ticker', 'date', 'disease', or 'stage'\n",
    "    src_nodes, dst_nodes = np.where(condition_matrix & (catalyst_matrix != catalyst_matrix.T))\n",
    "\n",
    "    src_nodes = torch.tensor(src_nodes, dtype=torch.long)\n",
    "    dst_nodes = torch.tensor(dst_nodes, dtype=torch.long)\n",
    "\n",
    "    g = dgl.graph((src_nodes, dst_nodes))\n",
    "    g.ndata['features'] = features\n",
    "    g.ndata['labels'] = labels\n",
    "\n",
    "    return g\n"
   ]
  },
  {
   "cell_type": "code",
   "execution_count": 54,
   "metadata": {},
   "outputs": [],
   "source": [
    "def plot_graph_network(g, filename):\n",
    "    # Convert DGL graph to networkx graph\n",
    "    nx_graph = g.to_networkx()\n",
    "\n",
    "    # Visualize the networkx graph\n",
    "    plt.figure(figsize=(16, 9))\n",
    "    pos = nx.spring_layout(nx_graph)  # You can choose a different layout if needed\n",
    "    nx.draw(nx_graph, pos, with_labels=True, node_color='skyblue', node_size=800, font_size=8, font_color='black', font_weight='bold', edge_color='gray', linewidths=0.5)\n",
    "\n",
    "    # Display the plot\n",
    "    plt.savefig(filename)\n",
    "    plt.show()\n"
   ]
  },
  {
   "cell_type": "code",
   "execution_count": 36,
   "metadata": {},
   "outputs": [],
   "source": [
    "\n",
    "# # Define a simple GCN model\n",
    "# class GCN(nn.Module):\n",
    "#     def __init__(input_dim, hidden_dim, output_dim):\n",
    "#         super(GCN, self).__init__()\n",
    "#         layer1 = dgl.nn.GraphConv(input_dim, hidden_dim)\n",
    "#         layer2 = dgl.nn.GraphConv(hidden_dim, hidden_dim)\n",
    "#         fc1 = nn.Linear(hidden_dim, hidden_dim)\n",
    "#         fc2 = nn.Linear(hidden_dim, output_dim)\n",
    "\n",
    "#     def forward(g, features):\n",
    "#         x = F.linear(layer1(g, features))\n",
    "#         x = F.linear(layer2(g, x))\n",
    "#         x = F.linear(fc1(x))\n",
    "#         x = fc2(x)\n",
    "#         return x\n"
   ]
  },
  {
   "cell_type": "code",
   "execution_count": 55,
   "metadata": {},
   "outputs": [],
   "source": [
    "# Convert data to DGL format\n",
    "train_graph = create_graph(X=X_train_scaled, y=y_train)\n",
    "test_graph = create_graph(X=X_test_scaled, y=y_test)\n",
    "example10_graph = create_graph(X=X_train_scaled.head(10), y=y_train.head(10))\n",
    "example100_graph = create_graph(X=X_train_scaled.head(100), y=y_train.head(100))\n"
   ]
  },
  {
   "cell_type": "code",
   "execution_count": 56,
   "metadata": {},
   "outputs": [
    {
     "name": "stdout",
     "output_type": "stream",
     "text": [
      "Graph(num_nodes=1832, num_edges=735974,\n",
      "      ndata_schemes={'features': Scheme(shape=(18,), dtype=torch.float32), 'labels': Scheme(shape=(1,), dtype=torch.float32)}\n",
      "      edata_schemes={})\n",
      "Graph(num_nodes=459, num_edges=36084,\n",
      "      ndata_schemes={'features': Scheme(shape=(18,), dtype=torch.float32), 'labels': Scheme(shape=(1,), dtype=torch.float32)}\n",
      "      edata_schemes={})\n",
      "Graph(num_nodes=10, num_edges=90,\n",
      "      ndata_schemes={'features': Scheme(shape=(18,), dtype=torch.float32), 'labels': Scheme(shape=(1,), dtype=torch.float32)}\n",
      "      edata_schemes={})\n",
      "Graph(num_nodes=100, num_edges=5382,\n",
      "      ndata_schemes={'features': Scheme(shape=(18,), dtype=torch.float32), 'labels': Scheme(shape=(1,), dtype=torch.float32)}\n",
      "      edata_schemes={})\n"
     ]
    }
   ],
   "source": [
    "print(train_graph)\n",
    "print(test_graph)\n",
    "print(example10_graph)\n",
    "print(example100_graph)\n"
   ]
  },
  {
   "cell_type": "code",
   "execution_count": 39,
   "metadata": {},
   "outputs": [],
   "source": [
    "# plot_graph_network(example10_graph, filename='./img/example_graph_10.png')\n"
   ]
  },
  {
   "cell_type": "code",
   "execution_count": 40,
   "metadata": {},
   "outputs": [],
   "source": [
    "# plot_graph_network(example100_graph, filename='./img/example_graph_100.png')\n"
   ]
  },
  {
   "cell_type": "code",
   "execution_count": 57,
   "metadata": {},
   "outputs": [],
   "source": [
    "class GCN(nn.Module):\n",
    "    def __init__(self, input_dim, hidden_dim, output_dim):\n",
    "        super(GCN, self).__init__()\n",
    "        self.layer1 = dgl.nn.GraphConv(input_dim, hidden_dim)\n",
    "        self.layer2 = dgl.nn.GraphConv(hidden_dim, hidden_dim)\n",
    "        self.fc1 = nn.Linear(hidden_dim, hidden_dim)\n",
    "        self.fc2 = nn.Linear(hidden_dim, output_dim)\n",
    "\n",
    "    def forward(self, g, features):\n",
    "        x = F.relu(self.layer1(g, features))\n",
    "        x = F.relu(self.layer2(g, x))\n",
    "        x = F.relu(self.fc1(x))\n",
    "        x = self.fc2(x)\n",
    "        return x\n"
   ]
  },
  {
   "cell_type": "code",
   "execution_count": 42,
   "metadata": {},
   "outputs": [],
   "source": [
    "# from torch_geometric.nn import ARMAConv\n",
    "# class Net(torch.nn.Module):\n",
    "#     def __init__(self, in_channels, hidden_channels, out_channels):\n",
    "#         super().__init__()\n",
    "\n",
    "#         self.conv1 = ARMAConv(in_channels, hidden_channels, num_stacks=3,\n",
    "#                               num_layers=2, shared_weights=True, dropout=0.25)\n",
    "\n",
    "#         self.conv2 = ARMAConv(hidden_channels, out_channels, num_stacks=3,\n",
    "#                               num_layers=2, shared_weights=True, dropout=0.25,\n",
    "#                               act=lambda x: x)\n",
    "\n",
    "#     def forward(self, x, edge_index):\n",
    "#         # x = F.dropout(x, training=self.training)\n",
    "#         x = F.relu(self.conv1(x, edge_index))\n",
    "#         # x = F.dropout(x, training=self.training)\n",
    "#         x = self.conv2(x, edge_index)\n",
    "#         return F.log_softmax(x, dim=1)\n"
   ]
  },
  {
   "cell_type": "code",
   "execution_count": 43,
   "metadata": {},
   "outputs": [],
   "source": [
    "# if torch.cuda.is_available():\n",
    "#     device = torch.device('cuda')\n",
    "# elif hasattr(torch.backends, 'mps') and torch.backends.mps.is_available():\n",
    "#     device = torch.device('mps')\n",
    "# else:\n",
    "#     device = torch.device('cpu')\n",
    "# device\n"
   ]
  },
  {
   "cell_type": "code",
   "execution_count": 44,
   "metadata": {},
   "outputs": [],
   "source": [
    "# #  Instantiate the model\n",
    "# input_dim = X_train_scaled.shape[1] - 5  # Number of input features\n",
    "# hidden_dim = 128\n",
    "# output_dim = 1  # Binary classification\n",
    "\n",
    "# model = Net(input_dim, hidden_dim, output_dim)\n",
    "# optimizer = torch.optim.Adam(model.parameters(), lr=1e-2, weight_decay=5e-4)\n",
    "# criterion = nn.BCEWithLogitsLoss()\n",
    "# print(model)\n"
   ]
  },
  {
   "cell_type": "code",
   "execution_count": 58,
   "metadata": {},
   "outputs": [
    {
     "name": "stdout",
     "output_type": "stream",
     "text": [
      "GCN(\n",
      "  (layer1): GraphConv(in=18, out=256, normalization=both, activation=None)\n",
      "  (layer2): GraphConv(in=256, out=256, normalization=both, activation=None)\n",
      "  (fc1): Linear(in_features=256, out_features=256, bias=True)\n",
      "  (fc2): Linear(in_features=256, out_features=3, bias=True)\n",
      ")\n"
     ]
    }
   ],
   "source": [
    "#  Instantiate the model\n",
    "input_dim = X_train_scaled.shape[1] - 5  # Number of input features\n",
    "hidden_dim = 256\n",
    "output_dim = 3  # Binary classification\n",
    "# model = GCN(input_dim=input_dim, hidden_dim=hidden_dim, output_dim=output_dim)\n",
    "model = GCN(input_dim=input_dim, hidden_dim=hidden_dim, output_dim=output_dim)\n",
    "print(model)\n",
    "\n",
    "# Set up optimizer and loss function\n",
    "optimizer = torch.optim.Adam(model.parameters(), lr=1e-4)\n",
    "criterion = nn.CrossEntropyLoss()\n"
   ]
  },
  {
   "cell_type": "code",
   "execution_count": 59,
   "metadata": {},
   "outputs": [
    {
     "name": "stderr",
     "output_type": "stream",
     "text": [
      "Training:   0%|          | 1/1000 [00:00<03:29,  4.77epoch/s]"
     ]
    },
    {
     "name": "stdout",
     "output_type": "stream",
     "text": [
      "Epoch 1/1000, Loss: 1.1040247678756714\n"
     ]
    },
    {
     "name": "stderr",
     "output_type": "stream",
     "text": [
      "Training:  10%|█         | 102/1000 [00:19<02:57,  5.06epoch/s]"
     ]
    },
    {
     "name": "stdout",
     "output_type": "stream",
     "text": [
      "Epoch 101/1000, Loss: 1.0870970487594604\n"
     ]
    },
    {
     "name": "stderr",
     "output_type": "stream",
     "text": [
      "Training:  20%|██        | 201/1000 [00:49<03:29,  3.82epoch/s]"
     ]
    },
    {
     "name": "stdout",
     "output_type": "stream",
     "text": [
      "Epoch 201/1000, Loss: 1.0501824617385864\n"
     ]
    },
    {
     "name": "stderr",
     "output_type": "stream",
     "text": [
      "Training:  30%|███       | 301/1000 [01:12<02:34,  4.52epoch/s]"
     ]
    },
    {
     "name": "stdout",
     "output_type": "stream",
     "text": [
      "Epoch 301/1000, Loss: 1.0405195951461792\n"
     ]
    },
    {
     "name": "stderr",
     "output_type": "stream",
     "text": [
      "Training:  40%|████      | 401/1000 [01:32<01:57,  5.09epoch/s]"
     ]
    },
    {
     "name": "stdout",
     "output_type": "stream",
     "text": [
      "Epoch 401/1000, Loss: 1.039902687072754\n"
     ]
    },
    {
     "name": "stderr",
     "output_type": "stream",
     "text": [
      "Training:  50%|█████     | 502/1000 [01:53<01:40,  4.97epoch/s]"
     ]
    },
    {
     "name": "stdout",
     "output_type": "stream",
     "text": [
      "Epoch 501/1000, Loss: 1.0391993522644043\n"
     ]
    },
    {
     "name": "stderr",
     "output_type": "stream",
     "text": [
      "Training:  60%|██████    | 601/1000 [02:14<01:21,  4.88epoch/s]"
     ]
    },
    {
     "name": "stdout",
     "output_type": "stream",
     "text": [
      "Epoch 601/1000, Loss: 1.038387417793274\n"
     ]
    },
    {
     "name": "stderr",
     "output_type": "stream",
     "text": [
      "Training:  70%|███████   | 701/1000 [02:35<00:58,  5.15epoch/s]"
     ]
    },
    {
     "name": "stdout",
     "output_type": "stream",
     "text": [
      "Epoch 701/1000, Loss: 1.0374116897583008\n"
     ]
    },
    {
     "name": "stderr",
     "output_type": "stream",
     "text": [
      "Training:  80%|████████  | 802/1000 [02:56<00:40,  4.89epoch/s]"
     ]
    },
    {
     "name": "stdout",
     "output_type": "stream",
     "text": [
      "Epoch 801/1000, Loss: 1.03621506690979\n"
     ]
    },
    {
     "name": "stderr",
     "output_type": "stream",
     "text": [
      "Training:  90%|█████████ | 901/1000 [03:16<00:19,  5.03epoch/s]"
     ]
    },
    {
     "name": "stdout",
     "output_type": "stream",
     "text": [
      "Epoch 901/1000, Loss: 1.0345312356948853\n"
     ]
    },
    {
     "name": "stderr",
     "output_type": "stream",
     "text": [
      "Training: 100%|██████████| 1000/1000 [03:37<00:00,  4.59epoch/s]\n"
     ]
    }
   ],
   "source": [
    "num_epochs = 1_000\n",
    "losses = []\n",
    "\n",
    "for epoch in tqdm(range(num_epochs), desc=\"Training\", unit=\"epoch\"):\n",
    "    model.train()\n",
    "    logits = model(train_graph, train_graph.ndata['features'])\n",
    "\n",
    "    # Use the appropriate format for multi-class labels\n",
    "    labels = torch.tensor(y_train.values, dtype=torch.long)  # Assuming y_train contains class indices\n",
    "\n",
    "    # Calculate the loss using CrossEntropyLoss\n",
    "    loss = criterion(logits, labels)\n",
    "\n",
    "    losses.append(loss.item())\n",
    "\n",
    "    optimizer.zero_grad()\n",
    "    loss.backward()\n",
    "    optimizer.step()\n",
    "\n",
    "    if epoch % 100 == 0:\n",
    "        tqdm.write(f'Epoch {epoch + 1}/{num_epochs}, Loss: {loss.item()}')\n"
   ]
  },
  {
   "cell_type": "code",
   "execution_count": 60,
   "metadata": {},
   "outputs": [
    {
     "data": {
      "image/png": "[encoded data removed]",
      "text/plain": [
       "<Figure size 640x480 with 1 Axes>"
      ]
     },
     "metadata": {},
     "output_type": "display_data"
    }
   ],
   "source": [
    "plt.plot(losses, label='Cross Entropy Loss')\n",
    "plt.title('Cross Entropy Loss during Training')\n",
    "plt.show()\n"
   ]
  },
  {
   "cell_type": "code",
   "execution_count": 61,
   "metadata": {},
   "outputs": [],
   "source": [
    "# Evaluate the model on the test set\n",
    "model.eval()\n",
    "with torch.no_grad():\n",
    "    try:\n",
    "        test_logits = model(test_graph, test_graph.ndata['features'])\n",
    "    except:\n",
    "        test_graph_added_self_node = dgl.add_self_loop(test_graph)\n",
    "        test_logits = model(test_graph_added_self_node, test_graph_added_self_node.ndata['features'])\n",
    "\n",
    "    # For multi-class classification, use the argmax to get the predicted class\n",
    "    predicted_labels = torch.argmax(test_logits, dim=1).numpy()\n",
    "\n",
    "    # Optionally, you can calculate probabilities using softmax\n",
    "    probabilities = F.softmax(test_logits, dim=1).numpy()\n"
   ]
  },
  {
   "cell_type": "code",
   "execution_count": 62,
   "metadata": {},
   "outputs": [],
   "source": [
    "from sklearn.metrics import roc_auc_score, accuracy_score, precision_score, recall_score, f1_score\n",
    "def calculate_metrics(y_test, y_prob, y_pred, model_name):\n",
    "   auc = roc_auc_score(y_test, y_prob, multi_class='ovr')\n",
    "   accuracy = accuracy_score(y_test, y_pred)\n",
    "   precision = precision_score(y_test, y_pred, average='macro')\n",
    "   recall = recall_score(y_test, y_pred, average='macro')\n",
    "   f1 = f1_score(y_test, y_pred, average='macro')\n",
    "\n",
    "   results = {\n",
    "         'Model': model_name,\n",
    "         'AUC': auc,\n",
    "         'Accuracy': accuracy,\n",
    "         'Precision': precision,\n",
    "         'Recall': recall,\n",
    "         'F1 Score': f1\n",
    "   }\n",
    "\n",
    "   return pd.Series(results)\n"
   ]
  },
  {
   "cell_type": "code",
   "execution_count": 63,
   "metadata": {},
   "outputs": [
    {
     "name": "stdout",
     "output_type": "stream",
     "text": [
      "Model             GNN\n",
      "AUC          0.559944\n",
      "Accuracy     0.400871\n",
      "Precision    0.408607\n",
      "Recall       0.406652\n",
      "F1 Score     0.304898\n",
      "dtype: object\n"
     ]
    }
   ],
   "source": [
    "print(calculate_metrics(y_test=y_test, y_prob=probabilities, y_pred=predicted_labels, model_name='GNN'))\n"
   ]
  },
  {
   "cell_type": "code",
   "execution_count": 64,
   "metadata": {},
   "outputs": [
    {
     "data": {
      "text/plain": [
       "array([[0.4993432 , 0.2819745 , 0.21868229],\n",
       "       [0.3065121 , 0.32297686, 0.37051108],\n",
       "       [0.14921932, 0.35266292, 0.49811777],\n",
       "       ...,\n",
       "       [0.05955051, 0.39896062, 0.54148895],\n",
       "       [0.5232942 , 0.30571586, 0.17098995],\n",
       "       [0.06403483, 0.3945327 , 0.54143244]], dtype=float32)"
      ]
     },
     "execution_count": 64,
     "metadata": {},
     "output_type": "execute_result"
    }
   ],
   "source": [
    "probabilities\n"
   ]
  },
  {
   "cell_type": "code",
   "execution_count": null,
   "metadata": {},
   "outputs": [],
   "source": []
  },
  {
   "cell_type": "code",
   "execution_count": null,
   "metadata": {},
   "outputs": [],
   "source": []
  },
  {
   "cell_type": "code",
   "execution_count": null,
   "metadata": {},
   "outputs": [],
   "source": []
  },
  {
   "cell_type": "code",
   "execution_count": null,
   "metadata": {},
   "outputs": [],
   "source": []
  },
  {
   "cell_type": "code",
   "execution_count": null,
   "metadata": {},
   "outputs": [],
   "source": []
  },
  {
   "cell_type": "code",
   "execution_count": null,
   "metadata": {},
   "outputs": [],
   "source": []
  },
  {
   "cell_type": "code",
   "execution_count": null,
   "metadata": {},
   "outputs": [],
   "source": []
  },
  {
   "cell_type": "code",
   "execution_count": null,
   "metadata": {},
   "outputs": [],
   "source": []
  },
  {
   "cell_type": "markdown",
   "metadata": {},
   "source": [
    "# Michele or anyone start working from here!"
   ]
  },
  {
   "cell_type": "code",
   "execution_count": null,
   "metadata": {},
   "outputs": [],
   "source": []
  },
  {
   "cell_type": "code",
   "execution_count": null,
   "metadata": {},
   "outputs": [],
   "source": []
  },
  {
   "cell_type": "code",
   "execution_count": null,
   "metadata": {},
   "outputs": [],
   "source": []
  },
  {
   "cell_type": "code",
   "execution_count": null,
   "metadata": {},
   "outputs": [],
   "source": []
  },
  {
   "cell_type": "markdown",
   "metadata": {},
   "source": [
    "## Exploratory Analysis"
   ]
  },
  {
   "cell_type": "code",
   "execution_count": 44,
   "metadata": {},
   "outputs": [],
   "source": [
    "import seaborn as sns\n",
    "import matplotlib.pyplot as plt\n"
   ]
  },
  {
   "cell_type": "code",
   "execution_count": 45,
   "metadata": {},
   "outputs": [
    {
     "data": {
      "image/png": "[encoded data removed]",
      "text/plain": [
       "<Figure size 1200x1000 with 2 Axes>"
      ]
     },
     "metadata": {},
     "output_type": "display_data"
    }
   ],
   "source": [
    "# Compute the correlation matrix\n",
    "corr = events_df.iloc[:,5:-1].corr()\n",
    "\n",
    "# Generate a mask for the upper triangle\n",
    "mask = np.triu(np.ones_like(corr, dtype=bool))\n",
    "\n",
    "# Set up the matplotlib figure\n",
    "plt.figure(figsize=(12, 10))\n",
    "\n",
    "# Draw the heatmap with the mask and correct aspect ratio\n",
    "sns.heatmap(corr, mask=mask, cmap='coolwarm', vmax=.3, center=0,\n",
    "            square=True, linewidths=.5, annot=True, cbar_kws={\"shrink\": .5})\n",
    "\n",
    "plt.show()\n"
   ]
  },
  {
   "cell_type": "markdown",
   "metadata": {},
   "source": [
    "## Logistic Regression"
   ]
  },
  {
   "cell_type": "code",
   "execution_count": null,
   "metadata": {},
   "outputs": [],
   "source": [
    "# Create and fit the logistic regression model\n",
    "model = LR()\n",
    "param_grid = {\n",
    "   'C': [0.001, 0.01, 0.1, 1, 10, 100],\n",
    "   'penalty': ['none', 'l2']\n",
    "}\n",
    "model.grid_search(param_grid, X_train_scaled.iloc[:, :-5], y_train)\n",
    "\n",
    "# Make predictions on the test set\n",
    "y_pred = model.predict(X_test_scaled.iloc[:, :-5])\n",
    "y_prob = model.predict_prob(X_test_scaled.iloc[:, :-5])\n"
   ]
  },
  {
   "cell_type": "code",
   "execution_count": 66,
   "metadata": {},
   "outputs": [
    {
     "name": "stdout",
     "output_type": "stream",
     "text": [
      "Model        Logistic Regression\n",
      "AUC                     0.628135\n",
      "Accuracy                0.472767\n",
      "Precision                0.45902\n",
      "Recall                  0.480815\n",
      "F1 Score                0.459148\n",
      "dtype: object\n"
     ]
    }
   ],
   "source": [
    "print(calculate_metrics(y_test=y_test, y_prob=y_prob, y_pred=y_pred, model_name='Logistic Regression'))\n"
   ]
  },
  {
   "cell_type": "code",
   "execution_count": 85,
   "metadata": {},
   "outputs": [],
   "source": [
    "# lr_fit_metrics = model.results.calculate_metrics(y_test, y_prob, y_pred, \"Logistic Regression\")\n",
    "# model.results.print_confusion_matrix(y_test, y_pred, labels)\n",
    "# model.results.plot_roc_curve(y_test, y_prob, \"Logistic Regression\")\n",
    "# print(lr_fit_metrics)\n"
   ]
  },
  {
   "cell_type": "code",
   "execution_count": 22,
   "metadata": {},
   "outputs": [],
   "source": [
    "trading_data = events_df.loc[X_test.index].reset_index(drop=True)\n",
    "trading_data['lr_preds'] = y_pred\n",
    "trading_data['lr_signal'] = np.where(y_pred > 2, 1, np.where(y_pred < 2, -1, 0))\n",
    "ts = Trading_Strategy()\n",
    "lr_portfolio = ts.buy_short('lr_signal', trading_data, stock_df, 20)\n"
   ]
  },
  {
   "cell_type": "code",
   "execution_count": 23,
   "metadata": {},
   "outputs": [
    {
     "data": {
      "application/vnd.plotly.v1+json": {
       "config": {
        "plotlyServerURL": "https://plot.ly"
       },
       "data": [
        {
         "hovertemplate": "variable=0<br>index=%{x}<br>value=%{y}<extra></extra>",
         "legendgroup": "0",
         "line": {
          "color": "#636efa",
          "dash": "solid"
         },
         "marker": {
          "symbol": "circle"
         },
         "mode": "lines",
         "name": "0",
         "orientation": "v",
         "showlegend": true,
         "type": "scatter",
         "x": [
          0,
          1,
          2,
          3,
          4,
          5,
          6,
          7,
          8,
          9,
          10,
          11,
          12,
          13,
          14,
          15,
          16,
          17,
          18,
          19,
          20,
          21,
          22,
          23,
          24,
          25,
          26,
          27,
          28,
          29,
          30,
          31,
          32,
          33,
          34,
          35,
          36,
          37,
          38,
          39,
          40,
          41,
          42,
          43,
          44,
          45,
          46,
          47,
          48,
          49,
          50,
          51,
          52,
          53,
          54,
          55,
          56,
          57,
          58,
          59,
          60,
          61,
          62,
          63,
          64,
          65,
          66,
          67,
          68,
          69,
          70,
          71,
          72,
          73,
          74,
          75,
          76,
          77,
          78,
          79,
          80,
          81,
          82,
          83,
          84,
          85,
          86,
          87,
          88,
          89,
          90,
          91,
          92,
          93,
          94,
          95,
          96,
          97,
          98,
          99,
          100,
          101,
          102,
          103,
          104,
          105,
          106,
          107,
          108,
          109,
          110,
          111,
          112,
          113,
          114,
          115,
          116,
          117,
          118,
          119,
          120,
          121,
          122,
          123,
          124,
          125,
          126,
          127,
          128,
          129,
          130,
          131,
          132,
          133,
          134,
          135,
          136,
          137,
          138,
          139,
          140,
          141,
          142,
          143,
          144,
          145,
          146,
          147,
          148,
          149,
          150,
          151,
          152,
          153,
          154,
          155,
          156,
          157,
          158,
          159,
          160,
          161,
          162,
          163,
          164,
          165,
          166,
          167,
          168,
          169,
          170,
          171,
          172,
          173,
          174,
          175,
          176,
          177,
          178,
          179,
          180,
          181,
          182,
          183,
          184,
          185,
          186,
          187,
          188,
          189,
          190,
          191,
          192,
          193,
          194,
          195,
          196,
          197,
          198,
          199,
          200,
          201,
          202,
          203,
          204,
          205,
          206,
          207,
          208,
          209,
          210,
          211,
          212,
          213,
          214,
          215,
          216,
          217,
          218,
          219,
          220,
          221,
          222,
          223,
          224,
          225,
          226,
          227,
          228,
          229,
          230,
          231,
          232,
          233,
          234,
          235,
          236,
          237,
          238,
          239,
          240,
          241,
          242,
          243,
          244,
          245,
          246,
          247,
          248,
          249,
          250,
          251,
          252,
          253,
          254,
          255,
          256,
          257,
          258,
          259,
          260,
          261,
          262,
          263,
          264,
          265,
          266,
          267,
          268,
          269,
          270,
          271,
          272,
          273,
          274,
          275,
          276,
          277,
          278,
          279,
          280,
          281,
          282,
          283,
          284,
          285,
          286,
          287,
          288,
          289,
          290,
          291,
          292,
          293,
          294,
          295,
          296,
          297,
          298,
          299,
          300,
          301,
          302,
          303,
          304,
          305,
          306,
          307,
          308,
          309,
          310,
          311,
          312,
          313,
          314,
          315,
          316,
          317,
          318,
          319,
          320,
          321,
          322,
          323,
          324,
          325,
          326,
          327,
          328,
          329,
          330,
          331,
          332,
          333,
          334,
          335,
          336,
          337,
          338,
          339,
          340,
          341,
          342,
          343,
          344,
          345,
          346,
          347,
          348,
          349,
          350,
          351,
          352,
          353,
          354,
          355,
          356,
          357,
          358,
          359,
          360,
          361,
          362,
          363,
          364,
          365,
          366,
          367,
          368,
          369,
          370,
          371,
          372,
          373,
          374,
          375,
          376,
          377,
          378,
          379,
          380,
          381,
          382,
          383,
          384,
          385,
          386,
          387,
          388,
          389,
          390,
          391,
          392,
          393,
          394,
          395,
          396,
          397,
          398,
          399,
          400,
          401,
          402,
          403,
          404,
          405,
          406,
          407,
          408,
          409,
          410,
          411,
          412,
          413,
          414,
          415,
          416,
          417,
          418,
          419,
          420,
          421,
          422,
          423,
          424,
          425,
          426,
          427,
          428,
          429,
          430,
          431,
          432,
          433,
          434,
          435,
          436,
          437,
          438,
          439,
          440,
          441,
          442,
          443,
          444,
          445,
          446,
          447,
          448,
          449,
          450,
          451,
          452,
          453,
          454,
          455,
          456,
          457,
          458,
          459
         ],
         "xaxis": "x",
         "y": [
          1,
          1.0709969788519638,
          1.0642185169604954,
          1.0642185169604954,
          1.0642185169604954,
          1.0642185169604954,
          1.0642185169604954,
          1.0642185169604954,
          1.0642185169604954,
          1.0642185169604954,
          1.0642185169604954,
          1.0642185169604954,
          1.2098625584990845,
          1.172054353545988,
          1.172054353545988,
          1.8998656471223665,
          1.8899556415366339,
          1.8800973281381137,
          2.240854011028084,
          2.3335962911265615,
          2.941370680416788,
          2.941370680416788,
          2.6473386238238925,
          2.3826992754944785,
          2.3702707318419125,
          2.4151758305809605,
          2.402577883979928,
          2.402577883979928,
          2.402577883979928,
          2.773885375140462,
          2.4965958695926833,
          2.4257917042663117,
          2.563242773667171,
          2.9593802932339157,
          3.4167390658246117,
          3.944780557815688,
          4.5924310971585625,
          5.302170448537613,
          6.121596790584334,
          7.0676617491291855,
          8.159936746721877,
          9.421017880306167,
          10.5472496193181,
          10.5472496193181,
          10.5472496193181,
          10.875844445576636,
          10.875844445576636,
          10.875844445576636,
          10.875844445576636,
          10.875844445576636,
          15.247933912698443,
          15.247933912698443,
          15.247933912698443,
          17.222740387783162,
          15.687146402159138,
          15.687146402159138,
          15.861272144261811,
          15.861272144261811,
          17.042256212914193,
          18.31117291129043,
          18.31117291129043,
          18.31117291129043,
          22.752367871412133,
          22.752367871412133,
          24.904080419671775,
          25.40133026468809,
          25.40133026468809,
          25.40133026468809,
          25.40133026468809,
          29.004774790608963,
          33.119405632997676,
          33.119405632997676,
          28.653867794840686,
          32.6582903127532,
          28.026240540600533,
          27.03094563977875,
          27.03094563977875,
          29.115594403771972,
          29.115594403771972,
          29.115594403771972,
          29.115594403771972,
          29.115594403771972,
          29.57034453522762,
          33.58291505556534,
          34.10743929588803,
          36.59444007787986,
          36.87989232957278,
          36.87989232957278,
          36.87989232957278,
          36.87989232957278,
          36.87989232957278,
          37.45591134029133,
          37.45591134029133,
          39.81105933266757,
          43.16861855349496,
          45.882969417801775,
          48.76799288784493,
          51.834420493852114,
          55.09365854183314,
          54.20745247855569,
          60.20909018313931,
          72.02129728262808,
          70.96574275650163,
          -6.099960939118187,
          -6.336809644728509,
          -5.4969914990416,
          -5.4969914990416,
          -5.133369371056216,
          -5.133369371056216,
          -5.133369371056216,
          -4.031558531217132,
          -4.2621917169625885,
          -4.8785380681900214,
          -4.750155487448179,
          -5.43283704201259,
          -5.221560045934322,
          -5.221560045934322,
          -5.221560045934322,
          -5.97663858198855,
          -6.840907396540816,
          -7.830156260256277,
          -8.001870213332072,
          -8.001870213332072,
          -7.810743865190234,
          -7.810743865190234,
          -7.8988349614141855,
          -8.64146047060697,
          -8.403014181809278,
          -8.382405266170402,
          -8.555306053644934,
          -8.555306053644934,
          -8.555306053644934,
          -8.571733804124195,
          -8.571733804124195,
          -8.571733804124195,
          -8.571733804124195,
          -8.571733804124195,
          -8.571733804124195,
          -8.571733804124195,
          -8.562766773730202,
          -8.562766773730202,
          -8.579208850154926,
          -8.579208850154926,
          -8.595682498369973,
          -12.281046370838858,
          -12.343775892596831,
          -15.679931539244622,
          -15.679931539244622,
          -22.402638343326295,
          -32.00767831707328,
          -45.73084007109533,
          -65.33775155108856,
          -93.35104649542743,
          -133.3749275865044,
          -151.8798259165692,
          -216.99768287509823,
          -216.99768287509823,
          -216.99768287509823,
          -276.25166270077085,
          -351.6856960581769,
          -447.7179525463876,
          -535.8592944347145,
          -641.3528468066493,
          -634.581783533092,
          -634.581783533092,
          -634.581783533092,
          -593.7507840564319,
          -595.2232990899143,
          -574.4596956332894,
          -681.0959265592292,
          -597.1090014971372,
          -597.1090014971372,
          -621.0532221085513,
          -621.0532221085513,
          -662.3570026632405,
          -662.3570026632405,
          -695.0659904490794,
          -695.0659904490794,
          -700.1234679444644,
          -710.5154951308662,
          -551.715735682716,
          -551.715735682716,
          -546.8271152399577,
          -546.8271152399577,
          -578.7374508773026,
          -512.7389033523266,
          -512.7389033523266,
          -618.3995067793558,
          -555.0694368079759,
          -614.9166514613856,
          -588.1006805420574,
          -564.1914951113896,
          -590.9138439071927,
          -590.9138439071927,
          -614.3466342690296,
          -735.9579134076087,
          -735.9579134076087,
          -735.9579134076087,
          -735.9579134076087,
          -735.9579134076087,
          -735.9579134076087,
          -735.9579134076087,
          -797.8894661207772,
          -877.6562552914188,
          -872.5237625704164,
          -872.5237625704164,
          -937.3756185316645,
          -792.7898703977737,
          -792.7898703977737,
          -1323.697201024511,
          -1205.691912927218,
          -1205.691912927218,
          -1098.2065896739598,
          -1098.2065896739598,
          -1000.3033948160131,
          -1000.3033948160131,
          -797.0391678334507,
          -698.060447644983,
          -450.6658774900697,
          -450.6658774900697,
          -510.7972169512093,
          -514.8458078385371,
          -655.2583008854108,
          -655.2583008854108,
          -638.0651146988941,
          -682.5982634364599,
          -682.0607844888721,
          -682.0607844888721,
          -722.3213169066181,
          -722.3213169066181,
          -722.3213169066181,
          -706.158438400356,
          -706.158438400356,
          -706.158438400356,
          -721.2904049375064,
          -721.2904049375064,
          -721.2904049375064,
          -721.2904049375064,
          -786.206541381882,
          -786.206541381882,
          -786.206541381882,
          -786.206541381882,
          -786.206541381882,
          -786.206541381882,
          -786.206541381882,
          -786.206541381882,
          -786.206541381882,
          -786.206541381882,
          -786.206541381882,
          -786.206541381882,
          -786.206541381882,
          -786.206541381882,
          -802.0612403184086,
          -638.1022171266568,
          -507.66003770524014,
          -507.66003770524014,
          -507.66003770524014,
          -507.66003770524014,
          -507.66003770524014,
          -487.5021678695044,
          -497.3331724410128,
          -395.66729325962723,
          -396.1044946886435,
          -404.09236706077513,
          -365.22252984826247,
          -310.6098151045971,
          -289.77517127421606,
          -270.3380440786286,
          -301.8615615860305,
          -295.3064788154327,
          -301.26165098608794,
          -290.29792530133943,
          -271.5690268948014,
          -293.6321593960693,
          -356.3740737969388,
          -367.4404266148437,
          -372.4957257500226,
          -365.50316265882486,
          -380.0087712029871,
          -380.0087712029871,
          -463.9223799859811,
          -463.4971532398895,
          -463.4971532398895,
          -550.1321351538875,
          -550.1321351538875,
          -533.2218028049787,
          -533.2218028049787,
          -536.6917498334954,
          -540.1842775823003,
          -543.699532995691,
          -547.2376639742068,
          -547.2376639742068,
          -547.2376639742068,
          -547.2376639742068,
          -547.2376639742068,
          -547.2376639742068,
          -547.2376639742068,
          -547.2376639742068,
          -640.8969218671028,
          -640.8969218671028,
          -640.8969218671028,
          -640.8969218671028,
          -754.427233740704,
          -801.8696368489356,
          -801.8696368489356,
          -801.8696368489356,
          -801.8696368489356,
          -787.9635093107447,
          -787.9635093107447,
          -841.0985290185785,
          -801.1335946880907,
          -801.1335946880907,
          -801.1335946880907,
          -852.699225545495,
          -1437.1968146008167,
          -1437.1968146008167,
          -1437.1968146008167,
          -1287.4888130798981,
          -1287.4888130798981,
          -1268.2969254304674,
          -1208.8899733324247,
          -1190.8697153596827,
          -1173.118075461842,
          -1155.6310494969935,
          -1069.1116137584775,
          -1066.6101827482798,
          -1068.9979063599103,
          -1071.3909751521303,
          -1158.816015545522,
          -1158.816015545522,
          -1158.816015545522,
          -866.6359090618218,
          -900.9993871727025,
          -966.6808911556448,
          -1017.7059851935061,
          -968.1595117767572,
          -1039.688466340909,
          -1108.6144268186488,
          -1189.3546874119984,
          -1189.3546874119984,
          -1249.1697349619205,
          -1289.7651711297826,
          -1227.5006456269655,
          -1345.8139608681186,
          -1345.8139608681186,
          -1237.9121398872994,
          -1287.643680794824,
          -1339.3731229114455,
          -1475.4346017498563,
          -1475.4346017498563,
          -1475.4346017498563,
          -1475.4346017498563,
          -1610.1965192354833,
          -1610.1965192354833,
          -1677.5535245624624,
          -1677.5535245624624,
          -1677.5535245624624,
          -1677.5535245624624,
          -2511.6551376768803,
          -2511.6551376768803,
          -3760.4830118693358,
          -4738.769396067324,
          -4738.769396067324,
          -4738.769396067324,
          -4738.769396067324,
          -4738.769396067324,
          -4738.769396067324,
          -6621.861164810235,
          -6686.785732002653,
          -6686.785732002653,
          -6686.785732002653,
          -6686.785732002653,
          -5649.797570355183,
          -6898.549534923871,
          -10457.859018108145,
          -14795.729205275858,
          -14795.729205275858,
          -16348.367455212214,
          -16348.367455212214,
          -18683.84852024253,
          -19974.29686401853,
          -24770.03042537003,
          -24086.195229577606,
          -24705.23295744058,
          -33864.24615141855,
          -41975.539396258326,
          -45165.39040391872,
          -45165.39040391872,
          -45165.39040391872,
          -50291.52367062115,
          -58063.85005608078,
          -67037.3541556569,
          -83782.30699625445,
          -83782.30699625445,
          -86918.20430915774,
          -100351.01770239121,
          -100351.01770239121,
          -100351.01770239121,
          -115859.81134730621,
          -115859.81134730621,
          -115859.81134730621,
          -118385.92391056508,
          -118385.92391056508,
          -123718.62318581576,
          -142838.77404180547,
          -142838.77404180547,
          -142838.77404180547,
          -142838.77404180547,
          -204118.37154739484,
          -204118.37154739484,
          -267819.74253366236,
          -282198.49839489494,
          -358531.2435102709,
          -368513.17224332725,
          -330734.9490498563,
          -348692.150015246,
          -348692.150015246,
          -227970.29282295064,
          -227970.29282295064,
          -217177.72937007886,
          -217177.72937007886,
          -217177.72937007886,
          -226644.1615129477,
          -226644.1615129477,
          -226644.1615129477,
          -230104.37771925225,
          -189680.63568749174,
          -189680.63568749174,
          -189680.63568749174,
          -177931.97132714832,
          -184072.74934831282,
          -190425.45754944417,
          -196997.41005279624,
          -203796.17340519198,
          -203796.17340519198,
          -203796.17340519198,
          -203796.17340519198,
          -203796.17340519198,
          -203796.17340519198,
          -203796.17340519198,
          -203796.17340519198,
          -203796.17340519198,
          -203796.17340519198,
          -203796.17340519198,
          -203796.17340519198,
          -203796.17340519198,
          -203796.17340519198,
          -286824.2440517517,
          -286824.2440517517,
          -286824.2440517517,
          -286824.2440517517,
          -378465.18509733217,
          -378465.18509733217,
          -378465.18509733217,
          -479589.4805863019,
          -473841.76389662904,
          -509676.0472913116,
          -605852.897561427,
          -605852.897561427,
          -605852.897561427
         ],
         "yaxis": "y"
        }
       ],
       "layout": {
        "legend": {
         "title": {
          "text": "variable"
         },
         "tracegroupgap": 0
        },
        "margin": {
         "t": 60
        },
        "template": {
         "data": {
          "bar": [
           {
            "error_x": {
             "color": "#2a3f5f"
            },
            "error_y": {
             "color": "#2a3f5f"
            },
            "marker": {
             "line": {
              "color": "#E5ECF6",
              "width": 0.5
             },
             "pattern": {
              "fillmode": "overlay",
              "size": 10,
              "solidity": 0.2
             }
            },
            "type": "bar"
           }
          ],
          "barpolar": [
           {
            "marker": {
             "line": {
              "color": "#E5ECF6",
              "width": 0.5
             },
             "pattern": {
              "fillmode": "overlay",
              "size": 10,
              "solidity": 0.2
             }
            },
            "type": "barpolar"
           }
          ],
          "carpet": [
           {
            "aaxis": {
             "endlinecolor": "#2a3f5f",
             "gridcolor": "white",
             "linecolor": "white",
             "minorgridcolor": "white",
             "startlinecolor": "#2a3f5f"
            },
            "baxis": {
             "endlinecolor": "#2a3f5f",
             "gridcolor": "white",
             "linecolor": "white",
             "minorgridcolor": "white",
             "startlinecolor": "#2a3f5f"
            },
            "type": "carpet"
           }
          ],
          "choropleth": [
           {
            "colorbar": {
             "outlinewidth": 0,
             "ticks": ""
            },
            "type": "choropleth"
           }
          ],
          "contour": [
           {
            "colorbar": {
             "outlinewidth": 0,
             "ticks": ""
            },
            "colorscale": [
             [
              0,
              "#0d0887"
             ],
             [
              0.1111111111111111,
              "#46039f"
             ],
             [
              0.2222222222222222,
              "#7201a8"
             ],
             [
              0.3333333333333333,
              "#9c179e"
             ],
             [
              0.4444444444444444,
              "#bd3786"
             ],
             [
              0.5555555555555556,
              "#d8576b"
             ],
             [
              0.6666666666666666,
              "#ed7953"
             ],
             [
              0.7777777777777778,
              "#fb9f3a"
             ],
             [
              0.8888888888888888,
              "#fdca26"
             ],
             [
              1,
              "#f0f921"
             ]
            ],
            "type": "contour"
           }
          ],
          "contourcarpet": [
           {
            "colorbar": {
             "outlinewidth": 0,
             "ticks": ""
            },
            "type": "contourcarpet"
           }
          ],
          "heatmap": [
           {
            "colorbar": {
             "outlinewidth": 0,
             "ticks": ""
            },
            "colorscale": [
             [
              0,
              "#0d0887"
             ],
             [
              0.1111111111111111,
              "#46039f"
             ],
             [
              0.2222222222222222,
              "#7201a8"
             ],
             [
              0.3333333333333333,
              "#9c179e"
             ],
             [
              0.4444444444444444,
              "#bd3786"
             ],
             [
              0.5555555555555556,
              "#d8576b"
             ],
             [
              0.6666666666666666,
              "#ed7953"
             ],
             [
              0.7777777777777778,
              "#fb9f3a"
             ],
             [
              0.8888888888888888,
              "#fdca26"
             ],
             [
              1,
              "#f0f921"
             ]
            ],
            "type": "heatmap"
           }
          ],
          "heatmapgl": [
           {
            "colorbar": {
             "outlinewidth": 0,
             "ticks": ""
            },
            "colorscale": [
             [
              0,
              "#0d0887"
             ],
             [
              0.1111111111111111,
              "#46039f"
             ],
             [
              0.2222222222222222,
              "#7201a8"
             ],
             [
              0.3333333333333333,
              "#9c179e"
             ],
             [
              0.4444444444444444,
              "#bd3786"
             ],
             [
              0.5555555555555556,
              "#d8576b"
             ],
             [
              0.6666666666666666,
              "#ed7953"
             ],
             [
              0.7777777777777778,
              "#fb9f3a"
             ],
             [
              0.8888888888888888,
              "#fdca26"
             ],
             [
              1,
              "#f0f921"
             ]
            ],
            "type": "heatmapgl"
           }
          ],
          "histogram": [
           {
            "marker": {
             "pattern": {
              "fillmode": "overlay",
              "size": 10,
              "solidity": 0.2
             }
            },
            "type": "histogram"
           }
          ],
          "histogram2d": [
           {
            "colorbar": {
             "outlinewidth": 0,
             "ticks": ""
            },
            "colorscale": [
             [
              0,
              "#0d0887"
             ],
             [
              0.1111111111111111,
              "#46039f"
             ],
             [
              0.2222222222222222,
              "#7201a8"
             ],
             [
              0.3333333333333333,
              "#9c179e"
             ],
             [
              0.4444444444444444,
              "#bd3786"
             ],
             [
              0.5555555555555556,
              "#d8576b"
             ],
             [
              0.6666666666666666,
              "#ed7953"
             ],
             [
              0.7777777777777778,
              "#fb9f3a"
             ],
             [
              0.8888888888888888,
              "#fdca26"
             ],
             [
              1,
              "#f0f921"
             ]
            ],
            "type": "histogram2d"
           }
          ],
          "histogram2dcontour": [
           {
            "colorbar": {
             "outlinewidth": 0,
             "ticks": ""
            },
            "colorscale": [
             [
              0,
              "#0d0887"
             ],
             [
              0.1111111111111111,
              "#46039f"
             ],
             [
              0.2222222222222222,
              "#7201a8"
             ],
             [
              0.3333333333333333,
              "#9c179e"
             ],
             [
              0.4444444444444444,
              "#bd3786"
             ],
             [
              0.5555555555555556,
              "#d8576b"
             ],
             [
              0.6666666666666666,
              "#ed7953"
             ],
             [
              0.7777777777777778,
              "#fb9f3a"
             ],
             [
              0.8888888888888888,
              "#fdca26"
             ],
             [
              1,
              "#f0f921"
             ]
            ],
            "type": "histogram2dcontour"
           }
          ],
          "mesh3d": [
           {
            "colorbar": {
             "outlinewidth": 0,
             "ticks": ""
            },
            "type": "mesh3d"
           }
          ],
          "parcoords": [
           {
            "line": {
             "colorbar": {
              "outlinewidth": 0,
              "ticks": ""
             }
            },
            "type": "parcoords"
           }
          ],
          "pie": [
           {
            "automargin": true,
            "type": "pie"
           }
          ],
          "scatter": [
           {
            "fillpattern": {
             "fillmode": "overlay",
             "size": 10,
             "solidity": 0.2
            },
            "type": "scatter"
           }
          ],
          "scatter3d": [
           {
            "line": {
             "colorbar": {
              "outlinewidth": 0,
              "ticks": ""
             }
            },
            "marker": {
             "colorbar": {
              "outlinewidth": 0,
              "ticks": ""
             }
            },
            "type": "scatter3d"
           }
          ],
          "scattercarpet": [
           {
            "marker": {
             "colorbar": {
              "outlinewidth": 0,
              "ticks": ""
             }
            },
            "type": "scattercarpet"
           }
          ],
          "scattergeo": [
           {
            "marker": {
             "colorbar": {
              "outlinewidth": 0,
              "ticks": ""
             }
            },
            "type": "scattergeo"
           }
          ],
          "scattergl": [
           {
            "marker": {
             "colorbar": {
              "outlinewidth": 0,
              "ticks": ""
             }
            },
            "type": "scattergl"
           }
          ],
          "scattermapbox": [
           {
            "marker": {
             "colorbar": {
              "outlinewidth": 0,
              "ticks": ""
             }
            },
            "type": "scattermapbox"
           }
          ],
          "scatterpolar": [
           {
            "marker": {
             "colorbar": {
              "outlinewidth": 0,
              "ticks": ""
             }
            },
            "type": "scatterpolar"
           }
          ],
          "scatterpolargl": [
           {
            "marker": {
             "colorbar": {
              "outlinewidth": 0,
              "ticks": ""
             }
            },
            "type": "scatterpolargl"
           }
          ],
          "scatterternary": [
           {
            "marker": {
             "colorbar": {
              "outlinewidth": 0,
              "ticks": ""
             }
            },
            "type": "scatterternary"
           }
          ],
          "surface": [
           {
            "colorbar": {
             "outlinewidth": 0,
             "ticks": ""
            },
            "colorscale": [
             [
              0,
              "#0d0887"
             ],
             [
              0.1111111111111111,
              "#46039f"
             ],
             [
              0.2222222222222222,
              "#7201a8"
             ],
             [
              0.3333333333333333,
              "#9c179e"
             ],
             [
              0.4444444444444444,
              "#bd3786"
             ],
             [
              0.5555555555555556,
              "#d8576b"
             ],
             [
              0.6666666666666666,
              "#ed7953"
             ],
             [
              0.7777777777777778,
              "#fb9f3a"
             ],
             [
              0.8888888888888888,
              "#fdca26"
             ],
             [
              1,
              "#f0f921"
             ]
            ],
            "type": "surface"
           }
          ],
          "table": [
           {
            "cells": {
             "fill": {
              "color": "#EBF0F8"
             },
             "line": {
              "color": "white"
             }
            },
            "header": {
             "fill": {
              "color": "#C8D4E3"
             },
             "line": {
              "color": "white"
             }
            },
            "type": "table"
           }
          ]
         },
         "layout": {
          "annotationdefaults": {
           "arrowcolor": "#2a3f5f",
           "arrowhead": 0,
           "arrowwidth": 1
          },
          "autotypenumbers": "strict",
          "coloraxis": {
           "colorbar": {
            "outlinewidth": 0,
            "ticks": ""
           }
          },
          "colorscale": {
           "diverging": [
            [
             0,
             "#8e0152"
            ],
            [
             0.1,
             "#c51b7d"
            ],
            [
             0.2,
             "#de77ae"
            ],
            [
             0.3,
             "#f1b6da"
            ],
            [
             0.4,
             "#fde0ef"
            ],
            [
             0.5,
             "#f7f7f7"
            ],
            [
             0.6,
             "#e6f5d0"
            ],
            [
             0.7,
             "#b8e186"
            ],
            [
             0.8,
             "#7fbc41"
            ],
            [
             0.9,
             "#4d9221"
            ],
            [
             1,
             "#276419"
            ]
           ],
           "sequential": [
            [
             0,
             "#0d0887"
            ],
            [
             0.1111111111111111,
             "#46039f"
            ],
            [
             0.2222222222222222,
             "#7201a8"
            ],
            [
             0.3333333333333333,
             "#9c179e"
            ],
            [
             0.4444444444444444,
             "#bd3786"
            ],
            [
             0.5555555555555556,
             "#d8576b"
            ],
            [
             0.6666666666666666,
             "#ed7953"
            ],
            [
             0.7777777777777778,
             "#fb9f3a"
            ],
            [
             0.8888888888888888,
             "#fdca26"
            ],
            [
             1,
             "#f0f921"
            ]
           ],
           "sequentialminus": [
            [
             0,
             "#0d0887"
            ],
            [
             0.1111111111111111,
             "#46039f"
            ],
            [
             0.2222222222222222,
             "#7201a8"
            ],
            [
             0.3333333333333333,
             "#9c179e"
            ],
            [
             0.4444444444444444,
             "#bd3786"
            ],
            [
             0.5555555555555556,
             "#d8576b"
            ],
            [
             0.6666666666666666,
             "#ed7953"
            ],
            [
             0.7777777777777778,
             "#fb9f3a"
            ],
            [
             0.8888888888888888,
             "#fdca26"
            ],
            [
             1,
             "#f0f921"
            ]
           ]
          },
          "colorway": [
           "#636efa",
           "#EF553B",
           "#00cc96",
           "#ab63fa",
           "#FFA15A",
           "#19d3f3",
           "#FF6692",
           "#B6E880",
           "#FF97FF",
           "#FECB52"
          ],
          "font": {
           "color": "#2a3f5f"
          },
          "geo": {
           "bgcolor": "white",
           "lakecolor": "white",
           "landcolor": "#E5ECF6",
           "showlakes": true,
           "showland": true,
           "subunitcolor": "white"
          },
          "hoverlabel": {
           "align": "left"
          },
          "hovermode": "closest",
          "mapbox": {
           "style": "light"
          },
          "paper_bgcolor": "white",
          "plot_bgcolor": "#E5ECF6",
          "polar": {
           "angularaxis": {
            "gridcolor": "white",
            "linecolor": "white",
            "ticks": ""
           },
           "bgcolor": "#E5ECF6",
           "radialaxis": {
            "gridcolor": "white",
            "linecolor": "white",
            "ticks": ""
           }
          },
          "scene": {
           "xaxis": {
            "backgroundcolor": "#E5ECF6",
            "gridcolor": "white",
            "gridwidth": 2,
            "linecolor": "white",
            "showbackground": true,
            "ticks": "",
            "zerolinecolor": "white"
           },
           "yaxis": {
            "backgroundcolor": "#E5ECF6",
            "gridcolor": "white",
            "gridwidth": 2,
            "linecolor": "white",
            "showbackground": true,
            "ticks": "",
            "zerolinecolor": "white"
           },
           "zaxis": {
            "backgroundcolor": "#E5ECF6",
            "gridcolor": "white",
            "gridwidth": 2,
            "linecolor": "white",
            "showbackground": true,
            "ticks": "",
            "zerolinecolor": "white"
           }
          },
          "shapedefaults": {
           "line": {
            "color": "#2a3f5f"
           }
          },
          "ternary": {
           "aaxis": {
            "gridcolor": "white",
            "linecolor": "white",
            "ticks": ""
           },
           "baxis": {
            "gridcolor": "white",
            "linecolor": "white",
            "ticks": ""
           },
           "bgcolor": "#E5ECF6",
           "caxis": {
            "gridcolor": "white",
            "linecolor": "white",
            "ticks": ""
           }
          },
          "title": {
           "x": 0.05
          },
          "xaxis": {
           "automargin": true,
           "gridcolor": "white",
           "linecolor": "white",
           "ticks": "",
           "title": {
            "standoff": 15
           },
           "zerolinecolor": "white",
           "zerolinewidth": 2
          },
          "yaxis": {
           "automargin": true,
           "gridcolor": "white",
           "linecolor": "white",
           "ticks": "",
           "title": {
            "standoff": 15
           },
           "zerolinecolor": "white",
           "zerolinewidth": 2
          }
         }
        },
        "xaxis": {
         "anchor": "y",
         "domain": [
          0,
          1
         ],
         "title": {
          "text": "index"
         }
        },
        "yaxis": {
         "anchor": "x",
         "domain": [
          0,
          1
         ],
         "title": {
          "text": "value"
         }
        }
       }
      }
     },
     "metadata": {},
     "output_type": "display_data"
    }
   ],
   "source": [
    "px.line(np.array(lr_portfolio))\n"
   ]
  },
  {
   "cell_type": "markdown",
   "metadata": {},
   "source": [
    "## XGBoost"
   ]
  },
  {
   "cell_type": "code",
   "execution_count": 67,
   "metadata": {},
   "outputs": [
    {
     "name": "stdout",
     "output_type": "stream",
     "text": [
      "Best Hyperparameters: {'learning_rate': 0.1, 'max_depth': 3, 'n_estimators': 50}\n"
     ]
    }
   ],
   "source": [
    "# Create and fit the XGBoost model\n",
    "model = XGB()\n",
    "param_grid = {\n",
    "    'learning_rate': [0.01, 0.1, 0.2],\n",
    "    'max_depth': [3, 5, 7],\n",
    "    'n_estimators': [50, 100, 200]\n",
    "}\n",
    "model.grid_search(param_grid, X_train_scaled.iloc[:, :-5], y_train)\n",
    "\n",
    "# Make predictions on the test set\n",
    "y_pred = model.predict(X_test_scaled.iloc[:, :-5])\n",
    "y_prob = model.predict_prob(X_test_scaled.iloc[:, :-5])\n"
   ]
  },
  {
   "cell_type": "code",
   "execution_count": 68,
   "metadata": {},
   "outputs": [
    {
     "name": "stdout",
     "output_type": "stream",
     "text": [
      "Model         XGBoost\n",
      "AUC          0.629695\n",
      "Accuracy     0.507625\n",
      "Precision    0.481165\n",
      "Recall       0.506123\n",
      "F1 Score     0.483851\n",
      "dtype: object\n"
     ]
    }
   ],
   "source": [
    "print(calculate_metrics(y_test=y_test, y_prob=y_prob, y_pred=y_pred, model_name='XGBoost'))\n"
   ]
  },
  {
   "cell_type": "code",
   "execution_count": 88,
   "metadata": {},
   "outputs": [],
   "source": [
    "# gb_fit_metrics = model.results.calculate_metrics(y_test, y_prob, y_pred, \"XGBoost Classifier\")\n",
    "# model.results.print_confusion_matrix(y_test, y_pred, labels)\n",
    "# model.results.plot_roc_curve(y_test, y_prob, \"XGBoost Classifier\")\n",
    "# print(gb_fit_metrics)\n"
   ]
  },
  {
   "cell_type": "code",
   "execution_count": 26,
   "metadata": {},
   "outputs": [],
   "source": [
    "trading_data['gb_preds'] = y_pred\n",
    "trading_data['gb_signal'] = np.where(y_pred > 2, 1, np.where(y_pred < 2, -1, 0))\n",
    "ts = Trading_Strategy()\n",
    "gb_portfolio = ts.buy_short('gb_signal', trading_data, stock_df, 20)\n"
   ]
  },
  {
   "cell_type": "code",
   "execution_count": 27,
   "metadata": {},
   "outputs": [
    {
     "data": {
      "application/vnd.plotly.v1+json": {
       "config": {
        "plotlyServerURL": "https://plot.ly"
       },
       "data": [
        {
         "hovertemplate": "variable=0<br>index=%{x}<br>value=%{y}<extra></extra>",
         "legendgroup": "0",
         "line": {
          "color": "#636efa",
          "dash": "solid"
         },
         "marker": {
          "symbol": "circle"
         },
         "mode": "lines",
         "name": "0",
         "orientation": "v",
         "showlegend": true,
         "type": "scatter",
         "x": [
          0,
          1,
          2,
          3,
          4,
          5,
          6,
          7,
          8,
          9,
          10,
          11,
          12,
          13,
          14,
          15,
          16,
          17,
          18,
          19,
          20,
          21,
          22,
          23,
          24,
          25,
          26,
          27,
          28,
          29,
          30,
          31,
          32,
          33,
          34,
          35,
          36,
          37,
          38,
          39,
          40,
          41,
          42,
          43,
          44,
          45,
          46,
          47,
          48,
          49,
          50,
          51,
          52,
          53,
          54,
          55,
          56,
          57,
          58,
          59,
          60,
          61,
          62,
          63,
          64,
          65,
          66,
          67,
          68,
          69,
          70,
          71,
          72,
          73,
          74,
          75,
          76,
          77,
          78,
          79,
          80,
          81,
          82,
          83,
          84,
          85,
          86,
          87,
          88,
          89,
          90,
          91,
          92,
          93,
          94,
          95,
          96,
          97,
          98,
          99,
          100,
          101,
          102,
          103,
          104,
          105,
          106,
          107,
          108,
          109,
          110,
          111,
          112,
          113,
          114,
          115,
          116,
          117,
          118,
          119,
          120,
          121,
          122,
          123,
          124,
          125,
          126,
          127,
          128,
          129,
          130,
          131,
          132,
          133,
          134,
          135,
          136,
          137,
          138,
          139,
          140,
          141,
          142,
          143,
          144,
          145,
          146,
          147,
          148,
          149,
          150,
          151,
          152,
          153,
          154,
          155,
          156,
          157,
          158,
          159,
          160,
          161,
          162,
          163,
          164,
          165,
          166,
          167,
          168,
          169,
          170,
          171,
          172,
          173,
          174,
          175,
          176,
          177,
          178,
          179,
          180,
          181,
          182,
          183,
          184,
          185,
          186,
          187,
          188,
          189,
          190,
          191,
          192,
          193,
          194,
          195,
          196,
          197,
          198,
          199,
          200,
          201,
          202,
          203,
          204,
          205,
          206,
          207,
          208,
          209,
          210,
          211,
          212,
          213,
          214,
          215,
          216,
          217,
          218,
          219,
          220,
          221,
          222,
          223,
          224,
          225,
          226,
          227,
          228,
          229,
          230,
          231,
          232,
          233,
          234,
          235,
          236,
          237,
          238,
          239,
          240,
          241,
          242,
          243,
          244,
          245,
          246,
          247,
          248,
          249,
          250,
          251,
          252,
          253,
          254,
          255,
          256,
          257,
          258,
          259,
          260,
          261,
          262,
          263,
          264,
          265,
          266,
          267,
          268,
          269,
          270,
          271,
          272,
          273,
          274,
          275,
          276,
          277,
          278,
          279,
          280,
          281,
          282,
          283,
          284,
          285,
          286,
          287,
          288,
          289,
          290,
          291,
          292,
          293,
          294,
          295,
          296,
          297,
          298,
          299,
          300,
          301,
          302,
          303,
          304,
          305,
          306,
          307,
          308,
          309,
          310,
          311,
          312,
          313,
          314,
          315,
          316,
          317,
          318,
          319,
          320,
          321,
          322,
          323,
          324,
          325,
          326,
          327,
          328,
          329,
          330,
          331,
          332,
          333,
          334,
          335,
          336,
          337,
          338,
          339,
          340,
          341,
          342,
          343,
          344,
          345,
          346,
          347,
          348,
          349,
          350,
          351,
          352,
          353,
          354,
          355,
          356,
          357,
          358,
          359,
          360,
          361,
          362,
          363,
          364,
          365,
          366,
          367,
          368,
          369,
          370,
          371,
          372,
          373,
          374,
          375,
          376,
          377,
          378,
          379,
          380,
          381,
          382,
          383,
          384,
          385,
          386,
          387,
          388,
          389,
          390,
          391,
          392,
          393,
          394,
          395,
          396,
          397,
          398,
          399,
          400,
          401,
          402,
          403,
          404,
          405,
          406,
          407,
          408,
          409,
          410,
          411,
          412,
          413,
          414,
          415,
          416,
          417,
          418,
          419,
          420,
          421,
          422,
          423,
          424,
          425,
          426,
          427,
          428,
          429,
          430,
          431,
          432,
          433,
          434,
          435,
          436,
          437,
          438,
          439,
          440,
          441,
          442,
          443,
          444,
          445,
          446,
          447,
          448,
          449,
          450,
          451,
          452,
          453,
          454,
          455,
          456,
          457,
          458,
          459
         ],
         "xaxis": "x",
         "y": [
          1,
          1.0709969788519638,
          1.0642185169604954,
          1.0642185169604954,
          1.0642185169604954,
          1.0642185169604954,
          1.0642185169604954,
          1.0642185169604954,
          1.0642185169604954,
          1.0642185169604954,
          1.0642185169604954,
          1.0642185169604954,
          1.2098625584990845,
          1.172054353545988,
          1.172054353545988,
          1.8998656471223665,
          1.8899556415366339,
          1.8800973281381137,
          2.240854011028084,
          2.3335962911265615,
          2.941370680416788,
          2.941370680416788,
          2.6473386238238925,
          2.3826992754944785,
          2.3702707318419125,
          2.4151758305809605,
          2.402577883979928,
          2.402577883979928,
          2.402577883979928,
          2.773885375140462,
          2.4965958695926833,
          2.4257917042663117,
          2.563242773667171,
          2.9593802932339157,
          3.4167390658246117,
          3.944780557815688,
          4.5924310971585625,
          5.302170448537613,
          6.121596790584334,
          7.0676617491291855,
          8.159936746721877,
          9.421017880306167,
          10.5472496193181,
          10.5472496193181,
          10.5472496193181,
          10.875844445576636,
          10.875844445576636,
          10.875844445576636,
          10.875844445576636,
          10.875844445576636,
          15.247933912698443,
          15.247933912698443,
          15.247933912698443,
          17.222740387783162,
          15.687146402159138,
          15.687146402159138,
          15.861272144261811,
          15.861272144261811,
          17.042256212914193,
          18.31117291129043,
          18.31117291129043,
          18.31117291129043,
          22.752367871412133,
          22.752367871412133,
          24.904080419671775,
          25.40133026468809,
          25.40133026468809,
          25.40133026468809,
          25.40133026468809,
          29.004774790608963,
          33.119405632997676,
          33.119405632997676,
          28.653867794840686,
          32.6582903127532,
          28.026240540600533,
          27.03094563977875,
          27.03094563977875,
          29.115594403771972,
          29.115594403771972,
          29.115594403771972,
          29.115594403771972,
          29.115594403771972,
          29.57034453522762,
          33.58291505556534,
          34.10743929588803,
          36.59444007787986,
          36.87989232957278,
          36.87989232957278,
          36.87989232957278,
          36.87989232957278,
          36.87989232957278,
          37.45591134029133,
          37.45591134029133,
          39.81105933266757,
          43.16861855349496,
          45.882969417801775,
          48.76799288784493,
          51.834420493852114,
          55.09365854183314,
          54.20745247855569,
          60.20909018313931,
          72.02129728262808,
          70.96574275650163,
          -6.099960939118187,
          -6.336809644728509,
          -5.4969914990416,
          -5.4969914990416,
          -5.133369371056216,
          -5.133369371056216,
          -5.133369371056216,
          -4.031558531217132,
          -4.2621917169625885,
          -4.8785380681900214,
          -4.750155487448179,
          -5.43283704201259,
          -5.221560045934322,
          -5.221560045934322,
          -5.221560045934322,
          -5.97663858198855,
          -6.840907396540816,
          -6.840907396540816,
          -6.990927295587763,
          -6.990927295587763,
          -6.990927295587763,
          -6.990927295587763,
          -7.069772340274844,
          -7.734451791069914,
          -7.521032852021554,
          -7.502587050525696,
          -7.65734015156787,
          -7.65734015156787,
          -7.65734015156787,
          -7.67204364347757,
          -7.67204364347757,
          -7.67204364347757,
          -7.67204364347757,
          -7.67204364347757,
          -7.67204364347757,
          -7.67204364347757,
          -7.664017793619516,
          -7.664017793619516,
          -7.678734107821806,
          -7.678734107821806,
          -7.693478680035694,
          -10.992026338862074,
          -11.048171762840369,
          -14.034164131175602,
          -14.034164131175602,
          -20.051254860055046,
          -28.648148739386464,
          -40.93092586584166,
          -58.479893673956994,
          -83.5529099763498,
          -119.37587992956492,
          -135.93850201403336,
          -194.2215812570208,
          -194.2215812570208,
          -194.2215812570208,
          -247.25625658181616,
          -314.7727251687328,
          -400.7254250303056,
          -479.61544159108155,
          -574.0363786380954,
          -567.9760069403083,
          -729.3261108890118,
          -1128.9968196561904,
          -1056.3535926541836,
          -1058.973372850901,
          -1022.0324412398229,
          -1211.751038116676,
          -1062.3282627576352,
          -1062.3282627576352,
          -1104.9278923419013,
          -1104.9278923419013,
          -1178.4122533747602,
          -1178.4122533747602,
          -1236.6054510722793,
          -1236.6054510722793,
          -1245.6033078591256,
          -1264.0919659764545,
          -981.5682187914231,
          -981.5682187914231,
          -972.8707788780814,
          -972.8707788780814,
          -1029.6430789717624,
          -912.2237766987399,
          -912.2237766987399,
          -1100.2066156764195,
          -987.5348538300391,
          -1094.010199896221,
          -1094.010199896221,
          -1049.5333040214334,
          -1099.2433674766353,
          -1099.2433674766353,
          -1142.8340527386397,
          -1369.0605887756399,
          -1369.0605887756399,
          -1369.0605887756399,
          -1369.0605887756399,
          -1369.0605887756399,
          -1369.0605887756399,
          -1369.0605887756399,
          -1484.268328887703,
          -1632.6539435501784,
          -1623.106259669768,
          -1623.106259669768,
          -1743.7464735841816,
          -1474.7818414189744,
          -1474.7818414189744,
          -2462.3985099968463,
          -2242.8799937095687,
          -2242.8799937095687,
          -2242.8799937095687,
          -2242.8799937095687,
          -2042.9311688419912,
          -2042.9311688419912,
          -1627.802291977959,
          -1425.6569093140295,
          -920.4001232319432,
          -920.4001232319432,
          -1043.2070518558087,
          -1051.4755357542695,
          -1338.2415909599792,
          -1338.2415909599792,
          -1303.1277483656543,
          -1394.0783120387719,
          -1392.9806125804735,
          -1392.9806125804735,
          -1475.2051626286266,
          -1475.2051626286266,
          -1475.2051626286266,
          -1442.1955293016074,
          -1442.1955293016074,
          -1442.1955293016074,
          -1473.099719215213,
          -1473.099719215213,
          -1657.5217860721407,
          -1730.5869271826123,
          -1886.339750629047,
          -2122.4966591312923,
          -2388.21880656504,
          -2687.20755978261,
          -3023.6276715946524,
          -3402.165293540814,
          -3828.0932514647798,
          -4307.344493147387,
          -4846.594731083922,
          -5453.355431575108,
          -6136.078445419905,
          -7216.028251813807,
          -7216.028251813807,
          -8119.42591548756,
          -8283.162855657534,
          -6589.901515397952,
          -6589.901515397952,
          -6589.901515397952,
          -6589.901515397952,
          -6589.901515397952,
          -6589.901515397952,
          -6328.233534640248,
          -6455.849157521487,
          -5136.1310754953465,
          -5141.806358451696,
          -5245.496403639927,
          -4740.929606718372,
          -4032.0055533773075,
          -3761.552413966868,
          -3509.240345953439,
          -3918.445050605253,
          -3833.3539528722404,
          -3910.657650616995,
          -3768.338249564825,
          -3525.219652818708,
          -3811.619722758722,
          -4626.0683814678505,
          -4769.71997857659,
          -4835.34248371269,
          -4744.572482750048,
          -4932.868831934906,
          -4932.868831934906,
          -6022.145861068796,
          -6016.626020682848,
          -6016.626020682848,
          -7141.229015203007,
          -7141.229015203007,
          -6921.717104681777,
          -6921.717104681777,
          -6966.760258531223,
          -7012.096531223584,
          -7057.727830233109,
          -7103.6560754469565,
          -7103.6560754469565,
          -7103.6560754469565,
          -7103.6560754469565,
          -7103.6560754469565,
          -7103.6560754469565,
          -7103.6560754469565,
          -7103.6560754469565,
          -8319.44073383641,
          -8319.44073383641,
          -8319.44073383641,
          -8319.44073383641,
          -9793.170235258862,
          -10409.016945490923,
          -10409.016945490923,
          -10409.016945490923,
          -10409.016945490923,
          -10228.502419763276,
          -10228.502419763276,
          -10918.244611163935,
          -10399.4624306761,
          -10399.4624306761,
          -10399.4624306761,
          -11068.832488767934,
          -18656.157197786197,
          -18656.157197786197,
          -18656.157197786197,
          -16712.807489683466,
          -16712.807489683466,
          -16463.67886006743,
          -15692.521127373546,
          -15458.601345428084,
          -15228.16847702196,
          -15001.170544652763,
          -13878.067447426763,
          -13845.596536225483,
          -13876.591419174632,
          -13907.655687560988,
          -15042.514379169583,
          -15042.514379169583,
          -15042.514379169583,
          -11249.74365963537,
          -11695.813705843577,
          -12548.420983318747,
          -13210.774368555385,
          -12567.614860220725,
          -13496.127508582505,
          -14390.850862139529,
          -15438.93486741763,
          -15438.93486741763,
          -16215.390060295545,
          -16742.356743610027,
          -15934.105038746095,
          -17469.922391878245,
          -17469.922391878245,
          -16069.255960047423,
          -16714.817817291456,
          -17386.314298550722,
          -19152.519394460072,
          -19152.519394460072,
          -19152.519394460072,
          -19152.519394460072,
          -20901.854970036933,
          -20901.854970036933,
          -21776.211820111967,
          -21776.211820111967,
          -21776.211820111967,
          -21776.211820111967,
          -32603.62992673485,
          -32603.62992673485,
          -48814.58231489662,
          -61513.65343907023,
          -61513.65343907023,
          -61513.65343907023,
          -61513.65343907023,
          -61513.65343907023,
          -61513.65343907023,
          -85957.94367031648,
          -86800.72520116507,
          -86800.72520116507,
          -86800.72520116507,
          -86800.72520116507,
          -73339.65016996836,
          -89549.61718030335,
          -135752.7791684549,
          -192062.38637967664,
          -192062.38637967664,
          -212217.08124667974,
          -212217.08124667974,
          -242533.80713906256,
          -259285.03210180002,
          -321538.1336188132,
          -312661.31397903,
          -320697.0019551266,
          -439589.5490214174,
          -544881.7124298806,
          -586288.9582794743,
          -586288.9582794743,
          -586288.9582794743,
          -652830.9566118072,
          -753723.0135427229,
          -870207.4792720528,
          -1087572.609287647,
          -1087572.609287647,
          -1128279.4857789427,
          -1302649.9517629612,
          -1302649.9517629612,
          -1302649.9517629612,
          -1503968.5806717826,
          -1503968.5806717826,
          -1736400.0885937854,
          -1774259.1358996013,
          -1439080.8186454673,
          -1503904.2789448127,
          -1736325.8493271929,
          -1736325.8493271929,
          -1736325.8493271929,
          -1736325.8493271929,
          -2481231.074810155,
          -2481231.074810155,
          -3255575.0008415123,
          -3430360.9134937455,
          -4358249.852495284,
          -4479588.620638695,
          -4020362.4342442523,
          -4238647.367218012,
          -4238647.367218012,
          -2771171.3080884377,
          -3468626.2671901034,
          -3304414.6560218865,
          -3304414.6560218865,
          -3304414.6560218865,
          -3448448.840391815,
          -3448448.840391815,
          -3448448.840391815,
          -3501096.914290927,
          -2886039.348266845,
          -2886039.348266845,
          -3154875.8902971814,
          -2959465.442629194,
          -3061602.3447774835,
          -3167264.1898530275,
          -3276572.630484592,
          -3389653.5177695127,
          -3389653.5177695127,
          -3389653.5177695127,
          -3389653.5177695127,
          -3389653.5177695127,
          -3389653.5177695127,
          -3389653.5177695127,
          -3389653.5177695127,
          -3389653.5177695127,
          -3389653.5177695127,
          -3389653.5177695127,
          -3389653.5177695127,
          -3389653.5177695127,
          -3389653.5177695127,
          -4770623.469453389,
          -4770623.469453389,
          -4770623.469453389,
          -4770623.469453389,
          -6294847.565502813,
          -6294847.565502813,
          -6294847.565502813,
          -7976804.1901477445,
          -7976804.1901477445,
          -8580050.007027669,
          -10199121.943449957,
          -10199121.943449957,
          -10199121.943449957
         ],
         "yaxis": "y"
        }
       ],
       "layout": {
        "legend": {
         "title": {
          "text": "variable"
         },
         "tracegroupgap": 0
        },
        "margin": {
         "t": 60
        },
        "template": {
         "data": {
          "bar": [
           {
            "error_x": {
             "color": "#2a3f5f"
            },
            "error_y": {
             "color": "#2a3f5f"
            },
            "marker": {
             "line": {
              "color": "#E5ECF6",
              "width": 0.5
             },
             "pattern": {
              "fillmode": "overlay",
              "size": 10,
              "solidity": 0.2
             }
            },
            "type": "bar"
           }
          ],
          "barpolar": [
           {
            "marker": {
             "line": {
              "color": "#E5ECF6",
              "width": 0.5
             },
             "pattern": {
              "fillmode": "overlay",
              "size": 10,
              "solidity": 0.2
             }
            },
            "type": "barpolar"
           }
          ],
          "carpet": [
           {
            "aaxis": {
             "endlinecolor": "#2a3f5f",
             "gridcolor": "white",
             "linecolor": "white",
             "minorgridcolor": "white",
             "startlinecolor": "#2a3f5f"
            },
            "baxis": {
             "endlinecolor": "#2a3f5f",
             "gridcolor": "white",
             "linecolor": "white",
             "minorgridcolor": "white",
             "startlinecolor": "#2a3f5f"
            },
            "type": "carpet"
           }
          ],
          "choropleth": [
           {
            "colorbar": {
             "outlinewidth": 0,
             "ticks": ""
            },
            "type": "choropleth"
           }
          ],
          "contour": [
           {
            "colorbar": {
             "outlinewidth": 0,
             "ticks": ""
            },
            "colorscale": [
             [
              0,
              "#0d0887"
             ],
             [
              0.1111111111111111,
              "#46039f"
             ],
             [
              0.2222222222222222,
              "#7201a8"
             ],
             [
              0.3333333333333333,
              "#9c179e"
             ],
             [
              0.4444444444444444,
              "#bd3786"
             ],
             [
              0.5555555555555556,
              "#d8576b"
             ],
             [
              0.6666666666666666,
              "#ed7953"
             ],
             [
              0.7777777777777778,
              "#fb9f3a"
             ],
             [
              0.8888888888888888,
              "#fdca26"
             ],
             [
              1,
              "#f0f921"
             ]
            ],
            "type": "contour"
           }
          ],
          "contourcarpet": [
           {
            "colorbar": {
             "outlinewidth": 0,
             "ticks": ""
            },
            "type": "contourcarpet"
           }
          ],
          "heatmap": [
           {
            "colorbar": {
             "outlinewidth": 0,
             "ticks": ""
            },
            "colorscale": [
             [
              0,
              "#0d0887"
             ],
             [
              0.1111111111111111,
              "#46039f"
             ],
             [
              0.2222222222222222,
              "#7201a8"
             ],
             [
              0.3333333333333333,
              "#9c179e"
             ],
             [
              0.4444444444444444,
              "#bd3786"
             ],
             [
              0.5555555555555556,
              "#d8576b"
             ],
             [
              0.6666666666666666,
              "#ed7953"
             ],
             [
              0.7777777777777778,
              "#fb9f3a"
             ],
             [
              0.8888888888888888,
              "#fdca26"
             ],
             [
              1,
              "#f0f921"
             ]
            ],
            "type": "heatmap"
           }
          ],
          "heatmapgl": [
           {
            "colorbar": {
             "outlinewidth": 0,
             "ticks": ""
            },
            "colorscale": [
             [
              0,
              "#0d0887"
             ],
             [
              0.1111111111111111,
              "#46039f"
             ],
             [
              0.2222222222222222,
              "#7201a8"
             ],
             [
              0.3333333333333333,
              "#9c179e"
             ],
             [
              0.4444444444444444,
              "#bd3786"
             ],
             [
              0.5555555555555556,
              "#d8576b"
             ],
             [
              0.6666666666666666,
              "#ed7953"
             ],
             [
              0.7777777777777778,
              "#fb9f3a"
             ],
             [
              0.8888888888888888,
              "#fdca26"
             ],
             [
              1,
              "#f0f921"
             ]
            ],
            "type": "heatmapgl"
           }
          ],
          "histogram": [
           {
            "marker": {
             "pattern": {
              "fillmode": "overlay",
              "size": 10,
              "solidity": 0.2
             }
            },
            "type": "histogram"
           }
          ],
          "histogram2d": [
           {
            "colorbar": {
             "outlinewidth": 0,
             "ticks": ""
            },
            "colorscale": [
             [
              0,
              "#0d0887"
             ],
             [
              0.1111111111111111,
              "#46039f"
             ],
             [
              0.2222222222222222,
              "#7201a8"
             ],
             [
              0.3333333333333333,
              "#9c179e"
             ],
             [
              0.4444444444444444,
              "#bd3786"
             ],
             [
              0.5555555555555556,
              "#d8576b"
             ],
             [
              0.6666666666666666,
              "#ed7953"
             ],
             [
              0.7777777777777778,
              "#fb9f3a"
             ],
             [
              0.8888888888888888,
              "#fdca26"
             ],
             [
              1,
              "#f0f921"
             ]
            ],
            "type": "histogram2d"
           }
          ],
          "histogram2dcontour": [
           {
            "colorbar": {
             "outlinewidth": 0,
             "ticks": ""
            },
            "colorscale": [
             [
              0,
              "#0d0887"
             ],
             [
              0.1111111111111111,
              "#46039f"
             ],
             [
              0.2222222222222222,
              "#7201a8"
             ],
             [
              0.3333333333333333,
              "#9c179e"
             ],
             [
              0.4444444444444444,
              "#bd3786"
             ],
             [
              0.5555555555555556,
              "#d8576b"
             ],
             [
              0.6666666666666666,
              "#ed7953"
             ],
             [
              0.7777777777777778,
              "#fb9f3a"
             ],
             [
              0.8888888888888888,
              "#fdca26"
             ],
             [
              1,
              "#f0f921"
             ]
            ],
            "type": "histogram2dcontour"
           }
          ],
          "mesh3d": [
           {
            "colorbar": {
             "outlinewidth": 0,
             "ticks": ""
            },
            "type": "mesh3d"
           }
          ],
          "parcoords": [
           {
            "line": {
             "colorbar": {
              "outlinewidth": 0,
              "ticks": ""
             }
            },
            "type": "parcoords"
           }
          ],
          "pie": [
           {
            "automargin": true,
            "type": "pie"
           }
          ],
          "scatter": [
           {
            "fillpattern": {
             "fillmode": "overlay",
             "size": 10,
             "solidity": 0.2
            },
            "type": "scatter"
           }
          ],
          "scatter3d": [
           {
            "line": {
             "colorbar": {
              "outlinewidth": 0,
              "ticks": ""
             }
            },
            "marker": {
             "colorbar": {
              "outlinewidth": 0,
              "ticks": ""
             }
            },
            "type": "scatter3d"
           }
          ],
          "scattercarpet": [
           {
            "marker": {
             "colorbar": {
              "outlinewidth": 0,
              "ticks": ""
             }
            },
            "type": "scattercarpet"
           }
          ],
          "scattergeo": [
           {
            "marker": {
             "colorbar": {
              "outlinewidth": 0,
              "ticks": ""
             }
            },
            "type": "scattergeo"
           }
          ],
          "scattergl": [
           {
            "marker": {
             "colorbar": {
              "outlinewidth": 0,
              "ticks": ""
             }
            },
            "type": "scattergl"
           }
          ],
          "scattermapbox": [
           {
            "marker": {
             "colorbar": {
              "outlinewidth": 0,
              "ticks": ""
             }
            },
            "type": "scattermapbox"
           }
          ],
          "scatterpolar": [
           {
            "marker": {
             "colorbar": {
              "outlinewidth": 0,
              "ticks": ""
             }
            },
            "type": "scatterpolar"
           }
          ],
          "scatterpolargl": [
           {
            "marker": {
             "colorbar": {
              "outlinewidth": 0,
              "ticks": ""
             }
            },
            "type": "scatterpolargl"
           }
          ],
          "scatterternary": [
           {
            "marker": {
             "colorbar": {
              "outlinewidth": 0,
              "ticks": ""
             }
            },
            "type": "scatterternary"
           }
          ],
          "surface": [
           {
            "colorbar": {
             "outlinewidth": 0,
             "ticks": ""
            },
            "colorscale": [
             [
              0,
              "#0d0887"
             ],
             [
              0.1111111111111111,
              "#46039f"
             ],
             [
              0.2222222222222222,
              "#7201a8"
             ],
             [
              0.3333333333333333,
              "#9c179e"
             ],
             [
              0.4444444444444444,
              "#bd3786"
             ],
             [
              0.5555555555555556,
              "#d8576b"
             ],
             [
              0.6666666666666666,
              "#ed7953"
             ],
             [
              0.7777777777777778,
              "#fb9f3a"
             ],
             [
              0.8888888888888888,
              "#fdca26"
             ],
             [
              1,
              "#f0f921"
             ]
            ],
            "type": "surface"
           }
          ],
          "table": [
           {
            "cells": {
             "fill": {
              "color": "#EBF0F8"
             },
             "line": {
              "color": "white"
             }
            },
            "header": {
             "fill": {
              "color": "#C8D4E3"
             },
             "line": {
              "color": "white"
             }
            },
            "type": "table"
           }
          ]
         },
         "layout": {
          "annotationdefaults": {
           "arrowcolor": "#2a3f5f",
           "arrowhead": 0,
           "arrowwidth": 1
          },
          "autotypenumbers": "strict",
          "coloraxis": {
           "colorbar": {
            "outlinewidth": 0,
            "ticks": ""
           }
          },
          "colorscale": {
           "diverging": [
            [
             0,
             "#8e0152"
            ],
            [
             0.1,
             "#c51b7d"
            ],
            [
             0.2,
             "#de77ae"
            ],
            [
             0.3,
             "#f1b6da"
            ],
            [
             0.4,
             "#fde0ef"
            ],
            [
             0.5,
             "#f7f7f7"
            ],
            [
             0.6,
             "#e6f5d0"
            ],
            [
             0.7,
             "#b8e186"
            ],
            [
             0.8,
             "#7fbc41"
            ],
            [
             0.9,
             "#4d9221"
            ],
            [
             1,
             "#276419"
            ]
           ],
           "sequential": [
            [
             0,
             "#0d0887"
            ],
            [
             0.1111111111111111,
             "#46039f"
            ],
            [
             0.2222222222222222,
             "#7201a8"
            ],
            [
             0.3333333333333333,
             "#9c179e"
            ],
            [
             0.4444444444444444,
             "#bd3786"
            ],
            [
             0.5555555555555556,
             "#d8576b"
            ],
            [
             0.6666666666666666,
             "#ed7953"
            ],
            [
             0.7777777777777778,
             "#fb9f3a"
            ],
            [
             0.8888888888888888,
             "#fdca26"
            ],
            [
             1,
             "#f0f921"
            ]
           ],
           "sequentialminus": [
            [
             0,
             "#0d0887"
            ],
            [
             0.1111111111111111,
             "#46039f"
            ],
            [
             0.2222222222222222,
             "#7201a8"
            ],
            [
             0.3333333333333333,
             "#9c179e"
            ],
            [
             0.4444444444444444,
             "#bd3786"
            ],
            [
             0.5555555555555556,
             "#d8576b"
            ],
            [
             0.6666666666666666,
             "#ed7953"
            ],
            [
             0.7777777777777778,
             "#fb9f3a"
            ],
            [
             0.8888888888888888,
             "#fdca26"
            ],
            [
             1,
             "#f0f921"
            ]
           ]
          },
          "colorway": [
           "#636efa",
           "#EF553B",
           "#00cc96",
           "#ab63fa",
           "#FFA15A",
           "#19d3f3",
           "#FF6692",
           "#B6E880",
           "#FF97FF",
           "#FECB52"
          ],
          "font": {
           "color": "#2a3f5f"
          },
          "geo": {
           "bgcolor": "white",
           "lakecolor": "white",
           "landcolor": "#E5ECF6",
           "showlakes": true,
           "showland": true,
           "subunitcolor": "white"
          },
          "hoverlabel": {
           "align": "left"
          },
          "hovermode": "closest",
          "mapbox": {
           "style": "light"
          },
          "paper_bgcolor": "white",
          "plot_bgcolor": "#E5ECF6",
          "polar": {
           "angularaxis": {
            "gridcolor": "white",
            "linecolor": "white",
            "ticks": ""
           },
           "bgcolor": "#E5ECF6",
           "radialaxis": {
            "gridcolor": "white",
            "linecolor": "white",
            "ticks": ""
           }
          },
          "scene": {
           "xaxis": {
            "backgroundcolor": "#E5ECF6",
            "gridcolor": "white",
            "gridwidth": 2,
            "linecolor": "white",
            "showbackground": true,
            "ticks": "",
            "zerolinecolor": "white"
           },
           "yaxis": {
            "backgroundcolor": "#E5ECF6",
            "gridcolor": "white",
            "gridwidth": 2,
            "linecolor": "white",
            "showbackground": true,
            "ticks": "",
            "zerolinecolor": "white"
           },
           "zaxis": {
            "backgroundcolor": "#E5ECF6",
            "gridcolor": "white",
            "gridwidth": 2,
            "linecolor": "white",
            "showbackground": true,
            "ticks": "",
            "zerolinecolor": "white"
           }
          },
          "shapedefaults": {
           "line": {
            "color": "#2a3f5f"
           }
          },
          "ternary": {
           "aaxis": {
            "gridcolor": "white",
            "linecolor": "white",
            "ticks": ""
           },
           "baxis": {
            "gridcolor": "white",
            "linecolor": "white",
            "ticks": ""
           },
           "bgcolor": "#E5ECF6",
           "caxis": {
            "gridcolor": "white",
            "linecolor": "white",
            "ticks": ""
           }
          },
          "title": {
           "x": 0.05
          },
          "xaxis": {
           "automargin": true,
           "gridcolor": "white",
           "linecolor": "white",
           "ticks": "",
           "title": {
            "standoff": 15
           },
           "zerolinecolor": "white",
           "zerolinewidth": 2
          },
          "yaxis": {
           "automargin": true,
           "gridcolor": "white",
           "linecolor": "white",
           "ticks": "",
           "title": {
            "standoff": 15
           },
           "zerolinecolor": "white",
           "zerolinewidth": 2
          }
         }
        },
        "xaxis": {
         "anchor": "y",
         "domain": [
          0,
          1
         ],
         "title": {
          "text": "index"
         }
        },
        "yaxis": {
         "anchor": "x",
         "domain": [
          0,
          1
         ],
         "title": {
          "text": "value"
         }
        }
       }
      }
     },
     "metadata": {},
     "output_type": "display_data"
    }
   ],
   "source": [
    "px.line(np.array(gb_portfolio))\n"
   ]
  },
  {
   "cell_type": "markdown",
   "metadata": {},
   "source": [
    "## MLP Classifier"
   ]
  },
  {
   "cell_type": "code",
   "execution_count": 50,
   "metadata": {},
   "outputs": [
    {
     "name": "stderr",
     "output_type": "stream",
     "text": [
      "c:\\Users\\shmit\\AppData\\Local\\Programs\\Python\\Python310\\lib\\site-packages\\sklearn\\neural_network\\_multilayer_perceptron.py:702: ConvergenceWarning:\n",
      "\n",
      "Stochastic Optimizer: Maximum iterations (200) reached and the optimization hasn't converged yet.\n",
      "\n"
     ]
    }
   ],
   "source": [
    "# Create and fit the Multi Layer Perceptron model\n",
    "model = MLP()\n",
    "model.train(X_train_scaled.iloc[:, :-5], y_train)\n",
    "\n",
    "# Make predictions on the test set\n",
    "y_pred = model.predict(X_test_scaled.iloc[:, :-5])\n",
    "y_prob = model.predict_prob(X_test_scaled.iloc[:, :-5])\n"
   ]
  },
  {
   "cell_type": "code",
   "execution_count": 51,
   "metadata": {},
   "outputs": [
    {
     "name": "stdout",
     "output_type": "stream",
     "text": [
      "Model        Logistic Regression\n",
      "AUC                     0.562797\n",
      "Accuracy                0.418301\n",
      "Precision               0.426875\n",
      "Recall                  0.403481\n",
      "F1 Score                0.386959\n",
      "dtype: object\n"
     ]
    }
   ],
   "source": [
    "print(calculate_metrics(y_test=y_test, y_prob=y_prob, y_pred=y_pred, model_name='Logistic Regression'))\n"
   ]
  },
  {
   "cell_type": "code",
   "execution_count": null,
   "metadata": {},
   "outputs": [],
   "source": [
    "mlp_fit_metrics = model.results.calculate_metrics(y_test, y_prob, y_pred, \"MLP Classifier\")\n",
    "model.results.print_confusion_matrix(y_test, y_pred, labels)\n",
    "model.results.plot_roc_curve(y_test, y_prob, \"MLP Classifier\")\n",
    "print(mlp_fit_metrics)\n"
   ]
  },
  {
   "cell_type": "code",
   "execution_count": 100,
   "metadata": {},
   "outputs": [],
   "source": [
    "trading_data['mlp_preds'] = y_pred\n",
    "trading_data['mlp_signal'] = np.where(y_pred > 2, 1, np.where(y_pred < 2, -1, 0))\n",
    "ts = Trading_Strategy()\n",
    "mlp_portfolio = ts.buy_short('mlp_signal', trading_data, stock_df, 20)\n"
   ]
  },
  {
   "cell_type": "code",
   "execution_count": 101,
   "metadata": {},
   "outputs": [
    {
     "data": {
      "application/vnd.plotly.v1+json": {
       "config": {
        "plotlyServerURL": "https://plot.ly"
       },
       "data": [
        {
         "hovertemplate": "variable=0<br>index=%{x}<br>value=%{y}<extra></extra>",
         "legendgroup": "0",
         "line": {
          "color": "#636efa",
          "dash": "solid"
         },
         "marker": {
          "symbol": "circle"
         },
         "mode": "lines",
         "name": "0",
         "orientation": "v",
         "showlegend": true,
         "type": "scatter",
         "x": [
          0,
          1,
          2,
          3,
          4,
          5,
          6,
          7,
          8,
          9,
          10,
          11,
          12,
          13,
          14,
          15,
          16,
          17,
          18,
          19,
          20,
          21,
          22,
          23,
          24,
          25,
          26,
          27,
          28,
          29,
          30,
          31,
          32,
          33,
          34,
          35,
          36,
          37,
          38,
          39,
          40,
          41,
          42,
          43,
          44,
          45,
          46,
          47,
          48,
          49,
          50,
          51,
          52,
          53,
          54,
          55,
          56,
          57,
          58,
          59,
          60,
          61,
          62,
          63,
          64,
          65,
          66,
          67,
          68,
          69,
          70,
          71,
          72,
          73,
          74,
          75,
          76,
          77,
          78,
          79,
          80,
          81,
          82,
          83,
          84,
          85,
          86,
          87,
          88,
          89,
          90,
          91,
          92,
          93,
          94,
          95,
          96,
          97,
          98,
          99,
          100,
          101,
          102,
          103,
          104,
          105,
          106,
          107,
          108,
          109,
          110,
          111,
          112,
          113,
          114,
          115,
          116,
          117,
          118,
          119,
          120,
          121,
          122,
          123,
          124,
          125,
          126,
          127,
          128,
          129,
          130,
          131,
          132,
          133,
          134,
          135,
          136,
          137,
          138,
          139,
          140,
          141,
          142,
          143,
          144,
          145,
          146,
          147,
          148,
          149,
          150,
          151,
          152,
          153,
          154,
          155,
          156,
          157,
          158,
          159,
          160,
          161,
          162,
          163,
          164,
          165,
          166,
          167,
          168,
          169,
          170,
          171,
          172,
          173,
          174,
          175,
          176,
          177,
          178,
          179,
          180,
          181,
          182,
          183,
          184,
          185,
          186,
          187,
          188,
          189,
          190,
          191,
          192,
          193,
          194,
          195,
          196,
          197,
          198,
          199,
          200,
          201,
          202,
          203,
          204,
          205,
          206,
          207,
          208,
          209,
          210,
          211,
          212,
          213,
          214,
          215,
          216,
          217,
          218,
          219,
          220,
          221,
          222,
          223,
          224,
          225,
          226,
          227,
          228,
          229,
          230,
          231,
          232,
          233,
          234,
          235,
          236,
          237,
          238,
          239,
          240,
          241,
          242,
          243,
          244,
          245,
          246,
          247,
          248,
          249,
          250,
          251,
          252,
          253,
          254,
          255,
          256,
          257,
          258,
          259,
          260,
          261,
          262,
          263,
          264,
          265,
          266,
          267,
          268,
          269,
          270,
          271,
          272,
          273,
          274,
          275,
          276,
          277,
          278,
          279,
          280,
          281,
          282,
          283,
          284,
          285,
          286,
          287,
          288,
          289,
          290,
          291,
          292,
          293,
          294,
          295,
          296,
          297,
          298,
          299,
          300,
          301,
          302,
          303,
          304,
          305,
          306,
          307,
          308,
          309,
          310,
          311,
          312,
          313,
          314,
          315,
          316,
          317,
          318,
          319,
          320,
          321,
          322,
          323,
          324,
          325,
          326,
          327,
          328,
          329,
          330,
          331,
          332,
          333,
          334,
          335,
          336,
          337,
          338,
          339,
          340,
          341,
          342,
          343,
          344,
          345,
          346,
          347,
          348,
          349,
          350,
          351,
          352,
          353,
          354,
          355,
          356,
          357,
          358,
          359,
          360,
          361,
          362,
          363,
          364,
          365,
          366,
          367,
          368,
          369,
          370,
          371,
          372,
          373,
          374,
          375,
          376,
          377,
          378,
          379,
          380,
          381,
          382,
          383,
          384,
          385,
          386,
          387,
          388,
          389,
          390,
          391,
          392,
          393,
          394,
          395,
          396,
          397,
          398,
          399,
          400,
          401,
          402,
          403,
          404,
          405,
          406,
          407,
          408,
          409,
          410,
          411,
          412,
          413,
          414,
          415,
          416,
          417,
          418,
          419,
          420,
          421,
          422,
          423,
          424,
          425,
          426,
          427,
          428,
          429,
          430,
          431,
          432,
          433,
          434,
          435,
          436,
          437,
          438,
          439,
          440,
          441,
          442,
          443,
          444,
          445,
          446,
          447,
          448,
          449,
          450,
          451,
          452,
          453,
          454,
          455,
          456,
          457,
          458,
          459,
          460,
          461,
          462,
          463,
          464,
          465,
          466,
          467,
          468,
          469,
          470,
          471,
          472,
          473,
          474,
          475,
          476,
          477,
          478,
          479,
          480,
          481,
          482,
          483,
          484,
          485,
          486,
          487,
          488,
          489,
          490,
          491,
          492,
          493,
          494,
          495,
          496,
          497,
          498,
          499,
          500,
          501,
          502,
          503,
          504,
          505,
          506,
          507,
          508,
          509,
          510,
          511,
          512,
          513,
          514,
          515,
          516,
          517,
          518,
          519,
          520,
          521,
          522,
          523,
          524,
          525,
          526,
          527,
          528,
          529,
          530,
          531,
          532,
          533,
          534,
          535,
          536,
          537,
          538,
          539,
          540,
          541,
          542,
          543,
          544,
          545,
          546,
          547,
          548,
          549,
          550,
          551,
          552,
          553,
          554,
          555,
          556,
          557,
          558,
          559,
          560,
          561,
          562,
          563,
          564,
          565,
          566,
          567,
          568,
          569,
          570,
          571,
          572,
          573,
          574,
          575,
          576,
          577,
          578,
          579,
          580,
          581,
          582,
          583,
          584,
          585,
          586,
          587,
          588,
          589,
          590,
          591
         ],
         "xaxis": "x",
         "y": [
          1,
          1,
          1,
          1,
          1,
          1,
          1,
          1,
          1,
          1,
          1,
          1,
          1,
          1,
          1,
          1,
          1,
          1,
          1,
          1,
          1,
          1,
          1,
          1,
          1,
          1,
          1,
          1,
          1,
          1,
          1,
          1,
          1,
          1,
          1,
          1,
          1,
          1,
          1,
          1,
          1,
          1,
          1,
          1,
          1,
          1,
          1,
          1,
          1,
          1,
          1,
          1,
          1,
          1,
          1,
          1,
          1,
          1,
          1,
          1,
          1,
          1,
          1,
          1,
          1,
          1,
          1,
          1,
          1,
          1,
          1,
          1,
          1,
          1,
          1,
          1,
          1,
          1,
          1,
          1,
          1,
          1,
          1,
          1,
          1,
          1,
          1,
          1,
          1,
          1,
          1,
          1,
          1,
          1,
          1,
          1,
          1,
          1,
          1,
          1,
          1,
          1,
          1,
          1,
          1,
          1,
          1,
          1,
          1,
          1,
          1,
          1,
          1,
          1,
          1,
          1,
          1,
          1,
          1,
          1,
          1,
          1,
          1,
          1,
          1,
          1,
          1,
          1,
          1,
          1,
          1,
          1,
          1,
          1,
          1,
          1,
          1,
          1,
          1,
          1,
          1,
          1,
          1,
          1,
          1,
          1,
          1,
          1,
          1,
          1,
          1,
          1,
          1,
          1,
          1,
          1,
          1,
          1,
          1,
          1,
          1,
          1,
          1,
          1,
          1,
          1,
          1,
          1,
          1,
          1,
          1,
          1,
          1,
          1,
          1,
          1,
          1,
          1,
          1,
          1,
          1,
          1,
          1,
          1,
          1,
          1,
          1,
          1,
          1,
          1,
          1,
          1,
          1,
          1,
          1,
          1,
          1,
          1,
          1,
          1,
          1,
          1,
          1,
          1,
          1,
          1,
          1,
          1,
          1,
          1,
          1,
          1,
          1,
          1,
          1,
          1,
          1,
          1,
          1,
          1,
          1,
          1,
          1,
          1,
          1,
          1,
          1,
          1,
          1,
          1,
          1,
          1,
          1,
          1,
          1,
          1,
          1,
          1,
          1,
          1,
          1,
          1,
          1,
          1,
          1,
          1,
          1,
          1,
          1,
          1,
          1,
          1,
          1,
          1,
          1,
          1,
          1,
          1,
          1,
          1,
          1,
          1,
          1,
          1,
          1,
          1,
          1,
          1,
          1,
          1,
          1,
          1,
          1,
          1,
          1,
          1,
          1,
          1,
          1,
          1,
          1,
          1,
          1,
          1,
          1,
          1,
          1,
          1,
          1,
          1,
          1,
          1,
          1,
          1,
          1,
          1,
          1,
          1,
          1,
          1,
          1,
          1,
          1,
          1,
          1,
          1,
          1,
          1,
          1,
          1,
          1,
          1,
          1,
          1,
          1,
          1,
          1,
          1,
          1,
          1,
          1,
          1,
          1,
          1,
          1,
          1,
          1,
          1,
          1,
          1,
          1,
          1,
          1,
          1,
          1,
          1,
          1,
          1,
          1,
          1,
          1,
          1,
          1,
          1,
          1,
          1,
          1,
          1,
          1,
          1,
          1,
          1,
          1,
          1,
          1,
          1,
          1,
          1,
          1,
          1,
          1,
          1,
          1,
          1,
          1,
          1,
          1,
          1,
          1,
          1,
          1,
          1,
          1,
          1,
          1,
          1,
          1,
          1,
          1,
          1,
          1,
          1,
          1,
          1,
          1,
          1,
          1,
          1,
          1,
          1,
          1,
          1,
          1,
          1,
          1,
          1,
          1,
          1,
          1,
          1,
          1,
          1,
          1,
          1,
          1,
          1,
          1,
          1,
          1,
          1,
          1,
          1,
          1,
          1,
          1,
          1,
          1,
          1,
          1,
          1,
          1,
          1,
          1,
          1,
          1,
          1,
          1,
          1,
          1,
          1,
          1,
          1,
          1,
          1,
          1,
          1,
          1,
          1,
          1,
          1,
          1,
          1,
          1,
          1,
          1,
          1,
          1,
          1,
          1,
          1,
          1,
          1,
          1,
          1,
          1,
          1,
          1,
          1,
          1,
          1,
          1,
          1,
          1,
          1,
          1,
          1,
          1,
          1,
          1,
          1,
          1,
          1,
          1,
          1,
          1,
          1,
          1,
          1,
          1,
          1,
          1,
          1,
          1,
          1,
          1,
          1,
          1,
          1,
          1,
          1,
          1,
          1,
          1,
          1,
          1,
          1,
          1,
          1,
          1,
          1,
          1,
          1,
          1,
          1,
          1,
          1,
          1,
          1,
          1,
          1,
          1,
          1,
          1,
          1,
          1,
          1,
          1,
          1,
          1,
          1,
          1,
          1,
          1,
          1,
          1,
          1,
          1,
          1,
          1,
          1,
          1,
          1,
          1,
          1,
          1,
          1,
          1,
          1,
          1,
          1,
          1,
          1,
          1,
          1,
          1,
          1,
          1,
          1,
          1,
          1,
          1,
          1,
          1,
          1,
          1,
          1,
          1,
          1,
          1,
          1,
          1,
          1,
          1,
          1,
          1,
          1,
          1,
          1,
          1,
          1,
          1,
          1,
          1,
          1,
          1,
          1,
          1,
          1,
          1,
          1,
          1,
          1,
          1,
          1,
          1,
          1,
          1,
          1,
          1,
          1,
          1,
          1
         ],
         "yaxis": "y"
        }
       ],
       "layout": {
        "legend": {
         "title": {
          "text": "variable"
         },
         "tracegroupgap": 0
        },
        "margin": {
         "t": 60
        },
        "template": {
         "data": {
          "bar": [
           {
            "error_x": {
             "color": "#2a3f5f"
            },
            "error_y": {
             "color": "#2a3f5f"
            },
            "marker": {
             "line": {
              "color": "#E5ECF6",
              "width": 0.5
             },
             "pattern": {
              "fillmode": "overlay",
              "size": 10,
              "solidity": 0.2
             }
            },
            "type": "bar"
           }
          ],
          "barpolar": [
           {
            "marker": {
             "line": {
              "color": "#E5ECF6",
              "width": 0.5
             },
             "pattern": {
              "fillmode": "overlay",
              "size": 10,
              "solidity": 0.2
             }
            },
            "type": "barpolar"
           }
          ],
          "carpet": [
           {
            "aaxis": {
             "endlinecolor": "#2a3f5f",
             "gridcolor": "white",
             "linecolor": "white",
             "minorgridcolor": "white",
             "startlinecolor": "#2a3f5f"
            },
            "baxis": {
             "endlinecolor": "#2a3f5f",
             "gridcolor": "white",
             "linecolor": "white",
             "minorgridcolor": "white",
             "startlinecolor": "#2a3f5f"
            },
            "type": "carpet"
           }
          ],
          "choropleth": [
           {
            "colorbar": {
             "outlinewidth": 0,
             "ticks": ""
            },
            "type": "choropleth"
           }
          ],
          "contour": [
           {
            "colorbar": {
             "outlinewidth": 0,
             "ticks": ""
            },
            "colorscale": [
             [
              0,
              "#0d0887"
             ],
             [
              0.1111111111111111,
              "#46039f"
             ],
             [
              0.2222222222222222,
              "#7201a8"
             ],
             [
              0.3333333333333333,
              "#9c179e"
             ],
             [
              0.4444444444444444,
              "#bd3786"
             ],
             [
              0.5555555555555556,
              "#d8576b"
             ],
             [
              0.6666666666666666,
              "#ed7953"
             ],
             [
              0.7777777777777778,
              "#fb9f3a"
             ],
             [
              0.8888888888888888,
              "#fdca26"
             ],
             [
              1,
              "#f0f921"
             ]
            ],
            "type": "contour"
           }
          ],
          "contourcarpet": [
           {
            "colorbar": {
             "outlinewidth": 0,
             "ticks": ""
            },
            "type": "contourcarpet"
           }
          ],
          "heatmap": [
           {
            "colorbar": {
             "outlinewidth": 0,
             "ticks": ""
            },
            "colorscale": [
             [
              0,
              "#0d0887"
             ],
             [
              0.1111111111111111,
              "#46039f"
             ],
             [
              0.2222222222222222,
              "#7201a8"
             ],
             [
              0.3333333333333333,
              "#9c179e"
             ],
             [
              0.4444444444444444,
              "#bd3786"
             ],
             [
              0.5555555555555556,
              "#d8576b"
             ],
             [
              0.6666666666666666,
              "#ed7953"
             ],
             [
              0.7777777777777778,
              "#fb9f3a"
             ],
             [
              0.8888888888888888,
              "#fdca26"
             ],
             [
              1,
              "#f0f921"
             ]
            ],
            "type": "heatmap"
           }
          ],
          "heatmapgl": [
           {
            "colorbar": {
             "outlinewidth": 0,
             "ticks": ""
            },
            "colorscale": [
             [
              0,
              "#0d0887"
             ],
             [
              0.1111111111111111,
              "#46039f"
             ],
             [
              0.2222222222222222,
              "#7201a8"
             ],
             [
              0.3333333333333333,
              "#9c179e"
             ],
             [
              0.4444444444444444,
              "#bd3786"
             ],
             [
              0.5555555555555556,
              "#d8576b"
             ],
             [
              0.6666666666666666,
              "#ed7953"
             ],
             [
              0.7777777777777778,
              "#fb9f3a"
             ],
             [
              0.8888888888888888,
              "#fdca26"
             ],
             [
              1,
              "#f0f921"
             ]
            ],
            "type": "heatmapgl"
           }
          ],
          "histogram": [
           {
            "marker": {
             "pattern": {
              "fillmode": "overlay",
              "size": 10,
              "solidity": 0.2
             }
            },
            "type": "histogram"
           }
          ],
          "histogram2d": [
           {
            "colorbar": {
             "outlinewidth": 0,
             "ticks": ""
            },
            "colorscale": [
             [
              0,
              "#0d0887"
             ],
             [
              0.1111111111111111,
              "#46039f"
             ],
             [
              0.2222222222222222,
              "#7201a8"
             ],
             [
              0.3333333333333333,
              "#9c179e"
             ],
             [
              0.4444444444444444,
              "#bd3786"
             ],
             [
              0.5555555555555556,
              "#d8576b"
             ],
             [
              0.6666666666666666,
              "#ed7953"
             ],
             [
              0.7777777777777778,
              "#fb9f3a"
             ],
             [
              0.8888888888888888,
              "#fdca26"
             ],
             [
              1,
              "#f0f921"
             ]
            ],
            "type": "histogram2d"
           }
          ],
          "histogram2dcontour": [
           {
            "colorbar": {
             "outlinewidth": 0,
             "ticks": ""
            },
            "colorscale": [
             [
              0,
              "#0d0887"
             ],
             [
              0.1111111111111111,
              "#46039f"
             ],
             [
              0.2222222222222222,
              "#7201a8"
             ],
             [
              0.3333333333333333,
              "#9c179e"
             ],
             [
              0.4444444444444444,
              "#bd3786"
             ],
             [
              0.5555555555555556,
              "#d8576b"
             ],
             [
              0.6666666666666666,
              "#ed7953"
             ],
             [
              0.7777777777777778,
              "#fb9f3a"
             ],
             [
              0.8888888888888888,
              "#fdca26"
             ],
             [
              1,
              "#f0f921"
             ]
            ],
            "type": "histogram2dcontour"
           }
          ],
          "mesh3d": [
           {
            "colorbar": {
             "outlinewidth": 0,
             "ticks": ""
            },
            "type": "mesh3d"
           }
          ],
          "parcoords": [
           {
            "line": {
             "colorbar": {
              "outlinewidth": 0,
              "ticks": ""
             }
            },
            "type": "parcoords"
           }
          ],
          "pie": [
           {
            "automargin": true,
            "type": "pie"
           }
          ],
          "scatter": [
           {
            "fillpattern": {
             "fillmode": "overlay",
             "size": 10,
             "solidity": 0.2
            },
            "type": "scatter"
           }
          ],
          "scatter3d": [
           {
            "line": {
             "colorbar": {
              "outlinewidth": 0,
              "ticks": ""
             }
            },
            "marker": {
             "colorbar": {
              "outlinewidth": 0,
              "ticks": ""
             }
            },
            "type": "scatter3d"
           }
          ],
          "scattercarpet": [
           {
            "marker": {
             "colorbar": {
              "outlinewidth": 0,
              "ticks": ""
             }
            },
            "type": "scattercarpet"
           }
          ],
          "scattergeo": [
           {
            "marker": {
             "colorbar": {
              "outlinewidth": 0,
              "ticks": ""
             }
            },
            "type": "scattergeo"
           }
          ],
          "scattergl": [
           {
            "marker": {
             "colorbar": {
              "outlinewidth": 0,
              "ticks": ""
             }
            },
            "type": "scattergl"
           }
          ],
          "scattermapbox": [
           {
            "marker": {
             "colorbar": {
              "outlinewidth": 0,
              "ticks": ""
             }
            },
            "type": "scattermapbox"
           }
          ],
          "scatterpolar": [
           {
            "marker": {
             "colorbar": {
              "outlinewidth": 0,
              "ticks": ""
             }
            },
            "type": "scatterpolar"
           }
          ],
          "scatterpolargl": [
           {
            "marker": {
             "colorbar": {
              "outlinewidth": 0,
              "ticks": ""
             }
            },
            "type": "scatterpolargl"
           }
          ],
          "scatterternary": [
           {
            "marker": {
             "colorbar": {
              "outlinewidth": 0,
              "ticks": ""
             }
            },
            "type": "scatterternary"
           }
          ],
          "surface": [
           {
            "colorbar": {
             "outlinewidth": 0,
             "ticks": ""
            },
            "colorscale": [
             [
              0,
              "#0d0887"
             ],
             [
              0.1111111111111111,
              "#46039f"
             ],
             [
              0.2222222222222222,
              "#7201a8"
             ],
             [
              0.3333333333333333,
              "#9c179e"
             ],
             [
              0.4444444444444444,
              "#bd3786"
             ],
             [
              0.5555555555555556,
              "#d8576b"
             ],
             [
              0.6666666666666666,
              "#ed7953"
             ],
             [
              0.7777777777777778,
              "#fb9f3a"
             ],
             [
              0.8888888888888888,
              "#fdca26"
             ],
             [
              1,
              "#f0f921"
             ]
            ],
            "type": "surface"
           }
          ],
          "table": [
           {
            "cells": {
             "fill": {
              "color": "#EBF0F8"
             },
             "line": {
              "color": "white"
             }
            },
            "header": {
             "fill": {
              "color": "#C8D4E3"
             },
             "line": {
              "color": "white"
             }
            },
            "type": "table"
           }
          ]
         },
         "layout": {
          "annotationdefaults": {
           "arrowcolor": "#2a3f5f",
           "arrowhead": 0,
           "arrowwidth": 1
          },
          "autotypenumbers": "strict",
          "coloraxis": {
           "colorbar": {
            "outlinewidth": 0,
            "ticks": ""
           }
          },
          "colorscale": {
           "diverging": [
            [
             0,
             "#8e0152"
            ],
            [
             0.1,
             "#c51b7d"
            ],
            [
             0.2,
             "#de77ae"
            ],
            [
             0.3,
             "#f1b6da"
            ],
            [
             0.4,
             "#fde0ef"
            ],
            [
             0.5,
             "#f7f7f7"
            ],
            [
             0.6,
             "#e6f5d0"
            ],
            [
             0.7,
             "#b8e186"
            ],
            [
             0.8,
             "#7fbc41"
            ],
            [
             0.9,
             "#4d9221"
            ],
            [
             1,
             "#276419"
            ]
           ],
           "sequential": [
            [
             0,
             "#0d0887"
            ],
            [
             0.1111111111111111,
             "#46039f"
            ],
            [
             0.2222222222222222,
             "#7201a8"
            ],
            [
             0.3333333333333333,
             "#9c179e"
            ],
            [
             0.4444444444444444,
             "#bd3786"
            ],
            [
             0.5555555555555556,
             "#d8576b"
            ],
            [
             0.6666666666666666,
             "#ed7953"
            ],
            [
             0.7777777777777778,
             "#fb9f3a"
            ],
            [
             0.8888888888888888,
             "#fdca26"
            ],
            [
             1,
             "#f0f921"
            ]
           ],
           "sequentialminus": [
            [
             0,
             "#0d0887"
            ],
            [
             0.1111111111111111,
             "#46039f"
            ],
            [
             0.2222222222222222,
             "#7201a8"
            ],
            [
             0.3333333333333333,
             "#9c179e"
            ],
            [
             0.4444444444444444,
             "#bd3786"
            ],
            [
             0.5555555555555556,
             "#d8576b"
            ],
            [
             0.6666666666666666,
             "#ed7953"
            ],
            [
             0.7777777777777778,
             "#fb9f3a"
            ],
            [
             0.8888888888888888,
             "#fdca26"
            ],
            [
             1,
             "#f0f921"
            ]
           ]
          },
          "colorway": [
           "#636efa",
           "#EF553B",
           "#00cc96",
           "#ab63fa",
           "#FFA15A",
           "#19d3f3",
           "#FF6692",
           "#B6E880",
           "#FF97FF",
           "#FECB52"
          ],
          "font": {
           "color": "#2a3f5f"
          },
          "geo": {
           "bgcolor": "white",
           "lakecolor": "white",
           "landcolor": "#E5ECF6",
           "showlakes": true,
           "showland": true,
           "subunitcolor": "white"
          },
          "hoverlabel": {
           "align": "left"
          },
          "hovermode": "closest",
          "mapbox": {
           "style": "light"
          },
          "paper_bgcolor": "white",
          "plot_bgcolor": "#E5ECF6",
          "polar": {
           "angularaxis": {
            "gridcolor": "white",
            "linecolor": "white",
            "ticks": ""
           },
           "bgcolor": "#E5ECF6",
           "radialaxis": {
            "gridcolor": "white",
            "linecolor": "white",
            "ticks": ""
           }
          },
          "scene": {
           "xaxis": {
            "backgroundcolor": "#E5ECF6",
            "gridcolor": "white",
            "gridwidth": 2,
            "linecolor": "white",
            "showbackground": true,
            "ticks": "",
            "zerolinecolor": "white"
           },
           "yaxis": {
            "backgroundcolor": "#E5ECF6",
            "gridcolor": "white",
            "gridwidth": 2,
            "linecolor": "white",
            "showbackground": true,
            "ticks": "",
            "zerolinecolor": "white"
           },
           "zaxis": {
            "backgroundcolor": "#E5ECF6",
            "gridcolor": "white",
            "gridwidth": 2,
            "linecolor": "white",
            "showbackground": true,
            "ticks": "",
            "zerolinecolor": "white"
           }
          },
          "shapedefaults": {
           "line": {
            "color": "#2a3f5f"
           }
          },
          "ternary": {
           "aaxis": {
            "gridcolor": "white",
            "linecolor": "white",
            "ticks": ""
           },
           "baxis": {
            "gridcolor": "white",
            "linecolor": "white",
            "ticks": ""
           },
           "bgcolor": "#E5ECF6",
           "caxis": {
            "gridcolor": "white",
            "linecolor": "white",
            "ticks": ""
           }
          },
          "title": {
           "x": 0.05
          },
          "xaxis": {
           "automargin": true,
           "gridcolor": "white",
           "linecolor": "white",
           "ticks": "",
           "title": {
            "standoff": 15
           },
           "zerolinecolor": "white",
           "zerolinewidth": 2
          },
          "yaxis": {
           "automargin": true,
           "gridcolor": "white",
           "linecolor": "white",
           "ticks": "",
           "title": {
            "standoff": 15
           },
           "zerolinecolor": "white",
           "zerolinewidth": 2
          }
         }
        },
        "xaxis": {
         "anchor": "y",
         "domain": [
          0,
          1
         ],
         "title": {
          "text": "index"
         }
        },
        "yaxis": {
         "anchor": "x",
         "domain": [
          0,
          1
         ],
         "title": {
          "text": "value"
         }
        }
       }
      },
      "text/html": [
       "<div>                            <div id=\"478d0e6a-56c9-4e28-807a-402cf2d9197b\" class=\"plotly-graph-div\" style=\"height:525px; width:100%;\"></div>            <script type=\"text/javascript\">                require([\"plotly\"], function(Plotly) {                    window.PLOTLYENV=window.PLOTLYENV || {};                                    if (document.getElementById(\"478d0e6a-56c9-4e28-807a-402cf2d9197b\")) {                    Plotly.newPlot(                        \"478d0e6a-56c9-4e28-807a-402cf2d9197b\",                        [{\"hovertemplate\":\"variable=0\\u003cbr\\u003eindex=%{x}\\u003cbr\\u003evalue=%{y}\\u003cextra\\u003e\\u003c\\u002fextra\\u003e\",\"legendgroup\":\"0\",\"line\":{\"color\":\"#636efa\",\"dash\":\"solid\"},\"marker\":{\"symbol\":\"circle\"},\"mode\":\"lines\",\"name\":\"0\",\"orientation\":\"v\",\"showlegend\":true,\"x\":[0,1,2,3,4,5,6,7,8,9,10,11,12,13,14,15,16,17,18,19,20,21,22,23,24,25,26,27,28,29,30,31,32,33,34,35,36,37,38,39,40,41,42,43,44,45,46,47,48,49,50,51,52,53,54,55,56,57,58,59,60,61,62,63,64,65,66,67,68,69,70,71,72,73,74,75,76,77,78,79,80,81,82,83,84,85,86,87,88,89,90,91,92,93,94,95,96,97,98,99,100,101,102,103,104,105,106,107,108,109,110,111,112,113,114,115,116,117,118,119,120,121,122,123,124,125,126,127,128,129,130,131,132,133,134,135,136,137,138,139,140,141,142,143,144,145,146,147,148,149,150,151,152,153,154,155,156,157,158,159,160,161,162,163,164,165,166,167,168,169,170,171,172,173,174,175,176,177,178,179,180,181,182,183,184,185,186,187,188,189,190,191,192,193,194,195,196,197,198,199,200,201,202,203,204,205,206,207,208,209,210,211,212,213,214,215,216,217,218,219,220,221,222,223,224,225,226,227,228,229,230,231,232,233,234,235,236,237,238,239,240,241,242,243,244,245,246,247,248,249,250,251,252,253,254,255,256,257,258,259,260,261,262,263,264,265,266,267,268,269,270,271,272,273,274,275,276,277,278,279,280,281,282,283,284,285,286,287,288,289,290,291,292,293,294,295,296,297,298,299,300,301,302,303,304,305,306,307,308,309,310,311,312,313,314,315,316,317,318,319,320,321,322,323,324,325,326,327,328,329,330,331,332,333,334,335,336,337,338,339,340,341,342,343,344,345,346,347,348,349,350,351,352,353,354,355,356,357,358,359,360,361,362,363,364,365,366,367,368,369,370,371,372,373,374,375,376,377,378,379,380,381,382,383,384,385,386,387,388,389,390,391,392,393,394,395,396,397,398,399,400,401,402,403,404,405,406,407,408,409,410,411,412,413,414,415,416,417,418,419,420,421,422,423,424,425,426,427,428,429,430,431,432,433,434,435,436,437,438,439,440,441,442,443,444,445,446,447,448,449,450,451,452,453,454,455,456,457,458,459,460,461,462,463,464,465,466,467,468,469,470,471,472,473,474,475,476,477,478,479,480,481,482,483,484,485,486,487,488,489,490,491,492,493,494,495,496,497,498,499,500,501,502,503,504,505,506,507,508,509,510,511,512,513,514,515,516,517,518,519,520,521,522,523,524,525,526,527,528,529,530,531,532,533,534,535,536,537,538,539,540,541,542,543,544,545,546,547,548,549,550,551,552,553,554,555,556,557,558,559,560,561,562,563,564,565,566,567,568,569,570,571,572,573,574,575,576,577,578,579,580,581,582,583,584,585,586,587,588,589,590,591],\"xaxis\":\"x\",\"y\":[1,1,1,1,1,1,1,1,1,1,1,1,1,1,1,1,1,1,1,1,1,1,1,1,1,1,1,1,1,1,1,1,1,1,1,1,1,1,1,1,1,1,1,1,1,1,1,1,1,1,1,1,1,1,1,1,1,1,1,1,1,1,1,1,1,1,1,1,1,1,1,1,1,1,1,1,1,1,1,1,1,1,1,1,1,1,1,1,1,1,1,1,1,1,1,1,1,1,1,1,1,1,1,1,1,1,1,1,1,1,1,1,1,1,1,1,1,1,1,1,1,1,1,1,1,1,1,1,1,1,1,1,1,1,1,1,1,1,1,1,1,1,1,1,1,1,1,1,1,1,1,1,1,1,1,1,1,1,1,1,1,1,1,1,1,1,1,1,1,1,1,1,1,1,1,1,1,1,1,1,1,1,1,1,1,1,1,1,1,1,1,1,1,1,1,1,1,1,1,1,1,1,1,1,1,1,1,1,1,1,1,1,1,1,1,1,1,1,1,1,1,1,1,1,1,1,1,1,1,1,1,1,1,1,1,1,1,1,1,1,1,1,1,1,1,1,1,1,1,1,1,1,1,1,1,1,1,1,1,1,1,1,1,1,1,1,1,1,1,1,1,1,1,1,1,1,1,1,1,1,1,1,1,1,1,1,1,1,1,1,1,1,1,1,1,1,1,1,1,1,1,1,1,1,1,1,1,1,1,1,1,1,1,1,1,1,1,1,1,1,1,1,1,1,1,1,1,1,1,1,1,1,1,1,1,1,1,1,1,1,1,1,1,1,1,1,1,1,1,1,1,1,1,1,1,1,1,1,1,1,1,1,1,1,1,1,1,1,1,1,1,1,1,1,1,1,1,1,1,1,1,1,1,1,1,1,1,1,1,1,1,1,1,1,1,1,1,1,1,1,1,1,1,1,1,1,1,1,1,1,1,1,1,1,1,1,1,1,1,1,1,1,1,1,1,1,1,1,1,1,1,1,1,1,1,1,1,1,1,1,1,1,1,1,1,1,1,1,1,1,1,1,1,1,1,1,1,1,1,1,1,1,1,1,1,1,1,1,1,1,1,1,1,1,1,1,1,1,1,1,1,1,1,1,1,1,1,1,1,1,1,1,1,1,1,1,1,1,1,1,1,1,1,1,1,1,1,1,1,1,1,1,1,1,1,1,1,1,1,1,1,1,1,1,1,1,1,1,1,1,1,1,1,1,1,1,1,1,1,1,1,1,1,1,1,1,1,1,1,1,1,1,1,1,1,1,1,1,1,1,1,1,1,1,1,1,1,1,1,1,1,1,1,1,1,1,1,1,1,1,1,1,1,1,1,1,1,1,1,1,1,1],\"yaxis\":\"y\",\"type\":\"scatter\"}],                        {\"template\":{\"data\":{\"histogram2dcontour\":[{\"type\":\"histogram2dcontour\",\"colorbar\":{\"outlinewidth\":0,\"ticks\":\"\"},\"colorscale\":[[0.0,\"#0d0887\"],[0.1111111111111111,\"#46039f\"],[0.2222222222222222,\"#7201a8\"],[0.3333333333333333,\"#9c179e\"],[0.4444444444444444,\"#bd3786\"],[0.5555555555555556,\"#d8576b\"],[0.6666666666666666,\"#ed7953\"],[0.7777777777777778,\"#fb9f3a\"],[0.8888888888888888,\"#fdca26\"],[1.0,\"#f0f921\"]]}],\"choropleth\":[{\"type\":\"choropleth\",\"colorbar\":{\"outlinewidth\":0,\"ticks\":\"\"}}],\"histogram2d\":[{\"type\":\"histogram2d\",\"colorbar\":{\"outlinewidth\":0,\"ticks\":\"\"},\"colorscale\":[[0.0,\"#0d0887\"],[0.1111111111111111,\"#46039f\"],[0.2222222222222222,\"#7201a8\"],[0.3333333333333333,\"#9c179e\"],[0.4444444444444444,\"#bd3786\"],[0.5555555555555556,\"#d8576b\"],[0.6666666666666666,\"#ed7953\"],[0.7777777777777778,\"#fb9f3a\"],[0.8888888888888888,\"#fdca26\"],[1.0,\"#f0f921\"]]}],\"heatmap\":[{\"type\":\"heatmap\",\"colorbar\":{\"outlinewidth\":0,\"ticks\":\"\"},\"colorscale\":[[0.0,\"#0d0887\"],[0.1111111111111111,\"#46039f\"],[0.2222222222222222,\"#7201a8\"],[0.3333333333333333,\"#9c179e\"],[0.4444444444444444,\"#bd3786\"],[0.5555555555555556,\"#d8576b\"],[0.6666666666666666,\"#ed7953\"],[0.7777777777777778,\"#fb9f3a\"],[0.8888888888888888,\"#fdca26\"],[1.0,\"#f0f921\"]]}],\"heatmapgl\":[{\"type\":\"heatmapgl\",\"colorbar\":{\"outlinewidth\":0,\"ticks\":\"\"},\"colorscale\":[[0.0,\"#0d0887\"],[0.1111111111111111,\"#46039f\"],[0.2222222222222222,\"#7201a8\"],[0.3333333333333333,\"#9c179e\"],[0.4444444444444444,\"#bd3786\"],[0.5555555555555556,\"#d8576b\"],[0.6666666666666666,\"#ed7953\"],[0.7777777777777778,\"#fb9f3a\"],[0.8888888888888888,\"#fdca26\"],[1.0,\"#f0f921\"]]}],\"contourcarpet\":[{\"type\":\"contourcarpet\",\"colorbar\":{\"outlinewidth\":0,\"ticks\":\"\"}}],\"contour\":[{\"type\":\"contour\",\"colorbar\":{\"outlinewidth\":0,\"ticks\":\"\"},\"colorscale\":[[0.0,\"#0d0887\"],[0.1111111111111111,\"#46039f\"],[0.2222222222222222,\"#7201a8\"],[0.3333333333333333,\"#9c179e\"],[0.4444444444444444,\"#bd3786\"],[0.5555555555555556,\"#d8576b\"],[0.6666666666666666,\"#ed7953\"],[0.7777777777777778,\"#fb9f3a\"],[0.8888888888888888,\"#fdca26\"],[1.0,\"#f0f921\"]]}],\"surface\":[{\"type\":\"surface\",\"colorbar\":{\"outlinewidth\":0,\"ticks\":\"\"},\"colorscale\":[[0.0,\"#0d0887\"],[0.1111111111111111,\"#46039f\"],[0.2222222222222222,\"#7201a8\"],[0.3333333333333333,\"#9c179e\"],[0.4444444444444444,\"#bd3786\"],[0.5555555555555556,\"#d8576b\"],[0.6666666666666666,\"#ed7953\"],[0.7777777777777778,\"#fb9f3a\"],[0.8888888888888888,\"#fdca26\"],[1.0,\"#f0f921\"]]}],\"mesh3d\":[{\"type\":\"mesh3d\",\"colorbar\":{\"outlinewidth\":0,\"ticks\":\"\"}}],\"scatter\":[{\"fillpattern\":{\"fillmode\":\"overlay\",\"size\":10,\"solidity\":0.2},\"type\":\"scatter\"}],\"parcoords\":[{\"type\":\"parcoords\",\"line\":{\"colorbar\":{\"outlinewidth\":0,\"ticks\":\"\"}}}],\"scatterpolargl\":[{\"type\":\"scatterpolargl\",\"marker\":{\"colorbar\":{\"outlinewidth\":0,\"ticks\":\"\"}}}],\"bar\":[{\"error_x\":{\"color\":\"#2a3f5f\"},\"error_y\":{\"color\":\"#2a3f5f\"},\"marker\":{\"line\":{\"color\":\"#E5ECF6\",\"width\":0.5},\"pattern\":{\"fillmode\":\"overlay\",\"size\":10,\"solidity\":0.2}},\"type\":\"bar\"}],\"scattergeo\":[{\"type\":\"scattergeo\",\"marker\":{\"colorbar\":{\"outlinewidth\":0,\"ticks\":\"\"}}}],\"scatterpolar\":[{\"type\":\"scatterpolar\",\"marker\":{\"colorbar\":{\"outlinewidth\":0,\"ticks\":\"\"}}}],\"histogram\":[{\"marker\":{\"pattern\":{\"fillmode\":\"overlay\",\"size\":10,\"solidity\":0.2}},\"type\":\"histogram\"}],\"scattergl\":[{\"type\":\"scattergl\",\"marker\":{\"colorbar\":{\"outlinewidth\":0,\"ticks\":\"\"}}}],\"scatter3d\":[{\"type\":\"scatter3d\",\"line\":{\"colorbar\":{\"outlinewidth\":0,\"ticks\":\"\"}},\"marker\":{\"colorbar\":{\"outlinewidth\":0,\"ticks\":\"\"}}}],\"scattermapbox\":[{\"type\":\"scattermapbox\",\"marker\":{\"colorbar\":{\"outlinewidth\":0,\"ticks\":\"\"}}}],\"scatterternary\":[{\"type\":\"scatterternary\",\"marker\":{\"colorbar\":{\"outlinewidth\":0,\"ticks\":\"\"}}}],\"scattercarpet\":[{\"type\":\"scattercarpet\",\"marker\":{\"colorbar\":{\"outlinewidth\":0,\"ticks\":\"\"}}}],\"carpet\":[{\"aaxis\":{\"endlinecolor\":\"#2a3f5f\",\"gridcolor\":\"white\",\"linecolor\":\"white\",\"minorgridcolor\":\"white\",\"startlinecolor\":\"#2a3f5f\"},\"baxis\":{\"endlinecolor\":\"#2a3f5f\",\"gridcolor\":\"white\",\"linecolor\":\"white\",\"minorgridcolor\":\"white\",\"startlinecolor\":\"#2a3f5f\"},\"type\":\"carpet\"}],\"table\":[{\"cells\":{\"fill\":{\"color\":\"#EBF0F8\"},\"line\":{\"color\":\"white\"}},\"header\":{\"fill\":{\"color\":\"#C8D4E3\"},\"line\":{\"color\":\"white\"}},\"type\":\"table\"}],\"barpolar\":[{\"marker\":{\"line\":{\"color\":\"#E5ECF6\",\"width\":0.5},\"pattern\":{\"fillmode\":\"overlay\",\"size\":10,\"solidity\":0.2}},\"type\":\"barpolar\"}],\"pie\":[{\"automargin\":true,\"type\":\"pie\"}]},\"layout\":{\"autotypenumbers\":\"strict\",\"colorway\":[\"#636efa\",\"#EF553B\",\"#00cc96\",\"#ab63fa\",\"#FFA15A\",\"#19d3f3\",\"#FF6692\",\"#B6E880\",\"#FF97FF\",\"#FECB52\"],\"font\":{\"color\":\"#2a3f5f\"},\"hovermode\":\"closest\",\"hoverlabel\":{\"align\":\"left\"},\"paper_bgcolor\":\"white\",\"plot_bgcolor\":\"#E5ECF6\",\"polar\":{\"bgcolor\":\"#E5ECF6\",\"angularaxis\":{\"gridcolor\":\"white\",\"linecolor\":\"white\",\"ticks\":\"\"},\"radialaxis\":{\"gridcolor\":\"white\",\"linecolor\":\"white\",\"ticks\":\"\"}},\"ternary\":{\"bgcolor\":\"#E5ECF6\",\"aaxis\":{\"gridcolor\":\"white\",\"linecolor\":\"white\",\"ticks\":\"\"},\"baxis\":{\"gridcolor\":\"white\",\"linecolor\":\"white\",\"ticks\":\"\"},\"caxis\":{\"gridcolor\":\"white\",\"linecolor\":\"white\",\"ticks\":\"\"}},\"coloraxis\":{\"colorbar\":{\"outlinewidth\":0,\"ticks\":\"\"}},\"colorscale\":{\"sequential\":[[0.0,\"#0d0887\"],[0.1111111111111111,\"#46039f\"],[0.2222222222222222,\"#7201a8\"],[0.3333333333333333,\"#9c179e\"],[0.4444444444444444,\"#bd3786\"],[0.5555555555555556,\"#d8576b\"],[0.6666666666666666,\"#ed7953\"],[0.7777777777777778,\"#fb9f3a\"],[0.8888888888888888,\"#fdca26\"],[1.0,\"#f0f921\"]],\"sequentialminus\":[[0.0,\"#0d0887\"],[0.1111111111111111,\"#46039f\"],[0.2222222222222222,\"#7201a8\"],[0.3333333333333333,\"#9c179e\"],[0.4444444444444444,\"#bd3786\"],[0.5555555555555556,\"#d8576b\"],[0.6666666666666666,\"#ed7953\"],[0.7777777777777778,\"#fb9f3a\"],[0.8888888888888888,\"#fdca26\"],[1.0,\"#f0f921\"]],\"diverging\":[[0,\"#8e0152\"],[0.1,\"#c51b7d\"],[0.2,\"#de77ae\"],[0.3,\"#f1b6da\"],[0.4,\"#fde0ef\"],[0.5,\"#f7f7f7\"],[0.6,\"#e6f5d0\"],[0.7,\"#b8e186\"],[0.8,\"#7fbc41\"],[0.9,\"#4d9221\"],[1,\"#276419\"]]},\"xaxis\":{\"gridcolor\":\"white\",\"linecolor\":\"white\",\"ticks\":\"\",\"title\":{\"standoff\":15},\"zerolinecolor\":\"white\",\"automargin\":true,\"zerolinewidth\":2},\"yaxis\":{\"gridcolor\":\"white\",\"linecolor\":\"white\",\"ticks\":\"\",\"title\":{\"standoff\":15},\"zerolinecolor\":\"white\",\"automargin\":true,\"zerolinewidth\":2},\"scene\":{\"xaxis\":{\"backgroundcolor\":\"#E5ECF6\",\"gridcolor\":\"white\",\"linecolor\":\"white\",\"showbackground\":true,\"ticks\":\"\",\"zerolinecolor\":\"white\",\"gridwidth\":2},\"yaxis\":{\"backgroundcolor\":\"#E5ECF6\",\"gridcolor\":\"white\",\"linecolor\":\"white\",\"showbackground\":true,\"ticks\":\"\",\"zerolinecolor\":\"white\",\"gridwidth\":2},\"zaxis\":{\"backgroundcolor\":\"#E5ECF6\",\"gridcolor\":\"white\",\"linecolor\":\"white\",\"showbackground\":true,\"ticks\":\"\",\"zerolinecolor\":\"white\",\"gridwidth\":2}},\"shapedefaults\":{\"line\":{\"color\":\"#2a3f5f\"}},\"annotationdefaults\":{\"arrowcolor\":\"#2a3f5f\",\"arrowhead\":0,\"arrowwidth\":1},\"geo\":{\"bgcolor\":\"white\",\"landcolor\":\"#E5ECF6\",\"subunitcolor\":\"white\",\"showland\":true,\"showlakes\":true,\"lakecolor\":\"white\"},\"title\":{\"x\":0.05},\"mapbox\":{\"style\":\"light\"}}},\"xaxis\":{\"anchor\":\"y\",\"domain\":[0.0,1.0],\"title\":{\"text\":\"index\"}},\"yaxis\":{\"anchor\":\"x\",\"domain\":[0.0,1.0],\"title\":{\"text\":\"value\"}},\"legend\":{\"title\":{\"text\":\"variable\"},\"tracegroupgap\":0},\"margin\":{\"t\":60}},                        {\"responsive\": true}                    ).then(function(){\n",
       "                            \n",
       "var gd = document.getElementById('478d0e6a-56c9-4e28-807a-402cf2d9197b');\n",
       "var x = new MutationObserver(function (mutations, observer) {{\n",
       "        var display = window.getComputedStyle(gd).display;\n",
       "        if (!display || display === 'none') {{\n",
       "            console.log([gd, 'removed!']);\n",
       "            Plotly.purge(gd);\n",
       "            observer.disconnect();\n",
       "        }}\n",
       "}});\n",
       "\n",
       "// Listen for the removal of the full notebook cells\n",
       "var notebookContainer = gd.closest('#notebook-container');\n",
       "if (notebookContainer) {{\n",
       "    x.observe(notebookContainer, {childList: true});\n",
       "}}\n",
       "\n",
       "// Listen for the clearing of the current output cell\n",
       "var outputEl = gd.closest('.output');\n",
       "if (outputEl) {{\n",
       "    x.observe(outputEl, {childList: true});\n",
       "}}\n",
       "\n",
       "                        })                };                });            </script>        </div>"
      ]
     },
     "metadata": {},
     "output_type": "display_data"
    }
   ],
   "source": [
    "px.line(np.array(mlp_portfolio))\n"
   ]
  },
  {
   "cell_type": "code",
   "execution_count": null,
   "metadata": {},
   "outputs": [],
   "source": []
  }
 ],
 "metadata": {
  "kernelspec": {
   "display_name": "Python 3",
   "language": "python",
   "name": "python3"
  },
  "language_info": {
   "codemirror_mode": {
    "name": "ipython",
    "version": 3
   },
   "file_extension": ".py",
   "mimetype": "text/x-python",
   "name": "python",
   "nbconvert_exporter": "python",
   "pygments_lexer": "ipython3",
   "version": "3.10.7"
  }
 },
 "nbformat": 4,
 "nbformat_minor": 2
}
