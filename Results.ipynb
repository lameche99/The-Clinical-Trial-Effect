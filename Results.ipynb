{
 "cells": [
  {
   "cell_type": "code",
   "execution_count": 196,
   "metadata": {},
   "outputs": [],
   "source": [
    "from models import *\n",
    "import numpy as np\n",
    "import pandas as pd\n",
    "import sqlite3\n",
    "from sklearn.metrics import confusion_matrix\n",
    "import plotly.express as px\n",
    "\n",
    "import dgl\n",
    "import torch\n",
    "import torch.nn as nn\n",
    "import torch.nn.functional as F\n",
    "from sklearn.model_selection import train_test_split\n",
    "from sklearn.preprocessing import StandardScaler, MinMaxScaler\n",
    "\n",
    "import networkx as nx\n",
    "import matplotlib.pyplot as plt\n",
    "\n",
    "from tqdm import tqdm\n"
   ]
  },
  {
   "cell_type": "markdown",
   "metadata": {},
   "source": [
    "## Reading the Event Data and the Stock Data"
   ]
  },
  {
   "cell_type": "code",
   "execution_count": 197,
   "metadata": {},
   "outputs": [],
   "source": [
    "# Connect to the SQLite database\n",
    "conn = sqlite3.connect('./data-src/final_data.db')\n",
    "\n",
    "# Replace 'your_table' with the actual table name and 'conn' with your database connection\n",
    "query = 'SELECT * FROM ALL_FEATURES'\n",
    "\n",
    "# Use the pandas read_sql function to read the data into a DataFrame\n",
    "events_df = pd.read_sql(query, conn)\n",
    "\n",
    "# Close the database connection\n",
    "conn.close()\n",
    "\n",
    "# Now, you can work with the DataFrame 'df'\n",
    "events_df['date'] = pd.to_datetime(events_df['date'])\n",
    "events_df = events_df.sort_values(by='date')\n",
    "stock_df = pd.read_csv('./data-src/stock_data.zip', compression='zip', header=[0, 1], index_col=0, parse_dates=True)\n"
   ]
  },
  {
   "cell_type": "code",
   "execution_count": 198,
   "metadata": {},
   "outputs": [
    {
     "data": {
      "text/html": [
       "<div>\n",
       "<style scoped>\n",
       "    .dataframe tbody tr th:only-of-type {\n",
       "        vertical-align: middle;\n",
       "    }\n",
       "\n",
       "    .dataframe tbody tr th {\n",
       "        vertical-align: top;\n",
       "    }\n",
       "\n",
       "    .dataframe thead th {\n",
       "        text-align: right;\n",
       "    }\n",
       "</style>\n",
       "<table border=\"1\" class=\"dataframe\">\n",
       "  <thead>\n",
       "    <tr style=\"text-align: right;\">\n",
       "      <th></th>\n",
       "      <th>ticker</th>\n",
       "      <th>disease</th>\n",
       "      <th>stage</th>\n",
       "      <th>date</th>\n",
       "      <th>catalyst</th>\n",
       "      <th>avg_5_10</th>\n",
       "      <th>avg_5_30</th>\n",
       "      <th>std_5_10</th>\n",
       "      <th>std_5_30</th>\n",
       "      <th>mkt_cap</th>\n",
       "      <th>...</th>\n",
       "      <th>VOL_20</th>\n",
       "      <th>VOL_BVOL_20</th>\n",
       "      <th>avg_5_day_ret</th>\n",
       "      <th>std_5_day_ret</th>\n",
       "      <th>atr_10</th>\n",
       "      <th>volume_std_10</th>\n",
       "      <th>trans_std_10</th>\n",
       "      <th>prev_vol</th>\n",
       "      <th>prev_trans</th>\n",
       "      <th>NCAR_20</th>\n",
       "    </tr>\n",
       "  </thead>\n",
       "  <tbody>\n",
       "    <tr>\n",
       "      <th>0</th>\n",
       "      <td>PCRX</td>\n",
       "      <td>Postsurgical pain</td>\n",
       "      <td>Approved</td>\n",
       "      <td>2011-10-31</td>\n",
       "      <td>Approved October 31, 2011.</td>\n",
       "      <td>0.455</td>\n",
       "      <td>0.461667</td>\n",
       "      <td>-0.256693</td>\n",
       "      <td>-0.271868</td>\n",
       "      <td>4.356451e+08</td>\n",
       "      <td>...</td>\n",
       "      <td>0.057309</td>\n",
       "      <td>0.038122</td>\n",
       "      <td>-0.000519</td>\n",
       "      <td>0.037962</td>\n",
       "      <td>0.75990</td>\n",
       "      <td>167259.498603</td>\n",
       "      <td>382.814054</td>\n",
       "      <td>610058.00</td>\n",
       "      <td>1105.0</td>\n",
       "      <td>-1.041054</td>\n",
       "    </tr>\n",
       "    <tr>\n",
       "      <th>1</th>\n",
       "      <td>INCY</td>\n",
       "      <td>Myelofibrosis</td>\n",
       "      <td>Approved</td>\n",
       "      <td>2011-11-16</td>\n",
       "      <td>Approved November 16, 2011.</td>\n",
       "      <td>-0.349</td>\n",
       "      <td>-1.483000</td>\n",
       "      <td>-0.260818</td>\n",
       "      <td>-1.000006</td>\n",
       "      <td>2.858325e+09</td>\n",
       "      <td>...</td>\n",
       "      <td>0.039642</td>\n",
       "      <td>0.020804</td>\n",
       "      <td>-0.003871</td>\n",
       "      <td>0.010732</td>\n",
       "      <td>0.52645</td>\n",
       "      <td>556849.398882</td>\n",
       "      <td>1825.197219</td>\n",
       "      <td>702536.00</td>\n",
       "      <td>4864.0</td>\n",
       "      <td>0.754430</td>\n",
       "    </tr>\n",
       "    <tr>\n",
       "      <th>2</th>\n",
       "      <td>HALO</td>\n",
       "      <td>Overactive bladder</td>\n",
       "      <td>Approved</td>\n",
       "      <td>2011-12-08</td>\n",
       "      <td>Approved December 8, 2011.</td>\n",
       "      <td>0.341</td>\n",
       "      <td>0.791667</td>\n",
       "      <td>-0.465475</td>\n",
       "      <td>-0.425801</td>\n",
       "      <td>1.283978e+09</td>\n",
       "      <td>...</td>\n",
       "      <td>0.025458</td>\n",
       "      <td>0.015331</td>\n",
       "      <td>-0.001556</td>\n",
       "      <td>0.010211</td>\n",
       "      <td>0.40365</td>\n",
       "      <td>388706.415339</td>\n",
       "      <td>1365.249193</td>\n",
       "      <td>441988.00</td>\n",
       "      <td>2404.0</td>\n",
       "      <td>3.427405</td>\n",
       "    </tr>\n",
       "    <tr>\n",
       "      <th>3</th>\n",
       "      <td>CRIS</td>\n",
       "      <td>Basal Cell Carcinoma</td>\n",
       "      <td>Approved</td>\n",
       "      <td>2012-01-30</td>\n",
       "      <td>Approved January 30, 2012.</td>\n",
       "      <td>16.200</td>\n",
       "      <td>43.900000</td>\n",
       "      <td>-4.322212</td>\n",
       "      <td>-12.690005</td>\n",
       "      <td>4.351435e+08</td>\n",
       "      <td>...</td>\n",
       "      <td>0.031528</td>\n",
       "      <td>0.019181</td>\n",
       "      <td>0.024642</td>\n",
       "      <td>0.008263</td>\n",
       "      <td>17.53000</td>\n",
       "      <td>2242.228571</td>\n",
       "      <td>842.861436</td>\n",
       "      <td>5517.65</td>\n",
       "      <td>2349.0</td>\n",
       "      <td>-2.355933</td>\n",
       "    </tr>\n",
       "    <tr>\n",
       "      <th>4</th>\n",
       "      <td>CORT</td>\n",
       "      <td>Cushing's Syndrome</td>\n",
       "      <td>Approved</td>\n",
       "      <td>2012-02-17</td>\n",
       "      <td>Approved February 17, 2012.</td>\n",
       "      <td>-0.252</td>\n",
       "      <td>-0.435667</td>\n",
       "      <td>-0.199273</td>\n",
       "      <td>-0.173276</td>\n",
       "      <td>3.498192e+08</td>\n",
       "      <td>...</td>\n",
       "      <td>0.112342</td>\n",
       "      <td>0.101775</td>\n",
       "      <td>0.011668</td>\n",
       "      <td>0.044609</td>\n",
       "      <td>0.25200</td>\n",
       "      <td>419064.493780</td>\n",
       "      <td>1502.998882</td>\n",
       "      <td>1456485.00</td>\n",
       "      <td>4305.0</td>\n",
       "      <td>-0.955556</td>\n",
       "    </tr>\n",
       "  </tbody>\n",
       "</table>\n",
       "<p>5 rows × 27 columns</p>\n",
       "</div>"
      ],
      "text/plain": [
       "  ticker               disease     stage       date  \\\n",
       "0   PCRX     Postsurgical pain  Approved 2011-10-31   \n",
       "1   INCY         Myelofibrosis  Approved 2011-11-16   \n",
       "2   HALO    Overactive bladder  Approved 2011-12-08   \n",
       "3   CRIS  Basal Cell Carcinoma  Approved 2012-01-30   \n",
       "4   CORT    Cushing's Syndrome  Approved 2012-02-17   \n",
       "\n",
       "                      catalyst  avg_5_10   avg_5_30  std_5_10   std_5_30  \\\n",
       "0   Approved October 31, 2011.     0.455   0.461667 -0.256693  -0.271868   \n",
       "1  Approved November 16, 2011.    -0.349  -1.483000 -0.260818  -1.000006   \n",
       "2   Approved December 8, 2011.     0.341   0.791667 -0.465475  -0.425801   \n",
       "3   Approved January 30, 2012.    16.200  43.900000 -4.322212 -12.690005   \n",
       "4  Approved February 17, 2012.    -0.252  -0.435667 -0.199273  -0.173276   \n",
       "\n",
       "        mkt_cap  ...    VOL_20  VOL_BVOL_20  avg_5_day_ret  std_5_day_ret  \\\n",
       "0  4.356451e+08  ...  0.057309     0.038122      -0.000519       0.037962   \n",
       "1  2.858325e+09  ...  0.039642     0.020804      -0.003871       0.010732   \n",
       "2  1.283978e+09  ...  0.025458     0.015331      -0.001556       0.010211   \n",
       "3  4.351435e+08  ...  0.031528     0.019181       0.024642       0.008263   \n",
       "4  3.498192e+08  ...  0.112342     0.101775       0.011668       0.044609   \n",
       "\n",
       "     atr_10  volume_std_10  trans_std_10    prev_vol  prev_trans   NCAR_20  \n",
       "0   0.75990  167259.498603    382.814054   610058.00      1105.0 -1.041054  \n",
       "1   0.52645  556849.398882   1825.197219   702536.00      4864.0  0.754430  \n",
       "2   0.40365  388706.415339   1365.249193   441988.00      2404.0  3.427405  \n",
       "3  17.53000    2242.228571    842.861436     5517.65      2349.0 -2.355933  \n",
       "4   0.25200  419064.493780   1502.998882  1456485.00      4305.0 -0.955556  \n",
       "\n",
       "[5 rows x 27 columns]"
      ]
     },
     "execution_count": 198,
     "metadata": {},
     "output_type": "execute_result"
    }
   ],
   "source": [
    "events_df.head()"
   ]
  },
  {
   "cell_type": "markdown",
   "metadata": {},
   "source": [
    "## Preparing the Return Classes and Train and Test Sets"
   ]
  },
  {
   "cell_type": "code",
   "execution_count": 199,
   "metadata": {},
   "outputs": [],
   "source": [
    "def scale_X(train_X, test_X, special_exclude_cols=['catalyst', 'date', 'ticker', 'stage', 'disease']):\n",
    "    sc = MinMaxScaler()\n",
    "    tmp_train = train_X.loc[:, ~train_X.columns.isin(special_exclude_cols)]\n",
    "    tmp_cols = train_X.columns[~train_X.columns.isin(special_exclude_cols)]\n",
    "\n",
    "    tmp_test = test_X.loc[:, ~test_X.columns.isin(special_exclude_cols)]\n",
    "\n",
    "    train_features_scaled = sc.fit_transform(tmp_train)\n",
    "    test_features_scaled = sc.transform(tmp_test)\n",
    "\n",
    "    train_features_scaled_df = pd.DataFrame(train_features_scaled, columns = tmp_cols)\n",
    "    X_train_scaled = pd.concat([train_features_scaled_df, train_X[special_exclude_cols].reset_index(drop=True)], axis=1)\n",
    "\n",
    "    test_features_scaled_df = pd.DataFrame(test_features_scaled, columns = tmp_cols)\n",
    "    X_test_scaled = pd.concat([test_features_scaled_df, test_X[special_exclude_cols].reset_index(drop=True)], axis=1)\n",
    "\n",
    "    return X_train_scaled, X_test_scaled\n"
   ]
  },
  {
   "cell_type": "code",
   "execution_count": 238,
   "metadata": {},
   "outputs": [],
   "source": [
    "# Data handling, target_col is VOL_20, NCAR_20, RET_20, VOL_BVOL_20\n",
    "target_col = 'NCAR_20'\n",
    "exclude_cols = ['quintiles', 'NCAR_20', 'RET_20', 'VOL_20','VOL_BVOL_20']\n",
    "test_size = 0.2\n",
    "num_cuts = 3\n",
    "dh = Data_Handler(events_df)\n",
    "quintiles = dh.qcut_data(target_col, num_cuts)\n",
    "dh.df['quintiles'] = quintiles\n",
    "labels = [str(label) for label in quintiles.unique()].sort()\n",
    "X_train, X_test, y_train, y_test = dh.train_test_split('quintiles', cols2exclude=exclude_cols, test_size=test_size)\n"
   ]
  },
  {
   "cell_type": "code",
   "execution_count": 239,
   "metadata": {},
   "outputs": [],
   "source": [
    "X_train_scaled, X_test_scaled = scale_X(train_X=X_train, test_X=X_test)\n"
   ]
  },
  {
   "cell_type": "markdown",
   "metadata": {},
   "source": [
    "# Transferring tabular data into graph"
   ]
  },
  {
   "cell_type": "code",
   "execution_count": 240,
   "metadata": {},
   "outputs": [],
   "source": [
    "def create_graph(X, y):\n",
    "    # Extract features and labels from the DataFrame\n",
    "    feature_col = [i for i in X.columns if i not in exclude_cols + ['catalyst', 'date', 'ticker', 'stage', 'disease']]\n",
    "    features = torch.tensor(X[feature_col].values, dtype=torch.float32)\n",
    "    labels = torch.tensor(y.values, dtype=torch.float32).view(-1, 1)\n",
    "\n",
    "    # Map 'categorical' cols to indices\n",
    "    # Create a DGL graph from edges and node features using vectorized operations\n",
    "    catalyst_matrix = X['catalyst'].astype('category').cat.codes.values[:, None]\n",
    "    ticker_matrix = X['ticker'].astype('category').cat.codes.values[:, None]\n",
    "    disease_matrix = X['disease'].astype('category').cat.codes.values[:, None]\n",
    "    stage_matrix = X['stage'].astype('category').cat.codes.values[:, None]\n",
    "    date_matrix = pd.to_datetime(X['date']).values[:, None]\n",
    "\n",
    "    # Create condition matrices\n",
    "    ticker_condition = ticker_matrix == ticker_matrix.T\n",
    "    date_condition = np.abs(date_matrix - date_matrix.T) < np.timedelta64(365, 'D')\n",
    "    disease_condition = disease_matrix == disease_matrix.T\n",
    "    stage_condition = stage_matrix == stage_matrix.T\n",
    "\n",
    "    # Combine conditions to form the final condition matrix\n",
    "    condition_matrix = np.logical_or(np.logical_and(ticker_condition, date_condition),\n",
    "                                      np.logical_or(disease_condition, stage_condition))\n",
    "\n",
    "    # Create edges between nodes based on shared 'ticker', 'date', 'disease', or 'stage'\n",
    "    src_nodes, dst_nodes = np.where(condition_matrix & (catalyst_matrix != catalyst_matrix.T))\n",
    "\n",
    "    src_nodes = torch.tensor(src_nodes, dtype=torch.long)\n",
    "    dst_nodes = torch.tensor(dst_nodes, dtype=torch.long)\n",
    "\n",
    "    g = dgl.graph((src_nodes, dst_nodes))\n",
    "    g.ndata['features'] = features\n",
    "    g.ndata['labels'] = labels\n",
    "\n",
    "    return g\n"
   ]
  },
  {
   "cell_type": "code",
   "execution_count": 241,
   "metadata": {},
   "outputs": [],
   "source": [
    "def plot_graph_network(g, filename):\n",
    "    # Convert DGL graph to networkx graph\n",
    "    nx_graph = g.to_networkx()\n",
    "\n",
    "    # Visualize the networkx graph\n",
    "    plt.figure(figsize=(16, 9))\n",
    "    pos = nx.spring_layout(nx_graph)  # You can choose a different layout if needed\n",
    "    nx.draw(nx_graph, pos, with_labels=True, node_color='skyblue', node_size=800, font_size=8, font_color='black', font_weight='bold', edge_color='gray', linewidths=0.5)\n",
    "\n",
    "    # Display the plot\n",
    "    plt.savefig(filename)\n",
    "    plt.show()\n"
   ]
  },
  {
   "cell_type": "code",
   "execution_count": 243,
   "metadata": {},
   "outputs": [],
   "source": [
    "# Convert data to DGL format\n",
    "train_graph = create_graph(X=X_train_scaled, y=y_train)\n",
    "test_graph = create_graph(X=X_test_scaled, y=y_test)\n",
    "example10_graph = create_graph(X=X_train_scaled.head(10), y=y_train.head(10))\n",
    "example100_graph = create_graph(X=X_train_scaled.head(100), y=y_train.head(100))\n"
   ]
  },
  {
   "cell_type": "code",
   "execution_count": 244,
   "metadata": {},
   "outputs": [
    {
     "name": "stdout",
     "output_type": "stream",
     "text": [
      "Graph(num_nodes=1832, num_edges=735974,\n",
      "      ndata_schemes={'features': Scheme(shape=(18,), dtype=torch.float32), 'labels': Scheme(shape=(1,), dtype=torch.float32)}\n",
      "      edata_schemes={})\n",
      "Graph(num_nodes=459, num_edges=36084,\n",
      "      ndata_schemes={'features': Scheme(shape=(18,), dtype=torch.float32), 'labels': Scheme(shape=(1,), dtype=torch.float32)}\n",
      "      edata_schemes={})\n",
      "Graph(num_nodes=10, num_edges=90,\n",
      "      ndata_schemes={'features': Scheme(shape=(18,), dtype=torch.float32), 'labels': Scheme(shape=(1,), dtype=torch.float32)}\n",
      "      edata_schemes={})\n",
      "Graph(num_nodes=100, num_edges=5382,\n",
      "      ndata_schemes={'features': Scheme(shape=(18,), dtype=torch.float32), 'labels': Scheme(shape=(1,), dtype=torch.float32)}\n",
      "      edata_schemes={})\n"
     ]
    }
   ],
   "source": [
    "print(train_graph)\n",
    "print(test_graph)\n",
    "print(example10_graph)\n",
    "print(example100_graph)\n"
   ]
  },
  {
   "cell_type": "code",
   "execution_count": 247,
   "metadata": {},
   "outputs": [],
   "source": [
    "class GCN(nn.Module):\n",
    "    def __init__(self, input_dim, hidden_dim, output_dim):\n",
    "        super(GCN, self).__init__()\n",
    "        self.layer1 = dgl.nn.GraphConv(input_dim, hidden_dim)\n",
    "        self.layer2 = dgl.nn.GraphConv(hidden_dim, hidden_dim)\n",
    "        self.fc1 = nn.Linear(hidden_dim, hidden_dim)\n",
    "        self.fc2 = nn.Linear(hidden_dim, output_dim)\n",
    "\n",
    "    def forward(self, g, features):\n",
    "        x = F.relu(self.layer1(g, features))\n",
    "        x = F.relu(self.layer2(g, x))\n",
    "        x = F.relu(self.fc1(x))\n",
    "        x = self.fc2(x)\n",
    "        return x\n"
   ]
  },
  {
   "cell_type": "code",
   "execution_count": 251,
   "metadata": {},
   "outputs": [
    {
     "name": "stdout",
     "output_type": "stream",
     "text": [
      "GCN(\n",
      "  (layer1): GraphConv(in=18, out=256, normalization=both, activation=None)\n",
      "  (layer2): GraphConv(in=256, out=256, normalization=both, activation=None)\n",
      "  (fc1): Linear(in_features=256, out_features=256, bias=True)\n",
      "  (fc2): Linear(in_features=256, out_features=3, bias=True)\n",
      ")\n"
     ]
    }
   ],
   "source": [
    "#  Instantiate the model\n",
    "input_dim = X_train_scaled.shape[1] - 5  # Number of input features\n",
    "hidden_dim = 256\n",
    "output_dim = 3  # Binary classification\n",
    "# model = GCN(input_dim=input_dim, hidden_dim=hidden_dim, output_dim=output_dim)\n",
    "model = GCN(input_dim=input_dim, hidden_dim=hidden_dim, output_dim=output_dim)\n",
    "print(model)\n",
    "\n",
    "# Set up optimizer and loss function\n",
    "optimizer = torch.optim.Adam(model.parameters(), lr=1e-4)\n",
    "criterion = nn.CrossEntropyLoss()\n"
   ]
  },
  {
   "cell_type": "code",
   "execution_count": 252,
   "metadata": {},
   "outputs": [
    {
     "name": "stderr",
     "output_type": "stream",
     "text": [
      "Training:   0%|          | 1/1000 [00:00<09:39,  1.73epoch/s]"
     ]
    },
    {
     "name": "stdout",
     "output_type": "stream",
     "text": [
      "Epoch 1/1000, Loss: 1.0964733362197876\n"
     ]
    },
    {
     "name": "stderr",
     "output_type": "stream",
     "text": [
      "Training:  10%|█         | 101/1000 [00:35<04:06,  3.65epoch/s]"
     ]
    },
    {
     "name": "stdout",
     "output_type": "stream",
     "text": [
      "Epoch 101/1000, Loss: 1.086601972579956\n"
     ]
    },
    {
     "name": "stderr",
     "output_type": "stream",
     "text": [
      "Training:  20%|██        | 201/1000 [01:02<04:38,  2.87epoch/s]"
     ]
    },
    {
     "name": "stdout",
     "output_type": "stream",
     "text": [
      "Epoch 201/1000, Loss: 1.076674461364746\n"
     ]
    },
    {
     "name": "stderr",
     "output_type": "stream",
     "text": [
      "Training:  30%|███       | 301/1000 [01:35<04:02,  2.88epoch/s]"
     ]
    },
    {
     "name": "stdout",
     "output_type": "stream",
     "text": [
      "Epoch 301/1000, Loss: 1.0762220621109009\n"
     ]
    },
    {
     "name": "stderr",
     "output_type": "stream",
     "text": [
      "Training:  40%|████      | 401/1000 [02:04<02:35,  3.86epoch/s]"
     ]
    },
    {
     "name": "stdout",
     "output_type": "stream",
     "text": [
      "Epoch 401/1000, Loss: 1.0757590532302856\n"
     ]
    },
    {
     "name": "stderr",
     "output_type": "stream",
     "text": [
      "Training:  50%|█████     | 501/1000 [02:29<02:07,  3.92epoch/s]"
     ]
    },
    {
     "name": "stdout",
     "output_type": "stream",
     "text": [
      "Epoch 501/1000, Loss: 1.0752125978469849\n"
     ]
    },
    {
     "name": "stderr",
     "output_type": "stream",
     "text": [
      "Training:  60%|██████    | 601/1000 [02:55<01:42,  3.87epoch/s]"
     ]
    },
    {
     "name": "stdout",
     "output_type": "stream",
     "text": [
      "Epoch 601/1000, Loss: 1.0746238231658936\n"
     ]
    },
    {
     "name": "stderr",
     "output_type": "stream",
     "text": [
      "Training:  70%|███████   | 701/1000 [03:21<01:18,  3.79epoch/s]"
     ]
    },
    {
     "name": "stdout",
     "output_type": "stream",
     "text": [
      "Epoch 701/1000, Loss: 1.0740629434585571\n"
     ]
    },
    {
     "name": "stderr",
     "output_type": "stream",
     "text": [
      "Training:  80%|████████  | 801/1000 [03:47<00:50,  3.91epoch/s]"
     ]
    },
    {
     "name": "stdout",
     "output_type": "stream",
     "text": [
      "Epoch 801/1000, Loss: 1.0736074447631836\n"
     ]
    },
    {
     "name": "stderr",
     "output_type": "stream",
     "text": [
      "Training:  90%|█████████ | 901/1000 [04:13<00:26,  3.81epoch/s]"
     ]
    },
    {
     "name": "stdout",
     "output_type": "stream",
     "text": [
      "Epoch 901/1000, Loss: 1.0732157230377197\n"
     ]
    },
    {
     "name": "stderr",
     "output_type": "stream",
     "text": [
      "Training: 100%|██████████| 1000/1000 [04:39<00:00,  3.58epoch/s]\n"
     ]
    }
   ],
   "source": [
    "num_epochs = 1_000\n",
    "losses = []\n",
    "\n",
    "for epoch in tqdm(range(num_epochs), desc=\"Training\", unit=\"epoch\"):\n",
    "    model.train()\n",
    "    logits = model(train_graph, train_graph.ndata['features'])\n",
    "\n",
    "    # Use the appropriate format for multi-class labels\n",
    "    labels = torch.tensor(y_train.values, dtype=torch.long)  # Assuming y_train contains class indices\n",
    "\n",
    "    # Calculate the loss using CrossEntropyLoss\n",
    "    loss = criterion(logits, labels)\n",
    "\n",
    "    losses.append(loss.item())\n",
    "\n",
    "    optimizer.zero_grad()\n",
    "    loss.backward()\n",
    "    optimizer.step()\n",
    "\n",
    "    if epoch % 100 == 0:\n",
    "        tqdm.write(f'Epoch {epoch + 1}/{num_epochs}, Loss: {loss.item()}')\n"
   ]
  },
  {
   "cell_type": "code",
   "execution_count": 253,
   "metadata": {},
   "outputs": [
    {
     "data": {
      "image/png": "[encoded data removed]",
      "text/plain": [
       "<Figure size 432x288 with 1 Axes>"
      ]
     },
     "metadata": {
      "needs_background": "light"
     },
     "output_type": "display_data"
    }
   ],
   "source": [
    "plt.plot(losses, label='Cross Entropy Loss')\n",
    "plt.title(\"Cross Entropy Loss during Training\")\n",
    "plt.show()\n"
   ]
  },
  {
   "cell_type": "code",
   "execution_count": 254,
   "metadata": {},
   "outputs": [],
   "source": [
    "# Evaluate the model on the test set\n",
    "model.eval()\n",
    "with torch.no_grad():\n",
    "    try:\n",
    "        test_logits = model(test_graph, test_graph.ndata['features'])\n",
    "    except:\n",
    "        test_graph_added_self_node = dgl.add_self_loop(test_graph)\n",
    "        test_logits = model(test_graph_added_self_node, test_graph_added_self_node.ndata['features'])\n",
    "\n",
    "    # For multi-class classification, use the argmax to get the predicted class\n",
    "    predicted_labels = torch.argmax(test_logits, dim=1).numpy()\n",
    "\n",
    "    # Optionally, you can calculate probabilities using softmax\n",
    "    probabilities = F.softmax(test_logits, dim=1).numpy()\n"
   ]
  },
  {
   "cell_type": "code",
   "execution_count": 255,
   "metadata": {},
   "outputs": [],
   "source": [
    "from sklearn.metrics import roc_auc_score, accuracy_score, precision_score, recall_score, f1_score"
   ]
  },
  {
   "cell_type": "code",
   "execution_count": 256,
   "metadata": {},
   "outputs": [],
   "source": [
    "def calculate_metrics(y_test, y_prob, y_pred, model_name):\n",
    "   auc = roc_auc_score(y_test, y_prob, multi_class='ovr')\n",
    "   accuracy = accuracy_score(y_test, y_pred)\n",
    "   precision = precision_score(y_test, y_pred, average='macro')\n",
    "   recall = recall_score(y_test, y_pred, average='macro')\n",
    "   f1 = f1_score(y_test, y_pred, average='macro')\n",
    "\n",
    "   results = {\n",
    "         'Model': model_name,\n",
    "         'AUC': auc,\n",
    "         'Accuracy': accuracy,\n",
    "         'Precision': precision,\n",
    "         'Recall': recall,\n",
    "         'F1 Score': f1\n",
    "   }\n",
    "\n",
    "   return pd.Series(results)\n"
   ]
  },
  {
   "cell_type": "code",
   "execution_count": 257,
   "metadata": {},
   "outputs": [
    {
     "name": "stdout",
     "output_type": "stream",
     "text": [
      "Model             GNN\n",
      "AUC          0.604229\n",
      "Accuracy     0.420479\n",
      "Precision    0.396026\n",
      "Recall       0.402894\n",
      "F1 Score     0.395811\n",
      "dtype: object\n"
     ]
    }
   ],
   "source": [
    "print(calculate_metrics(y_test=y_test, y_prob=probabilities, y_pred=predicted_labels, model_name='GNN'))"
   ]
  },
  {
   "cell_type": "markdown",
   "metadata": {},
   "source": [
    "# Extract Returns"
   ]
  },
  {
   "cell_type": "code",
   "execution_count": 280,
   "metadata": {},
   "outputs": [],
   "source": [
    "actual_ret = events_df.iloc[-len(y_test):,16]"
   ]
  },
  {
   "cell_type": "markdown",
   "metadata": {},
   "source": [
    "# Trading Strategy - GCN"
   ]
  },
  {
   "cell_type": "code",
   "execution_count": 260,
   "metadata": {},
   "outputs": [],
   "source": [
    "def extract_return(y_test,actual_ret):\n",
    "    positions = []\n",
    "    for i in range(len(y_test)):\n",
    "        if y_test[i] == 2:\n",
    "            positions.append(1)\n",
    "        if y_test[i] == 1:\n",
    "            positions.append(0)\n",
    "        if y_test[i] == 0:\n",
    "            positions.append(-1)\n",
    "    \n",
    "    return (1 + np.array(positions)*np.array(actual_ret)).mean()"
   ]
  },
  {
   "cell_type": "code",
   "execution_count": 263,
   "metadata": {},
   "outputs": [
    {
     "name": "stdout",
     "output_type": "stream",
     "text": [
      "Average return of GCN trading strategy with NCAR prediction: 0.9976688189972315\n"
     ]
    }
   ],
   "source": [
    "print(f'Average return of GCN trading strategy with NCAR prediction: {extract_return(predicted_labels,actual_ret)}')"
   ]
  },
  {
   "cell_type": "markdown",
   "metadata": {},
   "source": [
    "## Exploratory Analysis"
   ]
  },
  {
   "cell_type": "code",
   "execution_count": 55,
   "metadata": {},
   "outputs": [],
   "source": [
    "import seaborn as sns\n",
    "import matplotlib.pyplot as plt"
   ]
  },
  {
   "cell_type": "code",
   "execution_count": 89,
   "metadata": {},
   "outputs": [
    {
     "data": {
      "image/png": "[encoded data removed]",
      "text/plain": [
       "<Figure size 1008x864 with 2 Axes>"
      ]
     },
     "metadata": {
      "needs_background": "light"
     },
     "output_type": "display_data"
    }
   ],
   "source": [
    "# Compute the correlation matrix\n",
    "corr = events_df.loc[:,['RET_20','VOL_20', 'VOL_BVOL_20', 'NCAR_20',\n",
    "                        'bio_score', 'sec_score'\n",
    "                       ]].corr()\n",
    "\n",
    "# Generate a mask for the upper triangle\n",
    "mask = np.triu(np.ones_like(corr, dtype=bool))\n",
    "\n",
    "# Set up the matplotlib figure\n",
    "plt.figure(figsize=(14, 12))\n",
    "\n",
    "# Draw the heatmap with the mask and correct aspect ratio\n",
    "sns.heatmap(corr, mask=mask, cmap='coolwarm', vmax=.3, center=0,\n",
    "            square=True, linewidths=.5, annot=True, cbar_kws={\"shrink\": .5})\n",
    "\n",
    "plt.show()\n"
   ]
  },
  {
   "cell_type": "code",
   "execution_count": 76,
   "metadata": {},
   "outputs": [
    {
     "data": {
      "image/png": "[encoded data removed]",
      "text/plain": [
       "<Figure size 1008x864 with 2 Axes>"
      ]
     },
     "metadata": {
      "needs_background": "light"
     },
     "output_type": "display_data"
    }
   ],
   "source": [
    "# Compute the correlation matrix\n",
    "corr = events_df.iloc[:,5:-1].corr()\n",
    "\n",
    "# Generate a mask for the upper triangle\n",
    "mask = np.triu(np.ones_like(corr, dtype=bool))\n",
    "\n",
    "# Set up the matplotlib figure\n",
    "plt.figure(figsize=(14, 12))\n",
    "\n",
    "# Draw the heatmap with the mask and correct aspect ratio\n",
    "sns.heatmap(corr, mask=mask, cmap='coolwarm', vmax=.3, center=0,\n",
    "            square=True, linewidths=.5, annot=True, cbar_kws={\"shrink\": .5})\n",
    "\n",
    "plt.show()\n"
   ]
  },
  {
   "cell_type": "markdown",
   "metadata": {},
   "source": [
    "## Logistic Regression"
   ]
  },
  {
   "cell_type": "code",
   "execution_count": 264,
   "metadata": {},
   "outputs": [
    {
     "name": "stderr",
     "output_type": "stream",
     "text": [
      "/Users/richi/opt/anaconda3/lib/python3.8/site-packages/sklearn/linear_model/_logistic.py:444: ConvergenceWarning:\n",
      "\n",
      "lbfgs failed to converge (status=1):\n",
      "STOP: TOTAL NO. of ITERATIONS REACHED LIMIT.\n",
      "\n",
      "Increase the number of iterations (max_iter) or scale the data as shown in:\n",
      "    https://scikit-learn.org/stable/modules/preprocessing.html\n",
      "Please also refer to the documentation for alternative solver options:\n",
      "    https://scikit-learn.org/stable/modules/linear_model.html#logistic-regression\n",
      "\n"
     ]
    }
   ],
   "source": [
    "# Create and fit the logistic regression model\n",
    "model = LR()\n",
    "model.train(X_train_scaled.iloc[:, :-5], y_train)\n",
    "\n",
    "# Make predictions on the test set\n",
    "y_pred = model.predict(X_test_scaled.iloc[:, :-5])\n",
    "y_prob = model.predict_prob(X_test_scaled.iloc[:, :-5])\n"
   ]
  },
  {
   "cell_type": "code",
   "execution_count": 265,
   "metadata": {},
   "outputs": [
    {
     "name": "stdout",
     "output_type": "stream",
     "text": [
      "Model        Logistic Regression\n",
      "AUC                     0.598038\n",
      "Accuracy                0.442266\n",
      "Precision               0.436652\n",
      "Recall                  0.433393\n",
      "F1 Score                 0.43479\n",
      "dtype: object\n"
     ]
    }
   ],
   "source": [
    "print(calculate_metrics(y_test=y_test, y_prob=y_prob, y_pred=y_pred, model_name='Logistic Regression'))\n"
   ]
  },
  {
   "cell_type": "code",
   "execution_count": 227,
   "metadata": {},
   "outputs": [],
   "source": [
    "# lr_fit_metrics = model.results.calculate_metrics(y_test, y_prob, y_pred, \"Logistic Regression\")\n",
    "# model.results.print_confusion_matrix(y_test, y_pred, labels)\n",
    "# model.results.plot_roc_curve(y_test, y_prob, \"Logistic Regression\")\n",
    "# print(lr_fit_metrics)\n"
   ]
  },
  {
   "cell_type": "code",
   "execution_count": 266,
   "metadata": {},
   "outputs": [
    {
     "name": "stdout",
     "output_type": "stream",
     "text": [
      "Average return of LR trading strategy with NCAR prediction: 1.0008788318311341\n"
     ]
    }
   ],
   "source": [
    "print(f'Average return of LR trading strategy with NCAR prediction: {extract_return(y_pred,actual_ret)}')"
   ]
  },
  {
   "cell_type": "code",
   "execution_count": 96,
   "metadata": {},
   "outputs": [],
   "source": [
    "trading_data = events_df.loc[X_test.index].reset_index(drop=True)\n",
    "trading_data['lr_preds'] = y_pred\n",
    "trading_data['lr_signal'] = np.where(y_pred > 2, 1, np.where(y_pred < 2, -1, 0))\n",
    "ts = Trading_Strategy()\n",
    "lr_portfolio = ts.buy_short('lr_signal', trading_data, stock_df, 20)\n"
   ]
  },
  {
   "cell_type": "code",
   "execution_count": 97,
   "metadata": {},
   "outputs": [
    {
     "data": {
      "application/vnd.plotly.v1+json": {
       "config": {
        "plotlyServerURL": "https://plot.ly"
       },
       "data": [
        {
         "hovertemplate": "variable=0<br>index=%{x}<br>value=%{y}<extra></extra>",
         "legendgroup": "0",
         "line": {
          "color": "#636efa",
          "dash": "solid"
         },
         "marker": {
          "symbol": "circle"
         },
         "mode": "lines",
         "name": "0",
         "orientation": "v",
         "showlegend": true,
         "type": "scatter",
         "x": [
          0,
          1,
          2,
          3,
          4,
          5,
          6,
          7,
          8,
          9,
          10,
          11,
          12,
          13,
          14,
          15,
          16,
          17,
          18,
          19,
          20,
          21,
          22,
          23,
          24,
          25,
          26,
          27,
          28,
          29,
          30,
          31,
          32,
          33,
          34,
          35,
          36,
          37,
          38,
          39,
          40,
          41,
          42,
          43,
          44,
          45,
          46,
          47,
          48,
          49,
          50,
          51,
          52,
          53,
          54,
          55,
          56,
          57,
          58,
          59,
          60,
          61,
          62,
          63,
          64,
          65,
          66,
          67,
          68,
          69,
          70,
          71,
          72,
          73,
          74,
          75,
          76,
          77,
          78,
          79,
          80,
          81,
          82,
          83,
          84,
          85,
          86,
          87,
          88,
          89,
          90,
          91,
          92,
          93,
          94,
          95,
          96,
          97,
          98,
          99,
          100,
          101,
          102,
          103,
          104,
          105,
          106,
          107,
          108,
          109,
          110,
          111,
          112,
          113,
          114,
          115,
          116,
          117,
          118,
          119,
          120,
          121,
          122,
          123,
          124,
          125,
          126,
          127,
          128,
          129,
          130,
          131,
          132,
          133,
          134,
          135,
          136,
          137,
          138,
          139,
          140,
          141,
          142,
          143,
          144,
          145,
          146,
          147,
          148,
          149,
          150,
          151,
          152,
          153,
          154,
          155,
          156,
          157,
          158,
          159,
          160,
          161,
          162,
          163,
          164,
          165,
          166,
          167,
          168,
          169,
          170,
          171,
          172,
          173,
          174,
          175,
          176,
          177,
          178,
          179,
          180,
          181,
          182,
          183,
          184,
          185,
          186,
          187,
          188,
          189,
          190,
          191,
          192,
          193,
          194,
          195,
          196,
          197,
          198,
          199,
          200,
          201,
          202,
          203,
          204,
          205,
          206,
          207,
          208,
          209,
          210,
          211,
          212,
          213,
          214,
          215,
          216,
          217,
          218,
          219,
          220,
          221,
          222,
          223,
          224,
          225,
          226,
          227,
          228,
          229,
          230,
          231,
          232,
          233,
          234,
          235,
          236,
          237,
          238,
          239,
          240,
          241,
          242,
          243,
          244,
          245,
          246,
          247,
          248,
          249,
          250,
          251,
          252,
          253,
          254,
          255,
          256,
          257,
          258,
          259,
          260,
          261,
          262,
          263,
          264,
          265,
          266,
          267,
          268,
          269,
          270,
          271,
          272,
          273,
          274,
          275,
          276,
          277,
          278,
          279,
          280,
          281,
          282,
          283,
          284,
          285,
          286,
          287,
          288,
          289,
          290,
          291,
          292,
          293,
          294,
          295,
          296,
          297,
          298,
          299,
          300,
          301,
          302,
          303,
          304,
          305,
          306,
          307,
          308,
          309,
          310,
          311,
          312,
          313,
          314,
          315,
          316,
          317,
          318,
          319,
          320,
          321,
          322,
          323,
          324,
          325,
          326,
          327,
          328,
          329,
          330,
          331,
          332,
          333,
          334,
          335,
          336,
          337,
          338,
          339,
          340,
          341,
          342,
          343,
          344,
          345,
          346,
          347,
          348,
          349,
          350,
          351,
          352,
          353,
          354,
          355,
          356,
          357,
          358,
          359,
          360,
          361,
          362,
          363,
          364,
          365,
          366,
          367,
          368,
          369,
          370,
          371,
          372,
          373,
          374,
          375,
          376,
          377,
          378,
          379,
          380,
          381,
          382,
          383,
          384,
          385,
          386,
          387,
          388,
          389,
          390,
          391,
          392,
          393,
          394,
          395,
          396,
          397,
          398,
          399,
          400,
          401,
          402,
          403,
          404,
          405,
          406,
          407,
          408,
          409,
          410,
          411,
          412,
          413,
          414,
          415,
          416,
          417,
          418,
          419,
          420,
          421,
          422,
          423,
          424,
          425,
          426,
          427,
          428,
          429,
          430,
          431,
          432,
          433,
          434,
          435,
          436,
          437,
          438,
          439,
          440,
          441,
          442,
          443,
          444,
          445,
          446,
          447,
          448,
          449,
          450,
          451,
          452,
          453,
          454,
          455,
          456,
          457,
          458,
          459
         ],
         "xaxis": "x",
         "y": [
          1,
          1.0709969788519638,
          1.0642185169604954,
          1.0642185169604954,
          1.0707911480482597,
          1.0707911480482597,
          1.0707911480482597,
          1.0774043718138693,
          1.0774043718138693,
          1.0774043718138693,
          1.084058438958371,
          1.084058438958371,
          1.084058438958371,
          1.0501816127409218,
          1.0501816127409218,
          1.702313517499985,
          1.6934339756794121,
          1.684600750980881,
          1.684600750980881,
          1.684600750980881,
          1.684600750980881,
          1.684600750980881,
          1.684600750980881,
          1.684600750980881,
          1.6758136018068137,
          1.7075621165424686,
          1.6986551971829065,
          1.6986551971829065,
          1.6986551971829065,
          1.9611746367475376,
          1.9611746367475376,
          1.9055551690934416,
          2.013528411533665,
          2.3247100751343224,
          2.683983450382354,
          3.0987808927141725,
          3.60753596465232,
          4.165064250098588,
          4.808755997841097,
          5.5519273793256305,
          6.409952519766864,
          7.400581545549016,
          8.285281047199089,
          7.388862413611917,
          9.338822553535534,
          9.629769377133771,
          17.741711707083585,
          9.596184128942577,
          9.596184128942577,
          9.596184128942577,
          13.45385014877749,
          13.45385014877749,
          14.455584596256271,
          14.455584596256271,
          13.166712543093562,
          13.166712543093562,
          13.166712543093562,
          14.147067561814076,
          15.200416956282137,
          16.332195674847096,
          16.332195674847096,
          22.003402248347165,
          22.003402248347165,
          28.48749663071034,
          28.48749663071034,
          29.056295118581197,
          15.655616094847622,
          20.731831010449728,
          23.672858200304226,
          27.031100875231107,
          30.865745417996454,
          35.24437441915409,
          35.24437441915409,
          40.16983047152035,
          40.16983047152035,
          40.16983047152035,
          40.16983047152035,
          43.26776084207462,
          46.604606151232055,
          50.19879171559443,
          54.07016382733694,
          54.07016382733694,
          54.07016382733694,
          61.40725606665578,
          61.40725606665578,
          65.88486848818276,
          66.39879858309388,
          62.123624428850405,
          58.12371299681174,
          54.38134113383794,
          50.87992681536145,
          50.87992681536145,
          50.87992681536145,
          54.07914833216773,
          58.640040360181885,
          62.32720130181364,
          66.24620307653468,
          70.41162334253202,
          74.83895637011565,
          73.63513838706785,
          73.63513838706785,
          73.63513838706785,
          72.55593117282672,
          -6.236647836889472,
          -6.478803808420697,
          -5.62016715911193,
          -6.155421174265447,
          -6.155421174265447,
          -6.609176166776119,
          -6.873543213447164,
          -5.398226735466893,
          -5.398226735466893,
          -6.178852660448625,
          -6.016251274647345,
          -6.016251274647345,
          -6.016251274647345,
          -6.016251274647345,
          -6.016251274647345,
          -6.886248395245858,
          -7.882053922989744,
          -9.02186074028483,
          -9.21970856353669,
          -8.897257616366366,
          -8.684744752328653,
          -8.684744752328653,
          -8.684744752328653,
          -8.684744752328653,
          -8.445104107973249,
          -8.424391964169002,
          -8.598158795805908,
          -8.589164121797568,
          -8.58017885726426,
          -8.596654368070155,
          -12.03867965792674,
          -12.02608579898723,
          -12.013505114688751,
          -12.000937591249096,
          -11.988383214900479,
          -11.97584197188951,
          -11.963313848477194,
          -11.98628559648662,
          -12.009301454448632,
          -11.996738328526446,
          -12.019774257643446,
          -17.173203530159142,
          -17.173203530159142,
          -21.81460988966161,
          -31.167535058152524,
          -44.53048881069105,
          -63.62275457520965,
          -90.90075154902713,
          -129.87407865860595,
          -185.5570610802314,
          -265.1138954928876,
          -301.8967134539427,
          -431.3337001261747,
          -549.1148580942076,
          -549.1148580942076,
          -699.0576606734378,
          -889.9442543628637,
          -1132.9548625652694,
          -1132.9548625652694,
          -1132.9548625652694,
          -1120.9937258856555,
          -1439.4445970269499,
          -2228.2602361977183,
          -2084.8869234128783,
          -2090.0574889435247,
          -2017.148506771076,
          -2391.58924754894,
          -2096.6789139518555,
          -2338.1811972342684,
          -2338.1811972342684,
          -2874.461288343046,
          -2874.461288343046,
          -2521.860703639632,
          -2646.3970346835645,
          -2646.3970346835645,
          -2646.3970346835645,
          -2646.3970346835645,
          -2646.3970346835645,
          -2646.3970346835645,
          -2622.94794703447,
          -1313.5263584523166,
          -1390.1777639853428,
          -1390.1777639853428,
          -1335.4822454023129,
          -1610.6863677981721,
          -1445.7365590477568,
          -1445.7365590477568,
          -1382.6892673013097,
          -1326.4761473735612,
          -1389.3033232288637,
          -1389.3033232288637,
          -1444.3963860465599,
          -1730.3178549568001,
          -2434.5169819741027,
          -2559.743074277825,
          -2516.3575984426075,
          -2473.7074696554446,
          -2431.780224407047,
          -2390.563610434046,
          -2591.73179350076,
          -2591.73179350076,
          -2576.5754672229777,
          -4014.333048380551,
          -4312.7053790860355,
          -4312.7053790860355,
          -4155.707035839089,
          -6938.657993773375,
          -6320.088781018312,
          -5756.663930661825,
          -5243.4674193363735,
          -7715.775891665959,
          -7027.92797880078,
          -7027.92797880078,
          -5599.834906935505,
          -5599.834906935505,
          -3615.2377930128523,
          -3615.2377930128523,
          -3615.2377930128523,
          -3615.2377930128523,
          -4601.211736561812,
          -4722.429169797249,
          -4598.518333628903,
          -4598.518333628903,
          -4598.518333628903,
          -4421.652243873945,
          -4682.652549935949,
          -4682.652549935949,
          -4682.652549935949,
          -4577.872111535239,
          -4577.872111535239,
          -6405.539684581628,
          -6542.8012492512335,
          -6542.8012492512335,
          -7361.915470563984,
          -7686.435725573598,
          -7686.435725573598,
          -8648.725205900431,
          -9731.486785000794,
          -10949.802750356379,
          -12320.64358927271,
          -13863.104378656155,
          -15598.67076918343,
          -17551.518268880274,
          -19748.848994968837,
          -22221.27058475628,
          -25003.222543589753,
          -29403.789711261546,
          -31622.943651734116,
          -35581.921141363884,
          -36299.468780039075,
          -28879.056042986755,
          -22975.539476560683,
          -18278.832017682667,
          -17553.02677560122,
          -16856.041386392397,
          -16186.731488082145,
          -15543.998158356835,
          -15857.45956843046,
          -12615.844775886191,
          -12629.784935859549,
          -12629.784935859549,
          -11414.919908695916,
          -9708.015997115219,
          -9708.015997115219,
          -9708.015997115219,
          -9708.015997115219,
          -9497.201317481882,
          -9497.201317481882,
          -9151.572493909804,
          -9151.572493909804,
          -9151.572493909804,
          -9151.572493909804,
          -9151.572493909804,
          -9151.572493909804,
          -9151.572493909804,
          -9151.572493909804,
          -10085.356837757416,
          -12312.407243571355,
          -12312.407243571355,
          -22935.84191702457,
          -27222.91517254318,
          -32971.009015181146,
          -31957.523918242354,
          -37625.46212260987,
          -37870.31025110372,
          -37870.31025110372,
          -38116.75173161626,
          -38116.75173161626,
          -54809.9884318061,
          -54809.9884318061,
          -78814.03045692672,
          -78814.03045692672,
          -78814.03045692672,
          -78814.03045692672,
          -78814.03045692672,
          -92302.98432486039,
          -92302.98432486039,
          -92302.98432486039,
          -92302.98432486039,
          -92302.98432486039,
          -92302.98432486039,
          -92302.98432486039,
          -176208.0453437357,
          -176208.0453437357,
          -173152.22250271332,
          -173152.22250271332,
          -184828.45705726114,
          -176046.3026557812,
          -147543.56794008333,
          -147543.56794008333,
          -157040.33253743468,
          -264686.373489162,
          -278775.58438739297,
          -302907.1605860344,
          -271354.33135832247,
          -271354.33135832247,
          -267309.4015789659,
          -254788.64520358611,
          -250990.65099701862,
          -247249.2714012851,
          -243563.66249351852,
          -243563.66249351852,
          -243563.66249351852,
          -244108.9064048156,
          -244655.37090427335,
          -264619.1434017309,
          -269195.2899927211,
          -269195.2899927211,
          -201321.2638834452,
          -209303.96892990792,
          -224561.9143454471,
          -224561.9143454471,
          -224561.9143454471,
          -224561.9143454471,
          -224561.9143454471,
          -224561.9143454471,
          -224561.9143454471,
          -235855.5862220027,
          -243520.4056034944,
          -231764.2480916016,
          -231764.2480916016,
          -289795.8430239128,
          -289795.8430239128,
          -289795.8430239128,
          -289795.8430239128,
          -289795.8430239128,
          -289795.8430239128,
          -289795.8430239128,
          -289795.8430239128,
          -316264.9548631967,
          -316264.9548631967,
          -329494.8059993621,
          -329494.8059993621,
          -179270.59004097525,
          -268406.2784990536,
          -401861.40025112405,
          -601672.1587694288,
          -900831.446891999,
          -900831.446891999,
          -779097.4675822695,
          -673814.026017098,
          -673814.026017098,
          -762252.1169318422,
          -762252.1169318422,
          -762252.1169318422,
          -769725.6787525426,
          -769725.6787525426,
          -787913.4792131482,
          -787913.4792131482,
          -665723.6883191307,
          -665723.6883191307,
          -665723.6883191307,
          -941862.7083088362,
          -1126612.7010924928,
          -1126612.7010924928,
          -1126612.7010924928,
          -1126612.7010924928,
          -1204425.122480233,
          -1493601.8590300109,
          -1493601.8590300109,
          -1531988.82269667,
          -2099945.654525679,
          -2099945.654525679,
          -2099945.654525679,
          -2179225.370764678,
          -2179225.370764678,
          -2426560.7656060676,
          -2426560.7656060676,
          -2426560.7656060676,
          -3032680.2358132484,
          -3032680.2358132484,
          -3146190.762597941,
          -3146190.762597941,
          -3632420.24409035,
          -3632420.24409035,
          -3632420.24409035,
          -4193794.281813404,
          -4841926.125366385,
          -4947495.522324874,
          -4012855.711125925,
          -4193614.977392859,
          -4193614.977392859,
          -4193614.977392859,
          -4193614.977392859,
          -3872675.05565361,
          -5534100.465332164,
          -8894662.921816478,
          -8894662.921816478,
          -9372201.22952612,
          -11907316.943084333,
          -12238830.55948239,
          -10984163.67827277,
          -11580547.081883816,
          -11997650.241787683,
          -7843904.2539044665,
          -9818076.656973287,
          -9353269.536741016,
          -9353269.536741016,
          -13007689.055194473,
          -13574673.552793244,
          -13574673.552793244,
          -15008924.013547277,
          -15008924.013547277,
          -15008924.013547277,
          -15432498.546410963,
          -16870046.35621363,
          -15825129.400593901,
          -16371285.361663861,
          -16936290.226035748,
          -17520794.505982626,
          -18125471.164219942,
          -19580497.519145854,
          -28180328.899555877,
          -28180328.899555877,
          -34199090.50402892,
          -34199090.50402892,
          -49310316.54069285,
          -49310316.54069285,
          -49310316.54069285,
          -66222986.35643161,
          -62911837.03861003,
          -62911837.03861003,
          -62911837.03861003,
          -88542585.46174745,
          -124615490.64986679,
          -124615490.64986679,
          -69928117.05532092,
          -77025299.08481619,
          -101635041.94594005,
          -127872266.35495777,
          -136139295.04526785,
          -172515138.4303791,
          -170447603.21429116,
          -183337703.20737192,
          -183337703.20737192,
          -198796194.2029345,
          -324319277.8877077
         ],
         "yaxis": "y"
        }
       ],
       "layout": {
        "legend": {
         "title": {
          "text": "variable"
         },
         "tracegroupgap": 0
        },
        "margin": {
         "t": 60
        },
        "template": {
         "data": {
          "bar": [
           {
            "error_x": {
             "color": "#2a3f5f"
            },
            "error_y": {
             "color": "#2a3f5f"
            },
            "marker": {
             "line": {
              "color": "#E5ECF6",
              "width": 0.5
             },
             "pattern": {
              "fillmode": "overlay",
              "size": 10,
              "solidity": 0.2
             }
            },
            "type": "bar"
           }
          ],
          "barpolar": [
           {
            "marker": {
             "line": {
              "color": "#E5ECF6",
              "width": 0.5
             },
             "pattern": {
              "fillmode": "overlay",
              "size": 10,
              "solidity": 0.2
             }
            },
            "type": "barpolar"
           }
          ],
          "carpet": [
           {
            "aaxis": {
             "endlinecolor": "#2a3f5f",
             "gridcolor": "white",
             "linecolor": "white",
             "minorgridcolor": "white",
             "startlinecolor": "#2a3f5f"
            },
            "baxis": {
             "endlinecolor": "#2a3f5f",
             "gridcolor": "white",
             "linecolor": "white",
             "minorgridcolor": "white",
             "startlinecolor": "#2a3f5f"
            },
            "type": "carpet"
           }
          ],
          "choropleth": [
           {
            "colorbar": {
             "outlinewidth": 0,
             "ticks": ""
            },
            "type": "choropleth"
           }
          ],
          "contour": [
           {
            "colorbar": {
             "outlinewidth": 0,
             "ticks": ""
            },
            "colorscale": [
             [
              0,
              "#0d0887"
             ],
             [
              0.1111111111111111,
              "#46039f"
             ],
             [
              0.2222222222222222,
              "#7201a8"
             ],
             [
              0.3333333333333333,
              "#9c179e"
             ],
             [
              0.4444444444444444,
              "#bd3786"
             ],
             [
              0.5555555555555556,
              "#d8576b"
             ],
             [
              0.6666666666666666,
              "#ed7953"
             ],
             [
              0.7777777777777778,
              "#fb9f3a"
             ],
             [
              0.8888888888888888,
              "#fdca26"
             ],
             [
              1,
              "#f0f921"
             ]
            ],
            "type": "contour"
           }
          ],
          "contourcarpet": [
           {
            "colorbar": {
             "outlinewidth": 0,
             "ticks": ""
            },
            "type": "contourcarpet"
           }
          ],
          "heatmap": [
           {
            "colorbar": {
             "outlinewidth": 0,
             "ticks": ""
            },
            "colorscale": [
             [
              0,
              "#0d0887"
             ],
             [
              0.1111111111111111,
              "#46039f"
             ],
             [
              0.2222222222222222,
              "#7201a8"
             ],
             [
              0.3333333333333333,
              "#9c179e"
             ],
             [
              0.4444444444444444,
              "#bd3786"
             ],
             [
              0.5555555555555556,
              "#d8576b"
             ],
             [
              0.6666666666666666,
              "#ed7953"
             ],
             [
              0.7777777777777778,
              "#fb9f3a"
             ],
             [
              0.8888888888888888,
              "#fdca26"
             ],
             [
              1,
              "#f0f921"
             ]
            ],
            "type": "heatmap"
           }
          ],
          "heatmapgl": [
           {
            "colorbar": {
             "outlinewidth": 0,
             "ticks": ""
            },
            "colorscale": [
             [
              0,
              "#0d0887"
             ],
             [
              0.1111111111111111,
              "#46039f"
             ],
             [
              0.2222222222222222,
              "#7201a8"
             ],
             [
              0.3333333333333333,
              "#9c179e"
             ],
             [
              0.4444444444444444,
              "#bd3786"
             ],
             [
              0.5555555555555556,
              "#d8576b"
             ],
             [
              0.6666666666666666,
              "#ed7953"
             ],
             [
              0.7777777777777778,
              "#fb9f3a"
             ],
             [
              0.8888888888888888,
              "#fdca26"
             ],
             [
              1,
              "#f0f921"
             ]
            ],
            "type": "heatmapgl"
           }
          ],
          "histogram": [
           {
            "marker": {
             "pattern": {
              "fillmode": "overlay",
              "size": 10,
              "solidity": 0.2
             }
            },
            "type": "histogram"
           }
          ],
          "histogram2d": [
           {
            "colorbar": {
             "outlinewidth": 0,
             "ticks": ""
            },
            "colorscale": [
             [
              0,
              "#0d0887"
             ],
             [
              0.1111111111111111,
              "#46039f"
             ],
             [
              0.2222222222222222,
              "#7201a8"
             ],
             [
              0.3333333333333333,
              "#9c179e"
             ],
             [
              0.4444444444444444,
              "#bd3786"
             ],
             [
              0.5555555555555556,
              "#d8576b"
             ],
             [
              0.6666666666666666,
              "#ed7953"
             ],
             [
              0.7777777777777778,
              "#fb9f3a"
             ],
             [
              0.8888888888888888,
              "#fdca26"
             ],
             [
              1,
              "#f0f921"
             ]
            ],
            "type": "histogram2d"
           }
          ],
          "histogram2dcontour": [
           {
            "colorbar": {
             "outlinewidth": 0,
             "ticks": ""
            },
            "colorscale": [
             [
              0,
              "#0d0887"
             ],
             [
              0.1111111111111111,
              "#46039f"
             ],
             [
              0.2222222222222222,
              "#7201a8"
             ],
             [
              0.3333333333333333,
              "#9c179e"
             ],
             [
              0.4444444444444444,
              "#bd3786"
             ],
             [
              0.5555555555555556,
              "#d8576b"
             ],
             [
              0.6666666666666666,
              "#ed7953"
             ],
             [
              0.7777777777777778,
              "#fb9f3a"
             ],
             [
              0.8888888888888888,
              "#fdca26"
             ],
             [
              1,
              "#f0f921"
             ]
            ],
            "type": "histogram2dcontour"
           }
          ],
          "mesh3d": [
           {
            "colorbar": {
             "outlinewidth": 0,
             "ticks": ""
            },
            "type": "mesh3d"
           }
          ],
          "parcoords": [
           {
            "line": {
             "colorbar": {
              "outlinewidth": 0,
              "ticks": ""
             }
            },
            "type": "parcoords"
           }
          ],
          "pie": [
           {
            "automargin": true,
            "type": "pie"
           }
          ],
          "scatter": [
           {
            "fillpattern": {
             "fillmode": "overlay",
             "size": 10,
             "solidity": 0.2
            },
            "type": "scatter"
           }
          ],
          "scatter3d": [
           {
            "line": {
             "colorbar": {
              "outlinewidth": 0,
              "ticks": ""
             }
            },
            "marker": {
             "colorbar": {
              "outlinewidth": 0,
              "ticks": ""
             }
            },
            "type": "scatter3d"
           }
          ],
          "scattercarpet": [
           {
            "marker": {
             "colorbar": {
              "outlinewidth": 0,
              "ticks": ""
             }
            },
            "type": "scattercarpet"
           }
          ],
          "scattergeo": [
           {
            "marker": {
             "colorbar": {
              "outlinewidth": 0,
              "ticks": ""
             }
            },
            "type": "scattergeo"
           }
          ],
          "scattergl": [
           {
            "marker": {
             "colorbar": {
              "outlinewidth": 0,
              "ticks": ""
             }
            },
            "type": "scattergl"
           }
          ],
          "scattermapbox": [
           {
            "marker": {
             "colorbar": {
              "outlinewidth": 0,
              "ticks": ""
             }
            },
            "type": "scattermapbox"
           }
          ],
          "scatterpolar": [
           {
            "marker": {
             "colorbar": {
              "outlinewidth": 0,
              "ticks": ""
             }
            },
            "type": "scatterpolar"
           }
          ],
          "scatterpolargl": [
           {
            "marker": {
             "colorbar": {
              "outlinewidth": 0,
              "ticks": ""
             }
            },
            "type": "scatterpolargl"
           }
          ],
          "scatterternary": [
           {
            "marker": {
             "colorbar": {
              "outlinewidth": 0,
              "ticks": ""
             }
            },
            "type": "scatterternary"
           }
          ],
          "surface": [
           {
            "colorbar": {
             "outlinewidth": 0,
             "ticks": ""
            },
            "colorscale": [
             [
              0,
              "#0d0887"
             ],
             [
              0.1111111111111111,
              "#46039f"
             ],
             [
              0.2222222222222222,
              "#7201a8"
             ],
             [
              0.3333333333333333,
              "#9c179e"
             ],
             [
              0.4444444444444444,
              "#bd3786"
             ],
             [
              0.5555555555555556,
              "#d8576b"
             ],
             [
              0.6666666666666666,
              "#ed7953"
             ],
             [
              0.7777777777777778,
              "#fb9f3a"
             ],
             [
              0.8888888888888888,
              "#fdca26"
             ],
             [
              1,
              "#f0f921"
             ]
            ],
            "type": "surface"
           }
          ],
          "table": [
           {
            "cells": {
             "fill": {
              "color": "#EBF0F8"
             },
             "line": {
              "color": "white"
             }
            },
            "header": {
             "fill": {
              "color": "#C8D4E3"
             },
             "line": {
              "color": "white"
             }
            },
            "type": "table"
           }
          ]
         },
         "layout": {
          "annotationdefaults": {
           "arrowcolor": "#2a3f5f",
           "arrowhead": 0,
           "arrowwidth": 1
          },
          "autotypenumbers": "strict",
          "coloraxis": {
           "colorbar": {
            "outlinewidth": 0,
            "ticks": ""
           }
          },
          "colorscale": {
           "diverging": [
            [
             0,
             "#8e0152"
            ],
            [
             0.1,
             "#c51b7d"
            ],
            [
             0.2,
             "#de77ae"
            ],
            [
             0.3,
             "#f1b6da"
            ],
            [
             0.4,
             "#fde0ef"
            ],
            [
             0.5,
             "#f7f7f7"
            ],
            [
             0.6,
             "#e6f5d0"
            ],
            [
             0.7,
             "#b8e186"
            ],
            [
             0.8,
             "#7fbc41"
            ],
            [
             0.9,
             "#4d9221"
            ],
            [
             1,
             "#276419"
            ]
           ],
           "sequential": [
            [
             0,
             "#0d0887"
            ],
            [
             0.1111111111111111,
             "#46039f"
            ],
            [
             0.2222222222222222,
             "#7201a8"
            ],
            [
             0.3333333333333333,
             "#9c179e"
            ],
            [
             0.4444444444444444,
             "#bd3786"
            ],
            [
             0.5555555555555556,
             "#d8576b"
            ],
            [
             0.6666666666666666,
             "#ed7953"
            ],
            [
             0.7777777777777778,
             "#fb9f3a"
            ],
            [
             0.8888888888888888,
             "#fdca26"
            ],
            [
             1,
             "#f0f921"
            ]
           ],
           "sequentialminus": [
            [
             0,
             "#0d0887"
            ],
            [
             0.1111111111111111,
             "#46039f"
            ],
            [
             0.2222222222222222,
             "#7201a8"
            ],
            [
             0.3333333333333333,
             "#9c179e"
            ],
            [
             0.4444444444444444,
             "#bd3786"
            ],
            [
             0.5555555555555556,
             "#d8576b"
            ],
            [
             0.6666666666666666,
             "#ed7953"
            ],
            [
             0.7777777777777778,
             "#fb9f3a"
            ],
            [
             0.8888888888888888,
             "#fdca26"
            ],
            [
             1,
             "#f0f921"
            ]
           ]
          },
          "colorway": [
           "#636efa",
           "#EF553B",
           "#00cc96",
           "#ab63fa",
           "#FFA15A",
           "#19d3f3",
           "#FF6692",
           "#B6E880",
           "#FF97FF",
           "#FECB52"
          ],
          "font": {
           "color": "#2a3f5f"
          },
          "geo": {
           "bgcolor": "white",
           "lakecolor": "white",
           "landcolor": "#E5ECF6",
           "showlakes": true,
           "showland": true,
           "subunitcolor": "white"
          },
          "hoverlabel": {
           "align": "left"
          },
          "hovermode": "closest",
          "mapbox": {
           "style": "light"
          },
          "paper_bgcolor": "white",
          "plot_bgcolor": "#E5ECF6",
          "polar": {
           "angularaxis": {
            "gridcolor": "white",
            "linecolor": "white",
            "ticks": ""
           },
           "bgcolor": "#E5ECF6",
           "radialaxis": {
            "gridcolor": "white",
            "linecolor": "white",
            "ticks": ""
           }
          },
          "scene": {
           "xaxis": {
            "backgroundcolor": "#E5ECF6",
            "gridcolor": "white",
            "gridwidth": 2,
            "linecolor": "white",
            "showbackground": true,
            "ticks": "",
            "zerolinecolor": "white"
           },
           "yaxis": {
            "backgroundcolor": "#E5ECF6",
            "gridcolor": "white",
            "gridwidth": 2,
            "linecolor": "white",
            "showbackground": true,
            "ticks": "",
            "zerolinecolor": "white"
           },
           "zaxis": {
            "backgroundcolor": "#E5ECF6",
            "gridcolor": "white",
            "gridwidth": 2,
            "linecolor": "white",
            "showbackground": true,
            "ticks": "",
            "zerolinecolor": "white"
           }
          },
          "shapedefaults": {
           "line": {
            "color": "#2a3f5f"
           }
          },
          "ternary": {
           "aaxis": {
            "gridcolor": "white",
            "linecolor": "white",
            "ticks": ""
           },
           "baxis": {
            "gridcolor": "white",
            "linecolor": "white",
            "ticks": ""
           },
           "bgcolor": "#E5ECF6",
           "caxis": {
            "gridcolor": "white",
            "linecolor": "white",
            "ticks": ""
           }
          },
          "title": {
           "x": 0.05
          },
          "xaxis": {
           "automargin": true,
           "gridcolor": "white",
           "linecolor": "white",
           "ticks": "",
           "title": {
            "standoff": 15
           },
           "zerolinecolor": "white",
           "zerolinewidth": 2
          },
          "yaxis": {
           "automargin": true,
           "gridcolor": "white",
           "linecolor": "white",
           "ticks": "",
           "title": {
            "standoff": 15
           },
           "zerolinecolor": "white",
           "zerolinewidth": 2
          }
         }
        },
        "xaxis": {
         "anchor": "y",
         "domain": [
          0,
          1
         ],
         "title": {
          "text": "index"
         }
        },
        "yaxis": {
         "anchor": "x",
         "domain": [
          0,
          1
         ],
         "title": {
          "text": "value"
         }
        }
       }
      },
      "text/html": [
       "<div>                            <div id=\"cd4cffbe-e910-4360-adea-74988a207c5a\" class=\"plotly-graph-div\" style=\"height:525px; width:100%;\"></div>            <script type=\"text/javascript\">                require([\"plotly\"], function(Plotly) {                    window.PLOTLYENV=window.PLOTLYENV || {};                                    if (document.getElementById(\"cd4cffbe-e910-4360-adea-74988a207c5a\")) {                    Plotly.newPlot(                        \"cd4cffbe-e910-4360-adea-74988a207c5a\",                        [{\"hovertemplate\":\"variable=0\\u003cbr\\u003eindex=%{x}\\u003cbr\\u003evalue=%{y}\\u003cextra\\u003e\\u003c\\u002fextra\\u003e\",\"legendgroup\":\"0\",\"line\":{\"color\":\"#636efa\",\"dash\":\"solid\"},\"marker\":{\"symbol\":\"circle\"},\"mode\":\"lines\",\"name\":\"0\",\"orientation\":\"v\",\"showlegend\":true,\"x\":[0,1,2,3,4,5,6,7,8,9,10,11,12,13,14,15,16,17,18,19,20,21,22,23,24,25,26,27,28,29,30,31,32,33,34,35,36,37,38,39,40,41,42,43,44,45,46,47,48,49,50,51,52,53,54,55,56,57,58,59,60,61,62,63,64,65,66,67,68,69,70,71,72,73,74,75,76,77,78,79,80,81,82,83,84,85,86,87,88,89,90,91,92,93,94,95,96,97,98,99,100,101,102,103,104,105,106,107,108,109,110,111,112,113,114,115,116,117,118,119,120,121,122,123,124,125,126,127,128,129,130,131,132,133,134,135,136,137,138,139,140,141,142,143,144,145,146,147,148,149,150,151,152,153,154,155,156,157,158,159,160,161,162,163,164,165,166,167,168,169,170,171,172,173,174,175,176,177,178,179,180,181,182,183,184,185,186,187,188,189,190,191,192,193,194,195,196,197,198,199,200,201,202,203,204,205,206,207,208,209,210,211,212,213,214,215,216,217,218,219,220,221,222,223,224,225,226,227,228,229,230,231,232,233,234,235,236,237,238,239,240,241,242,243,244,245,246,247,248,249,250,251,252,253,254,255,256,257,258,259,260,261,262,263,264,265,266,267,268,269,270,271,272,273,274,275,276,277,278,279,280,281,282,283,284,285,286,287,288,289,290,291,292,293,294,295,296,297,298,299,300,301,302,303,304,305,306,307,308,309,310,311,312,313,314,315,316,317,318,319,320,321,322,323,324,325,326,327,328,329,330,331,332,333,334,335,336,337,338,339,340,341,342,343,344,345,346,347,348,349,350,351,352,353,354,355,356,357,358,359,360,361,362,363,364,365,366,367,368,369,370,371,372,373,374,375,376,377,378,379,380,381,382,383,384,385,386,387,388,389,390,391,392,393,394,395,396,397,398,399,400,401,402,403,404,405,406,407,408,409,410,411,412,413,414,415,416,417,418,419,420,421,422,423,424,425,426,427,428,429,430,431,432,433,434,435,436,437,438,439,440,441,442,443,444,445,446,447,448,449,450,451,452,453,454,455,456,457,458,459],\"xaxis\":\"x\",\"y\":[1.0,1.0709969788519638,1.0642185169604954,1.0642185169604954,1.0707911480482597,1.0707911480482597,1.0707911480482597,1.0774043718138693,1.0774043718138693,1.0774043718138693,1.084058438958371,1.084058438958371,1.084058438958371,1.0501816127409218,1.0501816127409218,1.702313517499985,1.6934339756794121,1.684600750980881,1.684600750980881,1.684600750980881,1.684600750980881,1.684600750980881,1.684600750980881,1.684600750980881,1.6758136018068137,1.7075621165424686,1.6986551971829065,1.6986551971829065,1.6986551971829065,1.9611746367475376,1.9611746367475376,1.9055551690934416,2.013528411533665,2.3247100751343224,2.683983450382354,3.0987808927141725,3.60753596465232,4.165064250098588,4.808755997841097,5.5519273793256305,6.409952519766864,7.400581545549016,8.285281047199089,7.388862413611917,9.338822553535534,9.629769377133771,17.741711707083585,9.596184128942577,9.596184128942577,9.596184128942577,13.45385014877749,13.45385014877749,14.455584596256271,14.455584596256271,13.166712543093562,13.166712543093562,13.166712543093562,14.147067561814076,15.200416956282137,16.332195674847096,16.332195674847096,22.003402248347165,22.003402248347165,28.48749663071034,28.48749663071034,29.056295118581197,15.655616094847622,20.731831010449728,23.672858200304226,27.031100875231107,30.865745417996454,35.24437441915409,35.24437441915409,40.16983047152035,40.16983047152035,40.16983047152035,40.16983047152035,43.26776084207462,46.604606151232055,50.19879171559443,54.07016382733694,54.07016382733694,54.07016382733694,61.40725606665578,61.40725606665578,65.88486848818276,66.39879858309388,62.123624428850405,58.12371299681174,54.38134113383794,50.87992681536145,50.87992681536145,50.87992681536145,54.07914833216773,58.640040360181885,62.32720130181364,66.24620307653468,70.41162334253202,74.83895637011565,73.63513838706785,73.63513838706785,73.63513838706785,72.55593117282672,-6.236647836889472,-6.478803808420697,-5.62016715911193,-6.155421174265447,-6.155421174265447,-6.609176166776119,-6.873543213447164,-5.398226735466893,-5.398226735466893,-6.178852660448625,-6.016251274647345,-6.016251274647345,-6.016251274647345,-6.016251274647345,-6.016251274647345,-6.886248395245858,-7.882053922989744,-9.02186074028483,-9.21970856353669,-8.897257616366366,-8.684744752328653,-8.684744752328653,-8.684744752328653,-8.684744752328653,-8.445104107973249,-8.424391964169002,-8.598158795805908,-8.589164121797568,-8.58017885726426,-8.596654368070155,-12.03867965792674,-12.02608579898723,-12.013505114688751,-12.000937591249096,-11.988383214900479,-11.97584197188951,-11.963313848477194,-11.98628559648662,-12.009301454448632,-11.996738328526446,-12.019774257643446,-17.173203530159142,-17.173203530159142,-21.81460988966161,-31.167535058152524,-44.53048881069105,-63.62275457520965,-90.90075154902713,-129.87407865860595,-185.5570610802314,-265.1138954928876,-301.8967134539427,-431.3337001261747,-549.1148580942076,-549.1148580942076,-699.0576606734378,-889.9442543628637,-1132.9548625652694,-1132.9548625652694,-1132.9548625652694,-1120.9937258856555,-1439.4445970269499,-2228.2602361977183,-2084.8869234128783,-2090.0574889435247,-2017.148506771076,-2391.58924754894,-2096.6789139518555,-2338.1811972342684,-2338.1811972342684,-2874.461288343046,-2874.461288343046,-2521.860703639632,-2646.3970346835645,-2646.3970346835645,-2646.3970346835645,-2646.3970346835645,-2646.3970346835645,-2646.3970346835645,-2622.94794703447,-1313.5263584523166,-1390.1777639853428,-1390.1777639853428,-1335.4822454023129,-1610.6863677981721,-1445.7365590477568,-1445.7365590477568,-1382.6892673013097,-1326.4761473735612,-1389.3033232288637,-1389.3033232288637,-1444.3963860465599,-1730.3178549568001,-2434.5169819741027,-2559.743074277825,-2516.3575984426075,-2473.7074696554446,-2431.780224407047,-2390.563610434046,-2591.73179350076,-2591.73179350076,-2576.5754672229777,-4014.333048380551,-4312.7053790860355,-4312.7053790860355,-4155.707035839089,-6938.657993773375,-6320.088781018312,-5756.663930661825,-5243.4674193363735,-7715.775891665959,-7027.92797880078,-7027.92797880078,-5599.834906935505,-5599.834906935505,-3615.2377930128523,-3615.2377930128523,-3615.2377930128523,-3615.2377930128523,-4601.211736561812,-4722.429169797249,-4598.518333628903,-4598.518333628903,-4598.518333628903,-4421.652243873945,-4682.652549935949,-4682.652549935949,-4682.652549935949,-4577.872111535239,-4577.872111535239,-6405.539684581628,-6542.8012492512335,-6542.8012492512335,-7361.915470563984,-7686.435725573598,-7686.435725573598,-8648.725205900431,-9731.486785000794,-10949.802750356379,-12320.64358927271,-13863.104378656155,-15598.67076918343,-17551.518268880274,-19748.848994968837,-22221.27058475628,-25003.222543589753,-29403.789711261546,-31622.943651734116,-35581.921141363884,-36299.468780039075,-28879.056042986755,-22975.539476560683,-18278.832017682667,-17553.02677560122,-16856.041386392397,-16186.731488082145,-15543.998158356835,-15857.45956843046,-12615.844775886191,-12629.784935859549,-12629.784935859549,-11414.919908695916,-9708.015997115219,-9708.015997115219,-9708.015997115219,-9708.015997115219,-9497.201317481882,-9497.201317481882,-9151.572493909804,-9151.572493909804,-9151.572493909804,-9151.572493909804,-9151.572493909804,-9151.572493909804,-9151.572493909804,-9151.572493909804,-10085.356837757416,-12312.407243571355,-12312.407243571355,-22935.84191702457,-27222.91517254318,-32971.009015181146,-31957.523918242354,-37625.46212260987,-37870.31025110372,-37870.31025110372,-38116.75173161626,-38116.75173161626,-54809.9884318061,-54809.9884318061,-78814.03045692672,-78814.03045692672,-78814.03045692672,-78814.03045692672,-78814.03045692672,-92302.98432486039,-92302.98432486039,-92302.98432486039,-92302.98432486039,-92302.98432486039,-92302.98432486039,-92302.98432486039,-176208.0453437357,-176208.0453437357,-173152.22250271332,-173152.22250271332,-184828.45705726114,-176046.3026557812,-147543.56794008333,-147543.56794008333,-157040.33253743468,-264686.373489162,-278775.58438739297,-302907.1605860344,-271354.33135832247,-271354.33135832247,-267309.4015789659,-254788.64520358611,-250990.65099701862,-247249.2714012851,-243563.66249351852,-243563.66249351852,-243563.66249351852,-244108.9064048156,-244655.37090427335,-264619.1434017309,-269195.2899927211,-269195.2899927211,-201321.2638834452,-209303.96892990792,-224561.9143454471,-224561.9143454471,-224561.9143454471,-224561.9143454471,-224561.9143454471,-224561.9143454471,-224561.9143454471,-235855.5862220027,-243520.4056034944,-231764.2480916016,-231764.2480916016,-289795.8430239128,-289795.8430239128,-289795.8430239128,-289795.8430239128,-289795.8430239128,-289795.8430239128,-289795.8430239128,-289795.8430239128,-316264.9548631967,-316264.9548631967,-329494.8059993621,-329494.8059993621,-179270.59004097525,-268406.2784990536,-401861.40025112405,-601672.1587694288,-900831.446891999,-900831.446891999,-779097.4675822695,-673814.026017098,-673814.026017098,-762252.1169318422,-762252.1169318422,-762252.1169318422,-769725.6787525426,-769725.6787525426,-787913.4792131482,-787913.4792131482,-665723.6883191307,-665723.6883191307,-665723.6883191307,-941862.7083088362,-1126612.7010924928,-1126612.7010924928,-1126612.7010924928,-1126612.7010924928,-1204425.122480233,-1493601.8590300109,-1493601.8590300109,-1531988.82269667,-2099945.654525679,-2099945.654525679,-2099945.654525679,-2179225.370764678,-2179225.370764678,-2426560.7656060676,-2426560.7656060676,-2426560.7656060676,-3032680.2358132484,-3032680.2358132484,-3146190.762597941,-3146190.762597941,-3632420.24409035,-3632420.24409035,-3632420.24409035,-4193794.281813404,-4841926.125366385,-4947495.522324874,-4012855.711125925,-4193614.977392859,-4193614.977392859,-4193614.977392859,-4193614.977392859,-3872675.05565361,-5534100.465332164,-8894662.921816478,-8894662.921816478,-9372201.22952612,-11907316.943084333,-12238830.55948239,-10984163.67827277,-11580547.081883816,-11997650.241787683,-7843904.2539044665,-9818076.656973287,-9353269.536741016,-9353269.536741016,-13007689.055194473,-13574673.552793244,-13574673.552793244,-15008924.013547277,-15008924.013547277,-15008924.013547277,-15432498.546410963,-16870046.35621363,-15825129.400593901,-16371285.361663861,-16936290.226035748,-17520794.505982626,-18125471.164219942,-19580497.519145854,-28180328.899555877,-28180328.899555877,-34199090.50402892,-34199090.50402892,-49310316.54069285,-49310316.54069285,-49310316.54069285,-66222986.35643161,-62911837.03861003,-62911837.03861003,-62911837.03861003,-88542585.46174745,-124615490.64986679,-124615490.64986679,-69928117.05532092,-77025299.08481619,-101635041.94594005,-127872266.35495777,-136139295.04526785,-172515138.4303791,-170447603.21429116,-183337703.20737192,-183337703.20737192,-198796194.2029345,-324319277.8877077],\"yaxis\":\"y\",\"type\":\"scatter\"}],                        {\"template\":{\"data\":{\"histogram2dcontour\":[{\"type\":\"histogram2dcontour\",\"colorbar\":{\"outlinewidth\":0,\"ticks\":\"\"},\"colorscale\":[[0.0,\"#0d0887\"],[0.1111111111111111,\"#46039f\"],[0.2222222222222222,\"#7201a8\"],[0.3333333333333333,\"#9c179e\"],[0.4444444444444444,\"#bd3786\"],[0.5555555555555556,\"#d8576b\"],[0.6666666666666666,\"#ed7953\"],[0.7777777777777778,\"#fb9f3a\"],[0.8888888888888888,\"#fdca26\"],[1.0,\"#f0f921\"]]}],\"choropleth\":[{\"type\":\"choropleth\",\"colorbar\":{\"outlinewidth\":0,\"ticks\":\"\"}}],\"histogram2d\":[{\"type\":\"histogram2d\",\"colorbar\":{\"outlinewidth\":0,\"ticks\":\"\"},\"colorscale\":[[0.0,\"#0d0887\"],[0.1111111111111111,\"#46039f\"],[0.2222222222222222,\"#7201a8\"],[0.3333333333333333,\"#9c179e\"],[0.4444444444444444,\"#bd3786\"],[0.5555555555555556,\"#d8576b\"],[0.6666666666666666,\"#ed7953\"],[0.7777777777777778,\"#fb9f3a\"],[0.8888888888888888,\"#fdca26\"],[1.0,\"#f0f921\"]]}],\"heatmap\":[{\"type\":\"heatmap\",\"colorbar\":{\"outlinewidth\":0,\"ticks\":\"\"},\"colorscale\":[[0.0,\"#0d0887\"],[0.1111111111111111,\"#46039f\"],[0.2222222222222222,\"#7201a8\"],[0.3333333333333333,\"#9c179e\"],[0.4444444444444444,\"#bd3786\"],[0.5555555555555556,\"#d8576b\"],[0.6666666666666666,\"#ed7953\"],[0.7777777777777778,\"#fb9f3a\"],[0.8888888888888888,\"#fdca26\"],[1.0,\"#f0f921\"]]}],\"heatmapgl\":[{\"type\":\"heatmapgl\",\"colorbar\":{\"outlinewidth\":0,\"ticks\":\"\"},\"colorscale\":[[0.0,\"#0d0887\"],[0.1111111111111111,\"#46039f\"],[0.2222222222222222,\"#7201a8\"],[0.3333333333333333,\"#9c179e\"],[0.4444444444444444,\"#bd3786\"],[0.5555555555555556,\"#d8576b\"],[0.6666666666666666,\"#ed7953\"],[0.7777777777777778,\"#fb9f3a\"],[0.8888888888888888,\"#fdca26\"],[1.0,\"#f0f921\"]]}],\"contourcarpet\":[{\"type\":\"contourcarpet\",\"colorbar\":{\"outlinewidth\":0,\"ticks\":\"\"}}],\"contour\":[{\"type\":\"contour\",\"colorbar\":{\"outlinewidth\":0,\"ticks\":\"\"},\"colorscale\":[[0.0,\"#0d0887\"],[0.1111111111111111,\"#46039f\"],[0.2222222222222222,\"#7201a8\"],[0.3333333333333333,\"#9c179e\"],[0.4444444444444444,\"#bd3786\"],[0.5555555555555556,\"#d8576b\"],[0.6666666666666666,\"#ed7953\"],[0.7777777777777778,\"#fb9f3a\"],[0.8888888888888888,\"#fdca26\"],[1.0,\"#f0f921\"]]}],\"surface\":[{\"type\":\"surface\",\"colorbar\":{\"outlinewidth\":0,\"ticks\":\"\"},\"colorscale\":[[0.0,\"#0d0887\"],[0.1111111111111111,\"#46039f\"],[0.2222222222222222,\"#7201a8\"],[0.3333333333333333,\"#9c179e\"],[0.4444444444444444,\"#bd3786\"],[0.5555555555555556,\"#d8576b\"],[0.6666666666666666,\"#ed7953\"],[0.7777777777777778,\"#fb9f3a\"],[0.8888888888888888,\"#fdca26\"],[1.0,\"#f0f921\"]]}],\"mesh3d\":[{\"type\":\"mesh3d\",\"colorbar\":{\"outlinewidth\":0,\"ticks\":\"\"}}],\"scatter\":[{\"fillpattern\":{\"fillmode\":\"overlay\",\"size\":10,\"solidity\":0.2},\"type\":\"scatter\"}],\"parcoords\":[{\"type\":\"parcoords\",\"line\":{\"colorbar\":{\"outlinewidth\":0,\"ticks\":\"\"}}}],\"scatterpolargl\":[{\"type\":\"scatterpolargl\",\"marker\":{\"colorbar\":{\"outlinewidth\":0,\"ticks\":\"\"}}}],\"bar\":[{\"error_x\":{\"color\":\"#2a3f5f\"},\"error_y\":{\"color\":\"#2a3f5f\"},\"marker\":{\"line\":{\"color\":\"#E5ECF6\",\"width\":0.5},\"pattern\":{\"fillmode\":\"overlay\",\"size\":10,\"solidity\":0.2}},\"type\":\"bar\"}],\"scattergeo\":[{\"type\":\"scattergeo\",\"marker\":{\"colorbar\":{\"outlinewidth\":0,\"ticks\":\"\"}}}],\"scatterpolar\":[{\"type\":\"scatterpolar\",\"marker\":{\"colorbar\":{\"outlinewidth\":0,\"ticks\":\"\"}}}],\"histogram\":[{\"marker\":{\"pattern\":{\"fillmode\":\"overlay\",\"size\":10,\"solidity\":0.2}},\"type\":\"histogram\"}],\"scattergl\":[{\"type\":\"scattergl\",\"marker\":{\"colorbar\":{\"outlinewidth\":0,\"ticks\":\"\"}}}],\"scatter3d\":[{\"type\":\"scatter3d\",\"line\":{\"colorbar\":{\"outlinewidth\":0,\"ticks\":\"\"}},\"marker\":{\"colorbar\":{\"outlinewidth\":0,\"ticks\":\"\"}}}],\"scattermapbox\":[{\"type\":\"scattermapbox\",\"marker\":{\"colorbar\":{\"outlinewidth\":0,\"ticks\":\"\"}}}],\"scatterternary\":[{\"type\":\"scatterternary\",\"marker\":{\"colorbar\":{\"outlinewidth\":0,\"ticks\":\"\"}}}],\"scattercarpet\":[{\"type\":\"scattercarpet\",\"marker\":{\"colorbar\":{\"outlinewidth\":0,\"ticks\":\"\"}}}],\"carpet\":[{\"aaxis\":{\"endlinecolor\":\"#2a3f5f\",\"gridcolor\":\"white\",\"linecolor\":\"white\",\"minorgridcolor\":\"white\",\"startlinecolor\":\"#2a3f5f\"},\"baxis\":{\"endlinecolor\":\"#2a3f5f\",\"gridcolor\":\"white\",\"linecolor\":\"white\",\"minorgridcolor\":\"white\",\"startlinecolor\":\"#2a3f5f\"},\"type\":\"carpet\"}],\"table\":[{\"cells\":{\"fill\":{\"color\":\"#EBF0F8\"},\"line\":{\"color\":\"white\"}},\"header\":{\"fill\":{\"color\":\"#C8D4E3\"},\"line\":{\"color\":\"white\"}},\"type\":\"table\"}],\"barpolar\":[{\"marker\":{\"line\":{\"color\":\"#E5ECF6\",\"width\":0.5},\"pattern\":{\"fillmode\":\"overlay\",\"size\":10,\"solidity\":0.2}},\"type\":\"barpolar\"}],\"pie\":[{\"automargin\":true,\"type\":\"pie\"}]},\"layout\":{\"autotypenumbers\":\"strict\",\"colorway\":[\"#636efa\",\"#EF553B\",\"#00cc96\",\"#ab63fa\",\"#FFA15A\",\"#19d3f3\",\"#FF6692\",\"#B6E880\",\"#FF97FF\",\"#FECB52\"],\"font\":{\"color\":\"#2a3f5f\"},\"hovermode\":\"closest\",\"hoverlabel\":{\"align\":\"left\"},\"paper_bgcolor\":\"white\",\"plot_bgcolor\":\"#E5ECF6\",\"polar\":{\"bgcolor\":\"#E5ECF6\",\"angularaxis\":{\"gridcolor\":\"white\",\"linecolor\":\"white\",\"ticks\":\"\"},\"radialaxis\":{\"gridcolor\":\"white\",\"linecolor\":\"white\",\"ticks\":\"\"}},\"ternary\":{\"bgcolor\":\"#E5ECF6\",\"aaxis\":{\"gridcolor\":\"white\",\"linecolor\":\"white\",\"ticks\":\"\"},\"baxis\":{\"gridcolor\":\"white\",\"linecolor\":\"white\",\"ticks\":\"\"},\"caxis\":{\"gridcolor\":\"white\",\"linecolor\":\"white\",\"ticks\":\"\"}},\"coloraxis\":{\"colorbar\":{\"outlinewidth\":0,\"ticks\":\"\"}},\"colorscale\":{\"sequential\":[[0.0,\"#0d0887\"],[0.1111111111111111,\"#46039f\"],[0.2222222222222222,\"#7201a8\"],[0.3333333333333333,\"#9c179e\"],[0.4444444444444444,\"#bd3786\"],[0.5555555555555556,\"#d8576b\"],[0.6666666666666666,\"#ed7953\"],[0.7777777777777778,\"#fb9f3a\"],[0.8888888888888888,\"#fdca26\"],[1.0,\"#f0f921\"]],\"sequentialminus\":[[0.0,\"#0d0887\"],[0.1111111111111111,\"#46039f\"],[0.2222222222222222,\"#7201a8\"],[0.3333333333333333,\"#9c179e\"],[0.4444444444444444,\"#bd3786\"],[0.5555555555555556,\"#d8576b\"],[0.6666666666666666,\"#ed7953\"],[0.7777777777777778,\"#fb9f3a\"],[0.8888888888888888,\"#fdca26\"],[1.0,\"#f0f921\"]],\"diverging\":[[0,\"#8e0152\"],[0.1,\"#c51b7d\"],[0.2,\"#de77ae\"],[0.3,\"#f1b6da\"],[0.4,\"#fde0ef\"],[0.5,\"#f7f7f7\"],[0.6,\"#e6f5d0\"],[0.7,\"#b8e186\"],[0.8,\"#7fbc41\"],[0.9,\"#4d9221\"],[1,\"#276419\"]]},\"xaxis\":{\"gridcolor\":\"white\",\"linecolor\":\"white\",\"ticks\":\"\",\"title\":{\"standoff\":15},\"zerolinecolor\":\"white\",\"automargin\":true,\"zerolinewidth\":2},\"yaxis\":{\"gridcolor\":\"white\",\"linecolor\":\"white\",\"ticks\":\"\",\"title\":{\"standoff\":15},\"zerolinecolor\":\"white\",\"automargin\":true,\"zerolinewidth\":2},\"scene\":{\"xaxis\":{\"backgroundcolor\":\"#E5ECF6\",\"gridcolor\":\"white\",\"linecolor\":\"white\",\"showbackground\":true,\"ticks\":\"\",\"zerolinecolor\":\"white\",\"gridwidth\":2},\"yaxis\":{\"backgroundcolor\":\"#E5ECF6\",\"gridcolor\":\"white\",\"linecolor\":\"white\",\"showbackground\":true,\"ticks\":\"\",\"zerolinecolor\":\"white\",\"gridwidth\":2},\"zaxis\":{\"backgroundcolor\":\"#E5ECF6\",\"gridcolor\":\"white\",\"linecolor\":\"white\",\"showbackground\":true,\"ticks\":\"\",\"zerolinecolor\":\"white\",\"gridwidth\":2}},\"shapedefaults\":{\"line\":{\"color\":\"#2a3f5f\"}},\"annotationdefaults\":{\"arrowcolor\":\"#2a3f5f\",\"arrowhead\":0,\"arrowwidth\":1},\"geo\":{\"bgcolor\":\"white\",\"landcolor\":\"#E5ECF6\",\"subunitcolor\":\"white\",\"showland\":true,\"showlakes\":true,\"lakecolor\":\"white\"},\"title\":{\"x\":0.05},\"mapbox\":{\"style\":\"light\"}}},\"xaxis\":{\"anchor\":\"y\",\"domain\":[0.0,1.0],\"title\":{\"text\":\"index\"}},\"yaxis\":{\"anchor\":\"x\",\"domain\":[0.0,1.0],\"title\":{\"text\":\"value\"}},\"legend\":{\"title\":{\"text\":\"variable\"},\"tracegroupgap\":0},\"margin\":{\"t\":60}},                        {\"responsive\": true}                    ).then(function(){\n",
       "                            \n",
       "var gd = document.getElementById('cd4cffbe-e910-4360-adea-74988a207c5a');\n",
       "var x = new MutationObserver(function (mutations, observer) {{\n",
       "        var display = window.getComputedStyle(gd).display;\n",
       "        if (!display || display === 'none') {{\n",
       "            console.log([gd, 'removed!']);\n",
       "            Plotly.purge(gd);\n",
       "            observer.disconnect();\n",
       "        }}\n",
       "}});\n",
       "\n",
       "// Listen for the removal of the full notebook cells\n",
       "var notebookContainer = gd.closest('#notebook-container');\n",
       "if (notebookContainer) {{\n",
       "    x.observe(notebookContainer, {childList: true});\n",
       "}}\n",
       "\n",
       "// Listen for the clearing of the current output cell\n",
       "var outputEl = gd.closest('.output');\n",
       "if (outputEl) {{\n",
       "    x.observe(outputEl, {childList: true});\n",
       "}}\n",
       "\n",
       "                        })                };                });            </script>        </div>"
      ]
     },
     "metadata": {},
     "output_type": "display_data"
    }
   ],
   "source": [
    "px.line(np.array(lr_portfolio))\n"
   ]
  },
  {
   "cell_type": "markdown",
   "metadata": {},
   "source": [
    "## XGBoost"
   ]
  },
  {
   "cell_type": "code",
   "execution_count": 267,
   "metadata": {},
   "outputs": [],
   "source": [
    "# Create and fit the XGBoost model\n",
    "model = GB()\n",
    "model.train(X_train_scaled.iloc[:, :-5], y_train)\n",
    "\n",
    "# Make predictions on the test set\n",
    "y_pred = model.predict(X_test_scaled.iloc[:, :-5])\n",
    "y_prob = model.predict_prob(X_test_scaled.iloc[:, :-5])\n"
   ]
  },
  {
   "cell_type": "code",
   "execution_count": 268,
   "metadata": {},
   "outputs": [
    {
     "name": "stdout",
     "output_type": "stream",
     "text": [
      "Model         XGBoost\n",
      "AUC          0.599901\n",
      "Accuracy     0.420479\n",
      "Precision    0.404459\n",
      "Recall       0.403824\n",
      "F1 Score     0.402239\n",
      "dtype: object\n"
     ]
    }
   ],
   "source": [
    "print(calculate_metrics(y_test=y_test, y_prob=y_prob, y_pred=y_pred, model_name='XGBoost'))\n"
   ]
  },
  {
   "cell_type": "code",
   "execution_count": 269,
   "metadata": {},
   "outputs": [
    {
     "name": "stdout",
     "output_type": "stream",
     "text": [
      "Average return of XGB trading strategy with NCAR prediction: 0.9940802408950986\n"
     ]
    }
   ],
   "source": [
    "print(f'Average return of XGB trading strategy with NCAR prediction: {extract_return(y_pred,actual_ret)}')"
   ]
  },
  {
   "cell_type": "code",
   "execution_count": 63,
   "metadata": {},
   "outputs": [],
   "source": [
    "# gb_fit_metrics = model.results.calculate_metrics(y_test, y_prob, y_pred, \"XGBoost Classifier\")\n",
    "# model.results.print_confusion_matrix(y_test, y_pred, labels)\n",
    "# model.results.plot_roc_curve(y_test, y_prob, \"XGBoost Classifier\")\n",
    "# print(gb_fit_metrics)\n"
   ]
  },
  {
   "cell_type": "code",
   "execution_count": 64,
   "metadata": {},
   "outputs": [],
   "source": [
    "trading_data['gb_preds'] = y_pred\n",
    "trading_data['gb_signal'] = np.where(y_pred > 2, 1, np.where(y_pred < 2, -1, 0))\n",
    "ts = Trading_Strategy()\n",
    "gb_portfolio = ts.buy_short('gb_signal', trading_data, stock_df, 20)\n"
   ]
  },
  {
   "cell_type": "code",
   "execution_count": 65,
   "metadata": {},
   "outputs": [
    {
     "data": {
      "application/vnd.plotly.v1+json": {
       "config": {
        "plotlyServerURL": "https://plot.ly"
       },
       "data": [
        {
         "hovertemplate": "variable=0<br>index=%{x}<br>value=%{y}<extra></extra>",
         "legendgroup": "0",
         "line": {
          "color": "#636efa",
          "dash": "solid"
         },
         "marker": {
          "symbol": "circle"
         },
         "mode": "lines",
         "name": "0",
         "orientation": "v",
         "showlegend": true,
         "type": "scatter",
         "x": [
          0,
          1,
          2,
          3,
          4,
          5,
          6,
          7,
          8,
          9,
          10,
          11,
          12,
          13,
          14,
          15,
          16,
          17,
          18,
          19,
          20,
          21,
          22,
          23,
          24,
          25,
          26,
          27,
          28,
          29,
          30,
          31,
          32,
          33,
          34,
          35,
          36,
          37,
          38,
          39,
          40,
          41,
          42,
          43,
          44,
          45,
          46,
          47,
          48,
          49,
          50,
          51,
          52,
          53,
          54,
          55,
          56,
          57,
          58,
          59,
          60,
          61,
          62,
          63,
          64,
          65,
          66,
          67,
          68,
          69,
          70,
          71,
          72,
          73,
          74,
          75,
          76,
          77,
          78,
          79,
          80,
          81,
          82,
          83,
          84,
          85,
          86,
          87,
          88,
          89,
          90,
          91,
          92,
          93,
          94,
          95,
          96,
          97,
          98,
          99,
          100,
          101,
          102,
          103,
          104,
          105,
          106,
          107,
          108,
          109,
          110,
          111,
          112,
          113,
          114,
          115,
          116,
          117,
          118,
          119,
          120,
          121,
          122,
          123,
          124,
          125,
          126,
          127,
          128,
          129,
          130,
          131,
          132,
          133,
          134,
          135,
          136,
          137,
          138,
          139,
          140,
          141,
          142,
          143,
          144,
          145,
          146,
          147,
          148,
          149,
          150,
          151,
          152,
          153,
          154,
          155,
          156,
          157,
          158,
          159,
          160,
          161,
          162,
          163,
          164,
          165,
          166,
          167,
          168,
          169,
          170,
          171,
          172,
          173,
          174,
          175,
          176,
          177,
          178,
          179,
          180,
          181,
          182,
          183,
          184,
          185,
          186,
          187,
          188,
          189,
          190,
          191,
          192,
          193,
          194,
          195,
          196,
          197,
          198,
          199,
          200,
          201,
          202,
          203,
          204,
          205,
          206,
          207,
          208,
          209,
          210,
          211,
          212,
          213,
          214,
          215,
          216,
          217,
          218,
          219,
          220,
          221,
          222,
          223,
          224,
          225,
          226,
          227,
          228,
          229,
          230,
          231,
          232,
          233,
          234,
          235,
          236,
          237,
          238,
          239,
          240,
          241,
          242,
          243,
          244,
          245,
          246,
          247,
          248,
          249,
          250,
          251,
          252,
          253,
          254,
          255,
          256,
          257,
          258,
          259,
          260,
          261,
          262,
          263,
          264,
          265,
          266,
          267,
          268,
          269,
          270,
          271,
          272,
          273,
          274,
          275,
          276,
          277,
          278,
          279,
          280,
          281,
          282,
          283,
          284,
          285,
          286,
          287,
          288,
          289,
          290,
          291,
          292,
          293,
          294,
          295,
          296,
          297,
          298,
          299,
          300,
          301,
          302,
          303,
          304,
          305,
          306,
          307,
          308,
          309,
          310,
          311,
          312,
          313,
          314,
          315,
          316,
          317,
          318,
          319,
          320,
          321,
          322,
          323,
          324,
          325,
          326,
          327,
          328,
          329,
          330,
          331,
          332,
          333,
          334,
          335,
          336,
          337,
          338,
          339,
          340,
          341,
          342,
          343,
          344,
          345,
          346,
          347,
          348,
          349,
          350,
          351,
          352,
          353,
          354,
          355,
          356,
          357,
          358,
          359,
          360,
          361,
          362,
          363,
          364,
          365,
          366,
          367,
          368,
          369,
          370,
          371,
          372,
          373,
          374,
          375,
          376,
          377,
          378,
          379,
          380,
          381,
          382,
          383,
          384,
          385,
          386,
          387,
          388,
          389,
          390,
          391,
          392,
          393,
          394,
          395,
          396,
          397,
          398,
          399,
          400,
          401,
          402,
          403,
          404,
          405,
          406,
          407,
          408,
          409,
          410,
          411,
          412,
          413,
          414,
          415,
          416,
          417,
          418,
          419,
          420,
          421,
          422,
          423,
          424,
          425,
          426,
          427,
          428,
          429,
          430,
          431,
          432,
          433,
          434,
          435,
          436,
          437,
          438,
          439,
          440,
          441,
          442,
          443,
          444,
          445,
          446,
          447,
          448,
          449,
          450,
          451,
          452,
          453,
          454,
          455,
          456,
          457,
          458,
          459
         ],
         "xaxis": "x",
         "y": [
          1,
          1.0709969788519638,
          1.0642185169604954,
          1.0707911480482597,
          1.0774043718138693,
          1.084058438958371,
          0.9756912976130144,
          0.9817171831361006,
          0.9877802846274198,
          0.993880831933405,
          1.0000190563200242,
          1.0061951904815478,
          1.1438984269719004,
          1.1081516011290284,
          1.1149955636681683,
          1.8073750263356494,
          1.797947466742881,
          1.7885690828212266,
          2.131763150373639,
          2.219990484337649,
          2.7981767653061818,
          2.518458987981751,
          2.2667030020356997,
          2.040113626609068,
          2.029472064946091,
          2.029472064946091,
          2.0188860113847946,
          1.817069487576247,
          1.6354274109888323,
          1.8881752835961974,
          1.6994251659928648,
          1.6994251659928648,
          1.6994251659928648,
          1.9620636007372165,
          2.265291611760241,
          2.6153821335777327,
          2.6153821335777327,
          3.019577554221564,
          3.4862395398739876,
          4.025022014218149,
          4.647070870960954,
          5.365254551018556,
          6.006641717459106,
          5.356758444925743,
          6.770435525657624,
          6.770435525657624,
          12.47372709805923,
          6.746822628132619,
          7.620624225684695,
          8.607594535972872,
          12.067847539433966,
          13.630791319073674,
          14.645700290090536,
          16.54250965000876,
          15.0675656077877,
          15.106271280908624,
          15.273949367780464,
          16.411203095267737,
          17.633133418803702,
          18.946045110793225,
          29.480699504294627,
          39.71760458115602,
          49.35071908171184,
          49.35071908171184,
          54.01786239241663,
          55.09641551504166,
          29.68610850025732,
          39.31160428670439,
          39.31160428670439,
          44.888366755283386,
          44.888366755283386,
          51.25625134149801,
          44.3452961044421,
          50.542620094193325,
          43.37396767395674,
          41.83362947583989,
          42.48701982877531,
          45.76365374873228,
          49.29298437202783,
          53.094499876297334,
          57.1891913834668,
          58.08241691542106,
          58.98959354253218,
          66.99423155997172,
          68.04059988019809,
          73.00189362146251,
          73.00189362146251,
          73.00189362146251,
          73.00189362146251,
          73.00189362146251,
          73.00189362146251,
          74.14209430775077,
          75.3001035403728,
          75.3001035403728,
          81.65071468233197,
          81.65071468233197,
          81.65071468233197,
          81.65071468233197,
          81.65071468233197,
          81.65071468233197,
          90.6907633368512,
          90.6907633368512,
          89.36158642210592,
          -7.681201738461899,
          -7.97944671206815,
          -6.921929677938637,
          -7.581161075837554,
          -7.079672593732999,
          -7.60155999896497,
          -7.905622398923569,
          -6.208783573351892,
          -6.563969173173481,
          -7.513170597725528,
          -7.315455581995909,
          -8.366816237928196,
          -8.041440050897654,
          -7.822198886719287,
          -7.89964640044918,
          -9.041997227965116,
          -10.349540944754189,
          -11.846165738235799,
          -12.105950074600619,
          -11.682555447639198,
          -11.682555447639198,
          -11.798224313457407,
          -11.931286993684372,
          -13.053031924714526,
          -13.053031924714526,
          -13.053031924714526,
          -13.322272008801326,
          -13.322272008801326,
          -13.322272008801326,
          -13.322272008801326,
          -13.322272008801326,
          -13.322272008801326,
          -13.322272008801326,
          -13.322272008801326,
          -13.322272008801326,
          -13.322272008801326,
          -13.322272008801326,
          -13.322272008801326,
          -13.322272008801326,
          -13.322272008801326,
          -13.322272008801326,
          -19.034141888796356,
          -19.131365088001328,
          -24.30200430097466,
          -34.72138969548863,
          -49.60804415369284,
          -70.87729109743817,
          -101.26564106714599,
          -144.6828723552994,
          -206.71506477799088,
          -295.34330712783793,
          -295.34330712783793,
          -421.97054752100297,
          -537.1949774713876,
          -537.1949774713876,
          -683.882904898999,
          -870.6258383400541,
          -1108.361307111877,
          -1326.5621908386,
          -1587.7198480954157,
          -1587.7198480954157,
          -2038.757848646975,
          -3155.997149705517,
          -3155.997149705517,
          -3163.824092209609,
          -3053.458135504622,
          -3620.2677295204494,
          -3620.2677295204494,
          -4037.2619182610247,
          -4199.157133028384,
          -5162.266567209207,
          -5505.588391919988,
          -5505.588391919988,
          -5777.46930016295,
          -4390.078472038017,
          -4422.021803146709,
          -4487.658469965036,
          -3484.6696676101424,
          -3609.995506532964,
          -3578.008204576343,
          -1791.803795718982,
          -1896.3652904293733,
          -1896.3652904293733,
          -1821.7541970354307,
          -1821.7541970354307,
          -1635.1890081824047,
          -1635.1890081824047,
          -1635.1890081824047,
          -1568.7105317848127,
          -1643.0108896477527,
          -1519.7850729241713,
          -1580.0524120228883,
          -1892.8272922185452,
          -2663.1639809121393,
          -2800.1511619270877,
          -2752.690972741883,
          -2706.0351935428675,
          -2660.17019026248,
          -2615.082559919048,
          -2835.1442243952547,
          -3118.579914698585,
          -3100.342605255903,
          -4830.3680369180365,
          -5189.393596574063,
          -5189.393596574063,
          -5189.393596574063,
          -8664.573092177716,
          -7892.14156992994,
          -7188.5709656079025,
          -6547.722448932155,
          -9634.990546615192,
          -8776.048007197549,
          -9643.64210676841,
          -9643.64210676841,
          -9643.64210676841,
          -9643.64210676841,
          -11078.97488545022,
          -12557.21771010944,
          -12656.746516266185,
          -16108.586475247872,
          -16108.586475247872,
          -15685.91662719512,
          -15685.91662719512,
          -15673.565511740633,
          -15673.565511740633,
          -15673.565511740633,
          -21907.2505207696,
          -21907.2505207696,
          -21907.2505207696,
          -21907.2505207696,
          -30653.491222978,
          -31310.35174918467,
          8323.004895352882,
          9364.988506672176,
          9777.80613144647,
          10657.808683276651,
          11992.093850734778,
          13493.422447194618,
          15182.707173968594,
          17083.47886035415,
          19222.21423545258,
          21628.704734790535,
          24336.471479022424,
          27383.23220514424,
          30811.426654319945,
          34668.80773469075,
          40770.51789599632,
          43847.538114562085,
          49336.95169613786,
          50331.884292619885,
          50331.884292619885,
          50331.884292619885,
          50331.884292619885,
          50331.884292619885,
          50331.884292619885,
          50331.884292619885,
          50331.884292619885,
          51346.88077301673,
          51346.88077301673,
          51346.88077301673,
          51346.88077301673,
          51346.88077301673,
          43668.842526584325,
          40739.685956886104,
          38007.00718951532,
          42438.919688646085,
          42438.919688646085,
          42438.919688646085,
          40894.452703550545,
          40894.452703550545,
          44216.84826125448,
          53664.89276152253,
          55331.328905169816,
          55331.328905169816,
          54292.63830674705,
          56447.333090722386,
          62206.9592016607,
          75943.51170675928,
          75873.90262178516,
          141339.6910721584,
          167758.32491742165,
          203180.3430369824,
          196934.84871304224,
          231862.9162206384,
          231862.9162206384,
          231862.9162206384,
          231862.9162206384,
          231862.9162206384,
          333407.3124934443,
          479423.09117824637,
          689386.5003618496,
          991303.4136782163,
          425304.60651849816,
          425304.60651849816,
          328309.76491248846,
          384499.7002275843,
          384499.7002275843,
          384499.7002275843,
          486812.92518084706,
          573048.3576414543,
          609084.6908593508,
          354353.6193198293,
          676467.3870247562,
          624028.7792976747,
          624028.7792976747,
          638886.6073761907,
          681968.8720659598,
          681968.8720659598,
          681968.8720659598,
          877700.1193356463,
          877700.1193356463,
          877700.1193356463,
          924419.948255093,
          1004440.2644886072,
          1004440.2644886072,
          1205328.3173863285,
          1187361.1510599516,
          1131745.2257905952,
          1131745.2257905952,
          1114874.922141747,
          1114874.922141747,
          1114874.922141747,
          1112266.417410484,
          1114756.3474994989,
          1117251.8515694872,
          1208419.1196521635,
          1229316.7121838133,
          1298158.448066107,
          970844.9932118319,
          1009340.5255622148,
          1082919.9360409393,
          1140080.5689628401,
          1140080.5689628401,
          1224311.2873773684,
          1224311.2873773684,
          1313477.736955242,
          1271231.3769946934,
          1271231.3769946934,
          1271231.3769946934,
          1209861.5863811565,
          1326474.7513335568,
          1658611.5933666858,
          1525630.946391735,
          1586921.2232826082,
          1650673.7588542223,
          1650673.7588542223,
          723628.6983259923,
          1025252.1206411703,
          1023721.8935954373,
          1117225.6823701616,
          1582431.1304390486,
          1582431.1304390486,
          1097104.756725328,
          1097104.756725328,
          1642599.6300282658,
          2459321.7083685496,
          3682128.7151688463,
          5512931.402563455,
          6947115.71110109,
          6008316.290682023,
          5196381.656806075,
          5196381.656806075,
          5878406.749261873,
          5878406.749261873,
          8214367.509885588,
          8214367.509885588,
          8214367.509885588,
          8408464.291770283,
          8929441.75954819,
          7544662.021436438,
          9212228.231367609,
          13965281.194047607,
          19758013.41984807,
          23633623.74451058,
          26113695.37202095,
          9829813.576825649,
          11234072.659229312,
          11234072.659229312,
          13931320.009126179,
          13546713.015009198,
          13894876.199974388,
          13894876.199974388,
          17223029.880253967,
          18531861.166490883,
          18531861.166490883,
          20354667.182867035,
          22664859.47049305,
          22664859.47049305,
          26167610.479569245,
          32703897.732405856,
          37479740.527117655,
          37479740.527117655,
          43272064.06312675,
          43272064.06312675,
          43272064.06312675,
          49959564.8728827,
          49959564.8728827,
          49959564.8728827,
          49959564.8728827,
          40521618.32605476,
          42346916.44885002,
          42346916.44885002,
          43370330.39889481,
          45310821.679866195,
          41843156.75538664,
          59794387.58562967,
          96104312.80067146,
          126096598.33913605,
          126096598.33913605,
          160204857.4393246,
          160204857.4393246,
          143781415.0310713,
          143781415.0310713,
          143781415.0310713,
          143781415.0310713,
          143781415.0310713,
          136974519.15946016,
          183039286.7343022,
          254554636.4692891,
          254554636.4692891,
          245439938.19571134,
          271372226.22279286,
          271372226.22279286,
          223698727.0214914,
          230011843.3857827,
          251437604.13952684,
          251437604.13952684,
          260115204.35762033,
          269092285.418298,
          278379182.9872763,
          287986589.4341759,
          311104778.95297444,
          447743219.21830755,
          432303797.86595213,
          524635349.7558406,
          577098884.7314247,
          832096066.3569379,
          1005216724.4580458,
          1005216724.4580458,
          1349990389.4169302,
          1282490869.9460838,
          1804987150.2944884,
          2540352285.5996504,
          3575310624.1772857,
          5031918656.249514,
          5031918656.249514,
          2823666584.08246,
          3110247670.2281427,
          4103978253.662031,
          5163425825.576579,
          5163425825.576579,
          6543071350.399951,
          6464654867.293528,
          6953544391.632601,
          8265691590.534426,
          8962630173.210178,
          14621777632.135365
         ],
         "yaxis": "y"
        }
       ],
       "layout": {
        "legend": {
         "title": {
          "text": "variable"
         },
         "tracegroupgap": 0
        },
        "margin": {
         "t": 60
        },
        "template": {
         "data": {
          "bar": [
           {
            "error_x": {
             "color": "#2a3f5f"
            },
            "error_y": {
             "color": "#2a3f5f"
            },
            "marker": {
             "line": {
              "color": "#E5ECF6",
              "width": 0.5
             },
             "pattern": {
              "fillmode": "overlay",
              "size": 10,
              "solidity": 0.2
             }
            },
            "type": "bar"
           }
          ],
          "barpolar": [
           {
            "marker": {
             "line": {
              "color": "#E5ECF6",
              "width": 0.5
             },
             "pattern": {
              "fillmode": "overlay",
              "size": 10,
              "solidity": 0.2
             }
            },
            "type": "barpolar"
           }
          ],
          "carpet": [
           {
            "aaxis": {
             "endlinecolor": "#2a3f5f",
             "gridcolor": "white",
             "linecolor": "white",
             "minorgridcolor": "white",
             "startlinecolor": "#2a3f5f"
            },
            "baxis": {
             "endlinecolor": "#2a3f5f",
             "gridcolor": "white",
             "linecolor": "white",
             "minorgridcolor": "white",
             "startlinecolor": "#2a3f5f"
            },
            "type": "carpet"
           }
          ],
          "choropleth": [
           {
            "colorbar": {
             "outlinewidth": 0,
             "ticks": ""
            },
            "type": "choropleth"
           }
          ],
          "contour": [
           {
            "colorbar": {
             "outlinewidth": 0,
             "ticks": ""
            },
            "colorscale": [
             [
              0,
              "#0d0887"
             ],
             [
              0.1111111111111111,
              "#46039f"
             ],
             [
              0.2222222222222222,
              "#7201a8"
             ],
             [
              0.3333333333333333,
              "#9c179e"
             ],
             [
              0.4444444444444444,
              "#bd3786"
             ],
             [
              0.5555555555555556,
              "#d8576b"
             ],
             [
              0.6666666666666666,
              "#ed7953"
             ],
             [
              0.7777777777777778,
              "#fb9f3a"
             ],
             [
              0.8888888888888888,
              "#fdca26"
             ],
             [
              1,
              "#f0f921"
             ]
            ],
            "type": "contour"
           }
          ],
          "contourcarpet": [
           {
            "colorbar": {
             "outlinewidth": 0,
             "ticks": ""
            },
            "type": "contourcarpet"
           }
          ],
          "heatmap": [
           {
            "colorbar": {
             "outlinewidth": 0,
             "ticks": ""
            },
            "colorscale": [
             [
              0,
              "#0d0887"
             ],
             [
              0.1111111111111111,
              "#46039f"
             ],
             [
              0.2222222222222222,
              "#7201a8"
             ],
             [
              0.3333333333333333,
              "#9c179e"
             ],
             [
              0.4444444444444444,
              "#bd3786"
             ],
             [
              0.5555555555555556,
              "#d8576b"
             ],
             [
              0.6666666666666666,
              "#ed7953"
             ],
             [
              0.7777777777777778,
              "#fb9f3a"
             ],
             [
              0.8888888888888888,
              "#fdca26"
             ],
             [
              1,
              "#f0f921"
             ]
            ],
            "type": "heatmap"
           }
          ],
          "heatmapgl": [
           {
            "colorbar": {
             "outlinewidth": 0,
             "ticks": ""
            },
            "colorscale": [
             [
              0,
              "#0d0887"
             ],
             [
              0.1111111111111111,
              "#46039f"
             ],
             [
              0.2222222222222222,
              "#7201a8"
             ],
             [
              0.3333333333333333,
              "#9c179e"
             ],
             [
              0.4444444444444444,
              "#bd3786"
             ],
             [
              0.5555555555555556,
              "#d8576b"
             ],
             [
              0.6666666666666666,
              "#ed7953"
             ],
             [
              0.7777777777777778,
              "#fb9f3a"
             ],
             [
              0.8888888888888888,
              "#fdca26"
             ],
             [
              1,
              "#f0f921"
             ]
            ],
            "type": "heatmapgl"
           }
          ],
          "histogram": [
           {
            "marker": {
             "pattern": {
              "fillmode": "overlay",
              "size": 10,
              "solidity": 0.2
             }
            },
            "type": "histogram"
           }
          ],
          "histogram2d": [
           {
            "colorbar": {
             "outlinewidth": 0,
             "ticks": ""
            },
            "colorscale": [
             [
              0,
              "#0d0887"
             ],
             [
              0.1111111111111111,
              "#46039f"
             ],
             [
              0.2222222222222222,
              "#7201a8"
             ],
             [
              0.3333333333333333,
              "#9c179e"
             ],
             [
              0.4444444444444444,
              "#bd3786"
             ],
             [
              0.5555555555555556,
              "#d8576b"
             ],
             [
              0.6666666666666666,
              "#ed7953"
             ],
             [
              0.7777777777777778,
              "#fb9f3a"
             ],
             [
              0.8888888888888888,
              "#fdca26"
             ],
             [
              1,
              "#f0f921"
             ]
            ],
            "type": "histogram2d"
           }
          ],
          "histogram2dcontour": [
           {
            "colorbar": {
             "outlinewidth": 0,
             "ticks": ""
            },
            "colorscale": [
             [
              0,
              "#0d0887"
             ],
             [
              0.1111111111111111,
              "#46039f"
             ],
             [
              0.2222222222222222,
              "#7201a8"
             ],
             [
              0.3333333333333333,
              "#9c179e"
             ],
             [
              0.4444444444444444,
              "#bd3786"
             ],
             [
              0.5555555555555556,
              "#d8576b"
             ],
             [
              0.6666666666666666,
              "#ed7953"
             ],
             [
              0.7777777777777778,
              "#fb9f3a"
             ],
             [
              0.8888888888888888,
              "#fdca26"
             ],
             [
              1,
              "#f0f921"
             ]
            ],
            "type": "histogram2dcontour"
           }
          ],
          "mesh3d": [
           {
            "colorbar": {
             "outlinewidth": 0,
             "ticks": ""
            },
            "type": "mesh3d"
           }
          ],
          "parcoords": [
           {
            "line": {
             "colorbar": {
              "outlinewidth": 0,
              "ticks": ""
             }
            },
            "type": "parcoords"
           }
          ],
          "pie": [
           {
            "automargin": true,
            "type": "pie"
           }
          ],
          "scatter": [
           {
            "fillpattern": {
             "fillmode": "overlay",
             "size": 10,
             "solidity": 0.2
            },
            "type": "scatter"
           }
          ],
          "scatter3d": [
           {
            "line": {
             "colorbar": {
              "outlinewidth": 0,
              "ticks": ""
             }
            },
            "marker": {
             "colorbar": {
              "outlinewidth": 0,
              "ticks": ""
             }
            },
            "type": "scatter3d"
           }
          ],
          "scattercarpet": [
           {
            "marker": {
             "colorbar": {
              "outlinewidth": 0,
              "ticks": ""
             }
            },
            "type": "scattercarpet"
           }
          ],
          "scattergeo": [
           {
            "marker": {
             "colorbar": {
              "outlinewidth": 0,
              "ticks": ""
             }
            },
            "type": "scattergeo"
           }
          ],
          "scattergl": [
           {
            "marker": {
             "colorbar": {
              "outlinewidth": 0,
              "ticks": ""
             }
            },
            "type": "scattergl"
           }
          ],
          "scattermapbox": [
           {
            "marker": {
             "colorbar": {
              "outlinewidth": 0,
              "ticks": ""
             }
            },
            "type": "scattermapbox"
           }
          ],
          "scatterpolar": [
           {
            "marker": {
             "colorbar": {
              "outlinewidth": 0,
              "ticks": ""
             }
            },
            "type": "scatterpolar"
           }
          ],
          "scatterpolargl": [
           {
            "marker": {
             "colorbar": {
              "outlinewidth": 0,
              "ticks": ""
             }
            },
            "type": "scatterpolargl"
           }
          ],
          "scatterternary": [
           {
            "marker": {
             "colorbar": {
              "outlinewidth": 0,
              "ticks": ""
             }
            },
            "type": "scatterternary"
           }
          ],
          "surface": [
           {
            "colorbar": {
             "outlinewidth": 0,
             "ticks": ""
            },
            "colorscale": [
             [
              0,
              "#0d0887"
             ],
             [
              0.1111111111111111,
              "#46039f"
             ],
             [
              0.2222222222222222,
              "#7201a8"
             ],
             [
              0.3333333333333333,
              "#9c179e"
             ],
             [
              0.4444444444444444,
              "#bd3786"
             ],
             [
              0.5555555555555556,
              "#d8576b"
             ],
             [
              0.6666666666666666,
              "#ed7953"
             ],
             [
              0.7777777777777778,
              "#fb9f3a"
             ],
             [
              0.8888888888888888,
              "#fdca26"
             ],
             [
              1,
              "#f0f921"
             ]
            ],
            "type": "surface"
           }
          ],
          "table": [
           {
            "cells": {
             "fill": {
              "color": "#EBF0F8"
             },
             "line": {
              "color": "white"
             }
            },
            "header": {
             "fill": {
              "color": "#C8D4E3"
             },
             "line": {
              "color": "white"
             }
            },
            "type": "table"
           }
          ]
         },
         "layout": {
          "annotationdefaults": {
           "arrowcolor": "#2a3f5f",
           "arrowhead": 0,
           "arrowwidth": 1
          },
          "autotypenumbers": "strict",
          "coloraxis": {
           "colorbar": {
            "outlinewidth": 0,
            "ticks": ""
           }
          },
          "colorscale": {
           "diverging": [
            [
             0,
             "#8e0152"
            ],
            [
             0.1,
             "#c51b7d"
            ],
            [
             0.2,
             "#de77ae"
            ],
            [
             0.3,
             "#f1b6da"
            ],
            [
             0.4,
             "#fde0ef"
            ],
            [
             0.5,
             "#f7f7f7"
            ],
            [
             0.6,
             "#e6f5d0"
            ],
            [
             0.7,
             "#b8e186"
            ],
            [
             0.8,
             "#7fbc41"
            ],
            [
             0.9,
             "#4d9221"
            ],
            [
             1,
             "#276419"
            ]
           ],
           "sequential": [
            [
             0,
             "#0d0887"
            ],
            [
             0.1111111111111111,
             "#46039f"
            ],
            [
             0.2222222222222222,
             "#7201a8"
            ],
            [
             0.3333333333333333,
             "#9c179e"
            ],
            [
             0.4444444444444444,
             "#bd3786"
            ],
            [
             0.5555555555555556,
             "#d8576b"
            ],
            [
             0.6666666666666666,
             "#ed7953"
            ],
            [
             0.7777777777777778,
             "#fb9f3a"
            ],
            [
             0.8888888888888888,
             "#fdca26"
            ],
            [
             1,
             "#f0f921"
            ]
           ],
           "sequentialminus": [
            [
             0,
             "#0d0887"
            ],
            [
             0.1111111111111111,
             "#46039f"
            ],
            [
             0.2222222222222222,
             "#7201a8"
            ],
            [
             0.3333333333333333,
             "#9c179e"
            ],
            [
             0.4444444444444444,
             "#bd3786"
            ],
            [
             0.5555555555555556,
             "#d8576b"
            ],
            [
             0.6666666666666666,
             "#ed7953"
            ],
            [
             0.7777777777777778,
             "#fb9f3a"
            ],
            [
             0.8888888888888888,
             "#fdca26"
            ],
            [
             1,
             "#f0f921"
            ]
           ]
          },
          "colorway": [
           "#636efa",
           "#EF553B",
           "#00cc96",
           "#ab63fa",
           "#FFA15A",
           "#19d3f3",
           "#FF6692",
           "#B6E880",
           "#FF97FF",
           "#FECB52"
          ],
          "font": {
           "color": "#2a3f5f"
          },
          "geo": {
           "bgcolor": "white",
           "lakecolor": "white",
           "landcolor": "#E5ECF6",
           "showlakes": true,
           "showland": true,
           "subunitcolor": "white"
          },
          "hoverlabel": {
           "align": "left"
          },
          "hovermode": "closest",
          "mapbox": {
           "style": "light"
          },
          "paper_bgcolor": "white",
          "plot_bgcolor": "#E5ECF6",
          "polar": {
           "angularaxis": {
            "gridcolor": "white",
            "linecolor": "white",
            "ticks": ""
           },
           "bgcolor": "#E5ECF6",
           "radialaxis": {
            "gridcolor": "white",
            "linecolor": "white",
            "ticks": ""
           }
          },
          "scene": {
           "xaxis": {
            "backgroundcolor": "#E5ECF6",
            "gridcolor": "white",
            "gridwidth": 2,
            "linecolor": "white",
            "showbackground": true,
            "ticks": "",
            "zerolinecolor": "white"
           },
           "yaxis": {
            "backgroundcolor": "#E5ECF6",
            "gridcolor": "white",
            "gridwidth": 2,
            "linecolor": "white",
            "showbackground": true,
            "ticks": "",
            "zerolinecolor": "white"
           },
           "zaxis": {
            "backgroundcolor": "#E5ECF6",
            "gridcolor": "white",
            "gridwidth": 2,
            "linecolor": "white",
            "showbackground": true,
            "ticks": "",
            "zerolinecolor": "white"
           }
          },
          "shapedefaults": {
           "line": {
            "color": "#2a3f5f"
           }
          },
          "ternary": {
           "aaxis": {
            "gridcolor": "white",
            "linecolor": "white",
            "ticks": ""
           },
           "baxis": {
            "gridcolor": "white",
            "linecolor": "white",
            "ticks": ""
           },
           "bgcolor": "#E5ECF6",
           "caxis": {
            "gridcolor": "white",
            "linecolor": "white",
            "ticks": ""
           }
          },
          "title": {
           "x": 0.05
          },
          "xaxis": {
           "automargin": true,
           "gridcolor": "white",
           "linecolor": "white",
           "ticks": "",
           "title": {
            "standoff": 15
           },
           "zerolinecolor": "white",
           "zerolinewidth": 2
          },
          "yaxis": {
           "automargin": true,
           "gridcolor": "white",
           "linecolor": "white",
           "ticks": "",
           "title": {
            "standoff": 15
           },
           "zerolinecolor": "white",
           "zerolinewidth": 2
          }
         }
        },
        "xaxis": {
         "anchor": "y",
         "domain": [
          0,
          1
         ],
         "title": {
          "text": "index"
         }
        },
        "yaxis": {
         "anchor": "x",
         "domain": [
          0,
          1
         ],
         "title": {
          "text": "value"
         }
        }
       }
      },
      "text/html": [
       "<div>                            <div id=\"4a6ce9ab-b03f-42a3-b830-298fff02f92f\" class=\"plotly-graph-div\" style=\"height:525px; width:100%;\"></div>            <script type=\"text/javascript\">                require([\"plotly\"], function(Plotly) {                    window.PLOTLYENV=window.PLOTLYENV || {};                                    if (document.getElementById(\"4a6ce9ab-b03f-42a3-b830-298fff02f92f\")) {                    Plotly.newPlot(                        \"4a6ce9ab-b03f-42a3-b830-298fff02f92f\",                        [{\"hovertemplate\":\"variable=0\\u003cbr\\u003eindex=%{x}\\u003cbr\\u003evalue=%{y}\\u003cextra\\u003e\\u003c\\u002fextra\\u003e\",\"legendgroup\":\"0\",\"line\":{\"color\":\"#636efa\",\"dash\":\"solid\"},\"marker\":{\"symbol\":\"circle\"},\"mode\":\"lines\",\"name\":\"0\",\"orientation\":\"v\",\"showlegend\":true,\"x\":[0,1,2,3,4,5,6,7,8,9,10,11,12,13,14,15,16,17,18,19,20,21,22,23,24,25,26,27,28,29,30,31,32,33,34,35,36,37,38,39,40,41,42,43,44,45,46,47,48,49,50,51,52,53,54,55,56,57,58,59,60,61,62,63,64,65,66,67,68,69,70,71,72,73,74,75,76,77,78,79,80,81,82,83,84,85,86,87,88,89,90,91,92,93,94,95,96,97,98,99,100,101,102,103,104,105,106,107,108,109,110,111,112,113,114,115,116,117,118,119,120,121,122,123,124,125,126,127,128,129,130,131,132,133,134,135,136,137,138,139,140,141,142,143,144,145,146,147,148,149,150,151,152,153,154,155,156,157,158,159,160,161,162,163,164,165,166,167,168,169,170,171,172,173,174,175,176,177,178,179,180,181,182,183,184,185,186,187,188,189,190,191,192,193,194,195,196,197,198,199,200,201,202,203,204,205,206,207,208,209,210,211,212,213,214,215,216,217,218,219,220,221,222,223,224,225,226,227,228,229,230,231,232,233,234,235,236,237,238,239,240,241,242,243,244,245,246,247,248,249,250,251,252,253,254,255,256,257,258,259,260,261,262,263,264,265,266,267,268,269,270,271,272,273,274,275,276,277,278,279,280,281,282,283,284,285,286,287,288,289,290,291,292,293,294,295,296,297,298,299,300,301,302,303,304,305,306,307,308,309,310,311,312,313,314,315,316,317,318,319,320,321,322,323,324,325,326,327,328,329,330,331,332,333,334,335,336,337,338,339,340,341,342,343,344,345,346,347,348,349,350,351,352,353,354,355,356,357,358,359,360,361,362,363,364,365,366,367,368,369,370,371,372,373,374,375,376,377,378,379,380,381,382,383,384,385,386,387,388,389,390,391,392,393,394,395,396,397,398,399,400,401,402,403,404,405,406,407,408,409,410,411,412,413,414,415,416,417,418,419,420,421,422,423,424,425,426,427,428,429,430,431,432,433,434,435,436,437,438,439,440,441,442,443,444,445,446,447,448,449,450,451,452,453,454,455,456,457,458,459],\"xaxis\":\"x\",\"y\":[1.0,1.0709969788519638,1.0642185169604954,1.0707911480482597,1.0774043718138693,1.084058438958371,0.9756912976130144,0.9817171831361006,0.9877802846274198,0.993880831933405,1.0000190563200242,1.0061951904815478,1.1438984269719004,1.1081516011290284,1.1149955636681683,1.8073750263356494,1.797947466742881,1.7885690828212266,2.131763150373639,2.219990484337649,2.7981767653061818,2.518458987981751,2.2667030020356997,2.040113626609068,2.029472064946091,2.029472064946091,2.0188860113847946,1.817069487576247,1.6354274109888323,1.8881752835961974,1.6994251659928648,1.6994251659928648,1.6994251659928648,1.9620636007372165,2.265291611760241,2.6153821335777327,2.6153821335777327,3.019577554221564,3.4862395398739876,4.025022014218149,4.647070870960954,5.365254551018556,6.006641717459106,5.356758444925743,6.770435525657624,6.770435525657624,12.47372709805923,6.746822628132619,7.620624225684695,8.607594535972872,12.067847539433966,13.630791319073674,14.645700290090536,16.54250965000876,15.0675656077877,15.106271280908624,15.273949367780464,16.411203095267737,17.633133418803702,18.946045110793225,29.480699504294627,39.71760458115602,49.35071908171184,49.35071908171184,54.01786239241663,55.09641551504166,29.68610850025732,39.31160428670439,39.31160428670439,44.888366755283386,44.888366755283386,51.25625134149801,44.3452961044421,50.542620094193325,43.37396767395674,41.83362947583989,42.48701982877531,45.76365374873228,49.29298437202783,53.094499876297334,57.1891913834668,58.08241691542106,58.98959354253218,66.99423155997172,68.04059988019809,73.00189362146251,73.00189362146251,73.00189362146251,73.00189362146251,73.00189362146251,73.00189362146251,74.14209430775077,75.3001035403728,75.3001035403728,81.65071468233197,81.65071468233197,81.65071468233197,81.65071468233197,81.65071468233197,81.65071468233197,90.6907633368512,90.6907633368512,89.36158642210592,-7.681201738461899,-7.97944671206815,-6.921929677938637,-7.581161075837554,-7.079672593732999,-7.60155999896497,-7.905622398923569,-6.208783573351892,-6.563969173173481,-7.513170597725528,-7.315455581995909,-8.366816237928196,-8.041440050897654,-7.822198886719287,-7.89964640044918,-9.041997227965116,-10.349540944754189,-11.846165738235799,-12.105950074600619,-11.682555447639198,-11.682555447639198,-11.798224313457407,-11.931286993684372,-13.053031924714526,-13.053031924714526,-13.053031924714526,-13.322272008801326,-13.322272008801326,-13.322272008801326,-13.322272008801326,-13.322272008801326,-13.322272008801326,-13.322272008801326,-13.322272008801326,-13.322272008801326,-13.322272008801326,-13.322272008801326,-13.322272008801326,-13.322272008801326,-13.322272008801326,-13.322272008801326,-19.034141888796356,-19.131365088001328,-24.30200430097466,-34.72138969548863,-49.60804415369284,-70.87729109743817,-101.26564106714599,-144.6828723552994,-206.71506477799088,-295.34330712783793,-295.34330712783793,-421.97054752100297,-537.1949774713876,-537.1949774713876,-683.882904898999,-870.6258383400541,-1108.361307111877,-1326.5621908386,-1587.7198480954157,-1587.7198480954157,-2038.757848646975,-3155.997149705517,-3155.997149705517,-3163.824092209609,-3053.458135504622,-3620.2677295204494,-3620.2677295204494,-4037.2619182610247,-4199.157133028384,-5162.266567209207,-5505.588391919988,-5505.588391919988,-5777.46930016295,-4390.078472038017,-4422.021803146709,-4487.658469965036,-3484.6696676101424,-3609.995506532964,-3578.008204576343,-1791.803795718982,-1896.3652904293733,-1896.3652904293733,-1821.7541970354307,-1821.7541970354307,-1635.1890081824047,-1635.1890081824047,-1635.1890081824047,-1568.7105317848127,-1643.0108896477527,-1519.7850729241713,-1580.0524120228883,-1892.8272922185452,-2663.1639809121393,-2800.1511619270877,-2752.690972741883,-2706.0351935428675,-2660.17019026248,-2615.082559919048,-2835.1442243952547,-3118.579914698585,-3100.342605255903,-4830.3680369180365,-5189.393596574063,-5189.393596574063,-5189.393596574063,-8664.573092177716,-7892.14156992994,-7188.5709656079025,-6547.722448932155,-9634.990546615192,-8776.048007197549,-9643.64210676841,-9643.64210676841,-9643.64210676841,-9643.64210676841,-11078.97488545022,-12557.21771010944,-12656.746516266185,-16108.586475247872,-16108.586475247872,-15685.91662719512,-15685.91662719512,-15673.565511740633,-15673.565511740633,-15673.565511740633,-21907.2505207696,-21907.2505207696,-21907.2505207696,-21907.2505207696,-30653.491222978,-31310.35174918467,8323.004895352882,9364.988506672176,9777.80613144647,10657.808683276651,11992.093850734778,13493.422447194618,15182.707173968594,17083.47886035415,19222.21423545258,21628.704734790535,24336.471479022424,27383.23220514424,30811.426654319945,34668.80773469075,40770.51789599632,43847.538114562085,49336.95169613786,50331.884292619885,50331.884292619885,50331.884292619885,50331.884292619885,50331.884292619885,50331.884292619885,50331.884292619885,50331.884292619885,51346.88077301673,51346.88077301673,51346.88077301673,51346.88077301673,51346.88077301673,43668.842526584325,40739.685956886104,38007.00718951532,42438.919688646085,42438.919688646085,42438.919688646085,40894.452703550545,40894.452703550545,44216.84826125448,53664.89276152253,55331.328905169816,55331.328905169816,54292.63830674705,56447.333090722386,62206.9592016607,75943.51170675928,75873.90262178516,141339.6910721584,167758.32491742165,203180.3430369824,196934.84871304224,231862.9162206384,231862.9162206384,231862.9162206384,231862.9162206384,231862.9162206384,333407.3124934443,479423.09117824637,689386.5003618496,991303.4136782163,425304.60651849816,425304.60651849816,328309.76491248846,384499.7002275843,384499.7002275843,384499.7002275843,486812.92518084706,573048.3576414543,609084.6908593508,354353.6193198293,676467.3870247562,624028.7792976747,624028.7792976747,638886.6073761907,681968.8720659598,681968.8720659598,681968.8720659598,877700.1193356463,877700.1193356463,877700.1193356463,924419.948255093,1004440.2644886072,1004440.2644886072,1205328.3173863285,1187361.1510599516,1131745.2257905952,1131745.2257905952,1114874.922141747,1114874.922141747,1114874.922141747,1112266.417410484,1114756.3474994989,1117251.8515694872,1208419.1196521635,1229316.7121838133,1298158.448066107,970844.9932118319,1009340.5255622148,1082919.9360409393,1140080.5689628401,1140080.5689628401,1224311.2873773684,1224311.2873773684,1313477.736955242,1271231.3769946934,1271231.3769946934,1271231.3769946934,1209861.5863811565,1326474.7513335568,1658611.5933666858,1525630.946391735,1586921.2232826082,1650673.7588542223,1650673.7588542223,723628.6983259923,1025252.1206411703,1023721.8935954373,1117225.6823701616,1582431.1304390486,1582431.1304390486,1097104.756725328,1097104.756725328,1642599.6300282658,2459321.7083685496,3682128.7151688463,5512931.402563455,6947115.71110109,6008316.290682023,5196381.656806075,5196381.656806075,5878406.749261873,5878406.749261873,8214367.509885588,8214367.509885588,8214367.509885588,8408464.291770283,8929441.75954819,7544662.021436438,9212228.231367609,13965281.194047607,19758013.41984807,23633623.74451058,26113695.37202095,9829813.576825649,11234072.659229312,11234072.659229312,13931320.009126179,13546713.015009198,13894876.199974388,13894876.199974388,17223029.880253967,18531861.166490883,18531861.166490883,20354667.182867035,22664859.47049305,22664859.47049305,26167610.479569245,32703897.732405856,37479740.527117655,37479740.527117655,43272064.06312675,43272064.06312675,43272064.06312675,49959564.8728827,49959564.8728827,49959564.8728827,49959564.8728827,40521618.32605476,42346916.44885002,42346916.44885002,43370330.39889481,45310821.679866195,41843156.75538664,59794387.58562967,96104312.80067146,126096598.33913605,126096598.33913605,160204857.4393246,160204857.4393246,143781415.0310713,143781415.0310713,143781415.0310713,143781415.0310713,143781415.0310713,136974519.15946016,183039286.7343022,254554636.4692891,254554636.4692891,245439938.19571134,271372226.22279286,271372226.22279286,223698727.0214914,230011843.3857827,251437604.13952684,251437604.13952684,260115204.35762033,269092285.418298,278379182.9872763,287986589.4341759,311104778.95297444,447743219.21830755,432303797.86595213,524635349.7558406,577098884.7314247,832096066.3569379,1005216724.4580458,1005216724.4580458,1349990389.4169302,1282490869.9460838,1804987150.2944884,2540352285.5996504,3575310624.1772857,5031918656.249514,5031918656.249514,2823666584.08246,3110247670.2281427,4103978253.662031,5163425825.576579,5163425825.576579,6543071350.399951,6464654867.293528,6953544391.632601,8265691590.534426,8962630173.210178,14621777632.135365],\"yaxis\":\"y\",\"type\":\"scatter\"}],                        {\"template\":{\"data\":{\"histogram2dcontour\":[{\"type\":\"histogram2dcontour\",\"colorbar\":{\"outlinewidth\":0,\"ticks\":\"\"},\"colorscale\":[[0.0,\"#0d0887\"],[0.1111111111111111,\"#46039f\"],[0.2222222222222222,\"#7201a8\"],[0.3333333333333333,\"#9c179e\"],[0.4444444444444444,\"#bd3786\"],[0.5555555555555556,\"#d8576b\"],[0.6666666666666666,\"#ed7953\"],[0.7777777777777778,\"#fb9f3a\"],[0.8888888888888888,\"#fdca26\"],[1.0,\"#f0f921\"]]}],\"choropleth\":[{\"type\":\"choropleth\",\"colorbar\":{\"outlinewidth\":0,\"ticks\":\"\"}}],\"histogram2d\":[{\"type\":\"histogram2d\",\"colorbar\":{\"outlinewidth\":0,\"ticks\":\"\"},\"colorscale\":[[0.0,\"#0d0887\"],[0.1111111111111111,\"#46039f\"],[0.2222222222222222,\"#7201a8\"],[0.3333333333333333,\"#9c179e\"],[0.4444444444444444,\"#bd3786\"],[0.5555555555555556,\"#d8576b\"],[0.6666666666666666,\"#ed7953\"],[0.7777777777777778,\"#fb9f3a\"],[0.8888888888888888,\"#fdca26\"],[1.0,\"#f0f921\"]]}],\"heatmap\":[{\"type\":\"heatmap\",\"colorbar\":{\"outlinewidth\":0,\"ticks\":\"\"},\"colorscale\":[[0.0,\"#0d0887\"],[0.1111111111111111,\"#46039f\"],[0.2222222222222222,\"#7201a8\"],[0.3333333333333333,\"#9c179e\"],[0.4444444444444444,\"#bd3786\"],[0.5555555555555556,\"#d8576b\"],[0.6666666666666666,\"#ed7953\"],[0.7777777777777778,\"#fb9f3a\"],[0.8888888888888888,\"#fdca26\"],[1.0,\"#f0f921\"]]}],\"heatmapgl\":[{\"type\":\"heatmapgl\",\"colorbar\":{\"outlinewidth\":0,\"ticks\":\"\"},\"colorscale\":[[0.0,\"#0d0887\"],[0.1111111111111111,\"#46039f\"],[0.2222222222222222,\"#7201a8\"],[0.3333333333333333,\"#9c179e\"],[0.4444444444444444,\"#bd3786\"],[0.5555555555555556,\"#d8576b\"],[0.6666666666666666,\"#ed7953\"],[0.7777777777777778,\"#fb9f3a\"],[0.8888888888888888,\"#fdca26\"],[1.0,\"#f0f921\"]]}],\"contourcarpet\":[{\"type\":\"contourcarpet\",\"colorbar\":{\"outlinewidth\":0,\"ticks\":\"\"}}],\"contour\":[{\"type\":\"contour\",\"colorbar\":{\"outlinewidth\":0,\"ticks\":\"\"},\"colorscale\":[[0.0,\"#0d0887\"],[0.1111111111111111,\"#46039f\"],[0.2222222222222222,\"#7201a8\"],[0.3333333333333333,\"#9c179e\"],[0.4444444444444444,\"#bd3786\"],[0.5555555555555556,\"#d8576b\"],[0.6666666666666666,\"#ed7953\"],[0.7777777777777778,\"#fb9f3a\"],[0.8888888888888888,\"#fdca26\"],[1.0,\"#f0f921\"]]}],\"surface\":[{\"type\":\"surface\",\"colorbar\":{\"outlinewidth\":0,\"ticks\":\"\"},\"colorscale\":[[0.0,\"#0d0887\"],[0.1111111111111111,\"#46039f\"],[0.2222222222222222,\"#7201a8\"],[0.3333333333333333,\"#9c179e\"],[0.4444444444444444,\"#bd3786\"],[0.5555555555555556,\"#d8576b\"],[0.6666666666666666,\"#ed7953\"],[0.7777777777777778,\"#fb9f3a\"],[0.8888888888888888,\"#fdca26\"],[1.0,\"#f0f921\"]]}],\"mesh3d\":[{\"type\":\"mesh3d\",\"colorbar\":{\"outlinewidth\":0,\"ticks\":\"\"}}],\"scatter\":[{\"fillpattern\":{\"fillmode\":\"overlay\",\"size\":10,\"solidity\":0.2},\"type\":\"scatter\"}],\"parcoords\":[{\"type\":\"parcoords\",\"line\":{\"colorbar\":{\"outlinewidth\":0,\"ticks\":\"\"}}}],\"scatterpolargl\":[{\"type\":\"scatterpolargl\",\"marker\":{\"colorbar\":{\"outlinewidth\":0,\"ticks\":\"\"}}}],\"bar\":[{\"error_x\":{\"color\":\"#2a3f5f\"},\"error_y\":{\"color\":\"#2a3f5f\"},\"marker\":{\"line\":{\"color\":\"#E5ECF6\",\"width\":0.5},\"pattern\":{\"fillmode\":\"overlay\",\"size\":10,\"solidity\":0.2}},\"type\":\"bar\"}],\"scattergeo\":[{\"type\":\"scattergeo\",\"marker\":{\"colorbar\":{\"outlinewidth\":0,\"ticks\":\"\"}}}],\"scatterpolar\":[{\"type\":\"scatterpolar\",\"marker\":{\"colorbar\":{\"outlinewidth\":0,\"ticks\":\"\"}}}],\"histogram\":[{\"marker\":{\"pattern\":{\"fillmode\":\"overlay\",\"size\":10,\"solidity\":0.2}},\"type\":\"histogram\"}],\"scattergl\":[{\"type\":\"scattergl\",\"marker\":{\"colorbar\":{\"outlinewidth\":0,\"ticks\":\"\"}}}],\"scatter3d\":[{\"type\":\"scatter3d\",\"line\":{\"colorbar\":{\"outlinewidth\":0,\"ticks\":\"\"}},\"marker\":{\"colorbar\":{\"outlinewidth\":0,\"ticks\":\"\"}}}],\"scattermapbox\":[{\"type\":\"scattermapbox\",\"marker\":{\"colorbar\":{\"outlinewidth\":0,\"ticks\":\"\"}}}],\"scatterternary\":[{\"type\":\"scatterternary\",\"marker\":{\"colorbar\":{\"outlinewidth\":0,\"ticks\":\"\"}}}],\"scattercarpet\":[{\"type\":\"scattercarpet\",\"marker\":{\"colorbar\":{\"outlinewidth\":0,\"ticks\":\"\"}}}],\"carpet\":[{\"aaxis\":{\"endlinecolor\":\"#2a3f5f\",\"gridcolor\":\"white\",\"linecolor\":\"white\",\"minorgridcolor\":\"white\",\"startlinecolor\":\"#2a3f5f\"},\"baxis\":{\"endlinecolor\":\"#2a3f5f\",\"gridcolor\":\"white\",\"linecolor\":\"white\",\"minorgridcolor\":\"white\",\"startlinecolor\":\"#2a3f5f\"},\"type\":\"carpet\"}],\"table\":[{\"cells\":{\"fill\":{\"color\":\"#EBF0F8\"},\"line\":{\"color\":\"white\"}},\"header\":{\"fill\":{\"color\":\"#C8D4E3\"},\"line\":{\"color\":\"white\"}},\"type\":\"table\"}],\"barpolar\":[{\"marker\":{\"line\":{\"color\":\"#E5ECF6\",\"width\":0.5},\"pattern\":{\"fillmode\":\"overlay\",\"size\":10,\"solidity\":0.2}},\"type\":\"barpolar\"}],\"pie\":[{\"automargin\":true,\"type\":\"pie\"}]},\"layout\":{\"autotypenumbers\":\"strict\",\"colorway\":[\"#636efa\",\"#EF553B\",\"#00cc96\",\"#ab63fa\",\"#FFA15A\",\"#19d3f3\",\"#FF6692\",\"#B6E880\",\"#FF97FF\",\"#FECB52\"],\"font\":{\"color\":\"#2a3f5f\"},\"hovermode\":\"closest\",\"hoverlabel\":{\"align\":\"left\"},\"paper_bgcolor\":\"white\",\"plot_bgcolor\":\"#E5ECF6\",\"polar\":{\"bgcolor\":\"#E5ECF6\",\"angularaxis\":{\"gridcolor\":\"white\",\"linecolor\":\"white\",\"ticks\":\"\"},\"radialaxis\":{\"gridcolor\":\"white\",\"linecolor\":\"white\",\"ticks\":\"\"}},\"ternary\":{\"bgcolor\":\"#E5ECF6\",\"aaxis\":{\"gridcolor\":\"white\",\"linecolor\":\"white\",\"ticks\":\"\"},\"baxis\":{\"gridcolor\":\"white\",\"linecolor\":\"white\",\"ticks\":\"\"},\"caxis\":{\"gridcolor\":\"white\",\"linecolor\":\"white\",\"ticks\":\"\"}},\"coloraxis\":{\"colorbar\":{\"outlinewidth\":0,\"ticks\":\"\"}},\"colorscale\":{\"sequential\":[[0.0,\"#0d0887\"],[0.1111111111111111,\"#46039f\"],[0.2222222222222222,\"#7201a8\"],[0.3333333333333333,\"#9c179e\"],[0.4444444444444444,\"#bd3786\"],[0.5555555555555556,\"#d8576b\"],[0.6666666666666666,\"#ed7953\"],[0.7777777777777778,\"#fb9f3a\"],[0.8888888888888888,\"#fdca26\"],[1.0,\"#f0f921\"]],\"sequentialminus\":[[0.0,\"#0d0887\"],[0.1111111111111111,\"#46039f\"],[0.2222222222222222,\"#7201a8\"],[0.3333333333333333,\"#9c179e\"],[0.4444444444444444,\"#bd3786\"],[0.5555555555555556,\"#d8576b\"],[0.6666666666666666,\"#ed7953\"],[0.7777777777777778,\"#fb9f3a\"],[0.8888888888888888,\"#fdca26\"],[1.0,\"#f0f921\"]],\"diverging\":[[0,\"#8e0152\"],[0.1,\"#c51b7d\"],[0.2,\"#de77ae\"],[0.3,\"#f1b6da\"],[0.4,\"#fde0ef\"],[0.5,\"#f7f7f7\"],[0.6,\"#e6f5d0\"],[0.7,\"#b8e186\"],[0.8,\"#7fbc41\"],[0.9,\"#4d9221\"],[1,\"#276419\"]]},\"xaxis\":{\"gridcolor\":\"white\",\"linecolor\":\"white\",\"ticks\":\"\",\"title\":{\"standoff\":15},\"zerolinecolor\":\"white\",\"automargin\":true,\"zerolinewidth\":2},\"yaxis\":{\"gridcolor\":\"white\",\"linecolor\":\"white\",\"ticks\":\"\",\"title\":{\"standoff\":15},\"zerolinecolor\":\"white\",\"automargin\":true,\"zerolinewidth\":2},\"scene\":{\"xaxis\":{\"backgroundcolor\":\"#E5ECF6\",\"gridcolor\":\"white\",\"linecolor\":\"white\",\"showbackground\":true,\"ticks\":\"\",\"zerolinecolor\":\"white\",\"gridwidth\":2},\"yaxis\":{\"backgroundcolor\":\"#E5ECF6\",\"gridcolor\":\"white\",\"linecolor\":\"white\",\"showbackground\":true,\"ticks\":\"\",\"zerolinecolor\":\"white\",\"gridwidth\":2},\"zaxis\":{\"backgroundcolor\":\"#E5ECF6\",\"gridcolor\":\"white\",\"linecolor\":\"white\",\"showbackground\":true,\"ticks\":\"\",\"zerolinecolor\":\"white\",\"gridwidth\":2}},\"shapedefaults\":{\"line\":{\"color\":\"#2a3f5f\"}},\"annotationdefaults\":{\"arrowcolor\":\"#2a3f5f\",\"arrowhead\":0,\"arrowwidth\":1},\"geo\":{\"bgcolor\":\"white\",\"landcolor\":\"#E5ECF6\",\"subunitcolor\":\"white\",\"showland\":true,\"showlakes\":true,\"lakecolor\":\"white\"},\"title\":{\"x\":0.05},\"mapbox\":{\"style\":\"light\"}}},\"xaxis\":{\"anchor\":\"y\",\"domain\":[0.0,1.0],\"title\":{\"text\":\"index\"}},\"yaxis\":{\"anchor\":\"x\",\"domain\":[0.0,1.0],\"title\":{\"text\":\"value\"}},\"legend\":{\"title\":{\"text\":\"variable\"},\"tracegroupgap\":0},\"margin\":{\"t\":60}},                        {\"responsive\": true}                    ).then(function(){\n",
       "                            \n",
       "var gd = document.getElementById('4a6ce9ab-b03f-42a3-b830-298fff02f92f');\n",
       "var x = new MutationObserver(function (mutations, observer) {{\n",
       "        var display = window.getComputedStyle(gd).display;\n",
       "        if (!display || display === 'none') {{\n",
       "            console.log([gd, 'removed!']);\n",
       "            Plotly.purge(gd);\n",
       "            observer.disconnect();\n",
       "        }}\n",
       "}});\n",
       "\n",
       "// Listen for the removal of the full notebook cells\n",
       "var notebookContainer = gd.closest('#notebook-container');\n",
       "if (notebookContainer) {{\n",
       "    x.observe(notebookContainer, {childList: true});\n",
       "}}\n",
       "\n",
       "// Listen for the clearing of the current output cell\n",
       "var outputEl = gd.closest('.output');\n",
       "if (outputEl) {{\n",
       "    x.observe(outputEl, {childList: true});\n",
       "}}\n",
       "\n",
       "                        })                };                });            </script>        </div>"
      ]
     },
     "metadata": {},
     "output_type": "display_data"
    }
   ],
   "source": [
    "px.line(np.array(gb_portfolio))\n"
   ]
  },
  {
   "cell_type": "markdown",
   "metadata": {},
   "source": [
    "## MLP Classifier"
   ]
  },
  {
   "cell_type": "code",
   "execution_count": 270,
   "metadata": {},
   "outputs": [
    {
     "name": "stderr",
     "output_type": "stream",
     "text": [
      "/Users/richi/opt/anaconda3/lib/python3.8/site-packages/sklearn/neural_network/_multilayer_perceptron.py:702: ConvergenceWarning:\n",
      "\n",
      "Stochastic Optimizer: Maximum iterations (200) reached and the optimization hasn't converged yet.\n",
      "\n"
     ]
    }
   ],
   "source": [
    "# Create and fit the Multi Layer Perceptron model\n",
    "model = MLP()\n",
    "model.train(X_train_scaled.iloc[:, :-5], y_train)\n",
    "\n",
    "# Make predictions on the test set\n",
    "y_pred = model.predict(X_test_scaled.iloc[:, :-5])\n",
    "y_prob = model.predict_prob(X_test_scaled.iloc[:, :-5])\n"
   ]
  },
  {
   "cell_type": "code",
   "execution_count": 271,
   "metadata": {},
   "outputs": [
    {
     "name": "stdout",
     "output_type": "stream",
     "text": [
      "Model             MLP\n",
      "AUC          0.598933\n",
      "Accuracy     0.442266\n",
      "Precision    0.417798\n",
      "Recall       0.420959\n",
      "F1 Score       0.4189\n",
      "dtype: object\n"
     ]
    }
   ],
   "source": [
    "print(calculate_metrics(y_test=y_test, y_prob=y_prob, y_pred=y_pred, model_name='MLP'))\n"
   ]
  },
  {
   "cell_type": "code",
   "execution_count": 272,
   "metadata": {},
   "outputs": [
    {
     "name": "stdout",
     "output_type": "stream",
     "text": [
      "Average return of MLP trading strategy with NCAR prediction: 0.9965528102056327\n"
     ]
    }
   ],
   "source": [
    "print(f'Average return of MLP trading strategy with NCAR prediction: {extract_return(y_pred,actual_ret)}')"
   ]
  },
  {
   "cell_type": "code",
   "execution_count": null,
   "metadata": {},
   "outputs": [],
   "source": [
    "mlp_fit_metrics = model.results.calculate_metrics(y_test, y_prob, y_pred, \"MLP Classifier\")\n",
    "model.results.print_confusion_matrix(y_test, y_pred, labels)\n",
    "model.results.plot_roc_curve(y_test, y_prob, \"MLP Classifier\")\n",
    "print(mlp_fit_metrics)\n"
   ]
  },
  {
   "cell_type": "code",
   "execution_count": 100,
   "metadata": {},
   "outputs": [],
   "source": [
    "trading_data['mlp_preds'] = y_pred\n",
    "trading_data['mlp_signal'] = np.where(y_pred > 2, 1, np.where(y_pred < 2, -1, 0))\n",
    "ts = Trading_Strategy()\n",
    "mlp_portfolio = ts.buy_short('mlp_signal', trading_data, stock_df, 20)\n"
   ]
  },
  {
   "cell_type": "code",
   "execution_count": 101,
   "metadata": {},
   "outputs": [
    {
     "data": {
      "application/vnd.plotly.v1+json": {
       "config": {
        "plotlyServerURL": "https://plot.ly"
       },
       "data": [
        {
         "hovertemplate": "variable=0<br>index=%{x}<br>value=%{y}<extra></extra>",
         "legendgroup": "0",
         "line": {
          "color": "#636efa",
          "dash": "solid"
         },
         "marker": {
          "symbol": "circle"
         },
         "mode": "lines",
         "name": "0",
         "orientation": "v",
         "showlegend": true,
         "type": "scatter",
         "x": [
          0,
          1,
          2,
          3,
          4,
          5,
          6,
          7,
          8,
          9,
          10,
          11,
          12,
          13,
          14,
          15,
          16,
          17,
          18,
          19,
          20,
          21,
          22,
          23,
          24,
          25,
          26,
          27,
          28,
          29,
          30,
          31,
          32,
          33,
          34,
          35,
          36,
          37,
          38,
          39,
          40,
          41,
          42,
          43,
          44,
          45,
          46,
          47,
          48,
          49,
          50,
          51,
          52,
          53,
          54,
          55,
          56,
          57,
          58,
          59,
          60,
          61,
          62,
          63,
          64,
          65,
          66,
          67,
          68,
          69,
          70,
          71,
          72,
          73,
          74,
          75,
          76,
          77,
          78,
          79,
          80,
          81,
          82,
          83,
          84,
          85,
          86,
          87,
          88,
          89,
          90,
          91,
          92,
          93,
          94,
          95,
          96,
          97,
          98,
          99,
          100,
          101,
          102,
          103,
          104,
          105,
          106,
          107,
          108,
          109,
          110,
          111,
          112,
          113,
          114,
          115,
          116,
          117,
          118,
          119,
          120,
          121,
          122,
          123,
          124,
          125,
          126,
          127,
          128,
          129,
          130,
          131,
          132,
          133,
          134,
          135,
          136,
          137,
          138,
          139,
          140,
          141,
          142,
          143,
          144,
          145,
          146,
          147,
          148,
          149,
          150,
          151,
          152,
          153,
          154,
          155,
          156,
          157,
          158,
          159,
          160,
          161,
          162,
          163,
          164,
          165,
          166,
          167,
          168,
          169,
          170,
          171,
          172,
          173,
          174,
          175,
          176,
          177,
          178,
          179,
          180,
          181,
          182,
          183,
          184,
          185,
          186,
          187,
          188,
          189,
          190,
          191,
          192,
          193,
          194,
          195,
          196,
          197,
          198,
          199,
          200,
          201,
          202,
          203,
          204,
          205,
          206,
          207,
          208,
          209,
          210,
          211,
          212,
          213,
          214,
          215,
          216,
          217,
          218,
          219,
          220,
          221,
          222,
          223,
          224,
          225,
          226,
          227,
          228,
          229,
          230,
          231,
          232,
          233,
          234,
          235,
          236,
          237,
          238,
          239,
          240,
          241,
          242,
          243,
          244,
          245,
          246,
          247,
          248,
          249,
          250,
          251,
          252,
          253,
          254,
          255,
          256,
          257,
          258,
          259,
          260,
          261,
          262,
          263,
          264,
          265,
          266,
          267,
          268,
          269,
          270,
          271,
          272,
          273,
          274,
          275,
          276,
          277,
          278,
          279,
          280,
          281,
          282,
          283,
          284,
          285,
          286,
          287,
          288,
          289,
          290,
          291,
          292,
          293,
          294,
          295,
          296,
          297,
          298,
          299,
          300,
          301,
          302,
          303,
          304,
          305,
          306,
          307,
          308,
          309,
          310,
          311,
          312,
          313,
          314,
          315,
          316,
          317,
          318,
          319,
          320,
          321,
          322,
          323,
          324,
          325,
          326,
          327,
          328,
          329,
          330,
          331,
          332,
          333,
          334,
          335,
          336,
          337,
          338,
          339,
          340,
          341,
          342,
          343,
          344,
          345,
          346,
          347,
          348,
          349,
          350,
          351,
          352,
          353,
          354,
          355,
          356,
          357,
          358,
          359,
          360,
          361,
          362,
          363,
          364,
          365,
          366,
          367,
          368,
          369,
          370,
          371,
          372,
          373,
          374,
          375,
          376,
          377,
          378,
          379,
          380,
          381,
          382,
          383,
          384,
          385,
          386,
          387,
          388,
          389,
          390,
          391,
          392,
          393,
          394,
          395,
          396,
          397,
          398,
          399,
          400,
          401,
          402,
          403,
          404,
          405,
          406,
          407,
          408,
          409,
          410,
          411,
          412,
          413,
          414,
          415,
          416,
          417,
          418,
          419,
          420,
          421,
          422,
          423,
          424,
          425,
          426,
          427,
          428,
          429,
          430,
          431,
          432,
          433,
          434,
          435,
          436,
          437,
          438,
          439,
          440,
          441,
          442,
          443,
          444,
          445,
          446,
          447,
          448,
          449,
          450,
          451,
          452,
          453,
          454,
          455,
          456,
          457,
          458,
          459,
          460,
          461,
          462,
          463,
          464,
          465,
          466,
          467,
          468,
          469,
          470,
          471,
          472,
          473,
          474,
          475,
          476,
          477,
          478,
          479,
          480,
          481,
          482,
          483,
          484,
          485,
          486,
          487,
          488,
          489,
          490,
          491,
          492,
          493,
          494,
          495,
          496,
          497,
          498,
          499,
          500,
          501,
          502,
          503,
          504,
          505,
          506,
          507,
          508,
          509,
          510,
          511,
          512,
          513,
          514,
          515,
          516,
          517,
          518,
          519,
          520,
          521,
          522,
          523,
          524,
          525,
          526,
          527,
          528,
          529,
          530,
          531,
          532,
          533,
          534,
          535,
          536,
          537,
          538,
          539,
          540,
          541,
          542,
          543,
          544,
          545,
          546,
          547,
          548,
          549,
          550,
          551,
          552,
          553,
          554,
          555,
          556,
          557,
          558,
          559,
          560,
          561,
          562,
          563,
          564,
          565,
          566,
          567,
          568,
          569,
          570,
          571,
          572,
          573,
          574,
          575,
          576,
          577,
          578,
          579,
          580,
          581,
          582,
          583,
          584,
          585,
          586,
          587,
          588,
          589,
          590,
          591
         ],
         "xaxis": "x",
         "y": [
          1,
          1,
          1,
          1,
          1,
          1,
          1,
          1,
          1,
          1,
          1,
          1,
          1,
          1,
          1,
          1,
          1,
          1,
          1,
          1,
          1,
          1,
          1,
          1,
          1,
          1,
          1,
          1,
          1,
          1,
          1,
          1,
          1,
          1,
          1,
          1,
          1,
          1,
          1,
          1,
          1,
          1,
          1,
          1,
          1,
          1,
          1,
          1,
          1,
          1,
          1,
          1,
          1,
          1,
          1,
          1,
          1,
          1,
          1,
          1,
          1,
          1,
          1,
          1,
          1,
          1,
          1,
          1,
          1,
          1,
          1,
          1,
          1,
          1,
          1,
          1,
          1,
          1,
          1,
          1,
          1,
          1,
          1,
          1,
          1,
          1,
          1,
          1,
          1,
          1,
          1,
          1,
          1,
          1,
          1,
          1,
          1,
          1,
          1,
          1,
          1,
          1,
          1,
          1,
          1,
          1,
          1,
          1,
          1,
          1,
          1,
          1,
          1,
          1,
          1,
          1,
          1,
          1,
          1,
          1,
          1,
          1,
          1,
          1,
          1,
          1,
          1,
          1,
          1,
          1,
          1,
          1,
          1,
          1,
          1,
          1,
          1,
          1,
          1,
          1,
          1,
          1,
          1,
          1,
          1,
          1,
          1,
          1,
          1,
          1,
          1,
          1,
          1,
          1,
          1,
          1,
          1,
          1,
          1,
          1,
          1,
          1,
          1,
          1,
          1,
          1,
          1,
          1,
          1,
          1,
          1,
          1,
          1,
          1,
          1,
          1,
          1,
          1,
          1,
          1,
          1,
          1,
          1,
          1,
          1,
          1,
          1,
          1,
          1,
          1,
          1,
          1,
          1,
          1,
          1,
          1,
          1,
          1,
          1,
          1,
          1,
          1,
          1,
          1,
          1,
          1,
          1,
          1,
          1,
          1,
          1,
          1,
          1,
          1,
          1,
          1,
          1,
          1,
          1,
          1,
          1,
          1,
          1,
          1,
          1,
          1,
          1,
          1,
          1,
          1,
          1,
          1,
          1,
          1,
          1,
          1,
          1,
          1,
          1,
          1,
          1,
          1,
          1,
          1,
          1,
          1,
          1,
          1,
          1,
          1,
          1,
          1,
          1,
          1,
          1,
          1,
          1,
          1,
          1,
          1,
          1,
          1,
          1,
          1,
          1,
          1,
          1,
          1,
          1,
          1,
          1,
          1,
          1,
          1,
          1,
          1,
          1,
          1,
          1,
          1,
          1,
          1,
          1,
          1,
          1,
          1,
          1,
          1,
          1,
          1,
          1,
          1,
          1,
          1,
          1,
          1,
          1,
          1,
          1,
          1,
          1,
          1,
          1,
          1,
          1,
          1,
          1,
          1,
          1,
          1,
          1,
          1,
          1,
          1,
          1,
          1,
          1,
          1,
          1,
          1,
          1,
          1,
          1,
          1,
          1,
          1,
          1,
          1,
          1,
          1,
          1,
          1,
          1,
          1,
          1,
          1,
          1,
          1,
          1,
          1,
          1,
          1,
          1,
          1,
          1,
          1,
          1,
          1,
          1,
          1,
          1,
          1,
          1,
          1,
          1,
          1,
          1,
          1,
          1,
          1,
          1,
          1,
          1,
          1,
          1,
          1,
          1,
          1,
          1,
          1,
          1,
          1,
          1,
          1,
          1,
          1,
          1,
          1,
          1,
          1,
          1,
          1,
          1,
          1,
          1,
          1,
          1,
          1,
          1,
          1,
          1,
          1,
          1,
          1,
          1,
          1,
          1,
          1,
          1,
          1,
          1,
          1,
          1,
          1,
          1,
          1,
          1,
          1,
          1,
          1,
          1,
          1,
          1,
          1,
          1,
          1,
          1,
          1,
          1,
          1,
          1,
          1,
          1,
          1,
          1,
          1,
          1,
          1,
          1,
          1,
          1,
          1,
          1,
          1,
          1,
          1,
          1,
          1,
          1,
          1,
          1,
          1,
          1,
          1,
          1,
          1,
          1,
          1,
          1,
          1,
          1,
          1,
          1,
          1,
          1,
          1,
          1,
          1,
          1,
          1,
          1,
          1,
          1,
          1,
          1,
          1,
          1,
          1,
          1,
          1,
          1,
          1,
          1,
          1,
          1,
          1,
          1,
          1,
          1,
          1,
          1,
          1,
          1,
          1,
          1,
          1,
          1,
          1,
          1,
          1,
          1,
          1,
          1,
          1,
          1,
          1,
          1,
          1,
          1,
          1,
          1,
          1,
          1,
          1,
          1,
          1,
          1,
          1,
          1,
          1,
          1,
          1,
          1,
          1,
          1,
          1,
          1,
          1,
          1,
          1,
          1,
          1,
          1,
          1,
          1,
          1,
          1,
          1,
          1,
          1,
          1,
          1,
          1,
          1,
          1,
          1,
          1,
          1,
          1,
          1,
          1,
          1,
          1,
          1,
          1,
          1,
          1,
          1,
          1,
          1,
          1,
          1,
          1,
          1,
          1,
          1,
          1,
          1,
          1,
          1,
          1,
          1,
          1,
          1,
          1,
          1,
          1,
          1,
          1,
          1,
          1,
          1,
          1,
          1,
          1,
          1,
          1,
          1,
          1,
          1,
          1,
          1,
          1,
          1,
          1,
          1,
          1,
          1,
          1,
          1,
          1,
          1
         ],
         "yaxis": "y"
        }
       ],
       "layout": {
        "legend": {
         "title": {
          "text": "variable"
         },
         "tracegroupgap": 0
        },
        "margin": {
         "t": 60
        },
        "template": {
         "data": {
          "bar": [
           {
            "error_x": {
             "color": "#2a3f5f"
            },
            "error_y": {
             "color": "#2a3f5f"
            },
            "marker": {
             "line": {
              "color": "#E5ECF6",
              "width": 0.5
             },
             "pattern": {
              "fillmode": "overlay",
              "size": 10,
              "solidity": 0.2
             }
            },
            "type": "bar"
           }
          ],
          "barpolar": [
           {
            "marker": {
             "line": {
              "color": "#E5ECF6",
              "width": 0.5
             },
             "pattern": {
              "fillmode": "overlay",
              "size": 10,
              "solidity": 0.2
             }
            },
            "type": "barpolar"
           }
          ],
          "carpet": [
           {
            "aaxis": {
             "endlinecolor": "#2a3f5f",
             "gridcolor": "white",
             "linecolor": "white",
             "minorgridcolor": "white",
             "startlinecolor": "#2a3f5f"
            },
            "baxis": {
             "endlinecolor": "#2a3f5f",
             "gridcolor": "white",
             "linecolor": "white",
             "minorgridcolor": "white",
             "startlinecolor": "#2a3f5f"
            },
            "type": "carpet"
           }
          ],
          "choropleth": [
           {
            "colorbar": {
             "outlinewidth": 0,
             "ticks": ""
            },
            "type": "choropleth"
           }
          ],
          "contour": [
           {
            "colorbar": {
             "outlinewidth": 0,
             "ticks": ""
            },
            "colorscale": [
             [
              0,
              "#0d0887"
             ],
             [
              0.1111111111111111,
              "#46039f"
             ],
             [
              0.2222222222222222,
              "#7201a8"
             ],
             [
              0.3333333333333333,
              "#9c179e"
             ],
             [
              0.4444444444444444,
              "#bd3786"
             ],
             [
              0.5555555555555556,
              "#d8576b"
             ],
             [
              0.6666666666666666,
              "#ed7953"
             ],
             [
              0.7777777777777778,
              "#fb9f3a"
             ],
             [
              0.8888888888888888,
              "#fdca26"
             ],
             [
              1,
              "#f0f921"
             ]
            ],
            "type": "contour"
           }
          ],
          "contourcarpet": [
           {
            "colorbar": {
             "outlinewidth": 0,
             "ticks": ""
            },
            "type": "contourcarpet"
           }
          ],
          "heatmap": [
           {
            "colorbar": {
             "outlinewidth": 0,
             "ticks": ""
            },
            "colorscale": [
             [
              0,
              "#0d0887"
             ],
             [
              0.1111111111111111,
              "#46039f"
             ],
             [
              0.2222222222222222,
              "#7201a8"
             ],
             [
              0.3333333333333333,
              "#9c179e"
             ],
             [
              0.4444444444444444,
              "#bd3786"
             ],
             [
              0.5555555555555556,
              "#d8576b"
             ],
             [
              0.6666666666666666,
              "#ed7953"
             ],
             [
              0.7777777777777778,
              "#fb9f3a"
             ],
             [
              0.8888888888888888,
              "#fdca26"
             ],
             [
              1,
              "#f0f921"
             ]
            ],
            "type": "heatmap"
           }
          ],
          "heatmapgl": [
           {
            "colorbar": {
             "outlinewidth": 0,
             "ticks": ""
            },
            "colorscale": [
             [
              0,
              "#0d0887"
             ],
             [
              0.1111111111111111,
              "#46039f"
             ],
             [
              0.2222222222222222,
              "#7201a8"
             ],
             [
              0.3333333333333333,
              "#9c179e"
             ],
             [
              0.4444444444444444,
              "#bd3786"
             ],
             [
              0.5555555555555556,
              "#d8576b"
             ],
             [
              0.6666666666666666,
              "#ed7953"
             ],
             [
              0.7777777777777778,
              "#fb9f3a"
             ],
             [
              0.8888888888888888,
              "#fdca26"
             ],
             [
              1,
              "#f0f921"
             ]
            ],
            "type": "heatmapgl"
           }
          ],
          "histogram": [
           {
            "marker": {
             "pattern": {
              "fillmode": "overlay",
              "size": 10,
              "solidity": 0.2
             }
            },
            "type": "histogram"
           }
          ],
          "histogram2d": [
           {
            "colorbar": {
             "outlinewidth": 0,
             "ticks": ""
            },
            "colorscale": [
             [
              0,
              "#0d0887"
             ],
             [
              0.1111111111111111,
              "#46039f"
             ],
             [
              0.2222222222222222,
              "#7201a8"
             ],
             [
              0.3333333333333333,
              "#9c179e"
             ],
             [
              0.4444444444444444,
              "#bd3786"
             ],
             [
              0.5555555555555556,
              "#d8576b"
             ],
             [
              0.6666666666666666,
              "#ed7953"
             ],
             [
              0.7777777777777778,
              "#fb9f3a"
             ],
             [
              0.8888888888888888,
              "#fdca26"
             ],
             [
              1,
              "#f0f921"
             ]
            ],
            "type": "histogram2d"
           }
          ],
          "histogram2dcontour": [
           {
            "colorbar": {
             "outlinewidth": 0,
             "ticks": ""
            },
            "colorscale": [
             [
              0,
              "#0d0887"
             ],
             [
              0.1111111111111111,
              "#46039f"
             ],
             [
              0.2222222222222222,
              "#7201a8"
             ],
             [
              0.3333333333333333,
              "#9c179e"
             ],
             [
              0.4444444444444444,
              "#bd3786"
             ],
             [
              0.5555555555555556,
              "#d8576b"
             ],
             [
              0.6666666666666666,
              "#ed7953"
             ],
             [
              0.7777777777777778,
              "#fb9f3a"
             ],
             [
              0.8888888888888888,
              "#fdca26"
             ],
             [
              1,
              "#f0f921"
             ]
            ],
            "type": "histogram2dcontour"
           }
          ],
          "mesh3d": [
           {
            "colorbar": {
             "outlinewidth": 0,
             "ticks": ""
            },
            "type": "mesh3d"
           }
          ],
          "parcoords": [
           {
            "line": {
             "colorbar": {
              "outlinewidth": 0,
              "ticks": ""
             }
            },
            "type": "parcoords"
           }
          ],
          "pie": [
           {
            "automargin": true,
            "type": "pie"
           }
          ],
          "scatter": [
           {
            "fillpattern": {
             "fillmode": "overlay",
             "size": 10,
             "solidity": 0.2
            },
            "type": "scatter"
           }
          ],
          "scatter3d": [
           {
            "line": {
             "colorbar": {
              "outlinewidth": 0,
              "ticks": ""
             }
            },
            "marker": {
             "colorbar": {
              "outlinewidth": 0,
              "ticks": ""
             }
            },
            "type": "scatter3d"
           }
          ],
          "scattercarpet": [
           {
            "marker": {
             "colorbar": {
              "outlinewidth": 0,
              "ticks": ""
             }
            },
            "type": "scattercarpet"
           }
          ],
          "scattergeo": [
           {
            "marker": {
             "colorbar": {
              "outlinewidth": 0,
              "ticks": ""
             }
            },
            "type": "scattergeo"
           }
          ],
          "scattergl": [
           {
            "marker": {
             "colorbar": {
              "outlinewidth": 0,
              "ticks": ""
             }
            },
            "type": "scattergl"
           }
          ],
          "scattermapbox": [
           {
            "marker": {
             "colorbar": {
              "outlinewidth": 0,
              "ticks": ""
             }
            },
            "type": "scattermapbox"
           }
          ],
          "scatterpolar": [
           {
            "marker": {
             "colorbar": {
              "outlinewidth": 0,
              "ticks": ""
             }
            },
            "type": "scatterpolar"
           }
          ],
          "scatterpolargl": [
           {
            "marker": {
             "colorbar": {
              "outlinewidth": 0,
              "ticks": ""
             }
            },
            "type": "scatterpolargl"
           }
          ],
          "scatterternary": [
           {
            "marker": {
             "colorbar": {
              "outlinewidth": 0,
              "ticks": ""
             }
            },
            "type": "scatterternary"
           }
          ],
          "surface": [
           {
            "colorbar": {
             "outlinewidth": 0,
             "ticks": ""
            },
            "colorscale": [
             [
              0,
              "#0d0887"
             ],
             [
              0.1111111111111111,
              "#46039f"
             ],
             [
              0.2222222222222222,
              "#7201a8"
             ],
             [
              0.3333333333333333,
              "#9c179e"
             ],
             [
              0.4444444444444444,
              "#bd3786"
             ],
             [
              0.5555555555555556,
              "#d8576b"
             ],
             [
              0.6666666666666666,
              "#ed7953"
             ],
             [
              0.7777777777777778,
              "#fb9f3a"
             ],
             [
              0.8888888888888888,
              "#fdca26"
             ],
             [
              1,
              "#f0f921"
             ]
            ],
            "type": "surface"
           }
          ],
          "table": [
           {
            "cells": {
             "fill": {
              "color": "#EBF0F8"
             },
             "line": {
              "color": "white"
             }
            },
            "header": {
             "fill": {
              "color": "#C8D4E3"
             },
             "line": {
              "color": "white"
             }
            },
            "type": "table"
           }
          ]
         },
         "layout": {
          "annotationdefaults": {
           "arrowcolor": "#2a3f5f",
           "arrowhead": 0,
           "arrowwidth": 1
          },
          "autotypenumbers": "strict",
          "coloraxis": {
           "colorbar": {
            "outlinewidth": 0,
            "ticks": ""
           }
          },
          "colorscale": {
           "diverging": [
            [
             0,
             "#8e0152"
            ],
            [
             0.1,
             "#c51b7d"
            ],
            [
             0.2,
             "#de77ae"
            ],
            [
             0.3,
             "#f1b6da"
            ],
            [
             0.4,
             "#fde0ef"
            ],
            [
             0.5,
             "#f7f7f7"
            ],
            [
             0.6,
             "#e6f5d0"
            ],
            [
             0.7,
             "#b8e186"
            ],
            [
             0.8,
             "#7fbc41"
            ],
            [
             0.9,
             "#4d9221"
            ],
            [
             1,
             "#276419"
            ]
           ],
           "sequential": [
            [
             0,
             "#0d0887"
            ],
            [
             0.1111111111111111,
             "#46039f"
            ],
            [
             0.2222222222222222,
             "#7201a8"
            ],
            [
             0.3333333333333333,
             "#9c179e"
            ],
            [
             0.4444444444444444,
             "#bd3786"
            ],
            [
             0.5555555555555556,
             "#d8576b"
            ],
            [
             0.6666666666666666,
             "#ed7953"
            ],
            [
             0.7777777777777778,
             "#fb9f3a"
            ],
            [
             0.8888888888888888,
             "#fdca26"
            ],
            [
             1,
             "#f0f921"
            ]
           ],
           "sequentialminus": [
            [
             0,
             "#0d0887"
            ],
            [
             0.1111111111111111,
             "#46039f"
            ],
            [
             0.2222222222222222,
             "#7201a8"
            ],
            [
             0.3333333333333333,
             "#9c179e"
            ],
            [
             0.4444444444444444,
             "#bd3786"
            ],
            [
             0.5555555555555556,
             "#d8576b"
            ],
            [
             0.6666666666666666,
             "#ed7953"
            ],
            [
             0.7777777777777778,
             "#fb9f3a"
            ],
            [
             0.8888888888888888,
             "#fdca26"
            ],
            [
             1,
             "#f0f921"
            ]
           ]
          },
          "colorway": [
           "#636efa",
           "#EF553B",
           "#00cc96",
           "#ab63fa",
           "#FFA15A",
           "#19d3f3",
           "#FF6692",
           "#B6E880",
           "#FF97FF",
           "#FECB52"
          ],
          "font": {
           "color": "#2a3f5f"
          },
          "geo": {
           "bgcolor": "white",
           "lakecolor": "white",
           "landcolor": "#E5ECF6",
           "showlakes": true,
           "showland": true,
           "subunitcolor": "white"
          },
          "hoverlabel": {
           "align": "left"
          },
          "hovermode": "closest",
          "mapbox": {
           "style": "light"
          },
          "paper_bgcolor": "white",
          "plot_bgcolor": "#E5ECF6",
          "polar": {
           "angularaxis": {
            "gridcolor": "white",
            "linecolor": "white",
            "ticks": ""
           },
           "bgcolor": "#E5ECF6",
           "radialaxis": {
            "gridcolor": "white",
            "linecolor": "white",
            "ticks": ""
           }
          },
          "scene": {
           "xaxis": {
            "backgroundcolor": "#E5ECF6",
            "gridcolor": "white",
            "gridwidth": 2,
            "linecolor": "white",
            "showbackground": true,
            "ticks": "",
            "zerolinecolor": "white"
           },
           "yaxis": {
            "backgroundcolor": "#E5ECF6",
            "gridcolor": "white",
            "gridwidth": 2,
            "linecolor": "white",
            "showbackground": true,
            "ticks": "",
            "zerolinecolor": "white"
           },
           "zaxis": {
            "backgroundcolor": "#E5ECF6",
            "gridcolor": "white",
            "gridwidth": 2,
            "linecolor": "white",
            "showbackground": true,
            "ticks": "",
            "zerolinecolor": "white"
           }
          },
          "shapedefaults": {
           "line": {
            "color": "#2a3f5f"
           }
          },
          "ternary": {
           "aaxis": {
            "gridcolor": "white",
            "linecolor": "white",
            "ticks": ""
           },
           "baxis": {
            "gridcolor": "white",
            "linecolor": "white",
            "ticks": ""
           },
           "bgcolor": "#E5ECF6",
           "caxis": {
            "gridcolor": "white",
            "linecolor": "white",
            "ticks": ""
           }
          },
          "title": {
           "x": 0.05
          },
          "xaxis": {
           "automargin": true,
           "gridcolor": "white",
           "linecolor": "white",
           "ticks": "",
           "title": {
            "standoff": 15
           },
           "zerolinecolor": "white",
           "zerolinewidth": 2
          },
          "yaxis": {
           "automargin": true,
           "gridcolor": "white",
           "linecolor": "white",
           "ticks": "",
           "title": {
            "standoff": 15
           },
           "zerolinecolor": "white",
           "zerolinewidth": 2
          }
         }
        },
        "xaxis": {
         "anchor": "y",
         "domain": [
          0,
          1
         ],
         "title": {
          "text": "index"
         }
        },
        "yaxis": {
         "anchor": "x",
         "domain": [
          0,
          1
         ],
         "title": {
          "text": "value"
         }
        }
       }
      },
      "text/html": [
       "<div>                            <div id=\"478d0e6a-56c9-4e28-807a-402cf2d9197b\" class=\"plotly-graph-div\" style=\"height:525px; width:100%;\"></div>            <script type=\"text/javascript\">                require([\"plotly\"], function(Plotly) {                    window.PLOTLYENV=window.PLOTLYENV || {};                                    if (document.getElementById(\"478d0e6a-56c9-4e28-807a-402cf2d9197b\")) {                    Plotly.newPlot(                        \"478d0e6a-56c9-4e28-807a-402cf2d9197b\",                        [{\"hovertemplate\":\"variable=0\\u003cbr\\u003eindex=%{x}\\u003cbr\\u003evalue=%{y}\\u003cextra\\u003e\\u003c\\u002fextra\\u003e\",\"legendgroup\":\"0\",\"line\":{\"color\":\"#636efa\",\"dash\":\"solid\"},\"marker\":{\"symbol\":\"circle\"},\"mode\":\"lines\",\"name\":\"0\",\"orientation\":\"v\",\"showlegend\":true,\"x\":[0,1,2,3,4,5,6,7,8,9,10,11,12,13,14,15,16,17,18,19,20,21,22,23,24,25,26,27,28,29,30,31,32,33,34,35,36,37,38,39,40,41,42,43,44,45,46,47,48,49,50,51,52,53,54,55,56,57,58,59,60,61,62,63,64,65,66,67,68,69,70,71,72,73,74,75,76,77,78,79,80,81,82,83,84,85,86,87,88,89,90,91,92,93,94,95,96,97,98,99,100,101,102,103,104,105,106,107,108,109,110,111,112,113,114,115,116,117,118,119,120,121,122,123,124,125,126,127,128,129,130,131,132,133,134,135,136,137,138,139,140,141,142,143,144,145,146,147,148,149,150,151,152,153,154,155,156,157,158,159,160,161,162,163,164,165,166,167,168,169,170,171,172,173,174,175,176,177,178,179,180,181,182,183,184,185,186,187,188,189,190,191,192,193,194,195,196,197,198,199,200,201,202,203,204,205,206,207,208,209,210,211,212,213,214,215,216,217,218,219,220,221,222,223,224,225,226,227,228,229,230,231,232,233,234,235,236,237,238,239,240,241,242,243,244,245,246,247,248,249,250,251,252,253,254,255,256,257,258,259,260,261,262,263,264,265,266,267,268,269,270,271,272,273,274,275,276,277,278,279,280,281,282,283,284,285,286,287,288,289,290,291,292,293,294,295,296,297,298,299,300,301,302,303,304,305,306,307,308,309,310,311,312,313,314,315,316,317,318,319,320,321,322,323,324,325,326,327,328,329,330,331,332,333,334,335,336,337,338,339,340,341,342,343,344,345,346,347,348,349,350,351,352,353,354,355,356,357,358,359,360,361,362,363,364,365,366,367,368,369,370,371,372,373,374,375,376,377,378,379,380,381,382,383,384,385,386,387,388,389,390,391,392,393,394,395,396,397,398,399,400,401,402,403,404,405,406,407,408,409,410,411,412,413,414,415,416,417,418,419,420,421,422,423,424,425,426,427,428,429,430,431,432,433,434,435,436,437,438,439,440,441,442,443,444,445,446,447,448,449,450,451,452,453,454,455,456,457,458,459,460,461,462,463,464,465,466,467,468,469,470,471,472,473,474,475,476,477,478,479,480,481,482,483,484,485,486,487,488,489,490,491,492,493,494,495,496,497,498,499,500,501,502,503,504,505,506,507,508,509,510,511,512,513,514,515,516,517,518,519,520,521,522,523,524,525,526,527,528,529,530,531,532,533,534,535,536,537,538,539,540,541,542,543,544,545,546,547,548,549,550,551,552,553,554,555,556,557,558,559,560,561,562,563,564,565,566,567,568,569,570,571,572,573,574,575,576,577,578,579,580,581,582,583,584,585,586,587,588,589,590,591],\"xaxis\":\"x\",\"y\":[1,1,1,1,1,1,1,1,1,1,1,1,1,1,1,1,1,1,1,1,1,1,1,1,1,1,1,1,1,1,1,1,1,1,1,1,1,1,1,1,1,1,1,1,1,1,1,1,1,1,1,1,1,1,1,1,1,1,1,1,1,1,1,1,1,1,1,1,1,1,1,1,1,1,1,1,1,1,1,1,1,1,1,1,1,1,1,1,1,1,1,1,1,1,1,1,1,1,1,1,1,1,1,1,1,1,1,1,1,1,1,1,1,1,1,1,1,1,1,1,1,1,1,1,1,1,1,1,1,1,1,1,1,1,1,1,1,1,1,1,1,1,1,1,1,1,1,1,1,1,1,1,1,1,1,1,1,1,1,1,1,1,1,1,1,1,1,1,1,1,1,1,1,1,1,1,1,1,1,1,1,1,1,1,1,1,1,1,1,1,1,1,1,1,1,1,1,1,1,1,1,1,1,1,1,1,1,1,1,1,1,1,1,1,1,1,1,1,1,1,1,1,1,1,1,1,1,1,1,1,1,1,1,1,1,1,1,1,1,1,1,1,1,1,1,1,1,1,1,1,1,1,1,1,1,1,1,1,1,1,1,1,1,1,1,1,1,1,1,1,1,1,1,1,1,1,1,1,1,1,1,1,1,1,1,1,1,1,1,1,1,1,1,1,1,1,1,1,1,1,1,1,1,1,1,1,1,1,1,1,1,1,1,1,1,1,1,1,1,1,1,1,1,1,1,1,1,1,1,1,1,1,1,1,1,1,1,1,1,1,1,1,1,1,1,1,1,1,1,1,1,1,1,1,1,1,1,1,1,1,1,1,1,1,1,1,1,1,1,1,1,1,1,1,1,1,1,1,1,1,1,1,1,1,1,1,1,1,1,1,1,1,1,1,1,1,1,1,1,1,1,1,1,1,1,1,1,1,1,1,1,1,1,1,1,1,1,1,1,1,1,1,1,1,1,1,1,1,1,1,1,1,1,1,1,1,1,1,1,1,1,1,1,1,1,1,1,1,1,1,1,1,1,1,1,1,1,1,1,1,1,1,1,1,1,1,1,1,1,1,1,1,1,1,1,1,1,1,1,1,1,1,1,1,1,1,1,1,1,1,1,1,1,1,1,1,1,1,1,1,1,1,1,1,1,1,1,1,1,1,1,1,1,1,1,1,1,1,1,1,1,1,1,1,1,1,1,1,1,1,1,1,1,1,1,1,1,1,1,1,1,1,1,1,1,1,1,1,1,1,1,1,1,1,1,1,1,1,1,1,1,1,1,1,1,1,1,1,1,1,1,1,1,1,1,1,1,1,1,1,1,1,1,1,1,1,1,1,1,1,1,1],\"yaxis\":\"y\",\"type\":\"scatter\"}],                        {\"template\":{\"data\":{\"histogram2dcontour\":[{\"type\":\"histogram2dcontour\",\"colorbar\":{\"outlinewidth\":0,\"ticks\":\"\"},\"colorscale\":[[0.0,\"#0d0887\"],[0.1111111111111111,\"#46039f\"],[0.2222222222222222,\"#7201a8\"],[0.3333333333333333,\"#9c179e\"],[0.4444444444444444,\"#bd3786\"],[0.5555555555555556,\"#d8576b\"],[0.6666666666666666,\"#ed7953\"],[0.7777777777777778,\"#fb9f3a\"],[0.8888888888888888,\"#fdca26\"],[1.0,\"#f0f921\"]]}],\"choropleth\":[{\"type\":\"choropleth\",\"colorbar\":{\"outlinewidth\":0,\"ticks\":\"\"}}],\"histogram2d\":[{\"type\":\"histogram2d\",\"colorbar\":{\"outlinewidth\":0,\"ticks\":\"\"},\"colorscale\":[[0.0,\"#0d0887\"],[0.1111111111111111,\"#46039f\"],[0.2222222222222222,\"#7201a8\"],[0.3333333333333333,\"#9c179e\"],[0.4444444444444444,\"#bd3786\"],[0.5555555555555556,\"#d8576b\"],[0.6666666666666666,\"#ed7953\"],[0.7777777777777778,\"#fb9f3a\"],[0.8888888888888888,\"#fdca26\"],[1.0,\"#f0f921\"]]}],\"heatmap\":[{\"type\":\"heatmap\",\"colorbar\":{\"outlinewidth\":0,\"ticks\":\"\"},\"colorscale\":[[0.0,\"#0d0887\"],[0.1111111111111111,\"#46039f\"],[0.2222222222222222,\"#7201a8\"],[0.3333333333333333,\"#9c179e\"],[0.4444444444444444,\"#bd3786\"],[0.5555555555555556,\"#d8576b\"],[0.6666666666666666,\"#ed7953\"],[0.7777777777777778,\"#fb9f3a\"],[0.8888888888888888,\"#fdca26\"],[1.0,\"#f0f921\"]]}],\"heatmapgl\":[{\"type\":\"heatmapgl\",\"colorbar\":{\"outlinewidth\":0,\"ticks\":\"\"},\"colorscale\":[[0.0,\"#0d0887\"],[0.1111111111111111,\"#46039f\"],[0.2222222222222222,\"#7201a8\"],[0.3333333333333333,\"#9c179e\"],[0.4444444444444444,\"#bd3786\"],[0.5555555555555556,\"#d8576b\"],[0.6666666666666666,\"#ed7953\"],[0.7777777777777778,\"#fb9f3a\"],[0.8888888888888888,\"#fdca26\"],[1.0,\"#f0f921\"]]}],\"contourcarpet\":[{\"type\":\"contourcarpet\",\"colorbar\":{\"outlinewidth\":0,\"ticks\":\"\"}}],\"contour\":[{\"type\":\"contour\",\"colorbar\":{\"outlinewidth\":0,\"ticks\":\"\"},\"colorscale\":[[0.0,\"#0d0887\"],[0.1111111111111111,\"#46039f\"],[0.2222222222222222,\"#7201a8\"],[0.3333333333333333,\"#9c179e\"],[0.4444444444444444,\"#bd3786\"],[0.5555555555555556,\"#d8576b\"],[0.6666666666666666,\"#ed7953\"],[0.7777777777777778,\"#fb9f3a\"],[0.8888888888888888,\"#fdca26\"],[1.0,\"#f0f921\"]]}],\"surface\":[{\"type\":\"surface\",\"colorbar\":{\"outlinewidth\":0,\"ticks\":\"\"},\"colorscale\":[[0.0,\"#0d0887\"],[0.1111111111111111,\"#46039f\"],[0.2222222222222222,\"#7201a8\"],[0.3333333333333333,\"#9c179e\"],[0.4444444444444444,\"#bd3786\"],[0.5555555555555556,\"#d8576b\"],[0.6666666666666666,\"#ed7953\"],[0.7777777777777778,\"#fb9f3a\"],[0.8888888888888888,\"#fdca26\"],[1.0,\"#f0f921\"]]}],\"mesh3d\":[{\"type\":\"mesh3d\",\"colorbar\":{\"outlinewidth\":0,\"ticks\":\"\"}}],\"scatter\":[{\"fillpattern\":{\"fillmode\":\"overlay\",\"size\":10,\"solidity\":0.2},\"type\":\"scatter\"}],\"parcoords\":[{\"type\":\"parcoords\",\"line\":{\"colorbar\":{\"outlinewidth\":0,\"ticks\":\"\"}}}],\"scatterpolargl\":[{\"type\":\"scatterpolargl\",\"marker\":{\"colorbar\":{\"outlinewidth\":0,\"ticks\":\"\"}}}],\"bar\":[{\"error_x\":{\"color\":\"#2a3f5f\"},\"error_y\":{\"color\":\"#2a3f5f\"},\"marker\":{\"line\":{\"color\":\"#E5ECF6\",\"width\":0.5},\"pattern\":{\"fillmode\":\"overlay\",\"size\":10,\"solidity\":0.2}},\"type\":\"bar\"}],\"scattergeo\":[{\"type\":\"scattergeo\",\"marker\":{\"colorbar\":{\"outlinewidth\":0,\"ticks\":\"\"}}}],\"scatterpolar\":[{\"type\":\"scatterpolar\",\"marker\":{\"colorbar\":{\"outlinewidth\":0,\"ticks\":\"\"}}}],\"histogram\":[{\"marker\":{\"pattern\":{\"fillmode\":\"overlay\",\"size\":10,\"solidity\":0.2}},\"type\":\"histogram\"}],\"scattergl\":[{\"type\":\"scattergl\",\"marker\":{\"colorbar\":{\"outlinewidth\":0,\"ticks\":\"\"}}}],\"scatter3d\":[{\"type\":\"scatter3d\",\"line\":{\"colorbar\":{\"outlinewidth\":0,\"ticks\":\"\"}},\"marker\":{\"colorbar\":{\"outlinewidth\":0,\"ticks\":\"\"}}}],\"scattermapbox\":[{\"type\":\"scattermapbox\",\"marker\":{\"colorbar\":{\"outlinewidth\":0,\"ticks\":\"\"}}}],\"scatterternary\":[{\"type\":\"scatterternary\",\"marker\":{\"colorbar\":{\"outlinewidth\":0,\"ticks\":\"\"}}}],\"scattercarpet\":[{\"type\":\"scattercarpet\",\"marker\":{\"colorbar\":{\"outlinewidth\":0,\"ticks\":\"\"}}}],\"carpet\":[{\"aaxis\":{\"endlinecolor\":\"#2a3f5f\",\"gridcolor\":\"white\",\"linecolor\":\"white\",\"minorgridcolor\":\"white\",\"startlinecolor\":\"#2a3f5f\"},\"baxis\":{\"endlinecolor\":\"#2a3f5f\",\"gridcolor\":\"white\",\"linecolor\":\"white\",\"minorgridcolor\":\"white\",\"startlinecolor\":\"#2a3f5f\"},\"type\":\"carpet\"}],\"table\":[{\"cells\":{\"fill\":{\"color\":\"#EBF0F8\"},\"line\":{\"color\":\"white\"}},\"header\":{\"fill\":{\"color\":\"#C8D4E3\"},\"line\":{\"color\":\"white\"}},\"type\":\"table\"}],\"barpolar\":[{\"marker\":{\"line\":{\"color\":\"#E5ECF6\",\"width\":0.5},\"pattern\":{\"fillmode\":\"overlay\",\"size\":10,\"solidity\":0.2}},\"type\":\"barpolar\"}],\"pie\":[{\"automargin\":true,\"type\":\"pie\"}]},\"layout\":{\"autotypenumbers\":\"strict\",\"colorway\":[\"#636efa\",\"#EF553B\",\"#00cc96\",\"#ab63fa\",\"#FFA15A\",\"#19d3f3\",\"#FF6692\",\"#B6E880\",\"#FF97FF\",\"#FECB52\"],\"font\":{\"color\":\"#2a3f5f\"},\"hovermode\":\"closest\",\"hoverlabel\":{\"align\":\"left\"},\"paper_bgcolor\":\"white\",\"plot_bgcolor\":\"#E5ECF6\",\"polar\":{\"bgcolor\":\"#E5ECF6\",\"angularaxis\":{\"gridcolor\":\"white\",\"linecolor\":\"white\",\"ticks\":\"\"},\"radialaxis\":{\"gridcolor\":\"white\",\"linecolor\":\"white\",\"ticks\":\"\"}},\"ternary\":{\"bgcolor\":\"#E5ECF6\",\"aaxis\":{\"gridcolor\":\"white\",\"linecolor\":\"white\",\"ticks\":\"\"},\"baxis\":{\"gridcolor\":\"white\",\"linecolor\":\"white\",\"ticks\":\"\"},\"caxis\":{\"gridcolor\":\"white\",\"linecolor\":\"white\",\"ticks\":\"\"}},\"coloraxis\":{\"colorbar\":{\"outlinewidth\":0,\"ticks\":\"\"}},\"colorscale\":{\"sequential\":[[0.0,\"#0d0887\"],[0.1111111111111111,\"#46039f\"],[0.2222222222222222,\"#7201a8\"],[0.3333333333333333,\"#9c179e\"],[0.4444444444444444,\"#bd3786\"],[0.5555555555555556,\"#d8576b\"],[0.6666666666666666,\"#ed7953\"],[0.7777777777777778,\"#fb9f3a\"],[0.8888888888888888,\"#fdca26\"],[1.0,\"#f0f921\"]],\"sequentialminus\":[[0.0,\"#0d0887\"],[0.1111111111111111,\"#46039f\"],[0.2222222222222222,\"#7201a8\"],[0.3333333333333333,\"#9c179e\"],[0.4444444444444444,\"#bd3786\"],[0.5555555555555556,\"#d8576b\"],[0.6666666666666666,\"#ed7953\"],[0.7777777777777778,\"#fb9f3a\"],[0.8888888888888888,\"#fdca26\"],[1.0,\"#f0f921\"]],\"diverging\":[[0,\"#8e0152\"],[0.1,\"#c51b7d\"],[0.2,\"#de77ae\"],[0.3,\"#f1b6da\"],[0.4,\"#fde0ef\"],[0.5,\"#f7f7f7\"],[0.6,\"#e6f5d0\"],[0.7,\"#b8e186\"],[0.8,\"#7fbc41\"],[0.9,\"#4d9221\"],[1,\"#276419\"]]},\"xaxis\":{\"gridcolor\":\"white\",\"linecolor\":\"white\",\"ticks\":\"\",\"title\":{\"standoff\":15},\"zerolinecolor\":\"white\",\"automargin\":true,\"zerolinewidth\":2},\"yaxis\":{\"gridcolor\":\"white\",\"linecolor\":\"white\",\"ticks\":\"\",\"title\":{\"standoff\":15},\"zerolinecolor\":\"white\",\"automargin\":true,\"zerolinewidth\":2},\"scene\":{\"xaxis\":{\"backgroundcolor\":\"#E5ECF6\",\"gridcolor\":\"white\",\"linecolor\":\"white\",\"showbackground\":true,\"ticks\":\"\",\"zerolinecolor\":\"white\",\"gridwidth\":2},\"yaxis\":{\"backgroundcolor\":\"#E5ECF6\",\"gridcolor\":\"white\",\"linecolor\":\"white\",\"showbackground\":true,\"ticks\":\"\",\"zerolinecolor\":\"white\",\"gridwidth\":2},\"zaxis\":{\"backgroundcolor\":\"#E5ECF6\",\"gridcolor\":\"white\",\"linecolor\":\"white\",\"showbackground\":true,\"ticks\":\"\",\"zerolinecolor\":\"white\",\"gridwidth\":2}},\"shapedefaults\":{\"line\":{\"color\":\"#2a3f5f\"}},\"annotationdefaults\":{\"arrowcolor\":\"#2a3f5f\",\"arrowhead\":0,\"arrowwidth\":1},\"geo\":{\"bgcolor\":\"white\",\"landcolor\":\"#E5ECF6\",\"subunitcolor\":\"white\",\"showland\":true,\"showlakes\":true,\"lakecolor\":\"white\"},\"title\":{\"x\":0.05},\"mapbox\":{\"style\":\"light\"}}},\"xaxis\":{\"anchor\":\"y\",\"domain\":[0.0,1.0],\"title\":{\"text\":\"index\"}},\"yaxis\":{\"anchor\":\"x\",\"domain\":[0.0,1.0],\"title\":{\"text\":\"value\"}},\"legend\":{\"title\":{\"text\":\"variable\"},\"tracegroupgap\":0},\"margin\":{\"t\":60}},                        {\"responsive\": true}                    ).then(function(){\n",
       "                            \n",
       "var gd = document.getElementById('478d0e6a-56c9-4e28-807a-402cf2d9197b');\n",
       "var x = new MutationObserver(function (mutations, observer) {{\n",
       "        var display = window.getComputedStyle(gd).display;\n",
       "        if (!display || display === 'none') {{\n",
       "            console.log([gd, 'removed!']);\n",
       "            Plotly.purge(gd);\n",
       "            observer.disconnect();\n",
       "        }}\n",
       "}});\n",
       "\n",
       "// Listen for the removal of the full notebook cells\n",
       "var notebookContainer = gd.closest('#notebook-container');\n",
       "if (notebookContainer) {{\n",
       "    x.observe(notebookContainer, {childList: true});\n",
       "}}\n",
       "\n",
       "// Listen for the clearing of the current output cell\n",
       "var outputEl = gd.closest('.output');\n",
       "if (outputEl) {{\n",
       "    x.observe(outputEl, {childList: true});\n",
       "}}\n",
       "\n",
       "                        })                };                });            </script>        </div>"
      ]
     },
     "metadata": {},
     "output_type": "display_data"
    }
   ],
   "source": [
    "px.line(np.array(mlp_portfolio))\n"
   ]
  },
  {
   "cell_type": "markdown",
   "metadata": {},
   "source": [
    "# Table of returns"
   ]
  },
  {
   "cell_type": "code",
   "execution_count": 277,
   "metadata": {},
   "outputs": [],
   "source": [
    "data = {'RET_20 Prediction':['1.06%','1.07%','1.5%','0.3%'],\n",
    "       'NCAR_20 Prediction':['-0.03%','0.08%','-0.06%','-0.04%']}\n",
    "ret_df = pd.DataFrame(data)\n",
    "\n",
    "new_index = ['GCN', 'LogReg', 'XGB', 'MLP']\n",
    "ret_df.index = new_index\n"
   ]
  },
  {
   "cell_type": "code",
   "execution_count": 278,
   "metadata": {},
   "outputs": [
    {
     "data": {
      "text/html": [
       "<div>\n",
       "<style scoped>\n",
       "    .dataframe tbody tr th:only-of-type {\n",
       "        vertical-align: middle;\n",
       "    }\n",
       "\n",
       "    .dataframe tbody tr th {\n",
       "        vertical-align: top;\n",
       "    }\n",
       "\n",
       "    .dataframe thead th {\n",
       "        text-align: right;\n",
       "    }\n",
       "</style>\n",
       "<table border=\"1\" class=\"dataframe\">\n",
       "  <thead>\n",
       "    <tr style=\"text-align: right;\">\n",
       "      <th></th>\n",
       "      <th>RET_20 Prediction</th>\n",
       "      <th>NCAR_20 Prediction</th>\n",
       "    </tr>\n",
       "  </thead>\n",
       "  <tbody>\n",
       "    <tr>\n",
       "      <th>GCN</th>\n",
       "      <td>1.06%</td>\n",
       "      <td>-0.03%</td>\n",
       "    </tr>\n",
       "    <tr>\n",
       "      <th>LogReg</th>\n",
       "      <td>1.07%</td>\n",
       "      <td>0.08%</td>\n",
       "    </tr>\n",
       "    <tr>\n",
       "      <th>XGB</th>\n",
       "      <td>1.5%</td>\n",
       "      <td>-0.06%</td>\n",
       "    </tr>\n",
       "    <tr>\n",
       "      <th>MLP</th>\n",
       "      <td>0.3%</td>\n",
       "      <td>-0.04%</td>\n",
       "    </tr>\n",
       "  </tbody>\n",
       "</table>\n",
       "</div>"
      ],
      "text/plain": [
       "       RET_20 Prediction NCAR_20 Prediction\n",
       "GCN                1.06%             -0.03%\n",
       "LogReg             1.07%              0.08%\n",
       "XGB                 1.5%             -0.06%\n",
       "MLP                 0.3%             -0.04%"
      ]
     },
     "execution_count": 278,
     "metadata": {},
     "output_type": "execute_result"
    }
   ],
   "source": [
    "ret_df"
   ]
  },
  {
   "cell_type": "code",
   "execution_count": null,
   "metadata": {},
   "outputs": [],
   "source": []
  }
 ],
 "metadata": {
  "kernelspec": {
   "display_name": "Python 3",
   "language": "python",
   "name": "python3"
  },
  "language_info": {
   "codemirror_mode": {
    "name": "ipython",
    "version": 3
   },
   "file_extension": ".py",
   "mimetype": "text/x-python",
   "name": "python",
   "nbconvert_exporter": "python",
   "pygments_lexer": "ipython3",
   "version": "3.8.8"
  }
 },
 "nbformat": 4,
 "nbformat_minor": 2
}
