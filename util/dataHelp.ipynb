{
 "cells": [
  {
   "cell_type": "code",
   "execution_count": 1,
   "metadata": {},
   "outputs": [],
   "source": [
    "import pandas as pd\n",
    "import numpy as np\n",
    "import json\n",
    "import requests, os, sys, sqlite3, re\n",
    "import yfinance as yf"
   ]
  },
  {
   "cell_type": "code",
   "execution_count": 98,
   "metadata": {},
   "outputs": [
    {
     "name": "stderr",
     "output_type": "stream",
     "text": [
      "/var/folders/xg/pf7prx2j6mngdfnzgpn5r9980000gn/T/ipykernel_35878/914809477.py:4: UserWarning: Could not infer format, so each element will be parsed individually, falling back to `dateutil`. To ensure parsing is consistent and as-expected, please specify a format.\n",
      "  df2['date'] = pd.to_datetime(df2['date'])\n"
     ]
    }
   ],
   "source": [
    "df = pd.read_csv('./out/catalyst_man.csv').iloc[:1774]\n",
    "df2 = pd.read_csv(\"./out/roy_fixed.csv\")\n",
    "df2 = df2.loc[:, df2.columns[1:]].copy()\n",
    "df2['date'] = pd.to_datetime(df2['date'])\n",
    "df['date'] = pd.to_datetime(df['date'])"
   ]
  },
  {
   "cell_type": "code",
   "execution_count": 99,
   "metadata": {},
   "outputs": [],
   "source": [
    "df.columns = df2.columns\n",
    "df = df.rename(columns={\"label\":\"label_roy\"})\n",
    "tmp_df = df.merge(df2, on=['ticker', 'disease', 'stage', 'date', 'catalyst'], how='outer')\n",
    "tmp_df['label'] = tmp_df['label_roy'].combine_first(tmp_df['label'])\n",
    "tmp_df = tmp_df.drop(columns=['label_roy'], axis=1)"
   ]
  },
  {
   "cell_type": "code",
   "execution_count": 101,
   "metadata": {},
   "outputs": [],
   "source": [
    "tmp_df.to_csv('../final.csv')"
   ]
  },
  {
   "cell_type": "code",
   "execution_count": 8,
   "metadata": {},
   "outputs": [],
   "source": [
    "eng = sqlite3.connect('./src/data.db')\n",
    "tix = pd.read_sql('SELECT DISTINCT ticker FROM catalysts', eng)\n",
    "df = pd.read_sql('SELECT * FROM catalysts', eng)\n",
    "tickers = yf.Tickers(' '.join(tix.ticker.tolist()))"
   ]
  },
  {
   "cell_type": "code",
   "execution_count": 33,
   "metadata": {},
   "outputs": [],
   "source": [
    "names = list()\n",
    "for t in tix.ticker.tolist():\n",
    "    try:\n",
    "        name = tickers.tickers[t].info['longName'].upper()\n",
    "        name = re.sub(r'[^\\w\\s]', '', name)\n",
    "        names.append([t, name])\n",
    "    except Exception:\n",
    "        names.append([t, None])"
   ]
  },
  {
   "cell_type": "code",
   "execution_count": 4,
   "metadata": {},
   "outputs": [],
   "source": [
    "with open('./ref/ticker_to_cik.json') as f:\n",
    "    d = json.load(f)\n",
    "f.close()"
   ]
  },
  {
   "cell_type": "code",
   "execution_count": 29,
   "metadata": {},
   "outputs": [],
   "source": [
    "ticks = pd.DataFrame.from_dict(d, orient='index')\n",
    "ciks = ticks.loc[ticks.index.isin(tix.ticker)].copy().reset_index().rename(columns={'index': 'ticker', 0: 'cik'})\n",
    "ciks['cik'] = ciks.cik.str.removeprefix('000')"
   ]
  },
  {
   "cell_type": "code",
   "execution_count": 31,
   "metadata": {},
   "outputs": [],
   "source": [
    "ciks.to_csv('./out/ciks.csv', index=False)"
   ]
  }
 ],
 "metadata": {
  "kernelspec": {
   "display_name": "biopharma",
   "language": "python",
   "name": "python3"
  },
  "language_info": {
   "codemirror_mode": {
    "name": "ipython",
    "version": 3
   },
   "file_extension": ".py",
   "mimetype": "text/x-python",
   "name": "python",
   "nbconvert_exporter": "python",
   "pygments_lexer": "ipython3",
   "version": "3.10.13"
  }
 },
 "nbformat": 4,
 "nbformat_minor": 2
}
