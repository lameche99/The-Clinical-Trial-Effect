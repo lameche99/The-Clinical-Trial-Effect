{
 "cells": [
  {
   "cell_type": "code",
   "execution_count": 1,
   "metadata": {},
   "outputs": [],
   "source": [
    "import pandas as pd\n",
    "import numpy as np"
   ]
  },
  {
   "cell_type": "code",
   "execution_count": 2,
   "metadata": {},
   "outputs": [],
   "source": [
    "sec = pd.read_csv('../sec_sentiment.csv')\n",
    "catalyst = pd.read_csv('./out/catalyst_sentiment_final.csv')"
   ]
  },
  {
   "cell_type": "code",
   "execution_count": 3,
   "metadata": {},
   "outputs": [],
   "source": [
    "catalyst['date'] = pd.to_datetime(catalyst['date'], format='%Y-%m-%d')\n",
    "sec['decyear'] = sec.year + (sec.quarter.apply(lambda x: int(x[-1:])) / 4)\n",
    "catalyst['decyear'] = catalyst.set_index('date').index.year\n",
    "catalyst['decyear'] = catalyst.decyear + (catalyst.set_index('date').index.quarter / 4)\n",
    "catalyst['year'] = catalyst.set_index('date').index.year\n",
    "catalyst['quarter'] = catalyst.set_index('date').index.quarter\n",
    "catalyst['quarter'] = catalyst.quarter.apply(lambda x: f'QTR{x}')"
   ]
  },
  {
   "cell_type": "code",
   "execution_count": 4,
   "metadata": {},
   "outputs": [
    {
     "data": {
      "text/html": [
       "<div>\n",
       "<style scoped>\n",
       "    .dataframe tbody tr th:only-of-type {\n",
       "        vertical-align: middle;\n",
       "    }\n",
       "\n",
       "    .dataframe tbody tr th {\n",
       "        vertical-align: top;\n",
       "    }\n",
       "\n",
       "    .dataframe thead th {\n",
       "        text-align: right;\n",
       "    }\n",
       "</style>\n",
       "<table border=\"1\" class=\"dataframe\">\n",
       "  <thead>\n",
       "    <tr style=\"text-align: right;\">\n",
       "      <th></th>\n",
       "      <th>ticker</th>\n",
       "      <th>year</th>\n",
       "      <th>quarter</th>\n",
       "      <th>filing</th>\n",
       "      <th>sentiment_score</th>\n",
       "      <th>decyear</th>\n",
       "    </tr>\n",
       "  </thead>\n",
       "  <tbody>\n",
       "    <tr>\n",
       "      <th>0</th>\n",
       "      <td>HGEN</td>\n",
       "      <td>2021</td>\n",
       "      <td>QTR2</td>\n",
       "      <td>.07. Submission of Matters to a Vote of Securi...</td>\n",
       "      <td>0.027353</td>\n",
       "      <td>2021.50</td>\n",
       "    </tr>\n",
       "    <tr>\n",
       "      <th>1</th>\n",
       "      <td>ABEO</td>\n",
       "      <td>2013</td>\n",
       "      <td>QTR4</td>\n",
       "      <td>.02. Departure of Directors or Certain Officer...</td>\n",
       "      <td>0.015559</td>\n",
       "      <td>2014.00</td>\n",
       "    </tr>\n",
       "    <tr>\n",
       "      <th>2</th>\n",
       "      <td>EGRX</td>\n",
       "      <td>2017</td>\n",
       "      <td>QTR3</td>\n",
       "      <td>.01 Entry into a Material Definitive Agreement...</td>\n",
       "      <td>0.146894</td>\n",
       "      <td>2017.75</td>\n",
       "    </tr>\n",
       "    <tr>\n",
       "      <th>3</th>\n",
       "      <td>AXGN</td>\n",
       "      <td>2021</td>\n",
       "      <td>QTR4</td>\n",
       "      <td>.02 Results of Operations and Financial Condit...</td>\n",
       "      <td>0.109859</td>\n",
       "      <td>2022.00</td>\n",
       "    </tr>\n",
       "    <tr>\n",
       "      <th>4</th>\n",
       "      <td>ENTA</td>\n",
       "      <td>2022</td>\n",
       "      <td>QTR2</td>\n",
       "      <td>0001193125-22-178106.txt : 20220622 8-K 1 d356...</td>\n",
       "      <td>0.003334</td>\n",
       "      <td>2022.50</td>\n",
       "    </tr>\n",
       "  </tbody>\n",
       "</table>\n",
       "</div>"
      ],
      "text/plain": [
       "  ticker  year quarter                                             filing  \\\n",
       "0   HGEN  2021    QTR2  .07. Submission of Matters to a Vote of Securi...   \n",
       "1   ABEO  2013    QTR4  .02. Departure of Directors or Certain Officer...   \n",
       "2   EGRX  2017    QTR3  .01 Entry into a Material Definitive Agreement...   \n",
       "3   AXGN  2021    QTR4  .02 Results of Operations and Financial Condit...   \n",
       "4   ENTA  2022    QTR2  0001193125-22-178106.txt : 20220622 8-K 1 d356...   \n",
       "\n",
       "   sentiment_score  decyear  \n",
       "0         0.027353  2021.50  \n",
       "1         0.015559  2014.00  \n",
       "2         0.146894  2017.75  \n",
       "3         0.109859  2022.00  \n",
       "4         0.003334  2022.50  "
      ]
     },
     "execution_count": 4,
     "metadata": {},
     "output_type": "execute_result"
    }
   ],
   "source": [
    "sec.head()"
   ]
  },
  {
   "cell_type": "code",
   "execution_count": 5,
   "metadata": {},
   "outputs": [
    {
     "data": {
      "text/html": [
       "<div>\n",
       "<style scoped>\n",
       "    .dataframe tbody tr th:only-of-type {\n",
       "        vertical-align: middle;\n",
       "    }\n",
       "\n",
       "    .dataframe tbody tr th {\n",
       "        vertical-align: top;\n",
       "    }\n",
       "\n",
       "    .dataframe thead th {\n",
       "        text-align: right;\n",
       "    }\n",
       "</style>\n",
       "<table border=\"1\" class=\"dataframe\">\n",
       "  <thead>\n",
       "    <tr style=\"text-align: right;\">\n",
       "      <th></th>\n",
       "      <th>ticker</th>\n",
       "      <th>date</th>\n",
       "      <th>shifted</th>\n",
       "      <th>decyear</th>\n",
       "      <th>year</th>\n",
       "      <th>quarter</th>\n",
       "    </tr>\n",
       "  </thead>\n",
       "  <tbody>\n",
       "    <tr>\n",
       "      <th>0</th>\n",
       "      <td>JAZZ</td>\n",
       "      <td>2010-10-11</td>\n",
       "      <td>-0.159998</td>\n",
       "      <td>2011.00</td>\n",
       "      <td>2010</td>\n",
       "      <td>QTR4</td>\n",
       "    </tr>\n",
       "    <tr>\n",
       "      <th>1</th>\n",
       "      <td>ASRT</td>\n",
       "      <td>2011-01-28</td>\n",
       "      <td>0.901584</td>\n",
       "      <td>2011.25</td>\n",
       "      <td>2011</td>\n",
       "      <td>QTR1</td>\n",
       "    </tr>\n",
       "    <tr>\n",
       "      <th>2</th>\n",
       "      <td>ASRT</td>\n",
       "      <td>2011-04-29</td>\n",
       "      <td>0.598187</td>\n",
       "      <td>2011.50</td>\n",
       "      <td>2011</td>\n",
       "      <td>QTR2</td>\n",
       "    </tr>\n",
       "    <tr>\n",
       "      <th>3</th>\n",
       "      <td>SGEN</td>\n",
       "      <td>2011-08-19</td>\n",
       "      <td>0.313102</td>\n",
       "      <td>2011.75</td>\n",
       "      <td>2011</td>\n",
       "      <td>QTR3</td>\n",
       "    </tr>\n",
       "    <tr>\n",
       "      <th>4</th>\n",
       "      <td>PCRX</td>\n",
       "      <td>2011-10-31</td>\n",
       "      <td>0.633965</td>\n",
       "      <td>2012.00</td>\n",
       "      <td>2011</td>\n",
       "      <td>QTR4</td>\n",
       "    </tr>\n",
       "  </tbody>\n",
       "</table>\n",
       "</div>"
      ],
      "text/plain": [
       "  ticker       date   shifted  decyear  year quarter\n",
       "0   JAZZ 2010-10-11 -0.159998  2011.00  2010    QTR4\n",
       "1   ASRT 2011-01-28  0.901584  2011.25  2011    QTR1\n",
       "2   ASRT 2011-04-29  0.598187  2011.50  2011    QTR2\n",
       "3   SGEN 2011-08-19  0.313102  2011.75  2011    QTR3\n",
       "4   PCRX 2011-10-31  0.633965  2012.00  2011    QTR4"
      ]
     },
     "execution_count": 5,
     "metadata": {},
     "output_type": "execute_result"
    }
   ],
   "source": [
    "catalyst.head()"
   ]
  },
  {
   "cell_type": "code",
   "execution_count": 6,
   "metadata": {},
   "outputs": [],
   "source": [
    "agg_scores = list()\n",
    "for i in range(len(catalyst)):\n",
    "    sample = catalyst.iloc[i]\n",
    "    score = sec.loc[(sec.ticker == sample.ticker) &\n",
    "                    ((sec.decyear <= sample.decyear) &\n",
    "                     (sec.decyear >= (sample.decyear - 1)))]['sentiment_score'].mean()\n",
    "    agg_scores.append(score)"
   ]
  },
  {
   "cell_type": "code",
   "execution_count": 7,
   "metadata": {},
   "outputs": [],
   "source": [
    "catalyst['sec_score'] = agg_scores\n",
    "catalyst = catalyst.rename({'shifted': 'bio_score'}, axis=1)"
   ]
  },
  {
   "cell_type": "code",
   "execution_count": 8,
   "metadata": {},
   "outputs": [],
   "source": [
    "catalyst = catalyst.drop(['decyear', 'year', 'quarter'], axis=1)\n",
    "catalyst.dropna(axis=0, inplace=True)"
   ]
  },
  {
   "cell_type": "code",
   "execution_count": 10,
   "metadata": {},
   "outputs": [
    {
     "data": {
      "text/html": [
       "<div>\n",
       "<style scoped>\n",
       "    .dataframe tbody tr th:only-of-type {\n",
       "        vertical-align: middle;\n",
       "    }\n",
       "\n",
       "    .dataframe tbody tr th {\n",
       "        vertical-align: top;\n",
       "    }\n",
       "\n",
       "    .dataframe thead th {\n",
       "        text-align: right;\n",
       "    }\n",
       "</style>\n",
       "<table border=\"1\" class=\"dataframe\">\n",
       "  <thead>\n",
       "    <tr style=\"text-align: right;\">\n",
       "      <th></th>\n",
       "      <th>ticker</th>\n",
       "      <th>date</th>\n",
       "      <th>bio_score</th>\n",
       "      <th>sec_score</th>\n",
       "    </tr>\n",
       "  </thead>\n",
       "  <tbody>\n",
       "    <tr>\n",
       "      <th>0</th>\n",
       "      <td>JAZZ</td>\n",
       "      <td>2010-10-11</td>\n",
       "      <td>-0.159998</td>\n",
       "      <td>0.021264</td>\n",
       "    </tr>\n",
       "    <tr>\n",
       "      <th>3</th>\n",
       "      <td>SGEN</td>\n",
       "      <td>2011-08-19</td>\n",
       "      <td>0.313102</td>\n",
       "      <td>0.035399</td>\n",
       "    </tr>\n",
       "    <tr>\n",
       "      <th>4</th>\n",
       "      <td>PCRX</td>\n",
       "      <td>2011-10-31</td>\n",
       "      <td>0.633965</td>\n",
       "      <td>0.097330</td>\n",
       "    </tr>\n",
       "    <tr>\n",
       "      <th>5</th>\n",
       "      <td>INCY</td>\n",
       "      <td>2011-11-16</td>\n",
       "      <td>0.878714</td>\n",
       "      <td>0.067742</td>\n",
       "    </tr>\n",
       "    <tr>\n",
       "      <th>6</th>\n",
       "      <td>HALO</td>\n",
       "      <td>2011-12-08</td>\n",
       "      <td>0.044723</td>\n",
       "      <td>0.126709</td>\n",
       "    </tr>\n",
       "  </tbody>\n",
       "</table>\n",
       "</div>"
      ],
      "text/plain": [
       "  ticker       date  bio_score  sec_score\n",
       "0   JAZZ 2010-10-11  -0.159998   0.021264\n",
       "3   SGEN 2011-08-19   0.313102   0.035399\n",
       "4   PCRX 2011-10-31   0.633965   0.097330\n",
       "5   INCY 2011-11-16   0.878714   0.067742\n",
       "6   HALO 2011-12-08   0.044723   0.126709"
      ]
     },
     "execution_count": 10,
     "metadata": {},
     "output_type": "execute_result"
    }
   ],
   "source": [
    "catalyst.head()"
   ]
  },
  {
   "cell_type": "code",
   "execution_count": 11,
   "metadata": {},
   "outputs": [],
   "source": [
    "catalyst.to_csv('./out/sentiment_scores.csv', index=False)"
   ]
  }
 ],
 "metadata": {
  "kernelspec": {
   "display_name": "biopharma",
   "language": "python",
   "name": "python3"
  },
  "language_info": {
   "codemirror_mode": {
    "name": "ipython",
    "version": 3
   },
   "file_extension": ".py",
   "mimetype": "text/x-python",
   "name": "python",
   "nbconvert_exporter": "python",
   "pygments_lexer": "ipython3",
   "version": "3.10.13"
  }
 },
 "nbformat": 4,
 "nbformat_minor": 2
}
