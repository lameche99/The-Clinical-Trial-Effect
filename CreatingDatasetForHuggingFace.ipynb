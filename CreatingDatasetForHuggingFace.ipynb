{
  "cells": [
    {
      "cell_type": "code",
      "execution_count": 1,
      "metadata": {
        "colab": {
          "base_uri": "https://localhost:8080/"
        },
        "id": "OrWl9L8tYl8Q",
        "outputId": "722f4b98-c45b-4296-a9e3-2b0cb6797460"
      },
      "outputs": [],
      "source": [
        "import pandas as pd\n",
        "import numpy as np\n",
        "import sqlite3\n",
        "\n",
        "from sklearn.model_selection import train_test_split\n"
      ]
    },
    {
      "cell_type": "code",
      "execution_count": 2,
      "metadata": {
        "id": "5I1WcwFkYnhN"
      },
      "outputs": [
        {
          "data": {
            "text/html": [
              "<div>\n",
              "<style scoped>\n",
              "    .dataframe tbody tr th:only-of-type {\n",
              "        vertical-align: middle;\n",
              "    }\n",
              "\n",
              "    .dataframe tbody tr th {\n",
              "        vertical-align: top;\n",
              "    }\n",
              "\n",
              "    .dataframe thead th {\n",
              "        text-align: right;\n",
              "    }\n",
              "</style>\n",
              "<table border=\"1\" class=\"dataframe\">\n",
              "  <thead>\n",
              "    <tr style=\"text-align: right;\">\n",
              "      <th></th>\n",
              "      <th>ticker</th>\n",
              "      <th>disease</th>\n",
              "      <th>stage</th>\n",
              "      <th>date</th>\n",
              "      <th>catalyst</th>\n",
              "      <th>label</th>\n",
              "    </tr>\n",
              "  </thead>\n",
              "  <tbody>\n",
              "    <tr>\n",
              "      <th>0</th>\n",
              "      <td>SPPI</td>\n",
              "      <td>Non-Hodgkin’s lymphoma</td>\n",
              "      <td>Approved</td>\n",
              "      <td>9/4/09</td>\n",
              "      <td>Approved September 4, 2009.</td>\n",
              "      <td>5</td>\n",
              "    </tr>\n",
              "    <tr>\n",
              "      <th>1</th>\n",
              "      <td>JAZZ</td>\n",
              "      <td>Fibromyalgia</td>\n",
              "      <td>CRL</td>\n",
              "      <td>10/11/10</td>\n",
              "      <td>CRL received October 11, 2010.</td>\n",
              "      <td>4</td>\n",
              "    </tr>\n",
              "    <tr>\n",
              "      <th>2</th>\n",
              "      <td>ASRT</td>\n",
              "      <td>Postherpetic neuralgia - shingles</td>\n",
              "      <td>Approved</td>\n",
              "      <td>1/28/11</td>\n",
              "      <td>Approved January 28, 2011.</td>\n",
              "      <td>5</td>\n",
              "    </tr>\n",
              "    <tr>\n",
              "      <th>3</th>\n",
              "      <td>ASRT</td>\n",
              "      <td>Colorectal cancer</td>\n",
              "      <td>Approved</td>\n",
              "      <td>4/29/11</td>\n",
              "      <td>Approved April 29, 2011.</td>\n",
              "      <td>5</td>\n",
              "    </tr>\n",
              "    <tr>\n",
              "      <th>4</th>\n",
              "      <td>SPPI</td>\n",
              "      <td>Colorectal cancer</td>\n",
              "      <td>Approved</td>\n",
              "      <td>4/29/11</td>\n",
              "      <td>Approved April 29, 2011.</td>\n",
              "      <td>5</td>\n",
              "    </tr>\n",
              "  </tbody>\n",
              "</table>\n",
              "</div>"
            ],
            "text/plain": [
              "  ticker                            disease     stage      date  \\\n",
              "0   SPPI             Non-Hodgkin’s lymphoma  Approved    9/4/09   \n",
              "1   JAZZ                       Fibromyalgia       CRL  10/11/10   \n",
              "2   ASRT  Postherpetic neuralgia - shingles  Approved   1/28/11   \n",
              "3   ASRT                  Colorectal cancer  Approved   4/29/11   \n",
              "4   SPPI                  Colorectal cancer  Approved   4/29/11   \n",
              "\n",
              "                         catalyst  label  \n",
              "0     Approved September 4, 2009.      5  \n",
              "1  CRL received October 11, 2010.      4  \n",
              "2      Approved January 28, 2011.      5  \n",
              "3        Approved April 29, 2011.      5  \n",
              "4        Approved April 29, 2011.      5  "
            ]
          },
          "execution_count": 2,
          "metadata": {},
          "output_type": "execute_result"
        }
      ],
      "source": [
        "catalysts = pd.read_csv('./ref/final_cats.csv')\n",
        "catalysts.head()\n"
      ]
    },
    {
      "cell_type": "markdown",
      "metadata": {
        "id": "ZZi9QZmeuzYN"
      },
      "source": [
        "# Shifting catalyst Labels\n",
        "Catalyst labels Map:\n",
        "-1 -> 0 : BEARISH\n",
        "0 -> 1: NEUTRAL\n",
        "1 -> 2: BULLISH"
      ]
    },
    {
      "cell_type": "code",
      "execution_count": 4,
      "metadata": {
        "colab": {
          "base_uri": "https://localhost:8080/"
        },
        "id": "5V-N-YjuYnBM",
        "outputId": "9fb68094-c55a-4cb9-e98e-a7e9e03d9394"
      },
      "outputs": [
        {
          "name": "stdout",
          "output_type": "stream",
          "text": [
            "Train Size = 3139\n",
            "Test Size = 785\n"
          ]
        }
      ],
      "source": [
        "catalysts['label'] = catalysts['label'].astype(int) + 1\n",
        "features = catalysts.iloc[:, :-1]\n",
        "labels = catalysts.iloc[:, -1:]\n",
        "\n",
        "X_train, X_test, y_train, y_test = train_test_split(features, labels, test_size=0.2, random_state=42)\n",
        "\n",
        "print(f\"Train Size = {X_train.shape[0]}\")\n",
        "print(f\"Test Size = {X_test.shape[0]}\")\n"
      ]
    },
    {
      "cell_type": "code",
      "execution_count": 5,
      "metadata": {
        "colab": {
          "base_uri": "https://localhost:8080/"
        },
        "id": "Lduj_DGHL_rX",
        "outputId": "7630b1da-9535-4f7f-8d38-64196b3a4135"
      },
      "outputs": [
        {
          "data": {
            "text/plain": [
              "label\n",
              "6        2128\n",
              "5         638\n",
              "4         373\n",
              "Name: count, dtype: int64"
            ]
          },
          "execution_count": 5,
          "metadata": {},
          "output_type": "execute_result"
        }
      ],
      "source": [
        "y_train.value_counts()\n"
      ]
    },
    {
      "cell_type": "code",
      "execution_count": 6,
      "metadata": {
        "id": "qNgNo5SmYm_F"
      },
      "outputs": [],
      "source": [
        "train = pd.concat([X_train, y_train], axis=1).reset_index(drop=True)\n",
        "test = pd.concat([X_test, y_test], axis=1).reset_index(drop=True)\n"
      ]
    },
    {
      "cell_type": "code",
      "execution_count": 7,
      "metadata": {
        "colab": {
          "base_uri": "https://localhost:8080/",
          "height": 206
        },
        "id": "SDvXJYnoYm9J",
        "outputId": "395bf93e-904d-46db-b93e-0d241714aa62"
      },
      "outputs": [
        {
          "data": {
            "text/html": [
              "<div>\n",
              "<style scoped>\n",
              "    .dataframe tbody tr th:only-of-type {\n",
              "        vertical-align: middle;\n",
              "    }\n",
              "\n",
              "    .dataframe tbody tr th {\n",
              "        vertical-align: top;\n",
              "    }\n",
              "\n",
              "    .dataframe thead th {\n",
              "        text-align: right;\n",
              "    }\n",
              "</style>\n",
              "<table border=\"1\" class=\"dataframe\">\n",
              "  <thead>\n",
              "    <tr style=\"text-align: right;\">\n",
              "      <th></th>\n",
              "      <th>ticker</th>\n",
              "      <th>disease</th>\n",
              "      <th>stage</th>\n",
              "      <th>date</th>\n",
              "      <th>catalyst</th>\n",
              "      <th>label</th>\n",
              "    </tr>\n",
              "  </thead>\n",
              "  <tbody>\n",
              "    <tr>\n",
              "      <th>0</th>\n",
              "      <td>AZN</td>\n",
              "      <td>Neurofibromatosis type 1 plexiform neurofibromas</td>\n",
              "      <td>Approved</td>\n",
              "      <td>4/13/20</td>\n",
              "      <td>FDA Approval announced April 13, 2020.</td>\n",
              "      <td>6</td>\n",
              "    </tr>\n",
              "    <tr>\n",
              "      <th>1</th>\n",
              "      <td>GOSS</td>\n",
              "      <td>Eosinophilic asthma</td>\n",
              "      <td>Phase 2b</td>\n",
              "      <td>10/13/20</td>\n",
              "      <td>Phase 2b trial did not meet primary endpoint -...</td>\n",
              "      <td>4</td>\n",
              "    </tr>\n",
              "    <tr>\n",
              "      <th>2</th>\n",
              "      <td>AZN</td>\n",
              "      <td>Risk of cardiovascular (CV) death, hospitaliza...</td>\n",
              "      <td>Approved</td>\n",
              "      <td>5/9/23</td>\n",
              "      <td>Approved May 9, 2023.</td>\n",
              "      <td>6</td>\n",
              "    </tr>\n",
              "    <tr>\n",
              "      <th>3</th>\n",
              "      <td>ABBV</td>\n",
              "      <td>Upper Limb Spasticity</td>\n",
              "      <td>Approved</td>\n",
              "      <td>7/29/21</td>\n",
              "      <td>FDA approval announced July 29, 2021.</td>\n",
              "      <td>6</td>\n",
              "    </tr>\n",
              "    <tr>\n",
              "      <th>4</th>\n",
              "      <td>INFI</td>\n",
              "      <td>Triple negative breast cancer (TNBC) and ovari...</td>\n",
              "      <td>Phase 1</td>\n",
              "      <td>12/9/20</td>\n",
              "      <td>Phase 1 initial data due presented at SABCS An...</td>\n",
              "      <td>5</td>\n",
              "    </tr>\n",
              "  </tbody>\n",
              "</table>\n",
              "</div>"
            ],
            "text/plain": [
              "  ticker                                            disease     stage  \\\n",
              "0    AZN   Neurofibromatosis type 1 plexiform neurofibromas  Approved   \n",
              "1   GOSS                                Eosinophilic asthma  Phase 2b   \n",
              "2    AZN  Risk of cardiovascular (CV) death, hospitaliza...  Approved   \n",
              "3   ABBV                              Upper Limb Spasticity  Approved   \n",
              "4   INFI  Triple negative breast cancer (TNBC) and ovari...   Phase 1   \n",
              "\n",
              "       date                                           catalyst  label  \n",
              "0   4/13/20             FDA Approval announced April 13, 2020.      6  \n",
              "1  10/13/20  Phase 2b trial did not meet primary endpoint -...      4  \n",
              "2    5/9/23                              Approved May 9, 2023.      6  \n",
              "3   7/29/21              FDA approval announced July 29, 2021.      6  \n",
              "4   12/9/20  Phase 1 initial data due presented at SABCS An...      5  "
            ]
          },
          "execution_count": 7,
          "metadata": {},
          "output_type": "execute_result"
        }
      ],
      "source": [
        "train.head()\n"
      ]
    },
    {
      "cell_type": "code",
      "execution_count": 8,
      "metadata": {
        "colab": {
          "base_uri": "https://localhost:8080/",
          "height": 206
        },
        "id": "0AVEseS9Ym66",
        "outputId": "691804e3-b873-4e6b-d90e-a9c26d95ecb8"
      },
      "outputs": [
        {
          "data": {
            "text/html": [
              "<div>\n",
              "<style scoped>\n",
              "    .dataframe tbody tr th:only-of-type {\n",
              "        vertical-align: middle;\n",
              "    }\n",
              "\n",
              "    .dataframe tbody tr th {\n",
              "        vertical-align: top;\n",
              "    }\n",
              "\n",
              "    .dataframe thead th {\n",
              "        text-align: right;\n",
              "    }\n",
              "</style>\n",
              "<table border=\"1\" class=\"dataframe\">\n",
              "  <thead>\n",
              "    <tr style=\"text-align: right;\">\n",
              "      <th></th>\n",
              "      <th>ticker</th>\n",
              "      <th>disease</th>\n",
              "      <th>stage</th>\n",
              "      <th>date</th>\n",
              "      <th>catalyst</th>\n",
              "      <th>label</th>\n",
              "    </tr>\n",
              "  </thead>\n",
              "  <tbody>\n",
              "    <tr>\n",
              "      <th>0</th>\n",
              "      <td>RLAY</td>\n",
              "      <td>Cholangiocarcinoma (CCA)</td>\n",
              "      <td>Phase 1</td>\n",
              "      <td>10/12/23</td>\n",
              "      <td>Phase 1 data from non-CCA expansion cohort pre...</td>\n",
              "      <td>6</td>\n",
              "    </tr>\n",
              "    <tr>\n",
              "      <th>1</th>\n",
              "      <td>GSK</td>\n",
              "      <td>Rheumatoid Arthritis</td>\n",
              "      <td>Phase 2b</td>\n",
              "      <td>10/21/18</td>\n",
              "      <td>Phase 2b released October 21, 2018 did not mee...</td>\n",
              "      <td>4</td>\n",
              "    </tr>\n",
              "    <tr>\n",
              "      <th>2</th>\n",
              "      <td>ABBV</td>\n",
              "      <td>Episodic Migraine</td>\n",
              "      <td>Phase 3</td>\n",
              "      <td>4/21/23</td>\n",
              "      <td>Phase 3 trial met its primary and secondary en...</td>\n",
              "      <td>5</td>\n",
              "    </tr>\n",
              "    <tr>\n",
              "      <th>3</th>\n",
              "      <td>CRSP</td>\n",
              "      <td>Advanced clear cell renal cell carcinoma</td>\n",
              "      <td>Phase 1</td>\n",
              "      <td>11/10/22</td>\n",
              "      <td>Phase 1 result reported a 77% disease control ...</td>\n",
              "      <td>6</td>\n",
              "    </tr>\n",
              "    <tr>\n",
              "      <th>4</th>\n",
              "      <td>RHHBY</td>\n",
              "      <td>Follicular lymphoma</td>\n",
              "      <td>Phase 3</td>\n",
              "      <td>6/10/22</td>\n",
              "      <td>Phase 3 final analysis reported that PFS was s...</td>\n",
              "      <td>6</td>\n",
              "    </tr>\n",
              "  </tbody>\n",
              "</table>\n",
              "</div>"
            ],
            "text/plain": [
              "  ticker                                   disease     stage      date  \\\n",
              "0   RLAY                  Cholangiocarcinoma (CCA)   Phase 1  10/12/23   \n",
              "1    GSK                      Rheumatoid Arthritis  Phase 2b  10/21/18   \n",
              "2   ABBV                         Episodic Migraine   Phase 3   4/21/23   \n",
              "3   CRSP  Advanced clear cell renal cell carcinoma   Phase 1  11/10/22   \n",
              "4  RHHBY                       Follicular lymphoma   Phase 3   6/10/22   \n",
              "\n",
              "                                            catalyst  label  \n",
              "0  Phase 1 data from non-CCA expansion cohort pre...      6  \n",
              "1  Phase 2b released October 21, 2018 did not mee...      4  \n",
              "2  Phase 3 trial met its primary and secondary en...      5  \n",
              "3  Phase 1 result reported a 77% disease control ...      6  \n",
              "4  Phase 3 final analysis reported that PFS was s...      6  "
            ]
          },
          "execution_count": 8,
          "metadata": {},
          "output_type": "execute_result"
        }
      ],
      "source": [
        "test.head()\n"
      ]
    },
    {
      "cell_type": "code",
      "execution_count": 9,
      "metadata": {
        "id": "jTlz6P7NYm4_"
      },
      "outputs": [],
      "source": [
        "train.to_csv(\"./ref/train.csv\", index=False)\n",
        "test.to_csv(\"./ref/test.csv\", index=False)\n"
      ]
    },
    {
      "cell_type": "code",
      "execution_count": 10,
      "metadata": {
        "colab": {
          "base_uri": "https://localhost:8080/"
        },
        "id": "s7nnmzBcYm25",
        "outputId": "358dbad1-f368-4014-dbad-151ad071e873"
      },
      "outputs": [
        {
          "data": {
            "text/plain": [
              "(3139, 6)"
            ]
          },
          "execution_count": 10,
          "metadata": {},
          "output_type": "execute_result"
        }
      ],
      "source": [
        "train.shape\n"
      ]
    },
    {
      "cell_type": "code",
      "execution_count": 11,
      "metadata": {
        "colab": {
          "base_uri": "https://localhost:8080/"
        },
        "id": "OmQO38roYm08",
        "outputId": "171f3bac-1474-491a-eeda-7c2f1783909a"
      },
      "outputs": [
        {
          "data": {
            "text/plain": [
              "(785, 6)"
            ]
          },
          "execution_count": 11,
          "metadata": {},
          "output_type": "execute_result"
        }
      ],
      "source": [
        "test.shape\n"
      ]
    },
    {
      "cell_type": "code",
      "execution_count": null,
      "metadata": {
        "id": "Cr5uCXq4Ymw5"
      },
      "outputs": [],
      "source": []
    }
  ],
  "metadata": {
    "colab": {
      "provenance": []
    },
    "kernelspec": {
      "display_name": "Python 3",
      "name": "python3"
    },
    "language_info": {
      "codemirror_mode": {
        "name": "ipython",
        "version": 3
      },
      "file_extension": ".py",
      "mimetype": "text/x-python",
      "name": "python",
      "nbconvert_exporter": "python",
      "pygments_lexer": "ipython3",
      "version": "3.11.4"
    }
  },
  "nbformat": 4,
  "nbformat_minor": 0
}
